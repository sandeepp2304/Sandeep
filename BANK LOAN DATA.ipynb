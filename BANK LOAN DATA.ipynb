{
 "cells": [
  {
   "cell_type": "code",
   "execution_count": 16,
   "metadata": {},
   "outputs": [
    {
     "name": "stdout",
     "output_type": "stream",
     "text": [
      "['credit_test.csv', 'credit_train.csv']\n"
     ]
    }
   ],
   "source": [
    "#import packages\n",
    "import numpy as np # linear algebra\n",
    "import pandas as pd # data processing, CSV file I/O (e.g. pd.read_csv)\n",
    "import pandas_profiling as pp\n",
    "\n",
    "# Input data files are available in the \"../input/\" directory.\n",
    "# For example, running this (by clicking run or pressing Shift+Enter) will list the files in the input directory\n",
    "\n",
    "import os\n",
    "print(os.listdir(\"C:\\\\Users\\\\HP\\\\Desktop\\\\ML DATASETS\\\\bank-loan-status-dataset\"))\n",
    "from sklearn import preprocessing\n",
    "pd.set_option('display.float_format', lambda x: '%.2f' % x)\n",
    "import matplotlib.pyplot as plt\n"
   ]
  },
  {
   "cell_type": "code",
   "execution_count": 10,
   "metadata": {},
   "outputs": [
    {
     "ename": "NameError",
     "evalue": "name 'pp' is not defined",
     "output_type": "error",
     "traceback": [
      "\u001b[1;31m---------------------------------------------------------------------------\u001b[0m",
      "\u001b[1;31mNameError\u001b[0m                                 Traceback (most recent call last)",
      "\u001b[1;32m<ipython-input-10-b7d979313410>\u001b[0m in \u001b[0;36m<module>\u001b[1;34m\u001b[0m\n\u001b[0;32m      1\u001b[0m \u001b[1;31m#import the file\u001b[0m\u001b[1;33m\u001b[0m\u001b[1;33m\u001b[0m\u001b[0m\n\u001b[0;32m      2\u001b[0m \u001b[0mdataframe\u001b[0m \u001b[1;33m=\u001b[0m \u001b[0mpd\u001b[0m\u001b[1;33m.\u001b[0m\u001b[0mread_csv\u001b[0m\u001b[1;33m(\u001b[0m\u001b[1;34m'C:\\\\Users\\\\HP\\\\Desktop\\\\ML DATASETS\\\\bank-loan-status-dataset\\\\credit_train.csv'\u001b[0m\u001b[1;33m)\u001b[0m\u001b[1;33m\u001b[0m\u001b[0m\n\u001b[1;32m----> 3\u001b[1;33m \u001b[0mpp\u001b[0m\u001b[1;33m.\u001b[0m\u001b[0mProfileReport\u001b[0m\u001b[1;33m(\u001b[0m\u001b[0mdataframe\u001b[0m\u001b[1;33m)\u001b[0m\u001b[1;33m\u001b[0m\u001b[0m\n\u001b[0m",
      "\u001b[1;31mNameError\u001b[0m: name 'pp' is not defined"
     ]
    }
   ],
   "source": [
    "#import the file\n",
    "dataframe = pd.read_csv('C:\\\\Users\\\\HP\\\\Desktop\\\\ML DATASETS\\\\bank-loan-status-dataset\\\\credit_train.csv')\n",
    "pp.ProfileReport(dataframe)"
   ]
  },
  {
   "cell_type": "code",
   "execution_count": 18,
   "metadata": {},
   "outputs": [
    {
     "name": "stdout",
     "output_type": "stream",
     "text": [
      "Loan ID                          object\n",
      "Customer ID                      object\n",
      "Loan Status                      object\n",
      "Current Loan Amount             float64\n",
      "Term                             object\n",
      "Credit Score                    float64\n",
      "Annual Income                   float64\n",
      "Years in current job             object\n",
      "Home Ownership                   object\n",
      "Purpose                          object\n",
      "Monthly Debt                    float64\n",
      "Years of Credit History         float64\n",
      "Months since last delinquent    float64\n",
      "Number of Open Accounts         float64\n",
      "Number of Credit Problems       float64\n",
      "Current Credit Balance          float64\n",
      "Maximum Open Credit             float64\n",
      "Bankruptcies                    float64\n",
      "Tax Liens                       float64\n",
      "dtype: object\n",
      "There are 7 categorical variables\n",
      "There are 12 numerical variables\n",
      "                                Loan ID                           Customer ID  \\\n",
      "0  14dd8831-6af5-400b-83ec-68e61888a048  981165ec-3274-42f5-a3b4-d104041a9ca9   \n",
      "1  4771cc26-131a-45db-b5aa-537ea4ba5342  2de017a3-2e01-49cb-a581-08169e83be29   \n",
      "2  4eed4e6a-aa2f-4c91-8651-ce984ee8fb26  5efb2b2b-bf11-4dfd-a572-3761a2694725   \n",
      "3  77598f7b-32e7-4e3b-a6e5-06ba0d98fe8a  e777faab-98ae-45af-9a86-7ce5b33b1011   \n",
      "4  d4062e70-befa-4995-8643-a0de73938182  81536ad9-5ccf-4eb8-befb-47a4d608658e   \n",
      "\n",
      "  Loan Status        Term Years in current job Home Ownership  \\\n",
      "0  Fully Paid  Short Term              8 years  Home Mortgage   \n",
      "1  Fully Paid  Short Term            10+ years  Home Mortgage   \n",
      "2  Fully Paid  Short Term              8 years       Own Home   \n",
      "3  Fully Paid   Long Term              3 years       Own Home   \n",
      "4  Fully Paid  Short Term              5 years           Rent   \n",
      "\n",
      "              Purpose  \n",
      "0   Home Improvements  \n",
      "1  Debt Consolidation  \n",
      "2  Debt Consolidation  \n",
      "3  Debt Consolidation  \n",
      "4  Debt Consolidation  \n",
      "   Current Loan Amount  Credit Score  Annual Income  Monthly Debt  \\\n",
      "0            445412.00        709.00     1167493.00       5214.74   \n",
      "1            262328.00           nan            nan      33295.98   \n",
      "2          99999999.00        741.00     2231892.00      29200.53   \n",
      "3            347666.00        721.00      806949.00       8741.90   \n",
      "4            176220.00           nan            nan      20639.70   \n",
      "\n",
      "   Years of Credit History  Months since last delinquent  \\\n",
      "0                    17.20                           nan   \n",
      "1                    21.10                          8.00   \n",
      "2                    14.90                         29.00   \n",
      "3                    12.00                           nan   \n",
      "4                     6.10                           nan   \n",
      "\n",
      "   Number of Open Accounts  Number of Credit Problems  Current Credit Balance  \\\n",
      "0                     6.00                       1.00               228190.00   \n",
      "1                    35.00                       0.00               229976.00   \n",
      "2                    18.00                       1.00               297996.00   \n",
      "3                     9.00                       0.00               256329.00   \n",
      "4                    15.00                       0.00               253460.00   \n",
      "\n",
      "   Maximum Open Credit  Bankruptcies  Tax Liens  \n",
      "0            416746.00          1.00       0.00  \n",
      "1            850784.00          0.00       0.00  \n",
      "2            750090.00          0.00       0.00  \n",
      "3            386958.00          0.00       0.00  \n",
      "4            427174.00          0.00       0.00  \n"
     ]
    }
   ],
   "source": [
    "#find type\n",
    "print(dataframe.dtypes)\n",
    "# find categorical variables\n",
    "categorical = [var for var in dataframe.columns if dataframe[var].dtype=='O']\n",
    "print('There are {} categorical variables'.format(len(categorical)))\n",
    "# find numerical variables\n",
    "numerical = [var for var in dataframe.columns if dataframe[var].dtype!='O']\n",
    "print('There are {} numerical variables'.format(len(numerical)))\n",
    "# view of categorical variables\n",
    "print(dataframe[categorical].head())\n",
    "# view of numerical variables\n",
    "print(dataframe[numerical].head())"
   ]
  },
  {
   "cell_type": "code",
   "execution_count": 19,
   "metadata": {},
   "outputs": [
    {
     "data": {
      "text/html": [
       "<div>\n",
       "<style scoped>\n",
       "    .dataframe tbody tr th:only-of-type {\n",
       "        vertical-align: middle;\n",
       "    }\n",
       "\n",
       "    .dataframe tbody tr th {\n",
       "        vertical-align: top;\n",
       "    }\n",
       "\n",
       "    .dataframe thead th {\n",
       "        text-align: right;\n",
       "    }\n",
       "</style>\n",
       "<table border=\"1\" class=\"dataframe\">\n",
       "  <thead>\n",
       "    <tr style=\"text-align: right;\">\n",
       "      <th></th>\n",
       "      <th>Loan ID</th>\n",
       "      <th>Customer ID</th>\n",
       "      <th>Loan Status</th>\n",
       "      <th>Current Loan Amount</th>\n",
       "      <th>Term</th>\n",
       "      <th>Credit Score</th>\n",
       "      <th>Annual Income</th>\n",
       "      <th>Years in current job</th>\n",
       "      <th>Home Ownership</th>\n",
       "      <th>Purpose</th>\n",
       "      <th>Monthly Debt</th>\n",
       "      <th>Years of Credit History</th>\n",
       "      <th>Months since last delinquent</th>\n",
       "      <th>Number of Open Accounts</th>\n",
       "      <th>Number of Credit Problems</th>\n",
       "      <th>Current Credit Balance</th>\n",
       "      <th>Maximum Open Credit</th>\n",
       "      <th>Bankruptcies</th>\n",
       "      <th>Tax Liens</th>\n",
       "    </tr>\n",
       "  </thead>\n",
       "  <tbody>\n",
       "    <tr>\n",
       "      <th>0</th>\n",
       "      <td>14dd8831-6af5-400b-83ec-68e61888a048</td>\n",
       "      <td>981165ec-3274-42f5-a3b4-d104041a9ca9</td>\n",
       "      <td>Fully Paid</td>\n",
       "      <td>445412.00</td>\n",
       "      <td>Short Term</td>\n",
       "      <td>709.00</td>\n",
       "      <td>1167493.00</td>\n",
       "      <td>8 years</td>\n",
       "      <td>Home Mortgage</td>\n",
       "      <td>Home Improvements</td>\n",
       "      <td>5214.74</td>\n",
       "      <td>17.20</td>\n",
       "      <td>nan</td>\n",
       "      <td>6.00</td>\n",
       "      <td>1.00</td>\n",
       "      <td>228190.00</td>\n",
       "      <td>416746.00</td>\n",
       "      <td>1.00</td>\n",
       "      <td>0.00</td>\n",
       "    </tr>\n",
       "    <tr>\n",
       "      <th>1</th>\n",
       "      <td>4771cc26-131a-45db-b5aa-537ea4ba5342</td>\n",
       "      <td>2de017a3-2e01-49cb-a581-08169e83be29</td>\n",
       "      <td>Fully Paid</td>\n",
       "      <td>262328.00</td>\n",
       "      <td>Short Term</td>\n",
       "      <td>nan</td>\n",
       "      <td>nan</td>\n",
       "      <td>10+ years</td>\n",
       "      <td>Home Mortgage</td>\n",
       "      <td>Debt Consolidation</td>\n",
       "      <td>33295.98</td>\n",
       "      <td>21.10</td>\n",
       "      <td>8.00</td>\n",
       "      <td>35.00</td>\n",
       "      <td>0.00</td>\n",
       "      <td>229976.00</td>\n",
       "      <td>850784.00</td>\n",
       "      <td>0.00</td>\n",
       "      <td>0.00</td>\n",
       "    </tr>\n",
       "    <tr>\n",
       "      <th>2</th>\n",
       "      <td>4eed4e6a-aa2f-4c91-8651-ce984ee8fb26</td>\n",
       "      <td>5efb2b2b-bf11-4dfd-a572-3761a2694725</td>\n",
       "      <td>Fully Paid</td>\n",
       "      <td>99999999.00</td>\n",
       "      <td>Short Term</td>\n",
       "      <td>741.00</td>\n",
       "      <td>2231892.00</td>\n",
       "      <td>8 years</td>\n",
       "      <td>Own Home</td>\n",
       "      <td>Debt Consolidation</td>\n",
       "      <td>29200.53</td>\n",
       "      <td>14.90</td>\n",
       "      <td>29.00</td>\n",
       "      <td>18.00</td>\n",
       "      <td>1.00</td>\n",
       "      <td>297996.00</td>\n",
       "      <td>750090.00</td>\n",
       "      <td>0.00</td>\n",
       "      <td>0.00</td>\n",
       "    </tr>\n",
       "    <tr>\n",
       "      <th>3</th>\n",
       "      <td>77598f7b-32e7-4e3b-a6e5-06ba0d98fe8a</td>\n",
       "      <td>e777faab-98ae-45af-9a86-7ce5b33b1011</td>\n",
       "      <td>Fully Paid</td>\n",
       "      <td>347666.00</td>\n",
       "      <td>Long Term</td>\n",
       "      <td>721.00</td>\n",
       "      <td>806949.00</td>\n",
       "      <td>3 years</td>\n",
       "      <td>Own Home</td>\n",
       "      <td>Debt Consolidation</td>\n",
       "      <td>8741.90</td>\n",
       "      <td>12.00</td>\n",
       "      <td>nan</td>\n",
       "      <td>9.00</td>\n",
       "      <td>0.00</td>\n",
       "      <td>256329.00</td>\n",
       "      <td>386958.00</td>\n",
       "      <td>0.00</td>\n",
       "      <td>0.00</td>\n",
       "    </tr>\n",
       "    <tr>\n",
       "      <th>4</th>\n",
       "      <td>d4062e70-befa-4995-8643-a0de73938182</td>\n",
       "      <td>81536ad9-5ccf-4eb8-befb-47a4d608658e</td>\n",
       "      <td>Fully Paid</td>\n",
       "      <td>176220.00</td>\n",
       "      <td>Short Term</td>\n",
       "      <td>nan</td>\n",
       "      <td>nan</td>\n",
       "      <td>5 years</td>\n",
       "      <td>Rent</td>\n",
       "      <td>Debt Consolidation</td>\n",
       "      <td>20639.70</td>\n",
       "      <td>6.10</td>\n",
       "      <td>nan</td>\n",
       "      <td>15.00</td>\n",
       "      <td>0.00</td>\n",
       "      <td>253460.00</td>\n",
       "      <td>427174.00</td>\n",
       "      <td>0.00</td>\n",
       "      <td>0.00</td>\n",
       "    </tr>\n",
       "  </tbody>\n",
       "</table>\n",
       "</div>"
      ],
      "text/plain": [
       "                                Loan ID                           Customer ID  \\\n",
       "0  14dd8831-6af5-400b-83ec-68e61888a048  981165ec-3274-42f5-a3b4-d104041a9ca9   \n",
       "1  4771cc26-131a-45db-b5aa-537ea4ba5342  2de017a3-2e01-49cb-a581-08169e83be29   \n",
       "2  4eed4e6a-aa2f-4c91-8651-ce984ee8fb26  5efb2b2b-bf11-4dfd-a572-3761a2694725   \n",
       "3  77598f7b-32e7-4e3b-a6e5-06ba0d98fe8a  e777faab-98ae-45af-9a86-7ce5b33b1011   \n",
       "4  d4062e70-befa-4995-8643-a0de73938182  81536ad9-5ccf-4eb8-befb-47a4d608658e   \n",
       "\n",
       "  Loan Status  Current Loan Amount        Term  Credit Score  Annual Income  \\\n",
       "0  Fully Paid            445412.00  Short Term        709.00     1167493.00   \n",
       "1  Fully Paid            262328.00  Short Term           nan            nan   \n",
       "2  Fully Paid          99999999.00  Short Term        741.00     2231892.00   \n",
       "3  Fully Paid            347666.00   Long Term        721.00      806949.00   \n",
       "4  Fully Paid            176220.00  Short Term           nan            nan   \n",
       "\n",
       "  Years in current job Home Ownership             Purpose  Monthly Debt  \\\n",
       "0              8 years  Home Mortgage   Home Improvements       5214.74   \n",
       "1            10+ years  Home Mortgage  Debt Consolidation      33295.98   \n",
       "2              8 years       Own Home  Debt Consolidation      29200.53   \n",
       "3              3 years       Own Home  Debt Consolidation       8741.90   \n",
       "4              5 years           Rent  Debt Consolidation      20639.70   \n",
       "\n",
       "   Years of Credit History  Months since last delinquent  \\\n",
       "0                    17.20                           nan   \n",
       "1                    21.10                          8.00   \n",
       "2                    14.90                         29.00   \n",
       "3                    12.00                           nan   \n",
       "4                     6.10                           nan   \n",
       "\n",
       "   Number of Open Accounts  Number of Credit Problems  Current Credit Balance  \\\n",
       "0                     6.00                       1.00               228190.00   \n",
       "1                    35.00                       0.00               229976.00   \n",
       "2                    18.00                       1.00               297996.00   \n",
       "3                     9.00                       0.00               256329.00   \n",
       "4                    15.00                       0.00               253460.00   \n",
       "\n",
       "   Maximum Open Credit  Bankruptcies  Tax Liens  \n",
       "0            416746.00          1.00       0.00  \n",
       "1            850784.00          0.00       0.00  \n",
       "2            750090.00          0.00       0.00  \n",
       "3            386958.00          0.00       0.00  \n",
       "4            427174.00          0.00       0.00  "
      ]
     },
     "execution_count": 19,
     "metadata": {},
     "output_type": "execute_result"
    }
   ],
   "source": [
    "#print first 5 rows\n",
    "dataframe.head()"
   ]
  },
  {
   "cell_type": "code",
   "execution_count": 20,
   "metadata": {},
   "outputs": [
    {
     "name": "stdout",
     "output_type": "stream",
     "text": [
      "<class 'pandas.core.frame.DataFrame'>\n",
      "RangeIndex: 100514 entries, 0 to 100513\n",
      "Data columns (total 19 columns):\n",
      "Loan ID                         100000 non-null object\n",
      "Customer ID                     100000 non-null object\n",
      "Loan Status                     100000 non-null object\n",
      "Current Loan Amount             100000 non-null float64\n",
      "Term                            100000 non-null object\n",
      "Credit Score                    80846 non-null float64\n",
      "Annual Income                   80846 non-null float64\n",
      "Years in current job            95778 non-null object\n",
      "Home Ownership                  100000 non-null object\n",
      "Purpose                         100000 non-null object\n",
      "Monthly Debt                    100000 non-null float64\n",
      "Years of Credit History         100000 non-null float64\n",
      "Months since last delinquent    46859 non-null float64\n",
      "Number of Open Accounts         100000 non-null float64\n",
      "Number of Credit Problems       100000 non-null float64\n",
      "Current Credit Balance          100000 non-null float64\n",
      "Maximum Open Credit             99998 non-null float64\n",
      "Bankruptcies                    99796 non-null float64\n",
      "Tax Liens                       99990 non-null float64\n",
      "dtypes: float64(12), object(7)\n",
      "memory usage: 14.6+ MB\n"
     ]
    }
   ],
   "source": [
    "dataframe.info()"
   ]
  },
  {
   "cell_type": "code",
   "execution_count": 21,
   "metadata": {},
   "outputs": [
    {
     "data": {
      "text/html": [
       "<div>\n",
       "<style scoped>\n",
       "    .dataframe tbody tr th:only-of-type {\n",
       "        vertical-align: middle;\n",
       "    }\n",
       "\n",
       "    .dataframe tbody tr th {\n",
       "        vertical-align: top;\n",
       "    }\n",
       "\n",
       "    .dataframe thead th {\n",
       "        text-align: right;\n",
       "    }\n",
       "</style>\n",
       "<table border=\"1\" class=\"dataframe\">\n",
       "  <thead>\n",
       "    <tr style=\"text-align: right;\">\n",
       "      <th></th>\n",
       "      <th>Current Loan Amount</th>\n",
       "      <th>Credit Score</th>\n",
       "      <th>Annual Income</th>\n",
       "      <th>Monthly Debt</th>\n",
       "      <th>Years of Credit History</th>\n",
       "      <th>Months since last delinquent</th>\n",
       "      <th>Number of Open Accounts</th>\n",
       "      <th>Number of Credit Problems</th>\n",
       "      <th>Current Credit Balance</th>\n",
       "      <th>Maximum Open Credit</th>\n",
       "      <th>Bankruptcies</th>\n",
       "      <th>Tax Liens</th>\n",
       "    </tr>\n",
       "  </thead>\n",
       "  <tbody>\n",
       "    <tr>\n",
       "      <th>count</th>\n",
       "      <td>100000.00</td>\n",
       "      <td>80846.00</td>\n",
       "      <td>80846.00</td>\n",
       "      <td>100000.00</td>\n",
       "      <td>100000.00</td>\n",
       "      <td>46859.00</td>\n",
       "      <td>100000.00</td>\n",
       "      <td>100000.00</td>\n",
       "      <td>100000.00</td>\n",
       "      <td>99998.00</td>\n",
       "      <td>99796.00</td>\n",
       "      <td>99990.00</td>\n",
       "    </tr>\n",
       "    <tr>\n",
       "      <th>mean</th>\n",
       "      <td>11760447.39</td>\n",
       "      <td>1076.46</td>\n",
       "      <td>1378276.56</td>\n",
       "      <td>18472.41</td>\n",
       "      <td>18.20</td>\n",
       "      <td>34.90</td>\n",
       "      <td>11.13</td>\n",
       "      <td>0.17</td>\n",
       "      <td>294637.38</td>\n",
       "      <td>760798.38</td>\n",
       "      <td>0.12</td>\n",
       "      <td>0.03</td>\n",
       "    </tr>\n",
       "    <tr>\n",
       "      <th>std</th>\n",
       "      <td>31783942.55</td>\n",
       "      <td>1475.40</td>\n",
       "      <td>1081360.20</td>\n",
       "      <td>12174.99</td>\n",
       "      <td>7.02</td>\n",
       "      <td>22.00</td>\n",
       "      <td>5.01</td>\n",
       "      <td>0.48</td>\n",
       "      <td>376170.93</td>\n",
       "      <td>8384503.47</td>\n",
       "      <td>0.35</td>\n",
       "      <td>0.26</td>\n",
       "    </tr>\n",
       "    <tr>\n",
       "      <th>min</th>\n",
       "      <td>10802.00</td>\n",
       "      <td>585.00</td>\n",
       "      <td>76627.00</td>\n",
       "      <td>0.00</td>\n",
       "      <td>3.60</td>\n",
       "      <td>0.00</td>\n",
       "      <td>0.00</td>\n",
       "      <td>0.00</td>\n",
       "      <td>0.00</td>\n",
       "      <td>0.00</td>\n",
       "      <td>0.00</td>\n",
       "      <td>0.00</td>\n",
       "    </tr>\n",
       "    <tr>\n",
       "      <th>25%</th>\n",
       "      <td>179652.00</td>\n",
       "      <td>705.00</td>\n",
       "      <td>848844.00</td>\n",
       "      <td>10214.16</td>\n",
       "      <td>13.50</td>\n",
       "      <td>16.00</td>\n",
       "      <td>8.00</td>\n",
       "      <td>0.00</td>\n",
       "      <td>112670.00</td>\n",
       "      <td>273438.00</td>\n",
       "      <td>0.00</td>\n",
       "      <td>0.00</td>\n",
       "    </tr>\n",
       "    <tr>\n",
       "      <th>50%</th>\n",
       "      <td>312246.00</td>\n",
       "      <td>724.00</td>\n",
       "      <td>1174162.00</td>\n",
       "      <td>16220.30</td>\n",
       "      <td>16.90</td>\n",
       "      <td>32.00</td>\n",
       "      <td>10.00</td>\n",
       "      <td>0.00</td>\n",
       "      <td>209817.00</td>\n",
       "      <td>467874.00</td>\n",
       "      <td>0.00</td>\n",
       "      <td>0.00</td>\n",
       "    </tr>\n",
       "    <tr>\n",
       "      <th>75%</th>\n",
       "      <td>524942.00</td>\n",
       "      <td>741.00</td>\n",
       "      <td>1650663.00</td>\n",
       "      <td>24012.06</td>\n",
       "      <td>21.70</td>\n",
       "      <td>51.00</td>\n",
       "      <td>14.00</td>\n",
       "      <td>0.00</td>\n",
       "      <td>367958.75</td>\n",
       "      <td>782958.00</td>\n",
       "      <td>0.00</td>\n",
       "      <td>0.00</td>\n",
       "    </tr>\n",
       "    <tr>\n",
       "      <th>max</th>\n",
       "      <td>99999999.00</td>\n",
       "      <td>7510.00</td>\n",
       "      <td>165557393.00</td>\n",
       "      <td>435843.28</td>\n",
       "      <td>70.50</td>\n",
       "      <td>176.00</td>\n",
       "      <td>76.00</td>\n",
       "      <td>15.00</td>\n",
       "      <td>32878968.00</td>\n",
       "      <td>1539737892.00</td>\n",
       "      <td>7.00</td>\n",
       "      <td>15.00</td>\n",
       "    </tr>\n",
       "  </tbody>\n",
       "</table>\n",
       "</div>"
      ],
      "text/plain": [
       "       Current Loan Amount  Credit Score  Annual Income  Monthly Debt  \\\n",
       "count            100000.00      80846.00       80846.00     100000.00   \n",
       "mean           11760447.39       1076.46     1378276.56      18472.41   \n",
       "std            31783942.55       1475.40     1081360.20      12174.99   \n",
       "min               10802.00        585.00       76627.00          0.00   \n",
       "25%              179652.00        705.00      848844.00      10214.16   \n",
       "50%              312246.00        724.00     1174162.00      16220.30   \n",
       "75%              524942.00        741.00     1650663.00      24012.06   \n",
       "max            99999999.00       7510.00   165557393.00     435843.28   \n",
       "\n",
       "       Years of Credit History  Months since last delinquent  \\\n",
       "count                100000.00                      46859.00   \n",
       "mean                     18.20                         34.90   \n",
       "std                       7.02                         22.00   \n",
       "min                       3.60                          0.00   \n",
       "25%                      13.50                         16.00   \n",
       "50%                      16.90                         32.00   \n",
       "75%                      21.70                         51.00   \n",
       "max                      70.50                        176.00   \n",
       "\n",
       "       Number of Open Accounts  Number of Credit Problems  \\\n",
       "count                100000.00                  100000.00   \n",
       "mean                     11.13                       0.17   \n",
       "std                       5.01                       0.48   \n",
       "min                       0.00                       0.00   \n",
       "25%                       8.00                       0.00   \n",
       "50%                      10.00                       0.00   \n",
       "75%                      14.00                       0.00   \n",
       "max                      76.00                      15.00   \n",
       "\n",
       "       Current Credit Balance  Maximum Open Credit  Bankruptcies  Tax Liens  \n",
       "count               100000.00             99998.00      99796.00   99990.00  \n",
       "mean                294637.38            760798.38          0.12       0.03  \n",
       "std                 376170.93           8384503.47          0.35       0.26  \n",
       "min                      0.00                 0.00          0.00       0.00  \n",
       "25%                 112670.00            273438.00          0.00       0.00  \n",
       "50%                 209817.00            467874.00          0.00       0.00  \n",
       "75%                 367958.75            782958.00          0.00       0.00  \n",
       "max               32878968.00        1539737892.00          7.00      15.00  "
      ]
     },
     "execution_count": 21,
     "metadata": {},
     "output_type": "execute_result"
    }
   ],
   "source": [
    "#describe data\n",
    "dataframe.describe()"
   ]
  },
  {
   "cell_type": "code",
   "execution_count": 22,
   "metadata": {},
   "outputs": [
    {
     "data": {
      "text/plain": [
       "Loan ID                           514\n",
       "Customer ID                       514\n",
       "Loan Status                       514\n",
       "Current Loan Amount               514\n",
       "Term                              514\n",
       "Credit Score                    19668\n",
       "Annual Income                   19668\n",
       "Years in current job             4736\n",
       "Home Ownership                    514\n",
       "Purpose                           514\n",
       "Monthly Debt                      514\n",
       "Years of Credit History           514\n",
       "Months since last delinquent    53655\n",
       "Number of Open Accounts           514\n",
       "Number of Credit Problems         514\n",
       "Current Credit Balance            514\n",
       "Maximum Open Credit               516\n",
       "Bankruptcies                      718\n",
       "Tax Liens                         524\n",
       "dtype: int64"
      ]
     },
     "execution_count": 22,
     "metadata": {},
     "output_type": "execute_result"
    }
   ],
   "source": [
    "#see missing values\n",
    "dataframe.isna().sum()"
   ]
  },
  {
   "cell_type": "code",
   "execution_count": 23,
   "metadata": {},
   "outputs": [
    {
     "data": {
      "text/html": [
       "<div>\n",
       "<style scoped>\n",
       "    .dataframe tbody tr th:only-of-type {\n",
       "        vertical-align: middle;\n",
       "    }\n",
       "\n",
       "    .dataframe tbody tr th {\n",
       "        vertical-align: top;\n",
       "    }\n",
       "\n",
       "    .dataframe thead th {\n",
       "        text-align: right;\n",
       "    }\n",
       "</style>\n",
       "<table border=\"1\" class=\"dataframe\">\n",
       "  <thead>\n",
       "    <tr style=\"text-align: right;\">\n",
       "      <th></th>\n",
       "      <th>Loan ID</th>\n",
       "      <th>Customer ID</th>\n",
       "      <th>Loan Status</th>\n",
       "      <th>Current Loan Amount</th>\n",
       "      <th>Term</th>\n",
       "      <th>Credit Score</th>\n",
       "      <th>Annual Income</th>\n",
       "      <th>Years in current job</th>\n",
       "      <th>Home Ownership</th>\n",
       "      <th>Purpose</th>\n",
       "      <th>Monthly Debt</th>\n",
       "      <th>Years of Credit History</th>\n",
       "      <th>Months since last delinquent</th>\n",
       "      <th>Number of Open Accounts</th>\n",
       "      <th>Number of Credit Problems</th>\n",
       "      <th>Current Credit Balance</th>\n",
       "      <th>Maximum Open Credit</th>\n",
       "      <th>Bankruptcies</th>\n",
       "      <th>Tax Liens</th>\n",
       "    </tr>\n",
       "  </thead>\n",
       "  <tbody>\n",
       "    <tr>\n",
       "      <th>5</th>\n",
       "      <td>89d8cb0c-e5c2-4f54-b056-48a645c543dd</td>\n",
       "      <td>4ffe99d3-7f2a-44db-afc1-40943f1f9750</td>\n",
       "      <td>Charged Off</td>\n",
       "      <td>206602.00</td>\n",
       "      <td>Short Term</td>\n",
       "      <td>7290.00</td>\n",
       "      <td>896857.00</td>\n",
       "      <td>10+ years</td>\n",
       "      <td>Home Mortgage</td>\n",
       "      <td>Debt Consolidation</td>\n",
       "      <td>16367.74</td>\n",
       "      <td>17.30</td>\n",
       "      <td>nan</td>\n",
       "      <td>6.00</td>\n",
       "      <td>0.00</td>\n",
       "      <td>215308.00</td>\n",
       "      <td>272448.00</td>\n",
       "      <td>0.00</td>\n",
       "      <td>0.00</td>\n",
       "    </tr>\n",
       "    <tr>\n",
       "      <th>43</th>\n",
       "      <td>0c84b81a-e5a9-4a92-8dc8-fb179add03a4</td>\n",
       "      <td>628b0914-b1d7-4028-b590-b50f5da53d06</td>\n",
       "      <td>Charged Off</td>\n",
       "      <td>288948.00</td>\n",
       "      <td>Short Term</td>\n",
       "      <td>7120.00</td>\n",
       "      <td>537472.00</td>\n",
       "      <td>10+ years</td>\n",
       "      <td>Rent</td>\n",
       "      <td>Debt Consolidation</td>\n",
       "      <td>5777.90</td>\n",
       "      <td>14.80</td>\n",
       "      <td>nan</td>\n",
       "      <td>4.00</td>\n",
       "      <td>0.00</td>\n",
       "      <td>132468.00</td>\n",
       "      <td>164406.00</td>\n",
       "      <td>0.00</td>\n",
       "      <td>0.00</td>\n",
       "    </tr>\n",
       "    <tr>\n",
       "      <th>51</th>\n",
       "      <td>0daecc08-0354-4753-b282-52124b2420df</td>\n",
       "      <td>2884d362-391a-4941-af69-c825cae18002</td>\n",
       "      <td>Charged Off</td>\n",
       "      <td>219692.00</td>\n",
       "      <td>Long Term</td>\n",
       "      <td>6610.00</td>\n",
       "      <td>527839.00</td>\n",
       "      <td>10+ years</td>\n",
       "      <td>Rent</td>\n",
       "      <td>Debt Consolidation</td>\n",
       "      <td>14207.63</td>\n",
       "      <td>17.00</td>\n",
       "      <td>48.00</td>\n",
       "      <td>9.00</td>\n",
       "      <td>0.00</td>\n",
       "      <td>254277.00</td>\n",
       "      <td>379918.00</td>\n",
       "      <td>0.00</td>\n",
       "      <td>0.00</td>\n",
       "    </tr>\n",
       "    <tr>\n",
       "      <th>56</th>\n",
       "      <td>a5ada080-a058-4ad2-8953-002b7ec1ae31</td>\n",
       "      <td>9966e08c-04a6-41ab-86d0-e4062c64bd41</td>\n",
       "      <td>Charged Off</td>\n",
       "      <td>78012.00</td>\n",
       "      <td>Short Term</td>\n",
       "      <td>7380.00</td>\n",
       "      <td>728726.00</td>\n",
       "      <td>4 years</td>\n",
       "      <td>Rent</td>\n",
       "      <td>major_purchase</td>\n",
       "      <td>10135.36</td>\n",
       "      <td>11.40</td>\n",
       "      <td>nan</td>\n",
       "      <td>8.00</td>\n",
       "      <td>0.00</td>\n",
       "      <td>104633.00</td>\n",
       "      <td>199936.00</td>\n",
       "      <td>0.00</td>\n",
       "      <td>0.00</td>\n",
       "    </tr>\n",
       "    <tr>\n",
       "      <th>65</th>\n",
       "      <td>1704367e-1d71-4551-8d33-49aa15cab4b1</td>\n",
       "      <td>88f97adf-070a-47b1-9657-38276eef7d19</td>\n",
       "      <td>Charged Off</td>\n",
       "      <td>523908.00</td>\n",
       "      <td>Long Term</td>\n",
       "      <td>7370.00</td>\n",
       "      <td>1028774.00</td>\n",
       "      <td>6 years</td>\n",
       "      <td>Home Mortgage</td>\n",
       "      <td>Debt Consolidation</td>\n",
       "      <td>22632.99</td>\n",
       "      <td>19.30</td>\n",
       "      <td>nan</td>\n",
       "      <td>5.00</td>\n",
       "      <td>0.00</td>\n",
       "      <td>474658.00</td>\n",
       "      <td>742720.00</td>\n",
       "      <td>0.00</td>\n",
       "      <td>0.00</td>\n",
       "    </tr>\n",
       "  </tbody>\n",
       "</table>\n",
       "</div>"
      ],
      "text/plain": [
       "                                 Loan ID  \\\n",
       "5   89d8cb0c-e5c2-4f54-b056-48a645c543dd   \n",
       "43  0c84b81a-e5a9-4a92-8dc8-fb179add03a4   \n",
       "51  0daecc08-0354-4753-b282-52124b2420df   \n",
       "56  a5ada080-a058-4ad2-8953-002b7ec1ae31   \n",
       "65  1704367e-1d71-4551-8d33-49aa15cab4b1   \n",
       "\n",
       "                             Customer ID  Loan Status  Current Loan Amount  \\\n",
       "5   4ffe99d3-7f2a-44db-afc1-40943f1f9750  Charged Off            206602.00   \n",
       "43  628b0914-b1d7-4028-b590-b50f5da53d06  Charged Off            288948.00   \n",
       "51  2884d362-391a-4941-af69-c825cae18002  Charged Off            219692.00   \n",
       "56  9966e08c-04a6-41ab-86d0-e4062c64bd41  Charged Off             78012.00   \n",
       "65  88f97adf-070a-47b1-9657-38276eef7d19  Charged Off            523908.00   \n",
       "\n",
       "          Term  Credit Score  Annual Income Years in current job  \\\n",
       "5   Short Term       7290.00      896857.00            10+ years   \n",
       "43  Short Term       7120.00      537472.00            10+ years   \n",
       "51   Long Term       6610.00      527839.00            10+ years   \n",
       "56  Short Term       7380.00      728726.00              4 years   \n",
       "65   Long Term       7370.00     1028774.00              6 years   \n",
       "\n",
       "   Home Ownership             Purpose  Monthly Debt  Years of Credit History  \\\n",
       "5   Home Mortgage  Debt Consolidation      16367.74                    17.30   \n",
       "43           Rent  Debt Consolidation       5777.90                    14.80   \n",
       "51           Rent  Debt Consolidation      14207.63                    17.00   \n",
       "56           Rent      major_purchase      10135.36                    11.40   \n",
       "65  Home Mortgage  Debt Consolidation      22632.99                    19.30   \n",
       "\n",
       "    Months since last delinquent  Number of Open Accounts  \\\n",
       "5                            nan                     6.00   \n",
       "43                           nan                     4.00   \n",
       "51                         48.00                     9.00   \n",
       "56                           nan                     8.00   \n",
       "65                           nan                     5.00   \n",
       "\n",
       "    Number of Credit Problems  Current Credit Balance  Maximum Open Credit  \\\n",
       "5                        0.00               215308.00            272448.00   \n",
       "43                       0.00               132468.00            164406.00   \n",
       "51                       0.00               254277.00            379918.00   \n",
       "56                       0.00               104633.00            199936.00   \n",
       "65                       0.00               474658.00            742720.00   \n",
       "\n",
       "    Bankruptcies  Tax Liens  \n",
       "5           0.00       0.00  \n",
       "43          0.00       0.00  \n",
       "51          0.00       0.00  \n",
       "56          0.00       0.00  \n",
       "65          0.00       0.00  "
      ]
     },
     "execution_count": 23,
     "metadata": {},
     "output_type": "execute_result"
    }
   ],
   "source": [
    "#credit score must be in the range of 500 to 900\n",
    "#mean of credit scoe 1076.46\n",
    "df = dataframe[dataframe['Credit Score']>800]\n",
    "df.head()"
   ]
  },
  {
   "cell_type": "code",
   "execution_count": 24,
   "metadata": {},
   "outputs": [],
   "source": [
    "#dividing with 10\n",
    "dataframe['Credit Score'] = dataframe['Credit Score'].apply(lambda val: (val /10) if val>850 else val)"
   ]
  },
  {
   "cell_type": "code",
   "execution_count": 25,
   "metadata": {},
   "outputs": [
    {
     "data": {
      "text/html": [
       "<div>\n",
       "<style scoped>\n",
       "    .dataframe tbody tr th:only-of-type {\n",
       "        vertical-align: middle;\n",
       "    }\n",
       "\n",
       "    .dataframe tbody tr th {\n",
       "        vertical-align: top;\n",
       "    }\n",
       "\n",
       "    .dataframe thead th {\n",
       "        text-align: right;\n",
       "    }\n",
       "</style>\n",
       "<table border=\"1\" class=\"dataframe\">\n",
       "  <thead>\n",
       "    <tr style=\"text-align: right;\">\n",
       "      <th></th>\n",
       "      <th>Current Loan Amount</th>\n",
       "      <th>Credit Score</th>\n",
       "      <th>Annual Income</th>\n",
       "      <th>Monthly Debt</th>\n",
       "      <th>Years of Credit History</th>\n",
       "      <th>Months since last delinquent</th>\n",
       "      <th>Number of Open Accounts</th>\n",
       "      <th>Number of Credit Problems</th>\n",
       "      <th>Current Credit Balance</th>\n",
       "      <th>Maximum Open Credit</th>\n",
       "      <th>Bankruptcies</th>\n",
       "      <th>Tax Liens</th>\n",
       "    </tr>\n",
       "  </thead>\n",
       "  <tbody>\n",
       "    <tr>\n",
       "      <th>count</th>\n",
       "      <td>100000.00</td>\n",
       "      <td>80846.00</td>\n",
       "      <td>80846.00</td>\n",
       "      <td>100000.00</td>\n",
       "      <td>100000.00</td>\n",
       "      <td>46859.00</td>\n",
       "      <td>100000.00</td>\n",
       "      <td>100000.00</td>\n",
       "      <td>100000.00</td>\n",
       "      <td>99998.00</td>\n",
       "      <td>99796.00</td>\n",
       "      <td>99990.00</td>\n",
       "    </tr>\n",
       "    <tr>\n",
       "      <th>mean</th>\n",
       "      <td>11760447.39</td>\n",
       "      <td>716.29</td>\n",
       "      <td>1378276.56</td>\n",
       "      <td>18472.41</td>\n",
       "      <td>18.20</td>\n",
       "      <td>34.90</td>\n",
       "      <td>11.13</td>\n",
       "      <td>0.17</td>\n",
       "      <td>294637.38</td>\n",
       "      <td>760798.38</td>\n",
       "      <td>0.12</td>\n",
       "      <td>0.03</td>\n",
       "    </tr>\n",
       "    <tr>\n",
       "      <th>std</th>\n",
       "      <td>31783942.55</td>\n",
       "      <td>28.30</td>\n",
       "      <td>1081360.20</td>\n",
       "      <td>12174.99</td>\n",
       "      <td>7.02</td>\n",
       "      <td>22.00</td>\n",
       "      <td>5.01</td>\n",
       "      <td>0.48</td>\n",
       "      <td>376170.93</td>\n",
       "      <td>8384503.47</td>\n",
       "      <td>0.35</td>\n",
       "      <td>0.26</td>\n",
       "    </tr>\n",
       "    <tr>\n",
       "      <th>min</th>\n",
       "      <td>10802.00</td>\n",
       "      <td>585.00</td>\n",
       "      <td>76627.00</td>\n",
       "      <td>0.00</td>\n",
       "      <td>3.60</td>\n",
       "      <td>0.00</td>\n",
       "      <td>0.00</td>\n",
       "      <td>0.00</td>\n",
       "      <td>0.00</td>\n",
       "      <td>0.00</td>\n",
       "      <td>0.00</td>\n",
       "      <td>0.00</td>\n",
       "    </tr>\n",
       "    <tr>\n",
       "      <th>25%</th>\n",
       "      <td>179652.00</td>\n",
       "      <td>703.00</td>\n",
       "      <td>848844.00</td>\n",
       "      <td>10214.16</td>\n",
       "      <td>13.50</td>\n",
       "      <td>16.00</td>\n",
       "      <td>8.00</td>\n",
       "      <td>0.00</td>\n",
       "      <td>112670.00</td>\n",
       "      <td>273438.00</td>\n",
       "      <td>0.00</td>\n",
       "      <td>0.00</td>\n",
       "    </tr>\n",
       "    <tr>\n",
       "      <th>50%</th>\n",
       "      <td>312246.00</td>\n",
       "      <td>722.00</td>\n",
       "      <td>1174162.00</td>\n",
       "      <td>16220.30</td>\n",
       "      <td>16.90</td>\n",
       "      <td>32.00</td>\n",
       "      <td>10.00</td>\n",
       "      <td>0.00</td>\n",
       "      <td>209817.00</td>\n",
       "      <td>467874.00</td>\n",
       "      <td>0.00</td>\n",
       "      <td>0.00</td>\n",
       "    </tr>\n",
       "    <tr>\n",
       "      <th>75%</th>\n",
       "      <td>524942.00</td>\n",
       "      <td>738.00</td>\n",
       "      <td>1650663.00</td>\n",
       "      <td>24012.06</td>\n",
       "      <td>21.70</td>\n",
       "      <td>51.00</td>\n",
       "      <td>14.00</td>\n",
       "      <td>0.00</td>\n",
       "      <td>367958.75</td>\n",
       "      <td>782958.00</td>\n",
       "      <td>0.00</td>\n",
       "      <td>0.00</td>\n",
       "    </tr>\n",
       "    <tr>\n",
       "      <th>max</th>\n",
       "      <td>99999999.00</td>\n",
       "      <td>751.00</td>\n",
       "      <td>165557393.00</td>\n",
       "      <td>435843.28</td>\n",
       "      <td>70.50</td>\n",
       "      <td>176.00</td>\n",
       "      <td>76.00</td>\n",
       "      <td>15.00</td>\n",
       "      <td>32878968.00</td>\n",
       "      <td>1539737892.00</td>\n",
       "      <td>7.00</td>\n",
       "      <td>15.00</td>\n",
       "    </tr>\n",
       "  </tbody>\n",
       "</table>\n",
       "</div>"
      ],
      "text/plain": [
       "       Current Loan Amount  Credit Score  Annual Income  Monthly Debt  \\\n",
       "count            100000.00      80846.00       80846.00     100000.00   \n",
       "mean           11760447.39        716.29     1378276.56      18472.41   \n",
       "std            31783942.55         28.30     1081360.20      12174.99   \n",
       "min               10802.00        585.00       76627.00          0.00   \n",
       "25%              179652.00        703.00      848844.00      10214.16   \n",
       "50%              312246.00        722.00     1174162.00      16220.30   \n",
       "75%              524942.00        738.00     1650663.00      24012.06   \n",
       "max            99999999.00        751.00   165557393.00     435843.28   \n",
       "\n",
       "       Years of Credit History  Months since last delinquent  \\\n",
       "count                100000.00                      46859.00   \n",
       "mean                     18.20                         34.90   \n",
       "std                       7.02                         22.00   \n",
       "min                       3.60                          0.00   \n",
       "25%                      13.50                         16.00   \n",
       "50%                      16.90                         32.00   \n",
       "75%                      21.70                         51.00   \n",
       "max                      70.50                        176.00   \n",
       "\n",
       "       Number of Open Accounts  Number of Credit Problems  \\\n",
       "count                100000.00                  100000.00   \n",
       "mean                     11.13                       0.17   \n",
       "std                       5.01                       0.48   \n",
       "min                       0.00                       0.00   \n",
       "25%                       8.00                       0.00   \n",
       "50%                      10.00                       0.00   \n",
       "75%                      14.00                       0.00   \n",
       "max                      76.00                      15.00   \n",
       "\n",
       "       Current Credit Balance  Maximum Open Credit  Bankruptcies  Tax Liens  \n",
       "count               100000.00             99998.00      99796.00   99990.00  \n",
       "mean                294637.38            760798.38          0.12       0.03  \n",
       "std                 376170.93           8384503.47          0.35       0.26  \n",
       "min                      0.00                 0.00          0.00       0.00  \n",
       "25%                 112670.00            273438.00          0.00       0.00  \n",
       "50%                 209817.00            467874.00          0.00       0.00  \n",
       "75%                 367958.75            782958.00          0.00       0.00  \n",
       "max               32878968.00        1539737892.00          7.00      15.00  "
      ]
     },
     "execution_count": 25,
     "metadata": {},
     "output_type": "execute_result"
    }
   ],
   "source": [
    "#describe updated data\n",
    "dataframe.describe()"
   ]
  },
  {
   "cell_type": "code",
   "execution_count": 26,
   "metadata": {},
   "outputs": [],
   "source": [
    "#drop  missing vlaues in loan status\n",
    "dataframe.dropna(subset=['Loan Status'], inplace = True)\n"
   ]
  },
  {
   "cell_type": "code",
   "execution_count": 27,
   "metadata": {},
   "outputs": [],
   "source": [
    "#label loan status\n",
    "le = preprocessing.LabelEncoder()\n",
    "dataframe['Loan Status'] = le.fit_transform(dataframe['Loan Status'])"
   ]
  },
  {
   "cell_type": "code",
   "execution_count": 28,
   "metadata": {},
   "outputs": [
    {
     "data": {
      "text/html": [
       "<div>\n",
       "<style scoped>\n",
       "    .dataframe tbody tr th:only-of-type {\n",
       "        vertical-align: middle;\n",
       "    }\n",
       "\n",
       "    .dataframe tbody tr th {\n",
       "        vertical-align: top;\n",
       "    }\n",
       "\n",
       "    .dataframe thead th {\n",
       "        text-align: right;\n",
       "    }\n",
       "</style>\n",
       "<table border=\"1\" class=\"dataframe\">\n",
       "  <thead>\n",
       "    <tr style=\"text-align: right;\">\n",
       "      <th></th>\n",
       "      <th>Loan ID</th>\n",
       "      <th>Customer ID</th>\n",
       "      <th>Loan Status</th>\n",
       "      <th>Current Loan Amount</th>\n",
       "      <th>Term</th>\n",
       "      <th>Credit Score</th>\n",
       "      <th>Annual Income</th>\n",
       "      <th>Years in current job</th>\n",
       "      <th>Home Ownership</th>\n",
       "      <th>Purpose</th>\n",
       "      <th>Monthly Debt</th>\n",
       "      <th>Years of Credit History</th>\n",
       "      <th>Months since last delinquent</th>\n",
       "      <th>Number of Open Accounts</th>\n",
       "      <th>Number of Credit Problems</th>\n",
       "      <th>Current Credit Balance</th>\n",
       "      <th>Maximum Open Credit</th>\n",
       "      <th>Bankruptcies</th>\n",
       "      <th>Tax Liens</th>\n",
       "    </tr>\n",
       "  </thead>\n",
       "  <tbody>\n",
       "    <tr>\n",
       "      <th>0</th>\n",
       "      <td>14dd8831-6af5-400b-83ec-68e61888a048</td>\n",
       "      <td>981165ec-3274-42f5-a3b4-d104041a9ca9</td>\n",
       "      <td>1</td>\n",
       "      <td>445412.00</td>\n",
       "      <td>Short Term</td>\n",
       "      <td>709.00</td>\n",
       "      <td>1167493.00</td>\n",
       "      <td>8 years</td>\n",
       "      <td>Home Mortgage</td>\n",
       "      <td>Home Improvements</td>\n",
       "      <td>5214.74</td>\n",
       "      <td>17.20</td>\n",
       "      <td>nan</td>\n",
       "      <td>6.00</td>\n",
       "      <td>1.00</td>\n",
       "      <td>228190.00</td>\n",
       "      <td>416746.00</td>\n",
       "      <td>1.00</td>\n",
       "      <td>0.00</td>\n",
       "    </tr>\n",
       "    <tr>\n",
       "      <th>1</th>\n",
       "      <td>4771cc26-131a-45db-b5aa-537ea4ba5342</td>\n",
       "      <td>2de017a3-2e01-49cb-a581-08169e83be29</td>\n",
       "      <td>1</td>\n",
       "      <td>262328.00</td>\n",
       "      <td>Short Term</td>\n",
       "      <td>nan</td>\n",
       "      <td>nan</td>\n",
       "      <td>10+ years</td>\n",
       "      <td>Home Mortgage</td>\n",
       "      <td>Debt Consolidation</td>\n",
       "      <td>33295.98</td>\n",
       "      <td>21.10</td>\n",
       "      <td>8.00</td>\n",
       "      <td>35.00</td>\n",
       "      <td>0.00</td>\n",
       "      <td>229976.00</td>\n",
       "      <td>850784.00</td>\n",
       "      <td>0.00</td>\n",
       "      <td>0.00</td>\n",
       "    </tr>\n",
       "    <tr>\n",
       "      <th>2</th>\n",
       "      <td>4eed4e6a-aa2f-4c91-8651-ce984ee8fb26</td>\n",
       "      <td>5efb2b2b-bf11-4dfd-a572-3761a2694725</td>\n",
       "      <td>1</td>\n",
       "      <td>99999999.00</td>\n",
       "      <td>Short Term</td>\n",
       "      <td>741.00</td>\n",
       "      <td>2231892.00</td>\n",
       "      <td>8 years</td>\n",
       "      <td>Own Home</td>\n",
       "      <td>Debt Consolidation</td>\n",
       "      <td>29200.53</td>\n",
       "      <td>14.90</td>\n",
       "      <td>29.00</td>\n",
       "      <td>18.00</td>\n",
       "      <td>1.00</td>\n",
       "      <td>297996.00</td>\n",
       "      <td>750090.00</td>\n",
       "      <td>0.00</td>\n",
       "      <td>0.00</td>\n",
       "    </tr>\n",
       "    <tr>\n",
       "      <th>3</th>\n",
       "      <td>77598f7b-32e7-4e3b-a6e5-06ba0d98fe8a</td>\n",
       "      <td>e777faab-98ae-45af-9a86-7ce5b33b1011</td>\n",
       "      <td>1</td>\n",
       "      <td>347666.00</td>\n",
       "      <td>Long Term</td>\n",
       "      <td>721.00</td>\n",
       "      <td>806949.00</td>\n",
       "      <td>3 years</td>\n",
       "      <td>Own Home</td>\n",
       "      <td>Debt Consolidation</td>\n",
       "      <td>8741.90</td>\n",
       "      <td>12.00</td>\n",
       "      <td>nan</td>\n",
       "      <td>9.00</td>\n",
       "      <td>0.00</td>\n",
       "      <td>256329.00</td>\n",
       "      <td>386958.00</td>\n",
       "      <td>0.00</td>\n",
       "      <td>0.00</td>\n",
       "    </tr>\n",
       "    <tr>\n",
       "      <th>4</th>\n",
       "      <td>d4062e70-befa-4995-8643-a0de73938182</td>\n",
       "      <td>81536ad9-5ccf-4eb8-befb-47a4d608658e</td>\n",
       "      <td>1</td>\n",
       "      <td>176220.00</td>\n",
       "      <td>Short Term</td>\n",
       "      <td>nan</td>\n",
       "      <td>nan</td>\n",
       "      <td>5 years</td>\n",
       "      <td>Rent</td>\n",
       "      <td>Debt Consolidation</td>\n",
       "      <td>20639.70</td>\n",
       "      <td>6.10</td>\n",
       "      <td>nan</td>\n",
       "      <td>15.00</td>\n",
       "      <td>0.00</td>\n",
       "      <td>253460.00</td>\n",
       "      <td>427174.00</td>\n",
       "      <td>0.00</td>\n",
       "      <td>0.00</td>\n",
       "    </tr>\n",
       "  </tbody>\n",
       "</table>\n",
       "</div>"
      ],
      "text/plain": [
       "                                Loan ID                           Customer ID  \\\n",
       "0  14dd8831-6af5-400b-83ec-68e61888a048  981165ec-3274-42f5-a3b4-d104041a9ca9   \n",
       "1  4771cc26-131a-45db-b5aa-537ea4ba5342  2de017a3-2e01-49cb-a581-08169e83be29   \n",
       "2  4eed4e6a-aa2f-4c91-8651-ce984ee8fb26  5efb2b2b-bf11-4dfd-a572-3761a2694725   \n",
       "3  77598f7b-32e7-4e3b-a6e5-06ba0d98fe8a  e777faab-98ae-45af-9a86-7ce5b33b1011   \n",
       "4  d4062e70-befa-4995-8643-a0de73938182  81536ad9-5ccf-4eb8-befb-47a4d608658e   \n",
       "\n",
       "   Loan Status  Current Loan Amount        Term  Credit Score  Annual Income  \\\n",
       "0            1            445412.00  Short Term        709.00     1167493.00   \n",
       "1            1            262328.00  Short Term           nan            nan   \n",
       "2            1          99999999.00  Short Term        741.00     2231892.00   \n",
       "3            1            347666.00   Long Term        721.00      806949.00   \n",
       "4            1            176220.00  Short Term           nan            nan   \n",
       "\n",
       "  Years in current job Home Ownership             Purpose  Monthly Debt  \\\n",
       "0              8 years  Home Mortgage   Home Improvements       5214.74   \n",
       "1            10+ years  Home Mortgage  Debt Consolidation      33295.98   \n",
       "2              8 years       Own Home  Debt Consolidation      29200.53   \n",
       "3              3 years       Own Home  Debt Consolidation       8741.90   \n",
       "4              5 years           Rent  Debt Consolidation      20639.70   \n",
       "\n",
       "   Years of Credit History  Months since last delinquent  \\\n",
       "0                    17.20                           nan   \n",
       "1                    21.10                          8.00   \n",
       "2                    14.90                         29.00   \n",
       "3                    12.00                           nan   \n",
       "4                     6.10                           nan   \n",
       "\n",
       "   Number of Open Accounts  Number of Credit Problems  Current Credit Balance  \\\n",
       "0                     6.00                       1.00               228190.00   \n",
       "1                    35.00                       0.00               229976.00   \n",
       "2                    18.00                       1.00               297996.00   \n",
       "3                     9.00                       0.00               256329.00   \n",
       "4                    15.00                       0.00               253460.00   \n",
       "\n",
       "   Maximum Open Credit  Bankruptcies  Tax Liens  \n",
       "0            416746.00          1.00       0.00  \n",
       "1            850784.00          0.00       0.00  \n",
       "2            750090.00          0.00       0.00  \n",
       "3            386958.00          0.00       0.00  \n",
       "4            427174.00          0.00       0.00  "
      ]
     },
     "execution_count": 28,
     "metadata": {},
     "output_type": "execute_result"
    }
   ],
   "source": [
    "dataframe.head()"
   ]
  },
  {
   "cell_type": "code",
   "execution_count": 29,
   "metadata": {},
   "outputs": [
    {
     "data": {
      "text/plain": [
       "<matplotlib.axes._subplots.AxesSubplot at 0xb118bf9e80>"
      ]
     },
     "execution_count": 29,
     "metadata": {},
     "output_type": "execute_result"
    }
   ],
   "source": [
    "coffvalue = dataframe[dataframe['Loan Status'] == 0]['Loan Status'].count()\n",
    "fpaidvalue = dataframe[dataframe['Loan Status'] == 1]['Loan Status'].count()\n",
    "data = {\"Counts\":[coffvalue, fpaidvalue] }\n",
    "statusDF = pd.DataFrame(data, index=[\"Charged Off\", \"Fully Paid\"])\n",
    "# statusDF.head()\n",
    "statusDF.plot(kind='bar', title=\"Status of the Loan\")\n"
   ]
  },
  {
   "cell_type": "code",
   "execution_count": 30,
   "metadata": {},
   "outputs": [
    {
     "data": {
      "text/plain": [
       "<matplotlib.axes._subplots.AxesSubplot at 0xb118bf9e80>"
      ]
     },
     "execution_count": 30,
     "metadata": {},
     "output_type": "execute_result"
    }
   ],
   "source": [
    "import seaborn as sns\n",
    "sns.countplot(dataframe['Loan Status'],label='count')"
   ]
  },
  {
   "cell_type": "code",
   "execution_count": 31,
   "metadata": {},
   "outputs": [
    {
     "name": "stdout",
     "output_type": "stream",
     "text": [
      "Value counts for each term: \n",
      " Short Term    72208\n",
      "Long Term     27792\n",
      "Name: Term, dtype: int64\n",
      "Missing data in loan term: 0\n"
     ]
    }
   ],
   "source": [
    "#term column\n",
    "print(\"Value counts for each term: \\n\",dataframe['Term'].value_counts())\n",
    "print(\"Missing data in loan term:\",dataframe['Term'].isna().sum())"
   ]
  },
  {
   "cell_type": "code",
   "execution_count": 32,
   "metadata": {},
   "outputs": [
    {
     "data": {
      "text/html": [
       "<div>\n",
       "<style scoped>\n",
       "    .dataframe tbody tr th:only-of-type {\n",
       "        vertical-align: middle;\n",
       "    }\n",
       "\n",
       "    .dataframe tbody tr th {\n",
       "        vertical-align: top;\n",
       "    }\n",
       "\n",
       "    .dataframe thead th {\n",
       "        text-align: right;\n",
       "    }\n",
       "</style>\n",
       "<table border=\"1\" class=\"dataframe\">\n",
       "  <thead>\n",
       "    <tr style=\"text-align: right;\">\n",
       "      <th></th>\n",
       "      <th>Loan ID</th>\n",
       "      <th>Customer ID</th>\n",
       "      <th>Loan Status</th>\n",
       "      <th>Current Loan Amount</th>\n",
       "      <th>Term</th>\n",
       "      <th>Credit Score</th>\n",
       "      <th>Annual Income</th>\n",
       "      <th>Years in current job</th>\n",
       "      <th>Home Ownership</th>\n",
       "      <th>Purpose</th>\n",
       "      <th>Monthly Debt</th>\n",
       "      <th>Years of Credit History</th>\n",
       "      <th>Months since last delinquent</th>\n",
       "      <th>Number of Open Accounts</th>\n",
       "      <th>Number of Credit Problems</th>\n",
       "      <th>Current Credit Balance</th>\n",
       "      <th>Maximum Open Credit</th>\n",
       "      <th>Bankruptcies</th>\n",
       "      <th>Tax Liens</th>\n",
       "    </tr>\n",
       "  </thead>\n",
       "  <tbody>\n",
       "    <tr>\n",
       "      <th>0</th>\n",
       "      <td>14dd8831-6af5-400b-83ec-68e61888a048</td>\n",
       "      <td>981165ec-3274-42f5-a3b4-d104041a9ca9</td>\n",
       "      <td>1</td>\n",
       "      <td>445412.00</td>\n",
       "      <td>0</td>\n",
       "      <td>709.00</td>\n",
       "      <td>1167493.00</td>\n",
       "      <td>8 years</td>\n",
       "      <td>Home Mortgage</td>\n",
       "      <td>Home Improvements</td>\n",
       "      <td>5214.74</td>\n",
       "      <td>17.20</td>\n",
       "      <td>nan</td>\n",
       "      <td>6.00</td>\n",
       "      <td>1.00</td>\n",
       "      <td>228190.00</td>\n",
       "      <td>416746.00</td>\n",
       "      <td>1.00</td>\n",
       "      <td>0.00</td>\n",
       "    </tr>\n",
       "    <tr>\n",
       "      <th>1</th>\n",
       "      <td>4771cc26-131a-45db-b5aa-537ea4ba5342</td>\n",
       "      <td>2de017a3-2e01-49cb-a581-08169e83be29</td>\n",
       "      <td>1</td>\n",
       "      <td>262328.00</td>\n",
       "      <td>0</td>\n",
       "      <td>nan</td>\n",
       "      <td>nan</td>\n",
       "      <td>10+ years</td>\n",
       "      <td>Home Mortgage</td>\n",
       "      <td>Debt Consolidation</td>\n",
       "      <td>33295.98</td>\n",
       "      <td>21.10</td>\n",
       "      <td>8.00</td>\n",
       "      <td>35.00</td>\n",
       "      <td>0.00</td>\n",
       "      <td>229976.00</td>\n",
       "      <td>850784.00</td>\n",
       "      <td>0.00</td>\n",
       "      <td>0.00</td>\n",
       "    </tr>\n",
       "    <tr>\n",
       "      <th>2</th>\n",
       "      <td>4eed4e6a-aa2f-4c91-8651-ce984ee8fb26</td>\n",
       "      <td>5efb2b2b-bf11-4dfd-a572-3761a2694725</td>\n",
       "      <td>1</td>\n",
       "      <td>99999999.00</td>\n",
       "      <td>0</td>\n",
       "      <td>741.00</td>\n",
       "      <td>2231892.00</td>\n",
       "      <td>8 years</td>\n",
       "      <td>Own Home</td>\n",
       "      <td>Debt Consolidation</td>\n",
       "      <td>29200.53</td>\n",
       "      <td>14.90</td>\n",
       "      <td>29.00</td>\n",
       "      <td>18.00</td>\n",
       "      <td>1.00</td>\n",
       "      <td>297996.00</td>\n",
       "      <td>750090.00</td>\n",
       "      <td>0.00</td>\n",
       "      <td>0.00</td>\n",
       "    </tr>\n",
       "    <tr>\n",
       "      <th>3</th>\n",
       "      <td>77598f7b-32e7-4e3b-a6e5-06ba0d98fe8a</td>\n",
       "      <td>e777faab-98ae-45af-9a86-7ce5b33b1011</td>\n",
       "      <td>1</td>\n",
       "      <td>347666.00</td>\n",
       "      <td>1</td>\n",
       "      <td>721.00</td>\n",
       "      <td>806949.00</td>\n",
       "      <td>3 years</td>\n",
       "      <td>Own Home</td>\n",
       "      <td>Debt Consolidation</td>\n",
       "      <td>8741.90</td>\n",
       "      <td>12.00</td>\n",
       "      <td>nan</td>\n",
       "      <td>9.00</td>\n",
       "      <td>0.00</td>\n",
       "      <td>256329.00</td>\n",
       "      <td>386958.00</td>\n",
       "      <td>0.00</td>\n",
       "      <td>0.00</td>\n",
       "    </tr>\n",
       "    <tr>\n",
       "      <th>4</th>\n",
       "      <td>d4062e70-befa-4995-8643-a0de73938182</td>\n",
       "      <td>81536ad9-5ccf-4eb8-befb-47a4d608658e</td>\n",
       "      <td>1</td>\n",
       "      <td>176220.00</td>\n",
       "      <td>0</td>\n",
       "      <td>nan</td>\n",
       "      <td>nan</td>\n",
       "      <td>5 years</td>\n",
       "      <td>Rent</td>\n",
       "      <td>Debt Consolidation</td>\n",
       "      <td>20639.70</td>\n",
       "      <td>6.10</td>\n",
       "      <td>nan</td>\n",
       "      <td>15.00</td>\n",
       "      <td>0.00</td>\n",
       "      <td>253460.00</td>\n",
       "      <td>427174.00</td>\n",
       "      <td>0.00</td>\n",
       "      <td>0.00</td>\n",
       "    </tr>\n",
       "  </tbody>\n",
       "</table>\n",
       "</div>"
      ],
      "text/plain": [
       "                                Loan ID                           Customer ID  \\\n",
       "0  14dd8831-6af5-400b-83ec-68e61888a048  981165ec-3274-42f5-a3b4-d104041a9ca9   \n",
       "1  4771cc26-131a-45db-b5aa-537ea4ba5342  2de017a3-2e01-49cb-a581-08169e83be29   \n",
       "2  4eed4e6a-aa2f-4c91-8651-ce984ee8fb26  5efb2b2b-bf11-4dfd-a572-3761a2694725   \n",
       "3  77598f7b-32e7-4e3b-a6e5-06ba0d98fe8a  e777faab-98ae-45af-9a86-7ce5b33b1011   \n",
       "4  d4062e70-befa-4995-8643-a0de73938182  81536ad9-5ccf-4eb8-befb-47a4d608658e   \n",
       "\n",
       "   Loan Status  Current Loan Amount  Term  Credit Score  Annual Income  \\\n",
       "0            1            445412.00     0        709.00     1167493.00   \n",
       "1            1            262328.00     0           nan            nan   \n",
       "2            1          99999999.00     0        741.00     2231892.00   \n",
       "3            1            347666.00     1        721.00      806949.00   \n",
       "4            1            176220.00     0           nan            nan   \n",
       "\n",
       "  Years in current job Home Ownership             Purpose  Monthly Debt  \\\n",
       "0              8 years  Home Mortgage   Home Improvements       5214.74   \n",
       "1            10+ years  Home Mortgage  Debt Consolidation      33295.98   \n",
       "2              8 years       Own Home  Debt Consolidation      29200.53   \n",
       "3              3 years       Own Home  Debt Consolidation       8741.90   \n",
       "4              5 years           Rent  Debt Consolidation      20639.70   \n",
       "\n",
       "   Years of Credit History  Months since last delinquent  \\\n",
       "0                    17.20                           nan   \n",
       "1                    21.10                          8.00   \n",
       "2                    14.90                         29.00   \n",
       "3                    12.00                           nan   \n",
       "4                     6.10                           nan   \n",
       "\n",
       "   Number of Open Accounts  Number of Credit Problems  Current Credit Balance  \\\n",
       "0                     6.00                       1.00               228190.00   \n",
       "1                    35.00                       0.00               229976.00   \n",
       "2                    18.00                       1.00               297996.00   \n",
       "3                     9.00                       0.00               256329.00   \n",
       "4                    15.00                       0.00               253460.00   \n",
       "\n",
       "   Maximum Open Credit  Bankruptcies  Tax Liens  \n",
       "0            416746.00          1.00       0.00  \n",
       "1            850784.00          0.00       0.00  \n",
       "2            750090.00          0.00       0.00  \n",
       "3            386958.00          0.00       0.00  \n",
       "4            427174.00          0.00       0.00  "
      ]
     },
     "execution_count": 32,
     "metadata": {},
     "output_type": "execute_result"
    }
   ],
   "source": [
    "#label term column\n",
    "dataframe['Term'].replace((\"Short Term\",\"Long Term\"),(0,1), inplace=True)\n",
    "dataframe.head()"
   ]
  },
  {
   "cell_type": "code",
   "execution_count": 33,
   "metadata": {},
   "outputs": [
    {
     "data": {
      "text/html": [
       "<div>\n",
       "<style scoped>\n",
       "    .dataframe tbody tr th:only-of-type {\n",
       "        vertical-align: middle;\n",
       "    }\n",
       "\n",
       "    .dataframe tbody tr th {\n",
       "        vertical-align: top;\n",
       "    }\n",
       "\n",
       "    .dataframe thead th {\n",
       "        text-align: right;\n",
       "    }\n",
       "</style>\n",
       "<table border=\"1\" class=\"dataframe\">\n",
       "  <thead>\n",
       "    <tr style=\"text-align: right;\">\n",
       "      <th></th>\n",
       "      <th>Counts</th>\n",
       "    </tr>\n",
       "  </thead>\n",
       "  <tbody>\n",
       "    <tr>\n",
       "      <th>Short Term</th>\n",
       "      <td>72208</td>\n",
       "    </tr>\n",
       "    <tr>\n",
       "      <th>Long Term</th>\n",
       "      <td>27792</td>\n",
       "    </tr>\n",
       "  </tbody>\n",
       "</table>\n",
       "</div>"
      ],
      "text/plain": [
       "            Counts\n",
       "Short Term   72208\n",
       "Long Term    27792"
      ]
     },
     "execution_count": 33,
     "metadata": {},
     "output_type": "execute_result"
    }
   ],
   "source": [
    "#observe the term\n",
    "scount = dataframe[dataframe['Term'] == 0]['Term'].count()\n",
    "lcount = dataframe[dataframe['Term'] ==1]['Term'].count()\n",
    "\n",
    "data = {\"Counts\":[scount, lcount]}\n",
    "termDF = pd.DataFrame(data, index=[\"Short Term\", \"Long Term\"])\n",
    "termDF.head()"
   ]
  },
  {
   "cell_type": "code",
   "execution_count": 34,
   "metadata": {},
   "outputs": [
    {
     "data": {
      "text/plain": [
       "<matplotlib.axes._subplots.AxesSubplot at 0xb11ad540f0>"
      ]
     },
     "execution_count": 34,
     "metadata": {},
     "output_type": "execute_result"
    }
   ],
   "source": [
    "termDF.plot(kind=\"barh\", title=\"Term of Loans\")"
   ]
  },
  {
   "cell_type": "code",
   "execution_count": 35,
   "metadata": {},
   "outputs": [],
   "source": [
    "import seaborn as sns"
   ]
  },
  {
   "cell_type": "code",
   "execution_count": 36,
   "metadata": {},
   "outputs": [
    {
     "data": {
      "text/plain": [
       "<matplotlib.axes._subplots.AxesSubplot at 0xb11ad540f0>"
      ]
     },
     "execution_count": 36,
     "metadata": {},
     "output_type": "execute_result"
    }
   ],
   "source": [
    "sns.countplot(dataframe[\"Term\"])"
   ]
  },
  {
   "cell_type": "code",
   "execution_count": 37,
   "metadata": {},
   "outputs": [
    {
     "name": "stdout",
     "output_type": "stream",
     "text": [
      "0    72208\n",
      "1    27792\n",
      "Name: Term, dtype: int64\n"
     ]
    }
   ],
   "source": [
    "sns.countplot(dataframe[\"Term\"],hue=dataframe[\"Loan Status\"])\n",
    "print(dataframe[\"Term\"].value_counts())"
   ]
  },
  {
   "cell_type": "code",
   "execution_count": 38,
   "metadata": {},
   "outputs": [
    {
     "name": "stdout",
     "output_type": "stream",
     "text": [
      "724.6209386906824\n"
     ]
    }
   ],
   "source": [
    "#0-change off mean\n",
    "cscoredf = dataframe[dataframe['Term']==0]\n",
    "stermAVG = cscoredf['Credit Score'].mean()\n",
    "print(stermAVG)"
   ]
  },
  {
   "cell_type": "code",
   "execution_count": 39,
   "metadata": {},
   "outputs": [
    {
     "name": "stdout",
     "output_type": "stream",
     "text": [
      "695.483727170432\n"
     ]
    }
   ],
   "source": [
    "#1-full paid mean\n",
    "lscoredf = dataframe[dataframe['Term']==1]\n",
    "ltermAVG = lscoredf['Credit Score'].mean()\n",
    "print(ltermAVG)"
   ]
  },
  {
   "cell_type": "code",
   "execution_count": 40,
   "metadata": {},
   "outputs": [
    {
     "data": {
      "text/plain": [
       "Loan ID                             0\n",
       "Customer ID                         0\n",
       "Loan Status                         0\n",
       "Current Loan Amount                 0\n",
       "Term                                0\n",
       "Credit Score                    19154\n",
       "Annual Income                   19154\n",
       "Years in current job             4222\n",
       "Home Ownership                      0\n",
       "Purpose                             0\n",
       "Monthly Debt                        0\n",
       "Years of Credit History             0\n",
       "Months since last delinquent    53141\n",
       "Number of Open Accounts             0\n",
       "Number of Credit Problems           0\n",
       "Current Credit Balance              0\n",
       "Maximum Open Credit                 2\n",
       "Bankruptcies                      204\n",
       "Tax Liens                          10\n",
       "dtype: int64"
      ]
     },
     "execution_count": 40,
     "metadata": {},
     "output_type": "execute_result"
    }
   ],
   "source": [
    "dataframe.isna().sum()"
   ]
  },
  {
   "cell_type": "code",
   "execution_count": 41,
   "metadata": {},
   "outputs": [
    {
     "data": {
      "text/html": [
       "<div>\n",
       "<style scoped>\n",
       "    .dataframe tbody tr th:only-of-type {\n",
       "        vertical-align: middle;\n",
       "    }\n",
       "\n",
       "    .dataframe tbody tr th {\n",
       "        vertical-align: top;\n",
       "    }\n",
       "\n",
       "    .dataframe thead th {\n",
       "        text-align: right;\n",
       "    }\n",
       "</style>\n",
       "<table border=\"1\" class=\"dataframe\">\n",
       "  <thead>\n",
       "    <tr style=\"text-align: right;\">\n",
       "      <th></th>\n",
       "      <th>Loan ID</th>\n",
       "      <th>Customer ID</th>\n",
       "      <th>Loan Status</th>\n",
       "      <th>Current Loan Amount</th>\n",
       "      <th>Term</th>\n",
       "      <th>Credit Score</th>\n",
       "      <th>Annual Income</th>\n",
       "      <th>Years in current job</th>\n",
       "      <th>Home Ownership</th>\n",
       "      <th>Purpose</th>\n",
       "      <th>Monthly Debt</th>\n",
       "      <th>Years of Credit History</th>\n",
       "      <th>Months since last delinquent</th>\n",
       "      <th>Number of Open Accounts</th>\n",
       "      <th>Number of Credit Problems</th>\n",
       "      <th>Current Credit Balance</th>\n",
       "      <th>Maximum Open Credit</th>\n",
       "      <th>Bankruptcies</th>\n",
       "      <th>Tax Liens</th>\n",
       "    </tr>\n",
       "  </thead>\n",
       "  <tbody>\n",
       "    <tr>\n",
       "      <th>0</th>\n",
       "      <td>14dd8831-6af5-400b-83ec-68e61888a048</td>\n",
       "      <td>981165ec-3274-42f5-a3b4-d104041a9ca9</td>\n",
       "      <td>1</td>\n",
       "      <td>445412.00</td>\n",
       "      <td>0</td>\n",
       "      <td>709.00</td>\n",
       "      <td>1167493.00</td>\n",
       "      <td>8 years</td>\n",
       "      <td>Home Mortgage</td>\n",
       "      <td>Home Improvements</td>\n",
       "      <td>5214.74</td>\n",
       "      <td>17.20</td>\n",
       "      <td>nan</td>\n",
       "      <td>6.00</td>\n",
       "      <td>1.00</td>\n",
       "      <td>228190.00</td>\n",
       "      <td>416746.00</td>\n",
       "      <td>1.00</td>\n",
       "      <td>0.00</td>\n",
       "    </tr>\n",
       "    <tr>\n",
       "      <th>1</th>\n",
       "      <td>4771cc26-131a-45db-b5aa-537ea4ba5342</td>\n",
       "      <td>2de017a3-2e01-49cb-a581-08169e83be29</td>\n",
       "      <td>1</td>\n",
       "      <td>262328.00</td>\n",
       "      <td>0</td>\n",
       "      <td>nan</td>\n",
       "      <td>nan</td>\n",
       "      <td>10+ years</td>\n",
       "      <td>Home Mortgage</td>\n",
       "      <td>Debt Consolidation</td>\n",
       "      <td>33295.98</td>\n",
       "      <td>21.10</td>\n",
       "      <td>8.00</td>\n",
       "      <td>35.00</td>\n",
       "      <td>0.00</td>\n",
       "      <td>229976.00</td>\n",
       "      <td>850784.00</td>\n",
       "      <td>0.00</td>\n",
       "      <td>0.00</td>\n",
       "    </tr>\n",
       "    <tr>\n",
       "      <th>2</th>\n",
       "      <td>4eed4e6a-aa2f-4c91-8651-ce984ee8fb26</td>\n",
       "      <td>5efb2b2b-bf11-4dfd-a572-3761a2694725</td>\n",
       "      <td>1</td>\n",
       "      <td>99999999.00</td>\n",
       "      <td>0</td>\n",
       "      <td>741.00</td>\n",
       "      <td>2231892.00</td>\n",
       "      <td>8 years</td>\n",
       "      <td>Own Home</td>\n",
       "      <td>Debt Consolidation</td>\n",
       "      <td>29200.53</td>\n",
       "      <td>14.90</td>\n",
       "      <td>29.00</td>\n",
       "      <td>18.00</td>\n",
       "      <td>1.00</td>\n",
       "      <td>297996.00</td>\n",
       "      <td>750090.00</td>\n",
       "      <td>0.00</td>\n",
       "      <td>0.00</td>\n",
       "    </tr>\n",
       "    <tr>\n",
       "      <th>3</th>\n",
       "      <td>77598f7b-32e7-4e3b-a6e5-06ba0d98fe8a</td>\n",
       "      <td>e777faab-98ae-45af-9a86-7ce5b33b1011</td>\n",
       "      <td>1</td>\n",
       "      <td>347666.00</td>\n",
       "      <td>1</td>\n",
       "      <td>721.00</td>\n",
       "      <td>806949.00</td>\n",
       "      <td>3 years</td>\n",
       "      <td>Own Home</td>\n",
       "      <td>Debt Consolidation</td>\n",
       "      <td>8741.90</td>\n",
       "      <td>12.00</td>\n",
       "      <td>nan</td>\n",
       "      <td>9.00</td>\n",
       "      <td>0.00</td>\n",
       "      <td>256329.00</td>\n",
       "      <td>386958.00</td>\n",
       "      <td>0.00</td>\n",
       "      <td>0.00</td>\n",
       "    </tr>\n",
       "    <tr>\n",
       "      <th>4</th>\n",
       "      <td>d4062e70-befa-4995-8643-a0de73938182</td>\n",
       "      <td>81536ad9-5ccf-4eb8-befb-47a4d608658e</td>\n",
       "      <td>1</td>\n",
       "      <td>176220.00</td>\n",
       "      <td>0</td>\n",
       "      <td>nan</td>\n",
       "      <td>nan</td>\n",
       "      <td>5 years</td>\n",
       "      <td>Rent</td>\n",
       "      <td>Debt Consolidation</td>\n",
       "      <td>20639.70</td>\n",
       "      <td>6.10</td>\n",
       "      <td>nan</td>\n",
       "      <td>15.00</td>\n",
       "      <td>0.00</td>\n",
       "      <td>253460.00</td>\n",
       "      <td>427174.00</td>\n",
       "      <td>0.00</td>\n",
       "      <td>0.00</td>\n",
       "    </tr>\n",
       "  </tbody>\n",
       "</table>\n",
       "</div>"
      ],
      "text/plain": [
       "                                Loan ID                           Customer ID  \\\n",
       "0  14dd8831-6af5-400b-83ec-68e61888a048  981165ec-3274-42f5-a3b4-d104041a9ca9   \n",
       "1  4771cc26-131a-45db-b5aa-537ea4ba5342  2de017a3-2e01-49cb-a581-08169e83be29   \n",
       "2  4eed4e6a-aa2f-4c91-8651-ce984ee8fb26  5efb2b2b-bf11-4dfd-a572-3761a2694725   \n",
       "3  77598f7b-32e7-4e3b-a6e5-06ba0d98fe8a  e777faab-98ae-45af-9a86-7ce5b33b1011   \n",
       "4  d4062e70-befa-4995-8643-a0de73938182  81536ad9-5ccf-4eb8-befb-47a4d608658e   \n",
       "\n",
       "   Loan Status  Current Loan Amount  Term  Credit Score  Annual Income  \\\n",
       "0            1            445412.00     0        709.00     1167493.00   \n",
       "1            1            262328.00     0           nan            nan   \n",
       "2            1          99999999.00     0        741.00     2231892.00   \n",
       "3            1            347666.00     1        721.00      806949.00   \n",
       "4            1            176220.00     0           nan            nan   \n",
       "\n",
       "  Years in current job Home Ownership             Purpose  Monthly Debt  \\\n",
       "0              8 years  Home Mortgage   Home Improvements       5214.74   \n",
       "1            10+ years  Home Mortgage  Debt Consolidation      33295.98   \n",
       "2              8 years       Own Home  Debt Consolidation      29200.53   \n",
       "3              3 years       Own Home  Debt Consolidation       8741.90   \n",
       "4              5 years           Rent  Debt Consolidation      20639.70   \n",
       "\n",
       "   Years of Credit History  Months since last delinquent  \\\n",
       "0                    17.20                           nan   \n",
       "1                    21.10                          8.00   \n",
       "2                    14.90                         29.00   \n",
       "3                    12.00                           nan   \n",
       "4                     6.10                           nan   \n",
       "\n",
       "   Number of Open Accounts  Number of Credit Problems  Current Credit Balance  \\\n",
       "0                     6.00                       1.00               228190.00   \n",
       "1                    35.00                       0.00               229976.00   \n",
       "2                    18.00                       1.00               297996.00   \n",
       "3                     9.00                       0.00               256329.00   \n",
       "4                    15.00                       0.00               253460.00   \n",
       "\n",
       "   Maximum Open Credit  Bankruptcies  Tax Liens  \n",
       "0            416746.00          1.00       0.00  \n",
       "1            850784.00          0.00       0.00  \n",
       "2            750090.00          0.00       0.00  \n",
       "3            386958.00          0.00       0.00  \n",
       "4            427174.00          0.00       0.00  "
      ]
     },
     "execution_count": 41,
     "metadata": {},
     "output_type": "execute_result"
    }
   ],
   "source": [
    "dataframe.head()"
   ]
  },
  {
   "cell_type": "code",
   "execution_count": 42,
   "metadata": {},
   "outputs": [
    {
     "data": {
      "text/plain": [
       "(100000, 19)"
      ]
     },
     "execution_count": 42,
     "metadata": {},
     "output_type": "execute_result"
    }
   ],
   "source": [
    "dataframe.shape"
   ]
  },
  {
   "cell_type": "code",
   "execution_count": 43,
   "metadata": {},
   "outputs": [],
   "source": [
    "do_nothing = lambda: None"
   ]
  },
  {
   "cell_type": "code",
   "execution_count": 44,
   "metadata": {},
   "outputs": [],
   "source": [
    "#replace missing values of credit score on bias of term column with mean\n",
    "dataframe.loc[(dataframe.Term ==0) & (dataframe['Credit Score'].isnull()),'Credit Score'] = stermAVG"
   ]
  },
  {
   "cell_type": "code",
   "execution_count": 45,
   "metadata": {},
   "outputs": [],
   "source": [
    "dataframe.loc[(dataframe.Term ==1) & (dataframe['Credit Score'].isnull()),'Credit Score'] = ltermAVG"
   ]
  },
  {
   "cell_type": "code",
   "execution_count": 46,
   "metadata": {},
   "outputs": [
    {
     "data": {
      "text/plain": [
       "(100000, 19)"
      ]
     },
     "execution_count": 46,
     "metadata": {},
     "output_type": "execute_result"
    }
   ],
   "source": [
    "dataframe.shape"
   ]
  },
  {
   "cell_type": "code",
   "execution_count": 47,
   "metadata": {},
   "outputs": [
    {
     "data": {
      "text/plain": [
       "0"
      ]
     },
     "execution_count": 47,
     "metadata": {},
     "output_type": "execute_result"
    }
   ],
   "source": [
    "dataframe['Credit Score'].isna().sum()"
   ]
  },
  {
   "cell_type": "code",
   "execution_count": 48,
   "metadata": {},
   "outputs": [],
   "source": [
    "dataframe['Credit Score'] = dataframe['Credit Score'].apply(lambda val: \"Poor\" if np.isreal(val) and val < 580 else val)\n"
   ]
  },
  {
   "cell_type": "code",
   "execution_count": 49,
   "metadata": {},
   "outputs": [],
   "source": [
    "dataframe['Credit Score'] = dataframe['Credit Score'].apply(lambda val: \"Average\" if np.isreal(val) and (val >= 580 and val < 670) else val)\n"
   ]
  },
  {
   "cell_type": "code",
   "execution_count": 50,
   "metadata": {},
   "outputs": [],
   "source": [
    "dataframe['Credit Score'] = dataframe['Credit Score'].apply(lambda val: \"Good\" if np.isreal(val) and (val >= 670 and val < 740) else val)\n"
   ]
  },
  {
   "cell_type": "code",
   "execution_count": 51,
   "metadata": {},
   "outputs": [],
   "source": [
    "dataframe['Credit Score'] = dataframe['Credit Score'].apply(lambda val: \"Very Good\" if np.isreal(val) and (val >= 740 and val < 800) else val)\n"
   ]
  },
  {
   "cell_type": "code",
   "execution_count": 52,
   "metadata": {},
   "outputs": [],
   "source": [
    "dataframe['Credit Score'] = dataframe['Credit Score'].apply(lambda val: \"Exceptional\" if np.isreal(val) and (val >= 800 and val <= 850) else val)\n"
   ]
  },
  {
   "cell_type": "code",
   "execution_count": 53,
   "metadata": {},
   "outputs": [
    {
     "data": {
      "text/plain": [
       "<matplotlib.axes._subplots.AxesSubplot at 0xb11ad540f0>"
      ]
     },
     "execution_count": 53,
     "metadata": {},
     "output_type": "execute_result"
    }
   ],
   "source": [
    "dataframe['Credit Score'].value_counts().sort_values(ascending = True).plot(kind='bar', title ='Number of loans in terms of Credit Score category')"
   ]
  },
  {
   "cell_type": "code",
   "execution_count": 54,
   "metadata": {},
   "outputs": [
    {
     "data": {
      "text/plain": [
       "Index(['Loan ID', 'Customer ID', 'Loan Status', 'Current Loan Amount', 'Term',\n",
       "       'Credit Score', 'Annual Income', 'Years in current job',\n",
       "       'Home Ownership', 'Purpose', 'Monthly Debt', 'Years of Credit History',\n",
       "       'Months since last delinquent', 'Number of Open Accounts',\n",
       "       'Number of Credit Problems', 'Current Credit Balance',\n",
       "       'Maximum Open Credit', 'Bankruptcies', 'Tax Liens'],\n",
       "      dtype='object')"
      ]
     },
     "execution_count": 54,
     "metadata": {},
     "output_type": "execute_result"
    }
   ],
   "source": [
    "dataframe.columns"
   ]
  },
  {
   "cell_type": "code",
   "execution_count": 55,
   "metadata": {},
   "outputs": [],
   "source": [
    "dataframe = dataframe.join(pd.get_dummies(dataframe['Credit Score'], drop_first = True))\n"
   ]
  },
  {
   "cell_type": "code",
   "execution_count": 56,
   "metadata": {},
   "outputs": [
    {
     "data": {
      "text/plain": [
       "Index(['Loan ID', 'Customer ID', 'Loan Status', 'Current Loan Amount', 'Term',\n",
       "       'Credit Score', 'Annual Income', 'Years in current job',\n",
       "       'Home Ownership', 'Purpose', 'Monthly Debt', 'Years of Credit History',\n",
       "       'Months since last delinquent', 'Number of Open Accounts',\n",
       "       'Number of Credit Problems', 'Current Credit Balance',\n",
       "       'Maximum Open Credit', 'Bankruptcies', 'Tax Liens', 'Good',\n",
       "       'Very Good'],\n",
       "      dtype='object')"
      ]
     },
     "execution_count": 56,
     "metadata": {},
     "output_type": "execute_result"
    }
   ],
   "source": [
    "dataframe.columns"
   ]
  },
  {
   "cell_type": "code",
   "execution_count": 57,
   "metadata": {},
   "outputs": [
    {
     "data": {
      "text/html": [
       "<div>\n",
       "<style scoped>\n",
       "    .dataframe tbody tr th:only-of-type {\n",
       "        vertical-align: middle;\n",
       "    }\n",
       "\n",
       "    .dataframe tbody tr th {\n",
       "        vertical-align: top;\n",
       "    }\n",
       "\n",
       "    .dataframe thead th {\n",
       "        text-align: right;\n",
       "    }\n",
       "</style>\n",
       "<table border=\"1\" class=\"dataframe\">\n",
       "  <thead>\n",
       "    <tr style=\"text-align: right;\">\n",
       "      <th></th>\n",
       "      <th>Loan ID</th>\n",
       "      <th>Customer ID</th>\n",
       "      <th>Loan Status</th>\n",
       "      <th>Current Loan Amount</th>\n",
       "      <th>Term</th>\n",
       "      <th>Credit Score</th>\n",
       "      <th>Annual Income</th>\n",
       "      <th>Years in current job</th>\n",
       "      <th>Home Ownership</th>\n",
       "      <th>Purpose</th>\n",
       "      <th>...</th>\n",
       "      <th>Years of Credit History</th>\n",
       "      <th>Months since last delinquent</th>\n",
       "      <th>Number of Open Accounts</th>\n",
       "      <th>Number of Credit Problems</th>\n",
       "      <th>Current Credit Balance</th>\n",
       "      <th>Maximum Open Credit</th>\n",
       "      <th>Bankruptcies</th>\n",
       "      <th>Tax Liens</th>\n",
       "      <th>Credit Good</th>\n",
       "      <th>Credit Very Good</th>\n",
       "    </tr>\n",
       "  </thead>\n",
       "  <tbody>\n",
       "    <tr>\n",
       "      <th>0</th>\n",
       "      <td>14dd8831-6af5-400b-83ec-68e61888a048</td>\n",
       "      <td>981165ec-3274-42f5-a3b4-d104041a9ca9</td>\n",
       "      <td>1</td>\n",
       "      <td>445412.00</td>\n",
       "      <td>0</td>\n",
       "      <td>Good</td>\n",
       "      <td>1167493.00</td>\n",
       "      <td>8 years</td>\n",
       "      <td>Home Mortgage</td>\n",
       "      <td>Home Improvements</td>\n",
       "      <td>...</td>\n",
       "      <td>17.20</td>\n",
       "      <td>nan</td>\n",
       "      <td>6.00</td>\n",
       "      <td>1.00</td>\n",
       "      <td>228190.00</td>\n",
       "      <td>416746.00</td>\n",
       "      <td>1.00</td>\n",
       "      <td>0.00</td>\n",
       "      <td>1</td>\n",
       "      <td>0</td>\n",
       "    </tr>\n",
       "    <tr>\n",
       "      <th>1</th>\n",
       "      <td>4771cc26-131a-45db-b5aa-537ea4ba5342</td>\n",
       "      <td>2de017a3-2e01-49cb-a581-08169e83be29</td>\n",
       "      <td>1</td>\n",
       "      <td>262328.00</td>\n",
       "      <td>0</td>\n",
       "      <td>Good</td>\n",
       "      <td>nan</td>\n",
       "      <td>10+ years</td>\n",
       "      <td>Home Mortgage</td>\n",
       "      <td>Debt Consolidation</td>\n",
       "      <td>...</td>\n",
       "      <td>21.10</td>\n",
       "      <td>8.00</td>\n",
       "      <td>35.00</td>\n",
       "      <td>0.00</td>\n",
       "      <td>229976.00</td>\n",
       "      <td>850784.00</td>\n",
       "      <td>0.00</td>\n",
       "      <td>0.00</td>\n",
       "      <td>1</td>\n",
       "      <td>0</td>\n",
       "    </tr>\n",
       "    <tr>\n",
       "      <th>2</th>\n",
       "      <td>4eed4e6a-aa2f-4c91-8651-ce984ee8fb26</td>\n",
       "      <td>5efb2b2b-bf11-4dfd-a572-3761a2694725</td>\n",
       "      <td>1</td>\n",
       "      <td>99999999.00</td>\n",
       "      <td>0</td>\n",
       "      <td>Very Good</td>\n",
       "      <td>2231892.00</td>\n",
       "      <td>8 years</td>\n",
       "      <td>Own Home</td>\n",
       "      <td>Debt Consolidation</td>\n",
       "      <td>...</td>\n",
       "      <td>14.90</td>\n",
       "      <td>29.00</td>\n",
       "      <td>18.00</td>\n",
       "      <td>1.00</td>\n",
       "      <td>297996.00</td>\n",
       "      <td>750090.00</td>\n",
       "      <td>0.00</td>\n",
       "      <td>0.00</td>\n",
       "      <td>0</td>\n",
       "      <td>1</td>\n",
       "    </tr>\n",
       "    <tr>\n",
       "      <th>3</th>\n",
       "      <td>77598f7b-32e7-4e3b-a6e5-06ba0d98fe8a</td>\n",
       "      <td>e777faab-98ae-45af-9a86-7ce5b33b1011</td>\n",
       "      <td>1</td>\n",
       "      <td>347666.00</td>\n",
       "      <td>1</td>\n",
       "      <td>Good</td>\n",
       "      <td>806949.00</td>\n",
       "      <td>3 years</td>\n",
       "      <td>Own Home</td>\n",
       "      <td>Debt Consolidation</td>\n",
       "      <td>...</td>\n",
       "      <td>12.00</td>\n",
       "      <td>nan</td>\n",
       "      <td>9.00</td>\n",
       "      <td>0.00</td>\n",
       "      <td>256329.00</td>\n",
       "      <td>386958.00</td>\n",
       "      <td>0.00</td>\n",
       "      <td>0.00</td>\n",
       "      <td>1</td>\n",
       "      <td>0</td>\n",
       "    </tr>\n",
       "    <tr>\n",
       "      <th>4</th>\n",
       "      <td>d4062e70-befa-4995-8643-a0de73938182</td>\n",
       "      <td>81536ad9-5ccf-4eb8-befb-47a4d608658e</td>\n",
       "      <td>1</td>\n",
       "      <td>176220.00</td>\n",
       "      <td>0</td>\n",
       "      <td>Good</td>\n",
       "      <td>nan</td>\n",
       "      <td>5 years</td>\n",
       "      <td>Rent</td>\n",
       "      <td>Debt Consolidation</td>\n",
       "      <td>...</td>\n",
       "      <td>6.10</td>\n",
       "      <td>nan</td>\n",
       "      <td>15.00</td>\n",
       "      <td>0.00</td>\n",
       "      <td>253460.00</td>\n",
       "      <td>427174.00</td>\n",
       "      <td>0.00</td>\n",
       "      <td>0.00</td>\n",
       "      <td>1</td>\n",
       "      <td>0</td>\n",
       "    </tr>\n",
       "  </tbody>\n",
       "</table>\n",
       "<p>5 rows × 21 columns</p>\n",
       "</div>"
      ],
      "text/plain": [
       "                                Loan ID                           Customer ID  \\\n",
       "0  14dd8831-6af5-400b-83ec-68e61888a048  981165ec-3274-42f5-a3b4-d104041a9ca9   \n",
       "1  4771cc26-131a-45db-b5aa-537ea4ba5342  2de017a3-2e01-49cb-a581-08169e83be29   \n",
       "2  4eed4e6a-aa2f-4c91-8651-ce984ee8fb26  5efb2b2b-bf11-4dfd-a572-3761a2694725   \n",
       "3  77598f7b-32e7-4e3b-a6e5-06ba0d98fe8a  e777faab-98ae-45af-9a86-7ce5b33b1011   \n",
       "4  d4062e70-befa-4995-8643-a0de73938182  81536ad9-5ccf-4eb8-befb-47a4d608658e   \n",
       "\n",
       "   Loan Status  Current Loan Amount  Term Credit Score  Annual Income  \\\n",
       "0            1            445412.00     0         Good     1167493.00   \n",
       "1            1            262328.00     0         Good            nan   \n",
       "2            1          99999999.00     0    Very Good     2231892.00   \n",
       "3            1            347666.00     1         Good      806949.00   \n",
       "4            1            176220.00     0         Good            nan   \n",
       "\n",
       "  Years in current job Home Ownership             Purpose        ...         \\\n",
       "0              8 years  Home Mortgage   Home Improvements        ...          \n",
       "1            10+ years  Home Mortgage  Debt Consolidation        ...          \n",
       "2              8 years       Own Home  Debt Consolidation        ...          \n",
       "3              3 years       Own Home  Debt Consolidation        ...          \n",
       "4              5 years           Rent  Debt Consolidation        ...          \n",
       "\n",
       "   Years of Credit History  Months since last delinquent  \\\n",
       "0                    17.20                           nan   \n",
       "1                    21.10                          8.00   \n",
       "2                    14.90                         29.00   \n",
       "3                    12.00                           nan   \n",
       "4                     6.10                           nan   \n",
       "\n",
       "   Number of Open Accounts  Number of Credit Problems  Current Credit Balance  \\\n",
       "0                     6.00                       1.00               228190.00   \n",
       "1                    35.00                       0.00               229976.00   \n",
       "2                    18.00                       1.00               297996.00   \n",
       "3                     9.00                       0.00               256329.00   \n",
       "4                    15.00                       0.00               253460.00   \n",
       "\n",
       "   Maximum Open Credit  Bankruptcies  Tax Liens  Credit Good  Credit Very Good  \n",
       "0            416746.00          1.00       0.00            1                 0  \n",
       "1            850784.00          0.00       0.00            1                 0  \n",
       "2            750090.00          0.00       0.00            0                 1  \n",
       "3            386958.00          0.00       0.00            1                 0  \n",
       "4            427174.00          0.00       0.00            1                 0  \n",
       "\n",
       "[5 rows x 21 columns]"
      ]
     },
     "execution_count": 57,
     "metadata": {},
     "output_type": "execute_result"
    }
   ],
   "source": [
    "dataframe.rename(columns={'Good':'Credit Good', 'Very Good':'Credit Very Good'}, inplace=True)\n",
    "dataframe.head()"
   ]
  },
  {
   "cell_type": "code",
   "execution_count": 58,
   "metadata": {},
   "outputs": [
    {
     "data": {
      "text/plain": [
       "Index(['Loan ID', 'Customer ID', 'Loan Status', 'Current Loan Amount', 'Term',\n",
       "       'Credit Score', 'Annual Income', 'Years in current job',\n",
       "       'Home Ownership', 'Purpose', 'Monthly Debt', 'Years of Credit History',\n",
       "       'Months since last delinquent', 'Number of Open Accounts',\n",
       "       'Number of Credit Problems', 'Current Credit Balance',\n",
       "       'Maximum Open Credit', 'Bankruptcies', 'Tax Liens', 'Credit Good',\n",
       "       'Credit Very Good'],\n",
       "      dtype='object')"
      ]
     },
     "execution_count": 58,
     "metadata": {},
     "output_type": "execute_result"
    }
   ],
   "source": [
    "dataframe.columns"
   ]
  },
  {
   "cell_type": "code",
   "execution_count": 59,
   "metadata": {},
   "outputs": [
    {
     "data": {
      "text/plain": [
       "Index(['Loan ID', 'Customer ID', 'Loan Status', 'Current Loan Amount', 'Term',\n",
       "       'Annual Income', 'Years in current job', 'Home Ownership', 'Purpose',\n",
       "       'Monthly Debt', 'Years of Credit History',\n",
       "       'Months since last delinquent', 'Number of Open Accounts',\n",
       "       'Number of Credit Problems', 'Current Credit Balance',\n",
       "       'Maximum Open Credit', 'Bankruptcies', 'Tax Liens', 'Credit Good',\n",
       "       'Credit Very Good'],\n",
       "      dtype='object')"
      ]
     },
     "execution_count": 59,
     "metadata": {},
     "output_type": "execute_result"
    }
   ],
   "source": [
    "dataframe=dataframe.drop(columns=['Credit Score'], axis=1)\n",
    "dataframe.columns"
   ]
  },
  {
   "cell_type": "code",
   "execution_count": 60,
   "metadata": {},
   "outputs": [
    {
     "data": {
      "text/plain": [
       "Index(['Loan ID', 'Customer ID', 'Loan Status', 'Current Loan Amount', 'Term',\n",
       "       'Annual Income', 'Years in current job', 'Home Ownership', 'Purpose',\n",
       "       'Monthly Debt', 'Years of Credit History',\n",
       "       'Months since last delinquent', 'Number of Open Accounts',\n",
       "       'Number of Credit Problems', 'Current Credit Balance',\n",
       "       'Maximum Open Credit', 'Bankruptcies', 'Tax Liens', 'Credit Good',\n",
       "       'Credit Very Good'],\n",
       "      dtype='object')"
      ]
     },
     "execution_count": 60,
     "metadata": {},
     "output_type": "execute_result"
    }
   ],
   "source": [
    "dataframe.columns"
   ]
  },
  {
   "cell_type": "code",
   "execution_count": 61,
   "metadata": {},
   "outputs": [
    {
     "data": {
      "text/plain": [
       "(100000, 20)"
      ]
     },
     "execution_count": 61,
     "metadata": {},
     "output_type": "execute_result"
    }
   ],
   "source": [
    "dataframe.shape"
   ]
  },
  {
   "cell_type": "code",
   "execution_count": 62,
   "metadata": {},
   "outputs": [
    {
     "name": "stdout",
     "output_type": "stream",
     "text": [
      "There are 19154 Missing Annual Income Values.\n"
     ]
    }
   ],
   "source": [
    "print(\"There are\",dataframe['Annual Income'].isna().sum(), \"Missing Annual Income Values.\")\n"
   ]
  },
  {
   "cell_type": "code",
   "execution_count": 63,
   "metadata": {},
   "outputs": [
    {
     "data": {
      "text/html": [
       "<div>\n",
       "<style scoped>\n",
       "    .dataframe tbody tr th:only-of-type {\n",
       "        vertical-align: middle;\n",
       "    }\n",
       "\n",
       "    .dataframe tbody tr th {\n",
       "        vertical-align: top;\n",
       "    }\n",
       "\n",
       "    .dataframe thead th {\n",
       "        text-align: right;\n",
       "    }\n",
       "</style>\n",
       "<table border=\"1\" class=\"dataframe\">\n",
       "  <thead>\n",
       "    <tr style=\"text-align: right;\">\n",
       "      <th></th>\n",
       "      <th>Loan ID</th>\n",
       "      <th>Customer ID</th>\n",
       "      <th>Loan Status</th>\n",
       "      <th>Current Loan Amount</th>\n",
       "      <th>Term</th>\n",
       "      <th>Annual Income</th>\n",
       "      <th>Years in current job</th>\n",
       "      <th>Home Ownership</th>\n",
       "      <th>Purpose</th>\n",
       "      <th>Monthly Debt</th>\n",
       "      <th>Years of Credit History</th>\n",
       "      <th>Months since last delinquent</th>\n",
       "      <th>Number of Open Accounts</th>\n",
       "      <th>Number of Credit Problems</th>\n",
       "      <th>Current Credit Balance</th>\n",
       "      <th>Maximum Open Credit</th>\n",
       "      <th>Bankruptcies</th>\n",
       "      <th>Tax Liens</th>\n",
       "      <th>Credit Good</th>\n",
       "      <th>Credit Very Good</th>\n",
       "    </tr>\n",
       "  </thead>\n",
       "  <tbody>\n",
       "    <tr>\n",
       "      <th>0</th>\n",
       "      <td>14dd8831-6af5-400b-83ec-68e61888a048</td>\n",
       "      <td>981165ec-3274-42f5-a3b4-d104041a9ca9</td>\n",
       "      <td>1</td>\n",
       "      <td>445412.00</td>\n",
       "      <td>0</td>\n",
       "      <td>1167493.00</td>\n",
       "      <td>8 years</td>\n",
       "      <td>Home Mortgage</td>\n",
       "      <td>Home Improvements</td>\n",
       "      <td>5214.74</td>\n",
       "      <td>17.20</td>\n",
       "      <td>nan</td>\n",
       "      <td>6.00</td>\n",
       "      <td>1.00</td>\n",
       "      <td>228190.00</td>\n",
       "      <td>416746.00</td>\n",
       "      <td>1.00</td>\n",
       "      <td>0.00</td>\n",
       "      <td>1</td>\n",
       "      <td>0</td>\n",
       "    </tr>\n",
       "    <tr>\n",
       "      <th>1</th>\n",
       "      <td>4771cc26-131a-45db-b5aa-537ea4ba5342</td>\n",
       "      <td>2de017a3-2e01-49cb-a581-08169e83be29</td>\n",
       "      <td>1</td>\n",
       "      <td>262328.00</td>\n",
       "      <td>0</td>\n",
       "      <td>1378276.56</td>\n",
       "      <td>10+ years</td>\n",
       "      <td>Home Mortgage</td>\n",
       "      <td>Debt Consolidation</td>\n",
       "      <td>33295.98</td>\n",
       "      <td>21.10</td>\n",
       "      <td>8.00</td>\n",
       "      <td>35.00</td>\n",
       "      <td>0.00</td>\n",
       "      <td>229976.00</td>\n",
       "      <td>850784.00</td>\n",
       "      <td>0.00</td>\n",
       "      <td>0.00</td>\n",
       "      <td>1</td>\n",
       "      <td>0</td>\n",
       "    </tr>\n",
       "    <tr>\n",
       "      <th>2</th>\n",
       "      <td>4eed4e6a-aa2f-4c91-8651-ce984ee8fb26</td>\n",
       "      <td>5efb2b2b-bf11-4dfd-a572-3761a2694725</td>\n",
       "      <td>1</td>\n",
       "      <td>99999999.00</td>\n",
       "      <td>0</td>\n",
       "      <td>2231892.00</td>\n",
       "      <td>8 years</td>\n",
       "      <td>Own Home</td>\n",
       "      <td>Debt Consolidation</td>\n",
       "      <td>29200.53</td>\n",
       "      <td>14.90</td>\n",
       "      <td>29.00</td>\n",
       "      <td>18.00</td>\n",
       "      <td>1.00</td>\n",
       "      <td>297996.00</td>\n",
       "      <td>750090.00</td>\n",
       "      <td>0.00</td>\n",
       "      <td>0.00</td>\n",
       "      <td>0</td>\n",
       "      <td>1</td>\n",
       "    </tr>\n",
       "    <tr>\n",
       "      <th>3</th>\n",
       "      <td>77598f7b-32e7-4e3b-a6e5-06ba0d98fe8a</td>\n",
       "      <td>e777faab-98ae-45af-9a86-7ce5b33b1011</td>\n",
       "      <td>1</td>\n",
       "      <td>347666.00</td>\n",
       "      <td>1</td>\n",
       "      <td>806949.00</td>\n",
       "      <td>3 years</td>\n",
       "      <td>Own Home</td>\n",
       "      <td>Debt Consolidation</td>\n",
       "      <td>8741.90</td>\n",
       "      <td>12.00</td>\n",
       "      <td>nan</td>\n",
       "      <td>9.00</td>\n",
       "      <td>0.00</td>\n",
       "      <td>256329.00</td>\n",
       "      <td>386958.00</td>\n",
       "      <td>0.00</td>\n",
       "      <td>0.00</td>\n",
       "      <td>1</td>\n",
       "      <td>0</td>\n",
       "    </tr>\n",
       "    <tr>\n",
       "      <th>4</th>\n",
       "      <td>d4062e70-befa-4995-8643-a0de73938182</td>\n",
       "      <td>81536ad9-5ccf-4eb8-befb-47a4d608658e</td>\n",
       "      <td>1</td>\n",
       "      <td>176220.00</td>\n",
       "      <td>0</td>\n",
       "      <td>1378276.56</td>\n",
       "      <td>5 years</td>\n",
       "      <td>Rent</td>\n",
       "      <td>Debt Consolidation</td>\n",
       "      <td>20639.70</td>\n",
       "      <td>6.10</td>\n",
       "      <td>nan</td>\n",
       "      <td>15.00</td>\n",
       "      <td>0.00</td>\n",
       "      <td>253460.00</td>\n",
       "      <td>427174.00</td>\n",
       "      <td>0.00</td>\n",
       "      <td>0.00</td>\n",
       "      <td>1</td>\n",
       "      <td>0</td>\n",
       "    </tr>\n",
       "  </tbody>\n",
       "</table>\n",
       "</div>"
      ],
      "text/plain": [
       "                                Loan ID                           Customer ID  \\\n",
       "0  14dd8831-6af5-400b-83ec-68e61888a048  981165ec-3274-42f5-a3b4-d104041a9ca9   \n",
       "1  4771cc26-131a-45db-b5aa-537ea4ba5342  2de017a3-2e01-49cb-a581-08169e83be29   \n",
       "2  4eed4e6a-aa2f-4c91-8651-ce984ee8fb26  5efb2b2b-bf11-4dfd-a572-3761a2694725   \n",
       "3  77598f7b-32e7-4e3b-a6e5-06ba0d98fe8a  e777faab-98ae-45af-9a86-7ce5b33b1011   \n",
       "4  d4062e70-befa-4995-8643-a0de73938182  81536ad9-5ccf-4eb8-befb-47a4d608658e   \n",
       "\n",
       "   Loan Status  Current Loan Amount  Term  Annual Income Years in current job  \\\n",
       "0            1            445412.00     0     1167493.00              8 years   \n",
       "1            1            262328.00     0     1378276.56            10+ years   \n",
       "2            1          99999999.00     0     2231892.00              8 years   \n",
       "3            1            347666.00     1      806949.00              3 years   \n",
       "4            1            176220.00     0     1378276.56              5 years   \n",
       "\n",
       "  Home Ownership             Purpose  Monthly Debt  Years of Credit History  \\\n",
       "0  Home Mortgage   Home Improvements       5214.74                    17.20   \n",
       "1  Home Mortgage  Debt Consolidation      33295.98                    21.10   \n",
       "2       Own Home  Debt Consolidation      29200.53                    14.90   \n",
       "3       Own Home  Debt Consolidation       8741.90                    12.00   \n",
       "4           Rent  Debt Consolidation      20639.70                     6.10   \n",
       "\n",
       "   Months since last delinquent  Number of Open Accounts  \\\n",
       "0                           nan                     6.00   \n",
       "1                          8.00                    35.00   \n",
       "2                         29.00                    18.00   \n",
       "3                           nan                     9.00   \n",
       "4                           nan                    15.00   \n",
       "\n",
       "   Number of Credit Problems  Current Credit Balance  Maximum Open Credit  \\\n",
       "0                       1.00               228190.00            416746.00   \n",
       "1                       0.00               229976.00            850784.00   \n",
       "2                       1.00               297996.00            750090.00   \n",
       "3                       0.00               256329.00            386958.00   \n",
       "4                       0.00               253460.00            427174.00   \n",
       "\n",
       "   Bankruptcies  Tax Liens  Credit Good  Credit Very Good  \n",
       "0          1.00       0.00            1                 0  \n",
       "1          0.00       0.00            1                 0  \n",
       "2          0.00       0.00            0                 1  \n",
       "3          0.00       0.00            1                 0  \n",
       "4          0.00       0.00            1                 0  "
      ]
     },
     "execution_count": 63,
     "metadata": {},
     "output_type": "execute_result"
    }
   ],
   "source": [
    "\n",
    "dataframe['Annual Income'].fillna(dataframe['Annual Income'].mean(), inplace=True)\n",
    "dataframe.head()\n"
   ]
  },
  {
   "cell_type": "code",
   "execution_count": 64,
   "metadata": {},
   "outputs": [
    {
     "data": {
      "text/plain": [
       "(100000, 20)"
      ]
     },
     "execution_count": 64,
     "metadata": {},
     "output_type": "execute_result"
    }
   ],
   "source": [
    "dataframe.shape"
   ]
  },
  {
   "cell_type": "code",
   "execution_count": 65,
   "metadata": {},
   "outputs": [
    {
     "data": {
      "text/plain": [
       "Debt Consolidation      78552\n",
       "other                    6037\n",
       "Home Improvements        5839\n",
       "Other                    3250\n",
       "Business Loan            1569\n",
       "Buy a Car                1265\n",
       "Medical Bills            1127\n",
       "Buy House                 678\n",
       "Take a Trip               573\n",
       "major_purchase            352\n",
       "small_business            283\n",
       "moving                    150\n",
       "wedding                   115\n",
       "vacation                  101\n",
       "Educational Expenses       99\n",
       "renewable_energy           10\n",
       "Name: Purpose, dtype: int64"
      ]
     },
     "execution_count": 65,
     "metadata": {},
     "output_type": "execute_result"
    }
   ],
   "source": [
    "dataframe['Purpose'].value_counts()"
   ]
  },
  {
   "cell_type": "code",
   "execution_count": 66,
   "metadata": {},
   "outputs": [
    {
     "data": {
      "text/plain": [
       "<matplotlib.axes._subplots.AxesSubplot at 0xb11ad540f0>"
      ]
     },
     "execution_count": 66,
     "metadata": {},
     "output_type": "execute_result"
    }
   ],
   "source": [
    "dataframe['Purpose'].value_counts().sort_values(ascending=True).plot(kind='barh', title=\"Purpose for Loans\", figsize=(15,10))"
   ]
  },
  {
   "cell_type": "code",
   "execution_count": 67,
   "metadata": {},
   "outputs": [
    {
     "data": {
      "text/plain": [
       "<matplotlib.axes._subplots.AxesSubplot at 0xb11ad540f0>"
      ]
     },
     "execution_count": 67,
     "metadata": {},
     "output_type": "execute_result"
    }
   ],
   "source": [
    "sns.countplot(dataframe['Purpose'])"
   ]
  },
  {
   "cell_type": "code",
   "execution_count": 68,
   "metadata": {},
   "outputs": [],
   "source": [
    "dataframe.drop(labels=['Loan ID', 'Customer ID'], axis=1, inplace=True)\n"
   ]
  },
  {
   "cell_type": "code",
   "execution_count": 69,
   "metadata": {},
   "outputs": [],
   "source": [
    "dataframe.drop(labels=['Months since last delinquent'], axis=1, inplace=True)\n"
   ]
  },
  {
   "cell_type": "code",
   "execution_count": 70,
   "metadata": {},
   "outputs": [
    {
     "data": {
      "text/plain": [
       "(100000, 17)"
      ]
     },
     "execution_count": 70,
     "metadata": {},
     "output_type": "execute_result"
    }
   ],
   "source": [
    "dataframe.shape"
   ]
  },
  {
   "cell_type": "code",
   "execution_count": 71,
   "metadata": {},
   "outputs": [
    {
     "data": {
      "text/plain": [
       "<matplotlib.axes._subplots.AxesSubplot at 0xb11ad540f0>"
      ]
     },
     "execution_count": 71,
     "metadata": {},
     "output_type": "execute_result"
    }
   ],
   "source": [
    "sns.countplot(dataframe[\"Tax Liens\"])"
   ]
  },
  {
   "cell_type": "code",
   "execution_count": 72,
   "metadata": {},
   "outputs": [
    {
     "data": {
      "text/plain": [
       "<matplotlib.axes._subplots.AxesSubplot at 0xb11ad540f0>"
      ]
     },
     "execution_count": 72,
     "metadata": {},
     "output_type": "execute_result"
    }
   ],
   "source": [
    "sns.scatterplot('Tax Liens','Loan Status',data=dataframe)"
   ]
  },
  {
   "cell_type": "code",
   "execution_count": 73,
   "metadata": {},
   "outputs": [],
   "source": [
    "dataframe.drop(labels=['Tax Liens'], axis=1, inplace=True)"
   ]
  },
  {
   "cell_type": "code",
   "execution_count": 74,
   "metadata": {},
   "outputs": [
    {
     "data": {
      "text/plain": [
       "(100000, 16)"
      ]
     },
     "execution_count": 74,
     "metadata": {},
     "output_type": "execute_result"
    }
   ],
   "source": [
    "dataframe.shape"
   ]
  },
  {
   "cell_type": "code",
   "execution_count": 75,
   "metadata": {},
   "outputs": [],
   "source": [
    "dataframe.dropna(subset=['Bankruptcies'], inplace = True)"
   ]
  },
  {
   "cell_type": "code",
   "execution_count": 76,
   "metadata": {},
   "outputs": [],
   "source": [
    "dataframe.dropna(subset=['Maximum Open Credit'], inplace = True)"
   ]
  },
  {
   "cell_type": "code",
   "execution_count": 77,
   "metadata": {},
   "outputs": [
    {
     "data": {
      "text/plain": [
       "(99794, 16)"
      ]
     },
     "execution_count": 77,
     "metadata": {},
     "output_type": "execute_result"
    }
   ],
   "source": [
    "dataframe.shape"
   ]
  },
  {
   "cell_type": "code",
   "execution_count": 78,
   "metadata": {},
   "outputs": [
    {
     "data": {
      "text/plain": [
       "<matplotlib.axes._subplots.AxesSubplot at 0xb11ad540f0>"
      ]
     },
     "execution_count": 78,
     "metadata": {},
     "output_type": "execute_result"
    }
   ],
   "source": [
    "sns.countplot(dataframe[\"Years in current job\"])"
   ]
  },
  {
   "cell_type": "code",
   "execution_count": 79,
   "metadata": {},
   "outputs": [
    {
     "data": {
      "text/plain": [
       "(99794, 16)"
      ]
     },
     "execution_count": 79,
     "metadata": {},
     "output_type": "execute_result"
    }
   ],
   "source": [
    "dataframe.shape"
   ]
  },
  {
   "cell_type": "code",
   "execution_count": 80,
   "metadata": {},
   "outputs": [],
   "source": [
    "dataframe[\"Years in current job\"].fillna('10+ years', inplace=True) # fill with '10+ years'."
   ]
  },
  {
   "cell_type": "code",
   "execution_count": 81,
   "metadata": {},
   "outputs": [
    {
     "data": {
      "text/plain": [
       "<matplotlib.axes._subplots.AxesSubplot at 0xb11ad540f0>"
      ]
     },
     "execution_count": 81,
     "metadata": {},
     "output_type": "execute_result"
    }
   ],
   "source": [
    "dataframe[\"Years in current job\"].value_counts().sort_values(ascending=True).plot(kind='barh', title=\"Years in current job\", figsize=(15,10))"
   ]
  },
  {
   "cell_type": "code",
   "execution_count": 82,
   "metadata": {},
   "outputs": [
    {
     "data": {
      "text/plain": [
       "Loan Status                  0\n",
       "Current Loan Amount          0\n",
       "Term                         0\n",
       "Annual Income                0\n",
       "Years in current job         0\n",
       "Home Ownership               0\n",
       "Purpose                      0\n",
       "Monthly Debt                 0\n",
       "Years of Credit History      0\n",
       "Number of Open Accounts      0\n",
       "Number of Credit Problems    0\n",
       "Current Credit Balance       0\n",
       "Maximum Open Credit          0\n",
       "Bankruptcies                 0\n",
       "Credit Good                  0\n",
       "Credit Very Good             0\n",
       "dtype: int64"
      ]
     },
     "execution_count": 82,
     "metadata": {},
     "output_type": "execute_result"
    }
   ],
   "source": [
    "dataframe.isna().sum()"
   ]
  },
  {
   "cell_type": "code",
   "execution_count": 83,
   "metadata": {},
   "outputs": [
    {
     "data": {
      "text/plain": [
       "<seaborn.axisgrid.PairGrid at 0xb118cf6e48>"
      ]
     },
     "execution_count": 83,
     "metadata": {},
     "output_type": "execute_result"
    }
   ],
   "source": [
    "#pairplot\n",
    "sns.pairplot(dataframe)"
   ]
  },
  {
   "cell_type": "code",
   "execution_count": 84,
   "metadata": {},
   "outputs": [
    {
     "name": "stderr",
     "output_type": "stream",
     "text": [
      "c:\\users\\hp\\appdata\\local\\programs\\python\\python36\\lib\\site-packages\\matplotlib\\figure.py:445: UserWarning: Matplotlib is currently using agg, which is a non-GUI backend, so cannot show the figure.\n",
      "  % get_backend())\n",
      "c:\\users\\hp\\appdata\\local\\programs\\python\\python36\\lib\\site-packages\\matplotlib\\figure.py:445: UserWarning: Matplotlib is currently using agg, which is a non-GUI backend, so cannot show the figure.\n",
      "  % get_backend())\n",
      "c:\\users\\hp\\appdata\\local\\programs\\python\\python36\\lib\\site-packages\\matplotlib\\figure.py:445: UserWarning: Matplotlib is currently using agg, which is a non-GUI backend, so cannot show the figure.\n",
      "  % get_backend())\n",
      "c:\\users\\hp\\appdata\\local\\programs\\python\\python36\\lib\\site-packages\\matplotlib\\figure.py:445: UserWarning: Matplotlib is currently using agg, which is a non-GUI backend, so cannot show the figure.\n",
      "  % get_backend())\n",
      "c:\\users\\hp\\appdata\\local\\programs\\python\\python36\\lib\\site-packages\\matplotlib\\figure.py:445: UserWarning: Matplotlib is currently using agg, which is a non-GUI backend, so cannot show the figure.\n",
      "  % get_backend())\n"
     ]
    }
   ],
   "source": [
    "#plot correlation [plot]\n",
    "fig,ax = plt.subplots(figsize=(20, 20))\n",
    "sns.heatmap(dataframe.corr(), ax=ax, annot=True, linewidths=0.05, fmt= '.2f',cmap=\"magma\")\n",
    "plt.show()"
   ]
  },
  {
   "cell_type": "code",
   "execution_count": 85,
   "metadata": {},
   "outputs": [
    {
     "data": {
      "text/plain": [
       "Index(['Loan Status', 'Current Loan Amount', 'Term', 'Annual Income',\n",
       "       'Years in current job', 'Home Ownership', 'Purpose', 'Monthly Debt',\n",
       "       'Years of Credit History', 'Number of Open Accounts',\n",
       "       'Number of Credit Problems', 'Current Credit Balance',\n",
       "       'Maximum Open Credit', 'Bankruptcies', 'Credit Good',\n",
       "       'Credit Very Good'],\n",
       "      dtype='object')"
      ]
     },
     "execution_count": 85,
     "metadata": {},
     "output_type": "execute_result"
    }
   ],
   "source": [
    "dataframe.columns"
   ]
  },
  {
   "cell_type": "code",
   "execution_count": 86,
   "metadata": {},
   "outputs": [
    {
     "data": {
      "text/html": [
       "<div>\n",
       "<style scoped>\n",
       "    .dataframe tbody tr th:only-of-type {\n",
       "        vertical-align: middle;\n",
       "    }\n",
       "\n",
       "    .dataframe tbody tr th {\n",
       "        vertical-align: top;\n",
       "    }\n",
       "\n",
       "    .dataframe thead th {\n",
       "        text-align: right;\n",
       "    }\n",
       "</style>\n",
       "<table border=\"1\" class=\"dataframe\">\n",
       "  <thead>\n",
       "    <tr style=\"text-align: right;\">\n",
       "      <th></th>\n",
       "      <th>Loan Status</th>\n",
       "      <th>Current Loan Amount</th>\n",
       "      <th>Term</th>\n",
       "      <th>Annual Income</th>\n",
       "      <th>Years in current job</th>\n",
       "      <th>Home Ownership</th>\n",
       "      <th>Purpose</th>\n",
       "      <th>Monthly Debt</th>\n",
       "      <th>Years of Credit History</th>\n",
       "      <th>Number of Open Accounts</th>\n",
       "      <th>Number of Credit Problems</th>\n",
       "      <th>Current Credit Balance</th>\n",
       "      <th>Maximum Open Credit</th>\n",
       "      <th>Bankruptcies</th>\n",
       "      <th>Credit Good</th>\n",
       "      <th>Credit Very Good</th>\n",
       "    </tr>\n",
       "  </thead>\n",
       "  <tbody>\n",
       "    <tr>\n",
       "      <th>0</th>\n",
       "      <td>1</td>\n",
       "      <td>445412.00</td>\n",
       "      <td>0</td>\n",
       "      <td>1167493.00</td>\n",
       "      <td>8 years</td>\n",
       "      <td>Home Mortgage</td>\n",
       "      <td>Home Improvements</td>\n",
       "      <td>5214.74</td>\n",
       "      <td>17.20</td>\n",
       "      <td>6.00</td>\n",
       "      <td>1.00</td>\n",
       "      <td>228190.00</td>\n",
       "      <td>416746.00</td>\n",
       "      <td>1.00</td>\n",
       "      <td>1</td>\n",
       "      <td>0</td>\n",
       "    </tr>\n",
       "    <tr>\n",
       "      <th>1</th>\n",
       "      <td>1</td>\n",
       "      <td>262328.00</td>\n",
       "      <td>0</td>\n",
       "      <td>1378276.56</td>\n",
       "      <td>10+ years</td>\n",
       "      <td>Home Mortgage</td>\n",
       "      <td>Debt Consolidation</td>\n",
       "      <td>33295.98</td>\n",
       "      <td>21.10</td>\n",
       "      <td>35.00</td>\n",
       "      <td>0.00</td>\n",
       "      <td>229976.00</td>\n",
       "      <td>850784.00</td>\n",
       "      <td>0.00</td>\n",
       "      <td>1</td>\n",
       "      <td>0</td>\n",
       "    </tr>\n",
       "    <tr>\n",
       "      <th>2</th>\n",
       "      <td>1</td>\n",
       "      <td>99999999.00</td>\n",
       "      <td>0</td>\n",
       "      <td>2231892.00</td>\n",
       "      <td>8 years</td>\n",
       "      <td>Own Home</td>\n",
       "      <td>Debt Consolidation</td>\n",
       "      <td>29200.53</td>\n",
       "      <td>14.90</td>\n",
       "      <td>18.00</td>\n",
       "      <td>1.00</td>\n",
       "      <td>297996.00</td>\n",
       "      <td>750090.00</td>\n",
       "      <td>0.00</td>\n",
       "      <td>0</td>\n",
       "      <td>1</td>\n",
       "    </tr>\n",
       "    <tr>\n",
       "      <th>3</th>\n",
       "      <td>1</td>\n",
       "      <td>347666.00</td>\n",
       "      <td>1</td>\n",
       "      <td>806949.00</td>\n",
       "      <td>3 years</td>\n",
       "      <td>Own Home</td>\n",
       "      <td>Debt Consolidation</td>\n",
       "      <td>8741.90</td>\n",
       "      <td>12.00</td>\n",
       "      <td>9.00</td>\n",
       "      <td>0.00</td>\n",
       "      <td>256329.00</td>\n",
       "      <td>386958.00</td>\n",
       "      <td>0.00</td>\n",
       "      <td>1</td>\n",
       "      <td>0</td>\n",
       "    </tr>\n",
       "    <tr>\n",
       "      <th>4</th>\n",
       "      <td>1</td>\n",
       "      <td>176220.00</td>\n",
       "      <td>0</td>\n",
       "      <td>1378276.56</td>\n",
       "      <td>5 years</td>\n",
       "      <td>Rent</td>\n",
       "      <td>Debt Consolidation</td>\n",
       "      <td>20639.70</td>\n",
       "      <td>6.10</td>\n",
       "      <td>15.00</td>\n",
       "      <td>0.00</td>\n",
       "      <td>253460.00</td>\n",
       "      <td>427174.00</td>\n",
       "      <td>0.00</td>\n",
       "      <td>1</td>\n",
       "      <td>0</td>\n",
       "    </tr>\n",
       "  </tbody>\n",
       "</table>\n",
       "</div>"
      ],
      "text/plain": [
       "   Loan Status  Current Loan Amount  Term  Annual Income Years in current job  \\\n",
       "0            1            445412.00     0     1167493.00              8 years   \n",
       "1            1            262328.00     0     1378276.56            10+ years   \n",
       "2            1          99999999.00     0     2231892.00              8 years   \n",
       "3            1            347666.00     1      806949.00              3 years   \n",
       "4            1            176220.00     0     1378276.56              5 years   \n",
       "\n",
       "  Home Ownership             Purpose  Monthly Debt  Years of Credit History  \\\n",
       "0  Home Mortgage   Home Improvements       5214.74                    17.20   \n",
       "1  Home Mortgage  Debt Consolidation      33295.98                    21.10   \n",
       "2       Own Home  Debt Consolidation      29200.53                    14.90   \n",
       "3       Own Home  Debt Consolidation       8741.90                    12.00   \n",
       "4           Rent  Debt Consolidation      20639.70                     6.10   \n",
       "\n",
       "   Number of Open Accounts  Number of Credit Problems  Current Credit Balance  \\\n",
       "0                     6.00                       1.00               228190.00   \n",
       "1                    35.00                       0.00               229976.00   \n",
       "2                    18.00                       1.00               297996.00   \n",
       "3                     9.00                       0.00               256329.00   \n",
       "4                    15.00                       0.00               253460.00   \n",
       "\n",
       "   Maximum Open Credit  Bankruptcies  Credit Good  Credit Very Good  \n",
       "0            416746.00          1.00            1                 0  \n",
       "1            850784.00          0.00            1                 0  \n",
       "2            750090.00          0.00            0                 1  \n",
       "3            386958.00          0.00            1                 0  \n",
       "4            427174.00          0.00            1                 0  "
      ]
     },
     "execution_count": 86,
     "metadata": {},
     "output_type": "execute_result"
    }
   ],
   "source": [
    "dataframe.head()"
   ]
  },
  {
   "cell_type": "code",
   "execution_count": 87,
   "metadata": {},
   "outputs": [
    {
     "data": {
      "text/plain": [
       "Index(['Loan Status', 'Current Loan Amount', 'Term', 'Annual Income',\n",
       "       'Years in current job', 'Home Ownership', 'Purpose', 'Monthly Debt',\n",
       "       'Years of Credit History', 'Number of Open Accounts',\n",
       "       'Number of Credit Problems', 'Current Credit Balance',\n",
       "       'Maximum Open Credit', 'Bankruptcies', 'Credit Good',\n",
       "       'Credit Very Good'],\n",
       "      dtype='object')"
      ]
     },
     "execution_count": 87,
     "metadata": {},
     "output_type": "execute_result"
    }
   ],
   "source": [
    "dataframe.columns"
   ]
  },
  {
   "cell_type": "code",
   "execution_count": 88,
   "metadata": {},
   "outputs": [
    {
     "data": {
      "text/html": [
       "<div>\n",
       "<style scoped>\n",
       "    .dataframe tbody tr th:only-of-type {\n",
       "        vertical-align: middle;\n",
       "    }\n",
       "\n",
       "    .dataframe tbody tr th {\n",
       "        vertical-align: top;\n",
       "    }\n",
       "\n",
       "    .dataframe thead th {\n",
       "        text-align: right;\n",
       "    }\n",
       "</style>\n",
       "<table border=\"1\" class=\"dataframe\">\n",
       "  <thead>\n",
       "    <tr style=\"text-align: right;\">\n",
       "      <th></th>\n",
       "      <th>Loan Status</th>\n",
       "      <th>Current Loan Amount</th>\n",
       "      <th>Term</th>\n",
       "      <th>Annual Income</th>\n",
       "      <th>Monthly Debt</th>\n",
       "      <th>Years of Credit History</th>\n",
       "      <th>Number of Open Accounts</th>\n",
       "      <th>Number of Credit Problems</th>\n",
       "      <th>Current Credit Balance</th>\n",
       "      <th>Maximum Open Credit</th>\n",
       "      <th>...</th>\n",
       "      <th>Purpose_Medical Bills</th>\n",
       "      <th>Purpose_Other</th>\n",
       "      <th>Purpose_Take a Trip</th>\n",
       "      <th>Purpose_major_purchase</th>\n",
       "      <th>Purpose_moving</th>\n",
       "      <th>Purpose_other</th>\n",
       "      <th>Purpose_renewable_energy</th>\n",
       "      <th>Purpose_small_business</th>\n",
       "      <th>Purpose_vacation</th>\n",
       "      <th>Purpose_wedding</th>\n",
       "    </tr>\n",
       "  </thead>\n",
       "  <tbody>\n",
       "    <tr>\n",
       "      <th>0</th>\n",
       "      <td>1</td>\n",
       "      <td>445412.00</td>\n",
       "      <td>0</td>\n",
       "      <td>1167493.00</td>\n",
       "      <td>5214.74</td>\n",
       "      <td>17.20</td>\n",
       "      <td>6.00</td>\n",
       "      <td>1.00</td>\n",
       "      <td>228190.00</td>\n",
       "      <td>416746.00</td>\n",
       "      <td>...</td>\n",
       "      <td>0</td>\n",
       "      <td>0</td>\n",
       "      <td>0</td>\n",
       "      <td>0</td>\n",
       "      <td>0</td>\n",
       "      <td>0</td>\n",
       "      <td>0</td>\n",
       "      <td>0</td>\n",
       "      <td>0</td>\n",
       "      <td>0</td>\n",
       "    </tr>\n",
       "    <tr>\n",
       "      <th>1</th>\n",
       "      <td>1</td>\n",
       "      <td>262328.00</td>\n",
       "      <td>0</td>\n",
       "      <td>1378276.56</td>\n",
       "      <td>33295.98</td>\n",
       "      <td>21.10</td>\n",
       "      <td>35.00</td>\n",
       "      <td>0.00</td>\n",
       "      <td>229976.00</td>\n",
       "      <td>850784.00</td>\n",
       "      <td>...</td>\n",
       "      <td>0</td>\n",
       "      <td>0</td>\n",
       "      <td>0</td>\n",
       "      <td>0</td>\n",
       "      <td>0</td>\n",
       "      <td>0</td>\n",
       "      <td>0</td>\n",
       "      <td>0</td>\n",
       "      <td>0</td>\n",
       "      <td>0</td>\n",
       "    </tr>\n",
       "    <tr>\n",
       "      <th>2</th>\n",
       "      <td>1</td>\n",
       "      <td>99999999.00</td>\n",
       "      <td>0</td>\n",
       "      <td>2231892.00</td>\n",
       "      <td>29200.53</td>\n",
       "      <td>14.90</td>\n",
       "      <td>18.00</td>\n",
       "      <td>1.00</td>\n",
       "      <td>297996.00</td>\n",
       "      <td>750090.00</td>\n",
       "      <td>...</td>\n",
       "      <td>0</td>\n",
       "      <td>0</td>\n",
       "      <td>0</td>\n",
       "      <td>0</td>\n",
       "      <td>0</td>\n",
       "      <td>0</td>\n",
       "      <td>0</td>\n",
       "      <td>0</td>\n",
       "      <td>0</td>\n",
       "      <td>0</td>\n",
       "    </tr>\n",
       "    <tr>\n",
       "      <th>3</th>\n",
       "      <td>1</td>\n",
       "      <td>347666.00</td>\n",
       "      <td>1</td>\n",
       "      <td>806949.00</td>\n",
       "      <td>8741.90</td>\n",
       "      <td>12.00</td>\n",
       "      <td>9.00</td>\n",
       "      <td>0.00</td>\n",
       "      <td>256329.00</td>\n",
       "      <td>386958.00</td>\n",
       "      <td>...</td>\n",
       "      <td>0</td>\n",
       "      <td>0</td>\n",
       "      <td>0</td>\n",
       "      <td>0</td>\n",
       "      <td>0</td>\n",
       "      <td>0</td>\n",
       "      <td>0</td>\n",
       "      <td>0</td>\n",
       "      <td>0</td>\n",
       "      <td>0</td>\n",
       "    </tr>\n",
       "    <tr>\n",
       "      <th>4</th>\n",
       "      <td>1</td>\n",
       "      <td>176220.00</td>\n",
       "      <td>0</td>\n",
       "      <td>1378276.56</td>\n",
       "      <td>20639.70</td>\n",
       "      <td>6.10</td>\n",
       "      <td>15.00</td>\n",
       "      <td>0.00</td>\n",
       "      <td>253460.00</td>\n",
       "      <td>427174.00</td>\n",
       "      <td>...</td>\n",
       "      <td>0</td>\n",
       "      <td>0</td>\n",
       "      <td>0</td>\n",
       "      <td>0</td>\n",
       "      <td>0</td>\n",
       "      <td>0</td>\n",
       "      <td>0</td>\n",
       "      <td>0</td>\n",
       "      <td>0</td>\n",
       "      <td>0</td>\n",
       "    </tr>\n",
       "  </tbody>\n",
       "</table>\n",
       "<p>5 rows × 41 columns</p>\n",
       "</div>"
      ],
      "text/plain": [
       "   Loan Status  Current Loan Amount  Term  Annual Income  Monthly Debt  \\\n",
       "0            1            445412.00     0     1167493.00       5214.74   \n",
       "1            1            262328.00     0     1378276.56      33295.98   \n",
       "2            1          99999999.00     0     2231892.00      29200.53   \n",
       "3            1            347666.00     1      806949.00       8741.90   \n",
       "4            1            176220.00     0     1378276.56      20639.70   \n",
       "\n",
       "   Years of Credit History  Number of Open Accounts  \\\n",
       "0                    17.20                     6.00   \n",
       "1                    21.10                    35.00   \n",
       "2                    14.90                    18.00   \n",
       "3                    12.00                     9.00   \n",
       "4                     6.10                    15.00   \n",
       "\n",
       "   Number of Credit Problems  Current Credit Balance  Maximum Open Credit  \\\n",
       "0                       1.00               228190.00            416746.00   \n",
       "1                       0.00               229976.00            850784.00   \n",
       "2                       1.00               297996.00            750090.00   \n",
       "3                       0.00               256329.00            386958.00   \n",
       "4                       0.00               253460.00            427174.00   \n",
       "\n",
       "        ...         Purpose_Medical Bills  Purpose_Other  Purpose_Take a Trip  \\\n",
       "0       ...                             0              0                    0   \n",
       "1       ...                             0              0                    0   \n",
       "2       ...                             0              0                    0   \n",
       "3       ...                             0              0                    0   \n",
       "4       ...                             0              0                    0   \n",
       "\n",
       "   Purpose_major_purchase  Purpose_moving  Purpose_other  \\\n",
       "0                       0               0              0   \n",
       "1                       0               0              0   \n",
       "2                       0               0              0   \n",
       "3                       0               0              0   \n",
       "4                       0               0              0   \n",
       "\n",
       "   Purpose_renewable_energy  Purpose_small_business  Purpose_vacation  \\\n",
       "0                         0                       0                 0   \n",
       "1                         0                       0                 0   \n",
       "2                         0                       0                 0   \n",
       "3                         0                       0                 0   \n",
       "4                         0                       0                 0   \n",
       "\n",
       "   Purpose_wedding  \n",
       "0                0  \n",
       "1                0  \n",
       "2                0  \n",
       "3                0  \n",
       "4                0  \n",
       "\n",
       "[5 rows x 41 columns]"
      ]
     },
     "execution_count": 88,
     "metadata": {},
     "output_type": "execute_result"
    }
   ],
   "source": [
    "dataframe= pd.get_dummies(dataframe, columns=['Years in current job', 'Home Ownership','Purpose'], drop_first=True)\n",
    "dataframe.head()"
   ]
  },
  {
   "cell_type": "code",
   "execution_count": 89,
   "metadata": {},
   "outputs": [
    {
     "data": {
      "text/plain": [
       "Index(['Loan Status', 'Current Loan Amount', 'Term', 'Annual Income',\n",
       "       'Monthly Debt', 'Years of Credit History', 'Number of Open Accounts',\n",
       "       'Number of Credit Problems', 'Current Credit Balance',\n",
       "       'Maximum Open Credit', 'Bankruptcies', 'Credit Good',\n",
       "       'Credit Very Good', 'Years in current job_10+ years',\n",
       "       'Years in current job_2 years', 'Years in current job_3 years',\n",
       "       'Years in current job_4 years', 'Years in current job_5 years',\n",
       "       'Years in current job_6 years', 'Years in current job_7 years',\n",
       "       'Years in current job_8 years', 'Years in current job_9 years',\n",
       "       'Years in current job_< 1 year', 'Home Ownership_Home Mortgage',\n",
       "       'Home Ownership_Own Home', 'Home Ownership_Rent', 'Purpose_Buy House',\n",
       "       'Purpose_Buy a Car', 'Purpose_Debt Consolidation',\n",
       "       'Purpose_Educational Expenses', 'Purpose_Home Improvements',\n",
       "       'Purpose_Medical Bills', 'Purpose_Other', 'Purpose_Take a Trip',\n",
       "       'Purpose_major_purchase', 'Purpose_moving', 'Purpose_other',\n",
       "       'Purpose_renewable_energy', 'Purpose_small_business',\n",
       "       'Purpose_vacation', 'Purpose_wedding'],\n",
       "      dtype='object')"
      ]
     },
     "execution_count": 89,
     "metadata": {},
     "output_type": "execute_result"
    }
   ],
   "source": [
    "dataframe.columns"
   ]
  },
  {
   "cell_type": "code",
   "execution_count": 90,
   "metadata": {},
   "outputs": [],
   "source": [
    "# #  Remove Collinear Features\n",
    "\n",
    "def remove_collinear_features(x, threshold):\n",
    "    '''\n",
    "    Objective:\n",
    "        Remove collinear features in a dataframe with a correlation coefficient\n",
    "        greater than the threshold. Removing collinear features can help a model\n",
    "        to generalize and improves the interpretability of the model.\n",
    "        \n",
    "    Inputs: \n",
    "        threshold: any features with correlations greater than this value are removed\n",
    "    \n",
    "    Output: \n",
    "        dataframe that contains only the non-highly-collinear features\n",
    "    '''\n",
    "    \n",
    "    # Dont want to remove correlations between Energy Star Score\n",
    "    y = dataframe['Loan Status']\n",
    "    X = dataframe.drop(columns = ['Loan Status'])\n",
    "    \n",
    "    # Calculate the correlation matrix\n",
    "    corr_matrix = x.corr()\n",
    "    iters = range(len(corr_matrix.columns) - 1)\n",
    "    drop_cols = []\n",
    "\n",
    "    # Iterate through the correlation matrix and compare correlations\n",
    "    for i in iters:\n",
    "        for j in range(i):\n",
    "            item = corr_matrix.iloc[j:(j+1), (i+1):(i+2)]\n",
    "            col = item.columns\n",
    "            row = item.index\n",
    "            val = abs(item.values)\n",
    "            \n",
    "            # If correlation exceeds the threshold\n",
    "            if val >= threshold:\n",
    "                # Print the correlated features and the correlation value\n",
    "                # print(col.values[0], \"|\", row.values[0], \"|\", round(val[0][0], 2))\n",
    "                drop_cols.append(col.values[0])\n",
    "\n",
    "    # Drop one of each pair of correlated columns\n",
    "    drops = set(drop_cols)\n",
    "    X = X.drop(columns = drops)\n",
    "    \n",
    "    # Add the score back in to the data\n",
    "    X['Loan Status'] = y\n",
    "               \n",
    "    return x\n"
   ]
  },
  {
   "cell_type": "code",
   "execution_count": 91,
   "metadata": {
    "scrolled": true
   },
   "outputs": [
    {
     "data": {
      "text/plain": [
       "(99794, 41)"
      ]
     },
     "execution_count": 91,
     "metadata": {},
     "output_type": "execute_result"
    }
   ],
   "source": [
    "# Remove the collinear features above a specified correlation coefficient\n",
    "dataframe = remove_collinear_features(dataframe, 0.6);\n",
    "dataframe.shape"
   ]
  },
  {
   "cell_type": "code",
   "execution_count": 92,
   "metadata": {},
   "outputs": [],
   "source": [
    "y=dataframe['Loan Status']\n",
    "X=dataframe.drop(columns=['Loan Status'],axis=1)"
   ]
  },
  {
   "cell_type": "code",
   "execution_count": 93,
   "metadata": {},
   "outputs": [],
   "source": [
    "from sklearn.model_selection import train_test_split\n",
    "from sklearn.metrics import confusion_matrix,accuracy_score,classification_report\n",
    "# split data train 70 % and test 30 %\n",
    "X_train, X_test, y_train, y_test = train_test_split(X, y, test_size=0.3, random_state=42)\n"
   ]
  },
  {
   "cell_type": "code",
   "execution_count": 94,
   "metadata": {},
   "outputs": [
    {
     "name": "stderr",
     "output_type": "stream",
     "text": [
      "c:\\users\\hp\\appdata\\local\\programs\\python\\python36\\lib\\site-packages\\sklearn\\ensemble\\forest.py:246: FutureWarning: The default value of n_estimators will change from 10 in version 0.20 to 100 in 0.22.\n",
      "  \"10 in version 0.20 to 100 in 0.22.\", FutureWarning)\n"
     ]
    }
   ],
   "source": [
    "from sklearn.ensemble import RandomForestClassifier\n",
    "classifier=RandomForestClassifier(random_state=123)\n",
    "classifier.fit(X_train,y_train)\n",
    "y_pred=classifier.predict(X_train)\n",
    "y_pred1=classifier.predict(X_test)"
   ]
  },
  {
   "cell_type": "code",
   "execution_count": 95,
   "metadata": {},
   "outputs": [
    {
     "name": "stdout",
     "output_type": "stream",
     "text": [
      "0.9921981246868513\n",
      "[[15361   439]\n",
      " [  106 53949]]\n",
      "              precision    recall  f1-score   support\n",
      "\n",
      "           0       0.99      0.97      0.98     15800\n",
      "           1       0.99      1.00      0.99     54055\n",
      "\n",
      "   micro avg       0.99      0.99      0.99     69855\n",
      "   macro avg       0.99      0.99      0.99     69855\n",
      "weighted avg       0.99      0.99      0.99     69855\n",
      "\n"
     ]
    }
   ],
   "source": [
    "from sklearn.metrics import confusion_matrix,classification_report,accuracy_score\n",
    "print(accuracy_score(y_train,y_pred))\n",
    "print(confusion_matrix(y_train,y_pred))\n",
    "print(classification_report(y_train,y_pred))"
   ]
  },
  {
   "cell_type": "code",
   "execution_count": 96,
   "metadata": {},
   "outputs": [
    {
     "name": "stdout",
     "output_type": "stream",
     "text": [
      "0.7567721032766626\n",
      "[[ 1418  5369]\n",
      " [ 1913 21239]]\n",
      "              precision    recall  f1-score   support\n",
      "\n",
      "           0       0.43      0.21      0.28      6787\n",
      "           1       0.80      0.92      0.85     23152\n",
      "\n",
      "   micro avg       0.76      0.76      0.76     29939\n",
      "   macro avg       0.61      0.56      0.57     29939\n",
      "weighted avg       0.71      0.76      0.72     29939\n",
      "\n"
     ]
    }
   ],
   "source": [
    "print(accuracy_score(y_test,y_pred1))\n",
    "print(confusion_matrix(y_test,y_pred1))\n",
    "print(classification_report(y_test,y_pred1))"
   ]
  },
  {
   "cell_type": "code",
   "execution_count": 453,
   "metadata": {},
   "outputs": [],
   "source": [
    "def plot_feature_importances(importances, features):\n",
    "    # get the importance rating of each feature and sort it\n",
    "    indices = np.argsort(importances)\n",
    "\n",
    "    # make a plot with the feature importance\n",
    "    plt.figure(figsize=(12,14), dpi= 80, facecolor='w', edgecolor='k')\n",
    "    plt.grid()\n",
    "    plt.title('Feature Importances')\n",
    "    plt.barh(range(len(indices)), importances[indices], height=0.8, color='mediumvioletred', align='center')\n",
    "    plt.axvline(x=0.03)\n",
    "    plt.yticks(range(len(indices)), list(X_train))\n",
    "    plt.xlabel('Relative Importance')\n",
    "    plt.show()\n",
    "   "
   ]
  },
  {
   "cell_type": "code",
   "execution_count": 454,
   "metadata": {},
   "outputs": [
    {
     "data": {
      "image/png": "[encoded data removed]",
      "text/plain": [
       "<Figure size 960x1120 with 1 Axes>"
      ]
     },
     "metadata": {},
     "output_type": "display_data"
    }
   ],
   "source": [
    " plot_feature_importances(classifier.feature_importances_, X_train)"
   ]
  },
  {
   "cell_type": "code",
   "execution_count": 455,
   "metadata": {},
   "outputs": [
    {
     "name": "stdout",
     "output_type": "stream",
     "text": [
      "The Pearson Correlation Coefficient is 0.002395687678032648  with a P-value of P = 0.4491733742355517\n"
     ]
    }
   ],
   "source": [
    "from scipy import stats\n",
    "pearson_coef, p_value = stats.pearsonr(dataframe['Purpose_wedding'], y)\n",
    "print(\"The Pearson Correlation Coefficient is\", pearson_coef, \" with a P-value of P =\", p_value)\n"
   ]
  },
  {
   "cell_type": "code",
   "execution_count": 456,
   "metadata": {},
   "outputs": [
    {
     "name": "stdout",
     "output_type": "stream",
     "text": [
      "The Pearson Correlation Coefficient is 0.0039226123954891725  with a P-value of P = 0.21528999431471277\n"
     ]
    }
   ],
   "source": [
    "from scipy import stats\n",
    "pearson_coef, p_value = stats.pearsonr(dataframe['Purpose_Buy House'], y)\n",
    "print(\"The Pearson Correlation Coefficient is\", pearson_coef, \" with a P-value of P =\", p_value)\n"
   ]
  },
  {
   "cell_type": "code",
   "execution_count": 457,
   "metadata": {},
   "outputs": [
    {
     "name": "stdout",
     "output_type": "stream",
     "text": [
      "The Pearson Correlation Coefficient is 0.018054953939252567  with a P-value of P = 1.1703672779671396e-08\n"
     ]
    }
   ],
   "source": [
    "from scipy import stats\n",
    "pearson_coef, p_value = stats.pearsonr(dataframe['Purpose_Buy a Car'], y)\n",
    "print(\"The Pearson Correlation Coefficient is\", pearson_coef, \" with a P-value of P =\", p_value)\n"
   ]
  },
  {
   "cell_type": "code",
   "execution_count": 458,
   "metadata": {},
   "outputs": [
    {
     "name": "stdout",
     "output_type": "stream",
     "text": [
      "The Pearson Correlation Coefficient is -0.007965822967786085  with a P-value of P = 0.011855149692497086\n"
     ]
    }
   ],
   "source": [
    "from scipy import stats\n",
    "pearson_coef, p_value = stats.pearsonr(dataframe['Purpose_Debt Consolidation'], y)\n",
    "print(\"The Pearson Correlation Coefficient is\", pearson_coef, \" with a P-value of P =\", p_value)\n"
   ]
  },
  {
   "cell_type": "code",
   "execution_count": 459,
   "metadata": {},
   "outputs": [
    {
     "name": "stdout",
     "output_type": "stream",
     "text": [
      "The Pearson Correlation Coefficient is 0.1945713743069618  with a P-value of P = 0.0\n"
     ]
    }
   ],
   "source": [
    "from scipy import stats\n",
    "pearson_coef, p_value = stats.pearsonr(dataframe['Current Loan Amount'], y)\n",
    "print(\"The Pearson Correlation Coefficient is\", pearson_coef, \" with a P-value of P =\", p_value)\n"
   ]
  },
  {
   "cell_type": "code",
   "execution_count": 460,
   "metadata": {},
   "outputs": [
    {
     "name": "stdout",
     "output_type": "stream",
     "text": [
      "The Pearson Correlation Coefficient is -0.11088465536834546  with a P-value of P = 1.8604823847312633e-270\n"
     ]
    }
   ],
   "source": [
    "from scipy import stats\n",
    "pearson_coef, p_value = stats.pearsonr(dataframe['Term'], y)\n",
    "print(\"The Pearson Correlation Coefficient is\", pearson_coef, \" with a P-value of P =\", p_value)\n"
   ]
  },
  {
   "cell_type": "code",
   "execution_count": 461,
   "metadata": {},
   "outputs": [
    {
     "name": "stdout",
     "output_type": "stream",
     "text": [
      "The Pearson Correlation Coefficient is 0.04670302248388065  with a P-value of P = 2.5966726114269977e-49\n"
     ]
    }
   ],
   "source": [
    "from scipy import stats\n",
    "pearson_coef, p_value = stats.pearsonr(dataframe['Annual Income'], y)\n",
    "print(\"The Pearson Correlation Coefficient is\", pearson_coef, \" with a P-value of P =\", p_value)\n"
   ]
  },
  {
   "cell_type": "code",
   "execution_count": 462,
   "metadata": {},
   "outputs": [
    {
     "name": "stderr",
     "output_type": "stream",
     "text": [
      "c:\\users\\hp\\appdata\\local\\programs\\python\\python36\\lib\\site-packages\\ipykernel_launcher.py:35: FutureWarning: 'argmin' is deprecated, use 'idxmin' instead. The behavior of 'argmin'\n",
      "will be corrected to return the positional minimum in the future.\n",
      "Use 'series.values.argmin' to get the position of the minimum now.\n"
     ]
    },
    {
     "name": "stdout",
     "output_type": "stream",
     "text": [
      "Add  Current Loan Amount            with p-value 0.0\n",
      "Add  Term                           with p-value 8.76866e-227\n",
      "Add  Home Ownership_Home Mortgage   with p-value 2.53478e-84\n",
      "Add  Annual Income                  with p-value 1.46792e-45\n",
      "Add  Credit Very Good               with p-value 1.30901e-34\n",
      "Add  Credit Good                    with p-value 2.77703e-19\n",
      "Add  Purpose_small_business         with p-value 9.34043e-13\n",
      "Add  Monthly Debt                   with p-value 8.79261e-12\n",
      "Add  Home Ownership_Rent            with p-value 2.05649e-08\n",
      "Add  Purpose_Other                  with p-value 4.20186e-07\n",
      "Add  Purpose_Buy a Car              with p-value 1.92528e-06\n",
      "Add  Years in current job_3 years   with p-value 0.000382039\n",
      "Add  Number of Open Accounts        with p-value 0.00228408\n",
      "Add  Years of Credit History        with p-value 0.00950332\n",
      "resulting features:\n",
      "['Current Loan Amount', 'Term', 'Home Ownership_Home Mortgage', 'Annual Income', 'Credit Very Good', 'Credit Good', 'Purpose_small_business', 'Monthly Debt', 'Home Ownership_Rent', 'Purpose_Other', 'Purpose_Buy a Car', 'Years in current job_3 years', 'Number of Open Accounts', 'Years of Credit History']\n"
     ]
    }
   ],
   "source": [
    "##### STEPWISE ELEMINATION #######\n",
    "\n",
    "import statsmodels.api as sm\n",
    "\n",
    "\n",
    "def stepwise_selection(X, y, \n",
    "                       initial_list=[], \n",
    "                       threshold_in=0.01, \n",
    "                       threshold_out = 0.05, \n",
    "                       verbose=True):\n",
    "    \"\"\" Perform a forward-backward feature selection \n",
    "    based on p-value from statsmodels.api.OLS\n",
    "    Arguments:\n",
    "        X - pandas.DataFrame with candidate features\n",
    "        y - list-like with the target\n",
    "        initial_list - list of features to start with (column names of X)\n",
    "        threshold_in - include a feature if its p-value < threshold_in\n",
    "        threshold_out - exclude a feature if its p-value > threshold_out\n",
    "        verbose - whether to print the sequence of inclusions and exclusions\n",
    "    Returns: list of selected features \n",
    "    Always set threshold_in < threshold_out to avoid infinite looping.\n",
    "    See https://en.wikipedia.org/wiki/Stepwise_regression for the details\n",
    "    \"\"\"\n",
    "    included = list(initial_list)\n",
    "    while True:\n",
    "        changed=False\n",
    "        # forward step\n",
    "        excluded = list(set(X.columns)-set(included))\n",
    "        new_pval = pd.Series(index=excluded)\n",
    "        for new_column in excluded:\n",
    "            model = sm.OLS(y, sm.add_constant(pd.DataFrame(X[included+[new_column]]))).fit()\n",
    "            new_pval[new_column] = model.pvalues[new_column]\n",
    "        best_pval = new_pval.min()\n",
    "        if best_pval < threshold_in:\n",
    "            best_feature = new_pval.argmin()\n",
    "            included.append(best_feature)\n",
    "            changed=True\n",
    "            if verbose:\n",
    "                print('Add  {:30} with p-value {:.6}'.format(best_feature, best_pval))\n",
    "\n",
    "        # backward step\n",
    "        model = sm.OLS(y, sm.add_constant(pd.DataFrame(X[included]))).fit()\n",
    "        # use all coefs except intercept\n",
    "        pvalues = model.pvalues.iloc[1:]\n",
    "        worst_pval = pvalues.max() # null if pvalues is empty\n",
    "        if worst_pval > threshold_out:\n",
    "            changed=True\n",
    "            worst_feature = pvalues.argmax()\n",
    "            included.remove(worst_feature)\n",
    "            if verbose:\n",
    "                print('Drop {:30} with p-value {:.6}'.format(worst_feature, worst_pval))\n",
    "        if not changed:\n",
    "            break\n",
    "    return included\n",
    "\n",
    "result = stepwise_selection(X, y)\n",
    "\n",
    "print('resulting features:')\n",
    "print(result)"
   ]
  },
  {
   "cell_type": "code",
   "execution_count": 463,
   "metadata": {},
   "outputs": [],
   "source": [
    "X=dataframe[['Current Loan Amount', 'Term', 'Home Ownership_Home Mortgage', 'Annual Income', 'Credit Very Good', 'Credit Good', 'Purpose_small_business', 'Monthly Debt', 'Home Ownership_Rent', 'Purpose_Other', 'Purpose_Buy a Car', 'Years in current job_3 years', 'Number of Open Accounts', 'Years of Credit History']]"
   ]
  },
  {
   "cell_type": "code",
   "execution_count": 464,
   "metadata": {},
   "outputs": [
    {
     "data": {
      "text/plain": [
       "Index(['Current Loan Amount', 'Term', 'Home Ownership_Home Mortgage',\n",
       "       'Annual Income', 'Credit Very Good', 'Credit Good',\n",
       "       'Purpose_small_business', 'Monthly Debt', 'Home Ownership_Rent',\n",
       "       'Purpose_Other', 'Purpose_Buy a Car', 'Years in current job_3 years',\n",
       "       'Number of Open Accounts', 'Years of Credit History'],\n",
       "      dtype='object')"
      ]
     },
     "execution_count": 464,
     "metadata": {},
     "output_type": "execute_result"
    }
   ],
   "source": [
    "X.columns"
   ]
  },
  {
   "cell_type": "code",
   "execution_count": 465,
   "metadata": {},
   "outputs": [],
   "source": [
    "from sklearn.model_selection import train_test_split\n",
    "from sklearn.metrics import confusion_matrix,accuracy_score,classification_report\n",
    "# split data train 70 % and test 30 %\n",
    "X_train, X_test, y_train, y_test = train_test_split(X, y, test_size=0.3, random_state=42)\n"
   ]
  },
  {
   "cell_type": "code",
   "execution_count": 466,
   "metadata": {},
   "outputs": [
    {
     "name": "stderr",
     "output_type": "stream",
     "text": [
      "c:\\users\\hp\\appdata\\local\\programs\\python\\python36\\lib\\site-packages\\sklearn\\ensemble\\forest.py:246: FutureWarning: The default value of n_estimators will change from 10 in version 0.20 to 100 in 0.22.\n",
      "  \"10 in version 0.20 to 100 in 0.22.\", FutureWarning)\n"
     ]
    }
   ],
   "source": [
    "from sklearn.ensemble import RandomForestClassifier\n",
    "classifier=RandomForestClassifier(random_state=123)\n",
    "classifier.fit(X_train,y_train)\n",
    "y_pred=classifier.predict(X_train)\n",
    "y_pred1=classifier.predict(X_test)"
   ]
  },
  {
   "cell_type": "code",
   "execution_count": 467,
   "metadata": {},
   "outputs": [
    {
     "name": "stdout",
     "output_type": "stream",
     "text": [
      "0.9917829790279865\n",
      "[[15372   428]\n",
      " [  146 53909]]\n",
      "              precision    recall  f1-score   support\n",
      "\n",
      "           0       0.99      0.97      0.98     15800\n",
      "           1       0.99      1.00      0.99     54055\n",
      "\n",
      "   micro avg       0.99      0.99      0.99     69855\n",
      "   macro avg       0.99      0.99      0.99     69855\n",
      "weighted avg       0.99      0.99      0.99     69855\n",
      "\n"
     ]
    }
   ],
   "source": [
    "from sklearn.metrics import confusion_matrix,classification_report,accuracy_score\n",
    "print(accuracy_score(y_train,y_pred))\n",
    "print(confusion_matrix(y_train,y_pred))\n",
    "print(classification_report(y_train,y_pred))"
   ]
  },
  {
   "cell_type": "code",
   "execution_count": 468,
   "metadata": {},
   "outputs": [
    {
     "name": "stdout",
     "output_type": "stream",
     "text": [
      "0.748588797221016\n",
      "[[ 1489  5298]\n",
      " [ 2229 20923]]\n",
      "              precision    recall  f1-score   support\n",
      "\n",
      "           0       0.40      0.22      0.28      6787\n",
      "           1       0.80      0.90      0.85     23152\n",
      "\n",
      "   micro avg       0.75      0.75      0.75     29939\n",
      "   macro avg       0.60      0.56      0.57     29939\n",
      "weighted avg       0.71      0.75      0.72     29939\n",
      "\n"
     ]
    }
   ],
   "source": [
    "print(accuracy_score(y_test,y_pred1))\n",
    "print(confusion_matrix(y_test,y_pred1))\n",
    "print(classification_report(y_test,y_pred1))"
   ]
  },
  {
   "cell_type": "code",
   "execution_count": 1,
   "metadata": {},
   "outputs": [
    {
     "data": {
      "text/plain": [
       "'peednaS'"
      ]
     },
     "execution_count": 1,
     "metadata": {},
     "output_type": "execute_result"
    }
   ],
   "source": [
    "data= \"Sandeep\"\n",
    "data[::-1]"
   ]
  },
  {
   "cell_type": "code",
   "execution_count": 2,
   "metadata": {},
   "outputs": [
    {
     "data": {
      "text/plain": [
       "'yob doog a si peefdnas'"
      ]
     },
     "execution_count": 2,
     "metadata": {},
     "output_type": "execute_result"
    }
   ],
   "source": [
    "data=\"sandfeep is a good boy\"\n",
    "data[::-1]"
   ]
  },
  {
   "cell_type": "code",
   "execution_count": 3,
   "metadata": {},
   "outputs": [],
   "source": [
    "import pandas as pd\n",
    "names = '''\\\n",
    "John Snow\n",
    "Black, Jack\n",
    "Jim Bean/\n",
    "Draper, Don\n",
    "'''\n",
    "df = pd.DataFrame({'Name': names.splitlines()})\n",
    "#           Name\n",
    "# 0    John Snow\n",
    "# 1  Black, Jack\n",
    "# 2    Jim Bean/\n",
    "# 3  Draper, Don\n",
    "\n",
    "df['Name'] = df['Name'].str.replace(r'(.+),\\s+(.+)', r'\\2 \\1')"
   ]
  },
  {
   "cell_type": "code",
   "execution_count": 4,
   "metadata": {},
   "outputs": [
    {
     "data": {
      "text/plain": [
       "0     John Snow\n",
       "1    Jack Black\n",
       "2     Jim Bean/\n",
       "3    Don Draper\n",
       "Name: Name, dtype: object"
      ]
     },
     "execution_count": 4,
     "metadata": {},
     "output_type": "execute_result"
    }
   ],
   "source": [
    "df['Name']"
   ]
  },
  {
   "cell_type": "code",
   "execution_count": 5,
   "metadata": {},
   "outputs": [
    {
     "name": "stdout",
     "output_type": "stream",
     "text": [
      "0           Stark, Bran\n",
      "1             Snow, Jon\n",
      "2    Targaryen, Rhaegar\n",
      "Name: new name, dtype: object\n"
     ]
    }
   ],
   "source": [
    "d = {'name':['Bran Stark','Jon Snow','Rhaegar Targaryen']}\n",
    "df = pd.DataFrame(data=d)\n",
    "df['new name'] = df['name'].apply(lambda x : ', '.join(reversed(x.split(' '))))\n",
    "print(df['new name'])\n"
   ]
  },
  {
   "cell_type": "code",
   "execution_count": 6,
   "metadata": {},
   "outputs": [
    {
     "name": "stdout",
     "output_type": "stream",
     "text": [
      "[114, 160, 60, 27]\n",
      "[74, 97, 73, 14]\n",
      "[119, 157, 112, 23]\n"
     ]
    }
   ],
   "source": [
    "# Program to multiply two matrices using nested loops\n",
    "\n",
    "# 3x3 matrix\n",
    "X = [[12,7,3],\n",
    "    [4 ,5,6],\n",
    "    [7 ,8,9]]\n",
    "# 3x4 matrix\n",
    "Y = [[5,8,1,2],\n",
    "    [6,7,3,0],\n",
    "    [4,5,9,1]]\n",
    "# result is 3x4\n",
    "result = [[0,0,0,0],\n",
    "         [0,0,0,0],\n",
    "         [0,0,0,0]]\n",
    "\n",
    "# iterate through rows of X\n",
    "for i in range(len(X)):\n",
    "   # iterate through columns of Y\n",
    "   for j in range(len(Y[0])):\n",
    "       # iterate through rows of Y\n",
    "       for k in range(len(Y)):\n",
    "           result[i][j] += X[i][k] * Y[k][j]\n",
    "\n",
    "for r in result:\n",
    "   print(r)"
   ]
  },
  {
   "cell_type": "code",
   "execution_count": 8,
   "metadata": {},
   "outputs": [],
   "source": [
    "import seaborn as sns"
   ]
  },
  {
   "cell_type": "code",
   "execution_count": 14,
   "metadata": {},
   "outputs": [
    {
     "data": {
      "text/plain": [
       "<matplotlib.axes._subplots.AxesSubplot at 0x362c9af208>"
      ]
     },
     "execution_count": 14,
     "metadata": {},
     "output_type": "execute_result"
    },
    {
     "data": {
      "image/png": "[encoded data removed]",
      "text/plain": [
       "<Figure size 432x288 with 2 Axes>"
      ]
     },
     "metadata": {
      "needs_background": "light"
     },
     "output_type": "display_data"
    }
   ],
   "source": [
    "sns.heatmap(dataframe.corr(),annot=True)"
   ]
  },
  {
   "cell_type": "code",
   "execution_count": 15,
   "metadata": {},
   "outputs": [
    {
     "name": "stdout",
     "output_type": "stream",
     "text": [
      "Word2Vec(vocab=14, size=100, alpha=0.025)\n",
      "['this', 'is', 'the', 'first', 'sentence', 'for', 'word2vec', 'second', 'yet', 'another', 'one', 'more', 'and', 'final']\n",
      "[ 8.3456590e-04 -4.2630453e-03 -3.1030169e-03 -3.2115355e-03\n",
      "  1.8925297e-03 -4.9721263e-03  4.4724543e-04  1.7681152e-03\n",
      " -9.2848885e-04 -1.6926824e-05 -2.5146070e-04  1.7189755e-03\n",
      " -2.3118528e-03  1.2724835e-03 -1.1085331e-03 -3.7690559e-03\n",
      "  4.3238946e-03 -3.0526865e-04  3.7636352e-03  4.6677659e-03\n",
      " -6.9161213e-04  1.5997423e-03  4.1154753e-03 -1.2461274e-03\n",
      "  5.2663067e-04  2.9302794e-03 -4.7027707e-04 -3.4838328e-03\n",
      "  2.5111437e-03  4.8713591e-03  4.7248229e-03  1.2013384e-03\n",
      " -1.7701491e-03  2.4399646e-03  2.5082731e-03  4.8697270e-03\n",
      "  2.2093724e-03 -3.6385309e-04  4.0929122e-03  4.0960402e-04\n",
      " -2.7812556e-03  7.7567116e-04 -1.5908008e-03 -3.7344010e-03\n",
      " -1.5185032e-03 -3.1559526e-03 -4.5949272e-03  1.8153901e-03\n",
      "  4.4005732e-03 -2.3932294e-03 -8.9097273e-05  3.3596359e-04\n",
      " -5.3098978e-04 -3.5472678e-03  3.3883657e-03  4.6278685e-03\n",
      "  5.2684842e-04 -3.7846323e-03 -1.3391134e-04  3.2829689e-03\n",
      "  2.9308621e-03  4.0474036e-03  3.5973382e-03  3.5582527e-03\n",
      " -3.4045118e-03 -1.5445995e-03  1.4005465e-03 -2.9685791e-03\n",
      "  4.3259514e-03  1.8813333e-03  1.0084818e-03 -1.4448374e-03\n",
      " -4.4404349e-04 -4.5406898e-03  3.9870176e-03 -4.8758262e-03\n",
      "  2.1104084e-03 -3.9350754e-03  5.2403106e-04 -3.2456883e-03\n",
      " -2.5670808e-03  3.7534647e-03  8.1797334e-05  4.2435206e-03\n",
      "  4.6004698e-04 -2.2033297e-03  4.0563797e-03  1.7689405e-03\n",
      "  3.8133851e-06 -2.6930012e-03 -4.4546234e-03  1.7596758e-03\n",
      " -4.0542828e-03 -1.8263112e-04 -1.8189204e-03  3.4288988e-03\n",
      "  3.6107257e-03  8.4927102e-05 -4.1383975e-03 -1.0298158e-03]\n"
     ]
    },
    {
     "name": "stderr",
     "output_type": "stream",
     "text": [
      "c:\\users\\hp\\appdata\\local\\programs\\python\\python36\\lib\\site-packages\\ipykernel_launcher.py:16: DeprecationWarning: Call to deprecated `__getitem__` (Method will be removed in 4.0.0, use self.wv.__getitem__() instead).\n",
      "  app.launch_new_instance()\n"
     ]
    }
   ],
   "source": [
    "from gensim.models import Word2Vec\n",
    "# define training data\n",
    "sentences = [['this', 'is', 'the', 'first', 'sentence', 'for', 'word2vec'],\n",
    "            ['this', 'is', 'the', 'second', 'sentence'],\n",
    "            ['yet', 'another', 'sentence'],\n",
    "            ['one', 'more', 'sentence'],\n",
    "            ['and', 'the', 'final', 'sentence']]\n",
    "# train model\n",
    "model = Word2Vec(sentences, min_count=1)\n",
    "# summarize the loaded model\n",
    "print(model)\n",
    "# summarize vocabulary\n",
    "words = list(model.wv.vocab)\n",
    "print(words)\n",
    "# access vector for one word\n",
    "print(model['sentence'])"
   ]
  },
  {
   "cell_type": "code",
   "execution_count": 16,
   "metadata": {},
   "outputs": [
    {
     "name": "stderr",
     "output_type": "stream",
     "text": [
      "c:\\users\\hp\\appdata\\local\\programs\\python\\python36\\lib\\site-packages\\ipykernel_launcher.py:13: DeprecationWarning: Call to deprecated `__getitem__` (Method will be removed in 4.0.0, use self.wv.__getitem__() instead).\n",
      "  del sys.path[0]\n"
     ]
    },
    {
     "data": {
      "image/png": "[encoded data removed]",
      "text/plain": [
       "<Figure size 432x288 with 1 Axes>"
      ]
     },
     "metadata": {
      "needs_background": "light"
     },
     "output_type": "display_data"
    }
   ],
   "source": [
    "from gensim.models import Word2Vec\n",
    "from sklearn.decomposition import PCA\n",
    "from matplotlib import pyplot\n",
    "# define training data\n",
    "sentences = [['this', 'is', 'the', 'first', 'sentence', 'for', 'word2vec'],\n",
    "            ['this', 'is', 'the', 'second', 'sentence'],\n",
    "            ['yet', 'another', 'sentence'],\n",
    "            ['one', 'more', 'sentence'],\n",
    "            ['and', 'the', 'final', 'sentence']]\n",
    "# train model\n",
    "model = Word2Vec(sentences, min_count=1)\n",
    "# fit a 2D PCA model to the vectors\n",
    "X = model[model.wv.vocab]\n",
    "pca = PCA(n_components=2)\n",
    "result = pca.fit_transform(X)\n",
    "# create a scatter plot of the projection\n",
    "pyplot.scatter(result[:, 0], result[:, 1])\n",
    "words = list(model.wv.vocab)\n",
    "for i, word in enumerate(words):\n",
    "    pyplot.annotate(word, xy=(result[i, 0], result[i, 1]))\n",
    "pyplot.show()"
   ]
  },
  {
   "cell_type": "code",
   "execution_count": null,
   "metadata": {},
   "outputs": [],
   "source": []
  }
 ],
 "metadata": {
  "kernelspec": {
   "display_name": "Python 3",
   "language": "python",
   "name": "python3"
  },
  "language_info": {
   "codemirror_mode": {
    "name": "ipython",
    "version": 3
   },
   "file_extension": ".py",
   "mimetype": "text/x-python",
   "name": "python",
   "nbconvert_exporter": "python",
   "pygments_lexer": "ipython3",
   "version": "3.6.3rc1"
  }
 },
 "nbformat": 4,
 "nbformat_minor": 2
}
