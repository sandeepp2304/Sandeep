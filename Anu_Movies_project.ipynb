{
  "nbformat": 4,
  "nbformat_minor": 0,
  "metadata": {
    "colab": {
      "name": "Anu_Movies_project.ipynb",
      "provenance": [],
      "authorship_tag": "ABX9TyMQvmOkgtms54Ag0eTWH6+H",
      "include_colab_link": true
    },
    "kernelspec": {
      "name": "python3",
      "display_name": "Python 3"
    },
    "language_info": {
      "name": "python"
    }
  },
  "cells": [
    {
      "cell_type": "markdown",
      "metadata": {
        "id": "view-in-github",
        "colab_type": "text"
      },
      "source": [
        "<a href=\"https://colab.research.google.com/github/sandeepp2304/Sandeep/blob/master/Anu_Movies_project.ipynb\" target=\"_parent\"><img src=\"https://colab.research.google.com/assets/colab-badge.svg\" alt=\"Open In Colab\"/></a>"
      ]
    },
    {
      "cell_type": "code",
      "execution_count": 55,
      "metadata": {
        "id": "ZJdl8lgQMth4"
      },
      "outputs": [],
      "source": [
        "#  Import the packages"
      ]
    },
    {
      "cell_type": "code",
      "source": [
        "#Libraries\n",
        "import urllib.request, urllib.parse, urllib.error\n",
        "from bs4 import BeautifulSoup\n",
        "import ssl\n",
        "import requests"
      ],
      "metadata": {
        "id": "tk2heckuchrb"
      },
      "execution_count": 56,
      "outputs": []
    },
    {
      "cell_type": "code",
      "source": [
        "#  Extracting the data"
      ],
      "metadata": {
        "id": "f9aw4rv7cysA"
      },
      "execution_count": 57,
      "outputs": []
    },
    {
      "cell_type": "code",
      "source": [
        "headers = {'User-Agent': 'Mozilla/5.0 (Macintosh; Intel Mac OS X 10_13_6) AppleWebKit/537.36 (KHTML, like Gecko) Chrome/70.0.3538.77 Safari/537.36'}"
      ],
      "metadata": {
        "id": "xVUrICT1NE-3"
      },
      "execution_count": 2,
      "outputs": []
    },
    {
      "cell_type": "code",
      "source": [
        "#All 5 pages html page\n",
        "movie_db=[]\n",
        "for i in range(5):\n",
        "    url='https://www.metacritic.com/browse/movies/score/metascore/all/filtered?sort=desc&page='+str(i)\n",
        "    page=requests.get(url,headers=headers)\n",
        "    soup=BeautifulSoup(page.content,'html.parser')\n",
        "    container=soup.find_all('td',class_=\"clamp-summary-wrap\")\n",
        "    movie_db.extend(container)\n",
        "print(len(movie_db))"
      ],
      "metadata": {
        "colab": {
          "base_uri": "https://localhost:8080/"
        },
        "id": "jRTya-XVNFEP",
        "outputId": "bd905cb6-eb3f-4a08-b20a-fa307b51eedc"
      },
      "execution_count": 3,
      "outputs": [
        {
          "output_type": "stream",
          "name": "stdout",
          "text": [
            "500\n"
          ]
        }
      ]
    },
    {
      "cell_type": "code",
      "source": [
        "#  function for extracting thr movies names"
      ],
      "metadata": {
        "id": "S68lOxQDc25H"
      },
      "execution_count": 58,
      "outputs": []
    },
    {
      "cell_type": "code",
      "source": [
        "#all 500 movie names\n",
        "def get_name():\n",
        "    name = movie.find('h3').text\n",
        "    return name #define your function to get name"
      ],
      "metadata": {
        "id": "ioj5LuMVNFI5"
      },
      "execution_count": 4,
      "outputs": []
    },
    {
      "cell_type": "code",
      "source": [
        "# Function for retreving cast information from all 5 pages\n",
        "def get_cast(detail_link):\n",
        "    detail_page = requests.get(detail_link, headers = headers)\n",
        "    detail_soup = BeautifulSoup(detail_page.content, \"html.parser\")\n",
        "    try:\n",
        "        cast_table = detail_soup.find('table', class_ = 'credits', summary = movie_name + \"'s Cast Credits\")\n",
        "        cast_line = cast_table.find_all('td', class_ = 'person')\n",
        "    except:\n",
        "        try:\n",
        "            cast_table = detail_soup.find('table', class_ = 'credits', summary = movie_name + \"' Cast Credits\")\n",
        "            cast_line = cast_table.find_all('td', class_ = 'person')\n",
        "        except:\n",
        "            cast_line = None\n",
        "    casts = []\n",
        "    if cast_line == None:\n",
        "        casts = []\n",
        "    else:\n",
        "        for line in cast_line:\n",
        "            hyperlink = line.find('a')\n",
        "            cast = hyperlink.get_text()\n",
        "            casts.append(cast.strip())\n",
        "    return casts"
      ],
      "metadata": {
        "id": "ni4wq6h6NFL1"
      },
      "execution_count": 5,
      "outputs": []
    },
    {
      "cell_type": "code",
      "source": [
        "# Function for retreving principal cast information from all 5 pages\n",
        "def p_cast(detail_link):\n",
        "    detail_page = requests.get(detail_link, headers = headers)\n",
        "    detail_soup = BeautifulSoup(detail_page.content, \"html.parser\")\n",
        "    try:\n",
        "        p_cast_table = detail_soup.find('table',class_='credits',summary=movie_name+ \"'s Principal Cast Credits\")\n",
        "        p_cast_line = p_cast_table.find_all('td', class_ = 'person')\n",
        "    except:\n",
        "        try:\n",
        "            p_cast_table = detail_soup.find('table',class_='credits',summary=movie_name+ \"' Principal Cast Credits\")\n",
        "            p_cast_line = p_cast_table.find_all('td', class_ = 'person')\n",
        "        except:\n",
        "            p_cast_line = None\n",
        "    p_casts = []\n",
        "    if p_cast_line == None:\n",
        "        p_casts = []\n",
        "    else:\n",
        "        for line in p_cast_line:\n",
        "            hyperlink = line.find('a')\n",
        "            cast = hyperlink.get_text()\n",
        "            p_casts.append(cast.strip())\n",
        "    return p_casts"
      ],
      "metadata": {
        "id": "IPKE2mXBNFOd"
      },
      "execution_count": 6,
      "outputs": []
    },
    {
      "cell_type": "code",
      "source": [
        "# Function for retreving gener information from all 5 pages\n",
        "def ge_info(detail_link):\n",
        "    detail_page = requests.get(detail_link, headers = headers)\n",
        "    detail_soup = BeautifulSoup(detail_page.content, \"html.parser\")\n",
        "    try:\n",
        "        gener_info=detail_soup.find_all('tr',class_='genres')\n",
        "    except:\n",
        "        gener_info= None\n",
        "    g_info = []\n",
        "    if gener_info == None:\n",
        "        g_info = []\n",
        "    else:\n",
        "        for line in gener_info:\n",
        "            data=line.find('td',class_='data')\n",
        "            geners_datas=data.get_text()\n",
        "            geners_datas_clean=geners_datas.replace(',','')\n",
        "            g_info=geners_datas_clean.split()\n",
        "    return g_info"
      ],
      "metadata": {
        "id": "mbD48baONFRQ"
      },
      "execution_count": 7,
      "outputs": []
    },
    {
      "cell_type": "code",
      "source": [
        "class Movie:\n",
        "    def __init__(self,movie_name,cast,gener):\n",
        "        self.movie_name=movie_name\n",
        "        self.cast=cast\n",
        "        self.gener=gener\n",
        "    def __repr__(self):\n",
        "        return{ self.movie_name,self.cast,self.gener}"
      ],
      "metadata": {
        "id": "stmxRwA2NFUZ"
      },
      "execution_count": 8,
      "outputs": []
    },
    {
      "cell_type": "code",
      "source": [
        "#  getting all the cast info and movies names and genere info in list"
      ],
      "metadata": {
        "id": "HzqYEB35c_PI"
      },
      "execution_count": 59,
      "outputs": []
    },
    {
      "cell_type": "code",
      "source": [
        "all_movie = []\n",
        "all_movies=[]\n",
        "import time\n",
        "n = 0\n",
        "cast=[]\n",
        "prinicple_cast=[]\n",
        "#detail_link_var=[]\n",
        "detail_link=[]\n",
        "cast_prints=[]\n",
        "Gener_info1=[]\n",
        "movie_name1=[]\n",
        "for movie in movie_db: #loop through each of the 500 movies\n",
        "    n = n+1\n",
        "    #print(n)\n",
        "    movie_name = get_name()  #use your get_name() function\n",
        "    movie_name1.append(movie_name)\n",
        "    #print(movie_name)\n",
        "    #because we already have the tag, we can extract name directly\n",
        "    movie_link_tag = movie.find('a', class_ = 'title') #then lets get movie link\n",
        "    movie_link = movie_link_tag.get('href', None) # note we are still in the for loop, so we are only dealing with one movie at a time\n",
        "    movie_link = 'https://www.metacritic.com'+ movie_link\n",
        "    detail_page = requests.get(movie_link, headers = headers)\n",
        "    detail_soup = BeautifulSoup(detail_page.content, \"html.parser\")\n",
        "    div = detail_soup('div', class_= 'see_all pad_btm1')\n",
        "    for line in div:\n",
        "        hyperlink = line.find('a')\n",
        "        detail_link = hyperlink.get('href', None) \n",
        "        detail_link = 'https://www.metacritic.com'+ detail_link \n",
        "        #now we have the detail link for each movie, again, we are only dealing with one movie here\n",
        "        #detail_link1.append(detail_link)\n",
        "        cast_var= get_cast(detail_link)\n",
        "        #cast.append(cast_var)\n",
        "        prinicple_cast_var=p_cast(detail_link)\n",
        "        #prinicple_cast.append(prinicple_cast_var)\n",
        "        Gener_info_var=ge_info(detail_link)\n",
        "        Gener_info1.append(Gener_info_var)\n",
        "        if len(cast_var)<=0 and len(prinicple_cast_var)<=0:\n",
        "            temp='not found'\n",
        "        elif cast_var==None:\n",
        "            temp=prinicple_cast_var\n",
        "        elif prinicple_cast_var==None:\n",
        "            temp=cast\n",
        "        else:\n",
        "            temp=cast_var+prinicple_cast_var  \n",
        "        cast_prints.append(temp)"
      ],
      "metadata": {
        "id": "VcksBumfNFWL"
      },
      "execution_count": 9,
      "outputs": []
    },
    {
      "cell_type": "code",
      "source": [
        "#  finding the length"
      ],
      "metadata": {
        "id": "_uccO5SgdKsB"
      },
      "execution_count": 60,
      "outputs": []
    },
    {
      "cell_type": "code",
      "source": [
        "print(len(cast_prints))\n",
        "print(len(Gener_info1))\n",
        "print(len(movie_name1))"
      ],
      "metadata": {
        "colab": {
          "base_uri": "https://localhost:8080/"
        },
        "id": "-jcaCN9tNFZI",
        "outputId": "b41a5bfd-e6f5-4757-8b91-24af98009581"
      },
      "execution_count": 10,
      "outputs": [
        {
          "output_type": "stream",
          "name": "stdout",
          "text": [
            "500\n",
            "500\n",
            "500\n"
          ]
        }
      ]
    },
    {
      "cell_type": "code",
      "source": [
        "#  converting list in to dataframer"
      ],
      "metadata": {
        "id": "53QHtoTfdOJ5"
      },
      "execution_count": null,
      "outputs": []
    },
    {
      "cell_type": "code",
      "source": [
        "import pandas as pd\n",
        "dataframe={'Movie_Name1':movie_name1,'Cast_infor1':cast_prints,'Gener_infor1':Gener_info1}\n",
        "pandas_dataframe=pd.DataFrame(dataframe)"
      ],
      "metadata": {
        "id": "kymG6bEMNFbu"
      },
      "execution_count": 11,
      "outputs": []
    },
    {
      "cell_type": "code",
      "source": [
        "#  importing dataframe into csv"
      ],
      "metadata": {
        "id": "v3ezujfSdRgR"
      },
      "execution_count": 61,
      "outputs": []
    },
    {
      "cell_type": "code",
      "source": [
        "pandas_dataframe.to_csv(\"movie_data.csv\",sep=\"\\t\",encoding=\"utf-8\")"
      ],
      "metadata": {
        "id": "xWENljbsNFeC"
      },
      "execution_count": 12,
      "outputs": []
    },
    {
      "cell_type": "code",
      "source": [
        "#  getting first 5 records of the data"
      ],
      "metadata": {
        "id": "qhYMH1AGdU34"
      },
      "execution_count": 62,
      "outputs": []
    },
    {
      "cell_type": "code",
      "source": [
        "pandas_dataframe.head()"
      ],
      "metadata": {
        "colab": {
          "base_uri": "https://localhost:8080/",
          "height": 206
        },
        "id": "D6lo-A4dOEsC",
        "outputId": "a8c51d3a-8114-4c55-9890-2517a2132a8a"
      },
      "execution_count": 14,
      "outputs": [
        {
          "output_type": "execute_result",
          "data": {
            "text/html": [
              "<div>\n",
              "<style scoped>\n",
              "    .dataframe tbody tr th:only-of-type {\n",
              "        vertical-align: middle;\n",
              "    }\n",
              "\n",
              "    .dataframe tbody tr th {\n",
              "        vertical-align: top;\n",
              "    }\n",
              "\n",
              "    .dataframe thead th {\n",
              "        text-align: right;\n",
              "    }\n",
              "</style>\n",
              "<table border=\"1\" class=\"dataframe\">\n",
              "  <thead>\n",
              "    <tr style=\"text-align: right;\">\n",
              "      <th></th>\n",
              "      <th>Movie_Name1</th>\n",
              "      <th>Cast_infor1</th>\n",
              "      <th>Gener_infor1</th>\n",
              "    </tr>\n",
              "  </thead>\n",
              "  <tbody>\n",
              "    <tr>\n",
              "      <th>0</th>\n",
              "      <td>Citizen Kane</td>\n",
              "      <td>[Agnes Moorehead, Dorothy Comingore, Erskine S...</td>\n",
              "      <td>[Drama, Mystery]</td>\n",
              "    </tr>\n",
              "    <tr>\n",
              "      <th>1</th>\n",
              "      <td>The Godfather</td>\n",
              "      <td>[Abe Vigoda, Al Lettieri, Diane Keaton, Gianni...</td>\n",
              "      <td>[Drama, Thriller, Crime]</td>\n",
              "    </tr>\n",
              "    <tr>\n",
              "      <th>2</th>\n",
              "      <td>Rear Window</td>\n",
              "      <td>[Havis Davenport, Irene Winston, Jerry Antes, ...</td>\n",
              "      <td>[Mystery, Thriller]</td>\n",
              "    </tr>\n",
              "    <tr>\n",
              "      <th>3</th>\n",
              "      <td>Casablanca</td>\n",
              "      <td>[Claude Rains, Conrad Veidt, Curt Bois, Dooley...</td>\n",
              "      <td>[Drama, Romance, War]</td>\n",
              "    </tr>\n",
              "    <tr>\n",
              "      <th>4</th>\n",
              "      <td>Boyhood</td>\n",
              "      <td>[Alyssa Petersen, Andrea Chen, Andrew Villarre...</td>\n",
              "      <td>[Drama]</td>\n",
              "    </tr>\n",
              "  </tbody>\n",
              "</table>\n",
              "</div>"
            ],
            "text/plain": [
              "     Movie_Name1  ...              Gener_infor1\n",
              "0   Citizen Kane  ...          [Drama, Mystery]\n",
              "1  The Godfather  ...  [Drama, Thriller, Crime]\n",
              "2    Rear Window  ...       [Mystery, Thriller]\n",
              "3     Casablanca  ...     [Drama, Romance, War]\n",
              "4        Boyhood  ...                   [Drama]\n",
              "\n",
              "[5 rows x 3 columns]"
            ]
          },
          "metadata": {},
          "execution_count": 14
        }
      ]
    },
    {
      "cell_type": "code",
      "source": [
        "#  USE CASES"
      ],
      "metadata": {
        "id": "9hltObwmdZCw"
      },
      "execution_count": 63,
      "outputs": []
    },
    {
      "cell_type": "code",
      "source": [
        "# Case 1: Input movie name \n",
        "#  Output: Cast & Genere"
      ],
      "metadata": {
        "id": "2dq4zSjSQRbv"
      },
      "execution_count": 15,
      "outputs": []
    },
    {
      "cell_type": "code",
      "source": [
        "str=input(\"enter the movie name:\\n\")\n",
        "movie_name=str.lower()\n",
        "str1=input(\"enter which information you would like to see:\\n\")\n",
        "movie_content=str1.lower()\n",
        "for index,i in enumerate(pandas_dataframe[\"Movie_Name1\"]):\n",
        "    if pandas_dataframe[\"Movie_Name1\"][index].lower()==movie_name:\n",
        "        if movie_content=='cast':\n",
        "            print(pandas_dataframe[\"Cast_infor1\"][index])\n",
        "        elif movie_content=='gener':\n",
        "            print(pandas_dataframe[\"Gener_infor1\"][index])\n",
        "        else:\n",
        "            print(\"valid information\")"
      ],
      "metadata": {
        "colab": {
          "base_uri": "https://localhost:8080/"
        },
        "id": "wuF90q9dOEu3",
        "outputId": "0aebb1eb-a551-4f49-a237-a3ffbecadd54"
      },
      "execution_count": 19,
      "outputs": [
        {
          "output_type": "stream",
          "name": "stdout",
          "text": [
            "enter the movie name:\n",
            "Rear Window\n",
            "enter which information you would like to see:\n",
            "gener\n",
            "['Mystery', 'Thriller']\n"
          ]
        }
      ]
    },
    {
      "cell_type": "code",
      "source": [
        "# case 2: Input:Actress/actor name\n",
        "# Out put: Movies acted and goners worked with count"
      ],
      "metadata": {
        "id": "Go60S9giQh4_"
      },
      "execution_count": 20,
      "outputs": []
    },
    {
      "cell_type": "code",
      "source": [
        "cast_name=input(\"enter the input:\\n\")\n",
        "#cast_name=str.lower()\n",
        "movie_dt=[]\n",
        "gener_dt=[]\n",
        "for index,i in enumerate(pandas_dataframe[\"Cast_infor1\"]):\n",
        "    if cast_name in pandas_dataframe[\"Cast_infor1\"][index]:\n",
        "        movie_dt.append(pandas_dataframe[\"Movie_Name1\"][index])\n",
        "        gener_dt.extend(pandas_dataframe[\"Gener_infor1\"][index])\n",
        "print(cast_name,\"acted in the following movies\",movie_dt)\n",
        "gener_count=dict()\n",
        "for i in gener_dt:\n",
        "    gener_count[i]=gener_count.get(i,0)+1\n",
        "print(cast_name,\"he playes most of his roles in the following gener:\",gener_count)"
      ],
      "metadata": {
        "colab": {
          "base_uri": "https://localhost:8080/"
        },
        "id": "3OPDTeTVQZq-",
        "outputId": "03e3a870-a812-429c-f664-320e8acd3a11"
      },
      "execution_count": 21,
      "outputs": [
        {
          "output_type": "stream",
          "name": "stdout",
          "text": [
            "enter the inputAgnes Moorehead\n",
            "Agnes Moorehead acted in the following movies ['Citizen Kane', 'The Magnificent Ambersons']\n",
            "Agnes Moorehead he playes most of his roles in the following gener: {'Drama': 2, 'Mystery': 1, 'Romance': 1}\n"
          ]
        }
      ]
    },
    {
      "cell_type": "code",
      "source": [
        "# Case3: need to find the similarity for two actors/actress based on the genere actes\n"
      ],
      "metadata": {
        "id": "Vw5x5v0nQZuJ"
      },
      "execution_count": 22,
      "outputs": []
    },
    {
      "cell_type": "code",
      "source": [
        "cast_name1=input(\"enter the input\\n\")\n",
        "cast_name2=input(\"enter the input\\n\")\n",
        "gener_dt1=[]\n",
        "for index,i in enumerate(pandas_dataframe[\"Cast_infor1\"]):\n",
        "    if cast_name1 in pandas_dataframe[\"Cast_infor1\"][index]:\n",
        "        gener_dt1.extend(pandas_dataframe[\"Gener_infor1\"][index])\n",
        "print(gener_dt1)\n",
        "gener_count1=dict()\n",
        "for i in gener_dt1:\n",
        "    gener_count1[i]=gener_count1.get(i,0)+1\n",
        "#print(cast_name,\"he playes most of his roles in the following gener:\",gener_count1)\n",
        "gener_dt2=[]\n",
        "for index,i in enumerate(pandas_dataframe[\"Cast_infor1\"]):\n",
        "    if cast_name2 in pandas_dataframe[\"Cast_infor1\"][index]:\n",
        "        gener_dt2.extend(pandas_dataframe[\"Gener_infor1\"][index])\n",
        "print(gener_dt2)\n",
        "gener_count2=dict()\n",
        "for i in gener_dt2:\n",
        "    gener_count2[i]=gener_count2.get(i,0)+1\n",
        "#print(cast_name,\"he playes most of his roles in the following gener:\",gener_count2)\n",
        "#actor1 = 'Tom Hanks'\n",
        "#actor2 = 'Matt Damon'\n",
        "    "
      ],
      "metadata": {
        "colab": {
          "base_uri": "https://localhost:8080/"
        },
        "id": "H246PzWTRuX8",
        "outputId": "f18ca86d-1daa-4cc6-c436-513b97b515ce"
      },
      "execution_count": 23,
      "outputs": [
        {
          "output_type": "stream",
          "name": "stdout",
          "text": [
            "enter the inputTom Hanks\n",
            "enter the inputMatt Damon\n",
            "['Adventure', 'Fantasy', 'Comedy', 'Animation', 'Family', 'Adventure', 'Fantasy', 'Comedy', 'Animation', 'Family', 'Action', 'Drama', 'War', 'Adventure', 'Fantasy', 'Comedy', 'Animation', 'Family']\n",
            "['Action', 'Drama', 'War', 'Documentary']\n"
          ]
        }
      ]
    },
    {
      "cell_type": "code",
      "source": [
        "print(gener_count1)\n",
        "print(gener_count2)"
      ],
      "metadata": {
        "colab": {
          "base_uri": "https://localhost:8080/"
        },
        "id": "py-zk5ZjR2vg",
        "outputId": "767a670e-cee7-4b82-a0f5-b9fda5b39efa"
      },
      "execution_count": 24,
      "outputs": [
        {
          "output_type": "stream",
          "name": "stdout",
          "text": [
            "{'Adventure': 3, 'Fantasy': 3, 'Comedy': 3, 'Animation': 3, 'Family': 3, 'Action': 1, 'Drama': 1, 'War': 1}\n",
            "{'Action': 1, 'Drama': 1, 'War': 1, 'Documentary': 1}\n"
          ]
        }
      ]
    },
    {
      "cell_type": "code",
      "source": [
        "actor1_set=set(gener_count1)\n",
        "actor2_set=set(gener_count2)\n",
        "common_set=actor1_set.union(actor2_set)\n",
        "print(common_set)"
      ],
      "metadata": {
        "colab": {
          "base_uri": "https://localhost:8080/"
        },
        "id": "YYgpNX8tR2yR",
        "outputId": "55101e19-38c5-4af0-efb7-312c62ceedbe"
      },
      "execution_count": 25,
      "outputs": [
        {
          "output_type": "stream",
          "name": "stdout",
          "text": [
            "{'Action', 'Adventure', 'Documentary', 'Animation', 'Comedy', 'Drama', 'War', 'Fantasy', 'Family'}\n"
          ]
        }
      ]
    },
    {
      "cell_type": "code",
      "source": [
        "# actor1_dict = dict()\n",
        "# for i in common_set:\n",
        "#     actor1_dict[i] = 0\n",
        "# print(actor1_dict)\n",
        "\n",
        "# actor2_dict = dict()\n",
        "# for i in common_set:\n",
        "#     actor2_dict[i] = 0\n",
        "# print(actor2_dict)"
      ],
      "metadata": {
        "colab": {
          "base_uri": "https://localhost:8080/"
        },
        "id": "GfQl3HtlXBcZ",
        "outputId": "2ae537e1-127a-4358-84c9-e13315d43b7c"
      },
      "execution_count": 30,
      "outputs": [
        {
          "output_type": "stream",
          "name": "stdout",
          "text": [
            "{'Action': 0, 'Adventure': 0, 'Documentary': 0, 'Animation': 0, 'Comedy': 0, 'Drama': 0, 'War': 0, 'Fantasy': 0, 'Family': 0}\n",
            "{'Action': 0, 'Adventure': 0, 'Documentary': 0, 'Animation': 0, 'Comedy': 0, 'Drama': 0, 'War': 0, 'Fantasy': 0, 'Family': 0}\n"
          ]
        }
      ]
    },
    {
      "cell_type": "code",
      "source": [
        "actor1_dict = dict()\n",
        "gener_count1_hero = []\n",
        "gener_count2_hero = []\n",
        "for i in common_set:\n",
        "    try:\n",
        "       gener_count1_hero.append(gener_count1[i])\n",
        "    except:\n",
        "      gener_count1_hero.append(0)\n",
        "for i in common_set:\n",
        "    try:\n",
        "       gener_count2_hero.append(gener_count2[i])\n",
        "    except:\n",
        "      gener_count2_hero.append(0)\n"
      ],
      "metadata": {
        "id": "9Jxc8We4ZUNs"
      },
      "execution_count": 46,
      "outputs": []
    },
    {
      "cell_type": "code",
      "source": [
        "print(gener_count2_hero)\n",
        "print(gener_count1_hero)"
      ],
      "metadata": {
        "colab": {
          "base_uri": "https://localhost:8080/"
        },
        "id": "ZGwurL_YbTPn",
        "outputId": "f903ce15-9732-437b-db95-4fd2df97a0d7"
      },
      "execution_count": 49,
      "outputs": [
        {
          "output_type": "stream",
          "name": "stdout",
          "text": [
            "[1, 0, 1, 0, 0, 1, 1, 0, 0]\n",
            "[1, 3, 0, 3, 3, 1, 1, 3, 3]\n"
          ]
        }
      ]
    },
    {
      "cell_type": "code",
      "source": [
        "from math import sqrt\n",
        "sum=0\n",
        "suma=0\n",
        "sumb=0\n",
        "for i,j in zip(gener_count1_hero,gener_count2_hero):\n",
        "    suma+=i*i\n",
        "    sumb+=j*j\n",
        "    sum+=i*j\n",
        "cosine_similarity=sum/((sqrt(suma))*(sqrt(sumb)))\n",
        "print(\"Similarity for {0},{1} is {2}\\n\".format(cast_name1,cast_name2,cosine_similarity))"
      ],
      "metadata": {
        "colab": {
          "base_uri": "https://localhost:8080/"
        },
        "id": "tptJwqetbTaH",
        "outputId": "638cdc66-ee09-44e8-cd17-fbf1443c1d18"
      },
      "execution_count": 53,
      "outputs": [
        {
          "output_type": "stream",
          "name": "stdout",
          "text": [
            "Similarity for Tom Hanks,Matt Damon is 0.21650635094610968\n",
            "\n"
          ]
        }
      ]
    },
    {
      "cell_type": "code",
      "source": [
        "#  END OF THE PROJECT"
      ],
      "metadata": {
        "id": "5TMxFDk6ZUQb"
      },
      "execution_count": 64,
      "outputs": []
    },
    {
      "cell_type": "code",
      "source": [
        ""
      ],
      "metadata": {
        "id": "ejQvE0XNZUVo"
      },
      "execution_count": null,
      "outputs": []
    },
    {
      "cell_type": "code",
      "source": [
        ""
      ],
      "metadata": {
        "id": "Kl-oz4aybw-6"
      },
      "execution_count": null,
      "outputs": []
    },
    {
      "cell_type": "code",
      "source": [
        ""
      ],
      "metadata": {
        "id": "sPqTFWulbxBi"
      },
      "execution_count": null,
      "outputs": []
    },
    {
      "cell_type": "code",
      "source": [
        ""
      ],
      "metadata": {
        "id": "5ufpgxK7bxEF"
      },
      "execution_count": null,
      "outputs": []
    },
    {
      "cell_type": "code",
      "source": [
        ""
      ],
      "metadata": {
        "id": "s7u8JXOwbxHK"
      },
      "execution_count": null,
      "outputs": []
    },
    {
      "cell_type": "code",
      "source": [
        ""
      ],
      "metadata": {
        "id": "xfOHP52_bxJV"
      },
      "execution_count": null,
      "outputs": []
    },
    {
      "cell_type": "code",
      "source": [
        ""
      ],
      "metadata": {
        "id": "oNoeE6GmbxMo"
      },
      "execution_count": null,
      "outputs": []
    },
    {
      "cell_type": "code",
      "source": [
        ""
      ],
      "metadata": {
        "id": "bEV44GwdbxOb"
      },
      "execution_count": null,
      "outputs": []
    }
  ]
}