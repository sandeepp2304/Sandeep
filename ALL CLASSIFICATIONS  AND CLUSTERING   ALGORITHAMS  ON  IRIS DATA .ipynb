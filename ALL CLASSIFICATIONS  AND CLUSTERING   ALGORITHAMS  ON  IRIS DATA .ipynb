{
 "cells": [
  {
   "cell_type": "markdown",
   "metadata": {},
   "source": [
    "#                                 All Classification and Clustering  Algorithams on iris dataset\n"
   ]
  },
  {
   "cell_type": "markdown",
   "metadata": {},
   "source": [
    "Date:27.03.2019\n",
    "    \n",
    "Duration: 3 days\n",
    "    \n",
    "Dataset Name: Iris Dataset\n",
    "    \n",
    "Done by: Pulijala Sandeep"
   ]
  },
  {
   "cell_type": "code",
   "execution_count": 1,
   "metadata": {},
   "outputs": [],
   "source": [
    "#steps need to fallow\n",
    "\n",
    "# understand bussiness requirement\n",
    "\n",
    "# read the data(csv or database or etc)\n",
    "\n",
    "# data preprocessing(cleaning)\n",
    "\n",
    "# EDA\n",
    "\n",
    "# fitting algoritham( take optimum parameters )\n",
    "\n",
    "# feature selection(improving the model)\n",
    "\n",
    "# feature engineering(if required)(improving the model)\n",
    "\n",
    "# visualisation(if required)\n",
    "\n",
    "# final report"
   ]
  },
  {
   "cell_type": "markdown",
   "metadata": {},
   "source": [
    "# All classification Algorithams on Iris dataset"
   ]
  },
  {
   "cell_type": "code",
   "execution_count": 4,
   "metadata": {},
   "outputs": [],
   "source": [
    "#IMPORT THE PACKAGES\n",
    "import numpy as np\n",
    "import pandas as pd \n",
    "import matplotlib.pyplot as plt\n",
    "import seaborn as sns\n",
    "import pandas_profiling as pp"
   ]
  },
  {
   "cell_type": "code",
   "execution_count": 5,
   "metadata": {},
   "outputs": [],
   "source": [
    "#Reading data from CSV file\n",
    "dataset= pd.read_csv(\"C:\\\\Users\\\\HP\\\\Desktop\\\\ML DATASETS\\\\iris.csv\",encoding='UTF-8')"
   ]
  },
  {
   "cell_type": "code",
   "execution_count": 6,
   "metadata": {},
   "outputs": [
    {
     "data": {
      "text/html": [
       "<meta charset=\"UTF-8\">\n",
       "\n",
       "<style>\n",
       "\n",
       "        .variablerow {\n",
       "            border: 1px solid #e1e1e8;\n",
       "            border-top: hidden;\n",
       "            padding-top: 2em;\n",
       "            padding-bottom: 2em;\n",
       "            padding-left: 1em;\n",
       "            padding-right: 1em;\n",
       "        }\n",
       "\n",
       "        .headerrow {\n",
       "            border: 1px solid #e1e1e8;\n",
       "            background-color: #f5f5f5;\n",
       "            padding: 2em;\n",
       "        }\n",
       "        .namecol {\n",
       "            margin-top: -1em;\n",
       "            overflow-x: auto;\n",
       "        }\n",
       "\n",
       "        .dl-horizontal dt {\n",
       "            text-align: left;\n",
       "            padding-right: 1em;\n",
       "            white-space: normal;\n",
       "        }\n",
       "\n",
       "        .dl-horizontal dd {\n",
       "            margin-left: 0;\n",
       "        }\n",
       "\n",
       "        .ignore {\n",
       "            opacity: 0.4;\n",
       "        }\n",
       "\n",
       "        .container.pandas-profiling {\n",
       "            max-width:975px;\n",
       "        }\n",
       "\n",
       "        .col-md-12 {\n",
       "            padding-left: 2em;\n",
       "        }\n",
       "\n",
       "        .indent {\n",
       "            margin-left: 1em;\n",
       "        }\n",
       "\n",
       "        .center-img {\n",
       "            margin-left: auto !important;\n",
       "            margin-right: auto !important;\n",
       "            display: block;\n",
       "        }\n",
       "\n",
       "        /* Table example_values */\n",
       "            table.example_values {\n",
       "                border: 0;\n",
       "            }\n",
       "\n",
       "            .example_values th {\n",
       "                border: 0;\n",
       "                padding: 0 ;\n",
       "                color: #555;\n",
       "                font-weight: 600;\n",
       "            }\n",
       "\n",
       "            .example_values tr, .example_values td{\n",
       "                border: 0;\n",
       "                padding: 0;\n",
       "                color: #555;\n",
       "            }\n",
       "\n",
       "        /* STATS */\n",
       "            table.stats {\n",
       "                border: 0;\n",
       "            }\n",
       "\n",
       "            .stats th {\n",
       "                border: 0;\n",
       "                padding: 0 2em 0 0;\n",
       "                color: #555;\n",
       "                font-weight: 600;\n",
       "            }\n",
       "\n",
       "            .stats tr {\n",
       "                border: 0;\n",
       "            }\n",
       "\n",
       "            .stats td{\n",
       "                color: #555;\n",
       "                padding: 1px;\n",
       "                border: 0;\n",
       "            }\n",
       "\n",
       "\n",
       "        /* Sample table */\n",
       "            table.sample {\n",
       "                border: 0;\n",
       "                margin-bottom: 2em;\n",
       "                margin-left:1em;\n",
       "            }\n",
       "            .sample tr {\n",
       "                border:0;\n",
       "            }\n",
       "            .sample td, .sample th{\n",
       "                padding: 0.5em;\n",
       "                white-space: nowrap;\n",
       "                border: none;\n",
       "\n",
       "            }\n",
       "\n",
       "            .sample thead {\n",
       "                border-top: 0;\n",
       "                border-bottom: 2px solid #ddd;\n",
       "            }\n",
       "\n",
       "            .sample td {\n",
       "                width:100%;\n",
       "            }\n",
       "\n",
       "\n",
       "        /* There is no good solution available to make the divs equal height and then center ... */\n",
       "            .histogram {\n",
       "                margin-top: 3em;\n",
       "            }\n",
       "        /* Freq table */\n",
       "\n",
       "            table.freq {\n",
       "                margin-bottom: 2em;\n",
       "                border: 0;\n",
       "            }\n",
       "            table.freq th, table.freq tr, table.freq td {\n",
       "                border: 0;\n",
       "                padding: 0;\n",
       "            }\n",
       "\n",
       "            .freq thead {\n",
       "                font-weight: 600;\n",
       "                white-space: nowrap;\n",
       "                overflow: hidden;\n",
       "                text-overflow: ellipsis;\n",
       "\n",
       "            }\n",
       "\n",
       "            td.fillremaining{\n",
       "                width:auto;\n",
       "                max-width: none;\n",
       "            }\n",
       "\n",
       "            td.number, th.number {\n",
       "                text-align:right ;\n",
       "            }\n",
       "\n",
       "        /* Freq mini */\n",
       "            .freq.mini td{\n",
       "                width: 50%;\n",
       "                padding: 1px;\n",
       "                font-size: 12px;\n",
       "\n",
       "            }\n",
       "            table.freq.mini {\n",
       "                 width:100%;\n",
       "            }\n",
       "            .freq.mini th {\n",
       "                overflow: hidden;\n",
       "                text-overflow: ellipsis;\n",
       "                white-space: nowrap;\n",
       "                max-width: 5em;\n",
       "                font-weight: 400;\n",
       "                text-align:right;\n",
       "                padding-right: 0.5em;\n",
       "            }\n",
       "\n",
       "            .missing {\n",
       "                color: #a94442;\n",
       "            }\n",
       "            .alert, .alert > th, .alert > td {\n",
       "                color: #a94442;\n",
       "            }\n",
       "\n",
       "\n",
       "        /* Bars in tables */\n",
       "            .freq .bar{\n",
       "                float: left;\n",
       "                width: 0;\n",
       "                height: 100%;\n",
       "                line-height: 20px;\n",
       "                color: #fff;\n",
       "                text-align: center;\n",
       "                background-color: #337ab7;\n",
       "                border-radius: 3px;\n",
       "                margin-right: 4px;\n",
       "            }\n",
       "            .other .bar {\n",
       "                background-color: #999;\n",
       "            }\n",
       "            .missing .bar{\n",
       "                background-color: #a94442;\n",
       "            }\n",
       "            .tooltip-inner {\n",
       "                width: 100%;\n",
       "                white-space: nowrap;\n",
       "                text-align:left;\n",
       "            }\n",
       "\n",
       "            .extrapadding{\n",
       "                padding: 2em;\n",
       "            }\n",
       "\n",
       "            .pp-anchor{\n",
       "\n",
       "            }\n",
       "\n",
       "</style>\n",
       "\n",
       "<div class=\"container pandas-profiling\">\n",
       "    <div class=\"row headerrow highlight\">\n",
       "        <h1>Overview</h1>\n",
       "    </div>\n",
       "    <div class=\"row variablerow\">\n",
       "    <div class=\"col-md-6 namecol\">\n",
       "        <p class=\"h4\">Dataset info</p>\n",
       "        <table class=\"stats\" style=\"margin-left: 1em;\">\n",
       "            <tbody>\n",
       "            <tr>\n",
       "                <th>Number of variables</th>\n",
       "                <td>5 </td>\n",
       "            </tr>\n",
       "            <tr>\n",
       "                <th>Number of observations</th>\n",
       "                <td>150 </td>\n",
       "            </tr>\n",
       "            <tr>\n",
       "                <th>Total Missing (%)</th>\n",
       "                <td>0.1% </td>\n",
       "            </tr>\n",
       "            <tr>\n",
       "                <th>Total size in memory</th>\n",
       "                <td>5.9 KiB </td>\n",
       "            </tr>\n",
       "            <tr>\n",
       "                <th>Average record size in memory</th>\n",
       "                <td>40.5 B </td>\n",
       "            </tr>\n",
       "            </tbody>\n",
       "        </table>\n",
       "    </div>\n",
       "    <div class=\"col-md-6 namecol\">\n",
       "        <p class=\"h4\">Variables types</p>\n",
       "        <table class=\"stats\" style=\"margin-left: 1em;\">\n",
       "            <tbody>\n",
       "            <tr>\n",
       "                <th>Numeric</th>\n",
       "                <td>3 </td>\n",
       "            </tr>\n",
       "            <tr>\n",
       "                <th>Categorical</th>\n",
       "                <td>1 </td>\n",
       "            </tr>\n",
       "            <tr>\n",
       "                <th>Boolean</th>\n",
       "                <td>0 </td>\n",
       "            </tr>\n",
       "            <tr>\n",
       "                <th>Date</th>\n",
       "                <td>0 </td>\n",
       "            </tr>\n",
       "            <tr>\n",
       "                <th>Text (Unique)</th>\n",
       "                <td>0 </td>\n",
       "            </tr>\n",
       "            <tr>\n",
       "                <th>Rejected</th>\n",
       "                <td>1 </td>\n",
       "            </tr>\n",
       "            <tr>\n",
       "                <th>Unsupported</th>\n",
       "                <td>0 </td>\n",
       "            </tr>\n",
       "            </tbody>\n",
       "        </table>\n",
       "    </div>\n",
       "    <div class=\"col-md-12\" style=\"padding-left: 1em;\">\n",
       "        \n",
       "        <p class=\"h4\">Warnings</p>\n",
       "        <ul class=\"list-unstyled\"><li><a href=\"#pp_var_petal_width\"><code>petal_width</code></a> is highly correlated with <a href=\"#pp_var_petal_length\"><code>petal_length</code></a> (ρ = 0.96276) <span class=\"label label-primary\">Rejected</span></li><li>Dataset has 3 duplicate rows <span class=\"label label-warning\">Warning</span></li> </ul>\n",
       "    </div>\n",
       "</div>\n",
       "    <div class=\"row headerrow highlight\">\n",
       "        <h1>Variables</h1>\n",
       "    </div>\n",
       "    <div class=\"row variablerow\">\n",
       "    <div class=\"col-md-3 namecol\">\n",
       "        <p class=\"h4 pp-anchor\" id=\"pp_var_petal_length\">petal_length<br/>\n",
       "            <small>Numeric</small>\n",
       "        </p>\n",
       "    </div><div class=\"col-md-6\">\n",
       "    <div class=\"row\">\n",
       "        <div class=\"col-sm-6\">\n",
       "            <table class=\"stats \">\n",
       "                <tr>\n",
       "                    <th>Distinct count</th>\n",
       "                    <td>43</td>\n",
       "                </tr>\n",
       "                <tr>\n",
       "                    <th>Unique (%)</th>\n",
       "                    <td>28.7%</td>\n",
       "                </tr>\n",
       "                <tr class=\"ignore\">\n",
       "                    <th>Missing (%)</th>\n",
       "                    <td>0.0%</td>\n",
       "                </tr>\n",
       "                <tr class=\"ignore\">\n",
       "                    <th>Missing (n)</th>\n",
       "                    <td>0</td>\n",
       "                </tr>\n",
       "                <tr class=\"ignore\">\n",
       "                    <th>Infinite (%)</th>\n",
       "                    <td>0.0%</td>\n",
       "                </tr>\n",
       "                <tr class=\"ignore\">\n",
       "                    <th>Infinite (n)</th>\n",
       "                    <td>0</td>\n",
       "                </tr>\n",
       "            </table>\n",
       "\n",
       "        </div>\n",
       "        <div class=\"col-sm-6\">\n",
       "            <table class=\"stats \">\n",
       "\n",
       "                <tr>\n",
       "                    <th>Mean</th>\n",
       "                    <td>3.7587</td>\n",
       "                </tr>\n",
       "                <tr>\n",
       "                    <th>Minimum</th>\n",
       "                    <td>1</td>\n",
       "                </tr>\n",
       "                <tr>\n",
       "                    <th>Maximum</th>\n",
       "                    <td>6.9</td>\n",
       "                </tr>\n",
       "                <tr class=\"ignore\">\n",
       "                    <th>Zeros (%)</th>\n",
       "                    <td>0.0%</td>\n",
       "                </tr>\n",
       "            </table>\n",
       "        </div>\n",
       "    </div>\n",
       "</div>\n",
       "<div class=\"col-md-3 collapse in\" id=\"minihistogram4696281779780527697\">\n",
       "    <img src=\"data:image/png;base64,iVBORw0KGgoAAAANSUhEUgAAAMgAAABLCAYAAAA1fMjoAAAABHNCSVQICAgIfAhkiAAAAAlwSFlzAAAPYQAAD2EBqD%2BnaQAAADl0RVh0U29mdHdhcmUAbWF0cGxvdGxpYiB2ZXJzaW9uIDMuMC4yLCBodHRwOi8vbWF0cGxvdGxpYi5vcmcvOIA7rQAAAdRJREFUeJzt3EFu2lAUhtFr1Km9AIR30UV0Tx13T11Ed2GLBYA66KC4g5ZOEv1NqvAcwznDIOUa4U/v2Vh0y7Is1dg8zzWOY%2BuxbNw0TXU4HJrO/NB02h9931fV7zc8DMMah8CGnE6nGsfx73nT0iqBdF1XVVXDMDwJ5OPnr6/%2Bf9%2B%2BfHqT4%2BJ9u543Le2aT4QNEQgEAoFAIBAIBAKBQCAQCAQCgUAgWOWbdN7Wa58%2B8OTBy1lBIBAIBAKBwDXIO/M/TzNzO1YQCAQCgUAgEAgEAoFAIBAIBAKBQCAQCHyT/oD89tjLWUEgEAgEAoFAIBAIBIK7uIvlrgy3YgWBQCAQ3MUWi9t71G2sFQQCgUAgEAhcg9yQn/DZPisIBAKBwBaLm7mHW8NWEAgEAoEt1iu4K/V4rCAQCASCVbZYy7JUVdXpdHry2s8f35scw3Oz/6XVsT2y5z6X69%2Bu501L3bLC1HmeaxzH1mPZuGma6nA4NJ25SiCXy6WOx2P1fV9d17Uez8Ysy1Ln87n2%2B33tdm2vClYJBLbCRToEAoFAIBAIBAKBQCAQCAQCgUAgEAgEAoFAIBAIBAKBQCAQCAQCgUAgEAgEAoFAIBAIBAKBQCAQCAQCwS%2B5Glyelr6uZgAAAABJRU5ErkJggg%3D%3D\">\n",
       "\n",
       "</div>\n",
       "<div class=\"col-md-12 text-right\">\n",
       "    <a role=\"button\" data-toggle=\"collapse\" data-target=\"#descriptives4696281779780527697,#minihistogram4696281779780527697\"\n",
       "       aria-expanded=\"false\" aria-controls=\"collapseExample\">\n",
       "        Toggle details\n",
       "    </a>\n",
       "</div>\n",
       "<div class=\"row collapse col-md-12\" id=\"descriptives4696281779780527697\">\n",
       "    <ul class=\"nav nav-tabs\" role=\"tablist\">\n",
       "        <li role=\"presentation\" class=\"active\"><a href=\"#quantiles4696281779780527697\"\n",
       "                                                  aria-controls=\"quantiles4696281779780527697\" role=\"tab\"\n",
       "                                                  data-toggle=\"tab\">Statistics</a></li>\n",
       "        <li role=\"presentation\"><a href=\"#histogram4696281779780527697\" aria-controls=\"histogram4696281779780527697\"\n",
       "                                   role=\"tab\" data-toggle=\"tab\">Histogram</a></li>\n",
       "        <li role=\"presentation\"><a href=\"#common4696281779780527697\" aria-controls=\"common4696281779780527697\"\n",
       "                                   role=\"tab\" data-toggle=\"tab\">Common Values</a></li>\n",
       "        <li role=\"presentation\"><a href=\"#extreme4696281779780527697\" aria-controls=\"extreme4696281779780527697\"\n",
       "                                   role=\"tab\" data-toggle=\"tab\">Extreme Values</a></li>\n",
       "\n",
       "    </ul>\n",
       "\n",
       "    <div class=\"tab-content\">\n",
       "        <div role=\"tabpanel\" class=\"tab-pane active row\" id=\"quantiles4696281779780527697\">\n",
       "            <div class=\"col-md-4 col-md-offset-1\">\n",
       "                <p class=\"h4\">Quantile statistics</p>\n",
       "                <table class=\"stats indent\">\n",
       "                    <tr>\n",
       "                        <th>Minimum</th>\n",
       "                        <td>1</td>\n",
       "                    </tr>\n",
       "                    <tr>\n",
       "                        <th>5-th percentile</th>\n",
       "                        <td>1.3</td>\n",
       "                    </tr>\n",
       "                    <tr>\n",
       "                        <th>Q1</th>\n",
       "                        <td>1.6</td>\n",
       "                    </tr>\n",
       "                    <tr>\n",
       "                        <th>Median</th>\n",
       "                        <td>4.35</td>\n",
       "                    </tr>\n",
       "                    <tr>\n",
       "                        <th>Q3</th>\n",
       "                        <td>5.1</td>\n",
       "                    </tr>\n",
       "                    <tr>\n",
       "                        <th>95-th percentile</th>\n",
       "                        <td>6.1</td>\n",
       "                    </tr>\n",
       "                    <tr>\n",
       "                        <th>Maximum</th>\n",
       "                        <td>6.9</td>\n",
       "                    </tr>\n",
       "                    <tr>\n",
       "                        <th>Range</th>\n",
       "                        <td>5.9</td>\n",
       "                    </tr>\n",
       "                    <tr>\n",
       "                        <th>Interquartile range</th>\n",
       "                        <td>3.5</td>\n",
       "                    </tr>\n",
       "                </table>\n",
       "            </div>\n",
       "            <div class=\"col-md-4 col-md-offset-2\">\n",
       "                <p class=\"h4\">Descriptive statistics</p>\n",
       "                <table class=\"stats indent\">\n",
       "                    <tr>\n",
       "                        <th>Standard deviation</th>\n",
       "                        <td>1.7644</td>\n",
       "                    </tr>\n",
       "                    <tr>\n",
       "                        <th>Coef of variation</th>\n",
       "                        <td>0.46943</td>\n",
       "                    </tr>\n",
       "                    <tr>\n",
       "                        <th>Kurtosis</th>\n",
       "                        <td>-1.4019</td>\n",
       "                    </tr>\n",
       "                    <tr>\n",
       "                        <th>Mean</th>\n",
       "                        <td>3.7587</td>\n",
       "                    </tr>\n",
       "                    <tr>\n",
       "                        <th>MAD</th>\n",
       "                        <td>1.5619</td>\n",
       "                    </tr>\n",
       "                    <tr class=\"\">\n",
       "                        <th>Skewness</th>\n",
       "                        <td>-0.27446</td>\n",
       "                    </tr>\n",
       "                    <tr>\n",
       "                        <th>Sum</th>\n",
       "                        <td>563.8</td>\n",
       "                    </tr>\n",
       "                    <tr>\n",
       "                        <th>Variance</th>\n",
       "                        <td>3.1132</td>\n",
       "                    </tr>\n",
       "                    <tr>\n",
       "                        <th>Memory size</th>\n",
       "                        <td>1.2 KiB</td>\n",
       "                    </tr>\n",
       "                </table>\n",
       "            </div>\n",
       "        </div>\n",
       "        <div role=\"tabpanel\" class=\"tab-pane col-md-8 col-md-offset-2\" id=\"histogram4696281779780527697\">\n",
       "            <img src=\"data:image/png;base64,iVBORw0KGgoAAAANSUhEUgAAAlgAAAGQCAYAAAByNR6YAAAABHNCSVQICAgIfAhkiAAAAAlwSFlzAAAPYQAAD2EBqD%2BnaQAAADl0RVh0U29mdHdhcmUAbWF0cGxvdGxpYiB2ZXJzaW9uIDMuMC4yLCBodHRwOi8vbWF0cGxvdGxpYi5vcmcvOIA7rQAAIABJREFUeJzt3XlwFGXixvFnTMhwmERDyGVGzCIeEGCBUBrwiKDRqHiwHiyKQZEVN0Yx4BEoNewKYb1RNCWsIl4b3HJBLDUYLAlYLEoCCEQLo6BGSThcyFUwXP37wx%2BzzCZIoN6ku5nvp6qr6Ld7Ok9aVp99%2B50Zj2VZlgAAAGDMSXYHAAAAONFQsAAAAAyjYAEAABhGwQIAADCMggUAAGAYBQsAAMAwChYAAIBhFCwAAADDKFgAAACGUbAAAAAMo2ABAAAYRsECAAAwjIIFAABgGAULAADAMAoWAACAYRQsAAAAwyhYAAAAhlGwAAAADKNgAQAAGEbBAgAAMIyCBQAAYBgFCwAAwDAKFgAAgGEULAAAAMMoWAAAAIZRsAAAAAyjYAEAABhGwQIAADCMggUAAGAYBQsAAMAwChYAAIBhFCwAAADDKFgAAACGUbAAAAAMo2ABAAAYRsECAAAwjIIFAABgGAULAADAsHC7A4SCgwcPasuWLYqMjJTH47E7DgAAIcGyLDU0NCgpKUknndS%2Bc0oUrHawZcsW%2BXw%2Bu2MAABCSqqurlZyc3K4/k4LVDiIjIyX9%2Bg84KirK5jQAAISG%2Bvp6%2BXy%2BwH%2BH2xMFqx0ceiwYFRVFwQIAoJ3ZsTyHRe4AAACGUbAAAAAMo2ABAAAYRsECAAAwjIIFAABgGAULAADAMAoWAACAYRQsAAAAwyhYAAAAhlGwAAAADKNgAQAAGEbBAgAAMIwve3a5tCkldkdotfJpV9gdAQCAdsEMFgAAgGEULAAAAMMoWAAAAIZRsAAAAAyjYAEAABhGwQIAADCMggUAAGAYBQsAAMAwChYAAIBhFCwAAADDKFgAAACGhXzBKioqUt%2B%2BfRUVFaWoqCilp6fro48%2BChzPyMiQx%2BMJ2kaOHGljYgAA4HQh/2XPycnJmjFjhs4880xJ0rx583TttddqzZo16t27tyRp3Lhx%2Bstf/hJ4TadOnWzJCgAA3CHkC9bw4cOD9qdNm6aioiKtXLkyULA6d%2B6shIQEO%2BIBAAAXCvlHhIc7cOCAiouL1dTUpPT09MD4W2%2B9pdjYWPXu3VuTJk1SQ0ODjSkBAIDThfwMliStX79e6enp2rNnj04%2B%2BWQtWLBAvXr1kiTdcsstSklJUUJCgjZs2KD8/Hx9%2BeWXKi0tPeL1/H6//H5/YL%2B%2Bvr7NfwcAAOAcFCxJZ599ttauXatdu3bp3XffVXZ2tsrKytSrVy%2BNGzcucF5qaqp69uyptLQ0rV69WgMGDGjxeoWFhZo6dWp7xQcAAA7DI0JJEREROvPMM5WWlqbCwkL169dPM2fObPHcAQMGqEOHDqqqqjri9fLz81VXVxfYqqur2yo6AABwIGawWmBZVtAjvsNVVlZq3759SkxMPOLrvV6vvF5vW8UDAAAOF/IFa/LkycrKypLP51NDQ4OKi4u1dOlSlZSU6LvvvtNbb72lK6%2B8UrGxsfrqq680ceJE9e/fX0OGDLE7OgAAcKiQL1hbt27V6NGjVVNTo%2BjoaPXt21clJSW67LLLVF1drU8%2B%2BUQzZ85UY2OjfD6frrrqKj322GMKCwuzOzoAAHCokC9Yr7zyyhGP%2BXw%2BlZWVtWMaAABwImCROwAAgGEULAAAAMMoWAAAAIZRsAAAAAyjYAEAABhGwQIAADCMggUAAGAYBQsAAMAwChYAAIBhFCwAAADDKFgAAACGUbAAAAAMo2ABAAAYRsECAAAwjIIFAABgGAULAADAMAoWAACAYRQsAAAAwyhYAAAAhlGwAAAADKNgAQAAGEbBAgAAMIyCBQAAYBgFCwAAwDAKFgAAgGEULAAAAMMoWAAAAIZRsAAAAAyjYAEAABhGwQIAADAs5AtWUVGR%2Bvbtq6ioKEVFRSk9PV0fffRR4Ljf71dubq5iY2PVpUsXXXPNNfrpp59sTAwAAJwu5AtWcnKyZsyYofLycpWXl2vo0KG69tprVVlZKUmaMGGCFixYoOLiYn322WdqbGzU1VdfrQMHDticHAAAOJXHsizL7hBOExMToyeffFI33HCDunXrpjfeeEM333yzJGnLli3y%2BXz68MMPdfnll7fqevX19YqOjlZdXZ2ioqKMZk2bUmL0em2pfNoVdkcAAISQtvzv79GE/AzW4Q4cOKDi4mI1NTUpPT1dFRUV2rdvnzIzMwPnJCUlKTU1VStWrLAxKQAAcLJwuwM4wfr165Wenq49e/bo5JNP1oIFC9SrVy%2BtXbtWEREROvXUU4POj4%2BPV21t7RGv5/f75ff7A/v19fVtlh0AADgPM1iSzj77bK1du1YrV67U3XffrezsbH311VdHPN%2ByLHk8niMeLywsVHR0dGDz%2BXxtERsAADgUBUtSRESEzjzzTKWlpamwsFD9%2BvXTzJkzlZCQoL1792rnzp1B52/btk3x8fFHvF5%2Bfr7q6uoCW3V1dVv/CgAAwEEoWC2wLEt%2Bv18DBw5Uhw4dVFpaGjhWU1OjDRs2aPDgwUd8vdfrDXzsw6ENAACEjpBfgzV58mRlZWXJ5/OpoaFBxcXFWrp0qUpKShQdHa2xY8dq4sSJ6tq1q2JiYjRp0iT16dNHl156qd3RAQCAQ4V8wdq6datGjx6tmpoaRUdHq2/fviopKdFll10mSXr22WcVHh6um266Sbt379awYcP02muvKSwszObkAADAqfgcrHbA52D9is/BAgC0Jz4HCwAA4ARCwQIAADAs5NdgAcCJhqUDgP2YwQIAADCMggUAAGAYBQsAAMAwChYAAIBhFCwAAADDKFgAAACGUbAAAAAMo2ABAAAYRsECAAAwjIIFAABgGAULAADAMAoWAACAYRQsAAAAwyhYAAAAhlGwAAAADKNgAQAAGEbBAgAAMIyCBQAAYBgFCwAAwDAKFgAAgGEULAAAAMMoWAAAAIZRsAAAAAyjYAEAABgWbncAAHC6tCkldkcA4DLMYAEAABhGwQIAADCMggUAAGBYyBeswsJCDRo0SJGRkYqLi9N1112njRs3Bp2TkZEhj8cTtI0cOdKmxAAAwOlCvmCVlZUpJydHK1euVGlpqfbv36/MzEw1NTUFnTdu3DjV1NQEtpdfftmmxAAAwOlC/l2EJSXB7w6aO3eu4uLiVFFRoYsuuigw3rlzZyUkJLR3PAAA4EIhP4P1v%2Brq6iRJMTExQeNvvfWWYmNj1bt3b02aNEkNDQ1HvIbf71d9fX3QBgAAQkfIz2AdzrIs5eXl6YILLlBqampg/JZbblFKSooSEhK0YcMG5efn68svv1RpaWmL1yksLNTUqVPbKzYAAHAYCtZh7rnnHq1bt06fffZZ0Pi4ceMCf05NTVXPnj2Vlpam1atXa8CAAc2uk5%2Bfr7y8vMB%2BfX29fD5f2wUHAACOQsH6f7m5uVq0aJGWLVum5OTk3zx3wIAB6tChg6qqqlosWF6vV16vt62iAgAAhwv5gmVZlnJzc7VgwQItXbpUKSkpR31NZWWl9u3bp8TExHZICAAA3CbkC1ZOTo7efvttvffee4qMjFRtba0kKTo6Wp06ddJ3332nt956S1deeaViY2P11VdfaeLEierfv7%2BGDBlic3oAAOBEIf8uwqKiItXV1SkjI0OJiYmBbf78%2BZKkiIgIffLJJ7r88st19tln695771VmZqaWLFmisLAwm9MDAAAnCvkZLMuyfvO4z%2BdTWVlZO6UBAAAngpCfwQIAADCNggUAAGAYBQsAAMAwChYAAIBhFCwAAADDXFuw3nzzTe3Zs8fuGAAAAM24tmDl5eUpISFBd911l7744gu74wAAAAS4tmBt2bJFr776qmpqanTBBReod%2B/eevrpp7V9%2B3a7owEAgBDn2oIVHh6uESNGaNGiRfrxxx%2BVnZ2tV199VcnJyRoxYoQ%2B%2BOCDo36IKAAAQFtwbcE6XEJCgoYNG6aMjAx5PB6Vl5dr1KhR6tmzp5YvX253PAAAEGJcXbB27Nih5557Tv369dOQIUO0bds2LVy4UD/88IN%2B/vlnXX311brtttvsjgkAAEKMa7%2BL8Prrr9eHH36olJQU3XnnncrOzla3bt0Cx08%2B%2BWQ9%2BOCDev75521MCQAAQpFrC1ZUVJSWLFmiCy%2B88IjnJCYmqqqqqh1TAQAAuLhgzZs376jneDwe9ejRox3SAAAA/Jdr12Ddf//9mjVrVrPxF198URMnTrQhEQAAwK9cW7D%2B%2Bc9/6vzzz282np6ervnz59uQCAAA4FeuLVg7duzQqaee2mw8KipKO3bssCERAADAr1xbsHr06KHFixc3G1%2B8eLFSUlJsSAQAAPAr1y5ynzBhgiZMmKBffvlFQ4cOlSR98skneuKJJ/TUU0/ZnA4AAIQy1xascePGac%2BePZo%2Bfboee%2BwxSVJycrKef/553XHHHTanAwAAocy1BUuScnNzlZubq5qaGnXq1EmnnHKK3ZEAAADcXbAOSUxMtDsCAABAgGsXuW/fvl233367Tj/9dHXs2FERERFBGwAAgF1cO4M1ZswYfffdd3rggQeUmJgoj8djdyQAAABJLi5Yy5Yt07Jly9S/f3%2B7owAAAARx7SPC5ORkZq0AAIAjubZgPfvss8rPz9dPP/1kdxQAAIAgrn1EOHr0aDU0NKh79%2B6KiopShw4dgo5v27bNpmQAACDUubZgzZgxw%2B4IAAAALXJtwRo7dqzdEQAAAFrk2jVYkvT999%2BroKBAo0ePDjwS/Pjjj/X111%2B3%2BhqFhYUaNGiQIiMjFRcXp%2Buuu04bN24MOsfv9ys3N1exsbHq0qWLrrnmGtZ%2BAQCAI3JtwVq%2BfLl69%2B6tsrIyvfPOO2psbJQkrV69Wo8%2B%2Bmirr1NWVqacnBytXLlSpaWl2r9/vzIzM9XU1BQ4Z8KECVqwYIGKi4v12WefqbGxUVdffbUOHDhg/PcCAADu59pHhA899JAKCgr0wAMPKDIyMjA%2BdOhQvfjii62%2BTklJSdD%2B3LlzFRcXp4qKCl100UWqq6vTK6%2B8ojfeeEOXXnqpJOnNN9%2BUz%2BfTkiVLdPnll5v5hQAAwAnDtTNY69at0w033NBsPC4uTtu3bz/u69bV1UmSYmJiJEkVFRXat2%2BfMjMzA%2BckJSUpNTVVK1asaPEafr9f9fX1QRsAAAgdri1Yp5xyimpra5uNr127VqeddtpxXdOyLOXl5emCCy5QamqqJKm2tlYRERE69dRTg86Nj49v8edLv67rio6ODmw%2Bn%2B%2B48gAAAHdybcEaOXKkHn74YW3fvj3wie6ff/65Jk2apFtvvfW4rnnPPfdo3bp1%2Bsc//nHUcy3LOuInyefn56uuri6wVVdXH1ceAADgTq4tWNOnT1dCQoISExPV2NioXr16afDgwRo0aJAeeeSRY75ebm6uFi1apE8//VTJycmB8YSEBO3du1c7d%2B4MOn/btm2Kj49v8Vper1dRUVFBGwAACB2uXeQeERGh%2BfPn65tvvtHq1at18OBBDRgwQOecc84xXceyLOXm5mrBggVaunSpUlJSgo4PHDhQHTp0UGlpqW666SZJUk1NjTZs2KAnnnjC2O8DAABOHK4tWIecddZZOuuss4779Tk5OXr77bf13nvvKTIyMrCuKjo6Wp06dVJ0dLTGjh2riRMnqmvXroqJidGkSZPUp0%2BfwLsKAQAADufagvWnP/3pN4/Pnj27VdcpKiqSJGVkZASNz507V2PGjJH06xdLh4eH66abbtLu3bs1bNgwvfbaawoLCzvm3AAA4MTn2oJVU1MTtL9v3z5VVlaqoaFBF110UauvY1nWUc/p2LGjXnjhBb3wwgvHnBMAAIQe1xas999/v9nY/v37dffdd%2Bvcc8%2B1IREAAMCvXPsuwpaEh4dr0qRJevLJJ%2B2OAgAAQtgJVbAkadOmTdq3b5/dMQAAQAhz7SPCBx98MGjfsizV1NRo0aJFuuWWW2xKBQAA4OKC9e9//zto/6STTlK3bt00Y8YMjRs3zqZUAAAALi5Yy5cvtzsCAABAi064NVgAAAB2c%2B0M1qBBg474Zcv/64svvmjjNAAAAP/l2oJ1ySWX6OWXX9ZZZ52l9PR0SdLKlSu1ceNG3XXXXfJ6vTYnBAAAocq1BWvXrl3KycnR9OnTg8anTJmirVu36u9//7tNyQAAQKhzbcF65513tGrVqmbjY8aMUVpaGgULAFwgbUqJ3RGOSfm0K%2ByOAJdw7SJ3r9erFStWNBtfsWIFjwcBAICtXDuDde%2B992r8%2BPFas2aNzj//fEm/rsGaM2eOJk%2BebHM6AAAQylxbsKZMmaKUlBTNnDlTr776qiTp3HPP1Zw5czRq1Cib0wEAgFDm2oIlSaNGjaJMAQAAx3HtGixJqq%2Bv12uvvaZHH31UO3fulCR9%2BeWXqqmpsTkZAAAIZa6dwdqwYYMuvfRSde7cWdXV1RozZoxOPfVUvfPOO/rpp580b948uyMCAIAQ5doZrPvvv1%2BjRo3Sd999p44dOwbGr7rqKi1btszGZAAAINS5dgZr1apVKioqavZ1OaeddhqPCAEAgK1cO4MVERGhxsbGZuNVVVWKjY21IREAAMCvXFuwrrnmGv31r3/V/v37JUkej0c///yzHn74YY0YMcLmdAAAIJS5tmA9/fTT2rJlixISErR7924NHTpUv/vd79SxY8dm308IAADQnly7Bis6OlorVqxQaWmpVq9erYMHD2rAgAG6/PLLm63LAgAAaE%2BuLFj79u3TlVdeqZdeekmZmZnKzMy0OxIAAECAKx8RdujQQWvWrGGmCgAAOJIrC5Yk3XrrrZo7d67dMQAAAJpx5SPCQ2bNmqUlS5YoLS1NXbp0CTr2xBNP2JQKAACEOtcWrIqKCvXt21eStG7duqBjPDoEAAB2cl3B2rRpk1JSUrR8%2BXK7owAAALTIdWuwevbsqe3btwf2b775Zm3dutXGRAAAAMFcV7Asywra//DDD9XU1HTc11u2bJmGDx%2BupKQkeTweLVy4MOj4mDFj5PF4grbzzz//uH8eAAA48bmuYJnW1NSkfv36adasWUc854orrlBNTU1g%2B/DDD9sxIQAAcBvXrcE6NIv0v2PHKysrS1lZWb95jtfrVUJCwnH/DAAAEFpcV7Asy9KYMWPk9XolSXv27NH48eObfUzDv/71L2M/c%2BnSpYqLi9Mpp5yiiy%2B%2BWNOmTVNcXNwRz/f7/fL7/YH9%2Bvp6Y1kAAIDzua5gZWdnB%2B3feuutbfrzsrKydOONN6p79%2B7avHmzHnnkEQ0dOlQVFRWBkve/CgsLNXXq1DbNBQAAnMt1Bau9P7395ptvDvw5NTVVaWlp6t69uz744AONGDGixdfk5%2BcrLy8vsF9fXy%2Bfz9fmWQEAgDO4rmDZLTExUd27d1dVVdURz/F6vUec3QIAACe%2BkH8X4bH65ZdfVF1drcTERLujAAAAhwr5GazGxkZ9%2B%2B23gf3Nmzdr7dq1iomJUUxMjAoKCvSHP/xBiYmJ%2Bv777zV58mTFxsbq%2BuuvtzE1AABwspAvWOXl5brkkksC%2B4fWTmVnZ6uoqEjr16/X66%2B/rl27dikxMVGXXHKJ5s%2Bfr8jISLsiAwAAhwv5gpWRkdHs0%2BEPt3jx4nZMAwAATgSswQIAADCMggUAAGAYBQsAAMAwChYAAIBhFCwAAADDKFgAAACGUbAAAAAMo2ABAAAYRsECAAAwjIIFAABgWMh/VQ7aT9qUErsjHJPyaVfYHQEA4FLMYAEAABhGwQIAADCMggUAAGAYBQsAAMAwChYAAIBhFCwAAADDKFgAAACGUbAAAAAMo2ABAAAYRsECAAAwjIIFAABgGAULAADAMAoWAACAYRQsAAAAwyhYAAAAhoXbHQAAALdIm1Jid4RjUj7tCrsjhCxmsAAAAAyjYAEAABhGwQIAADAs5AvWsmXLNHz4cCUlJcnj8WjhwoVBxy3LUkFBgZKSktSpUydlZGSosrLSprQAAMANQr5gNTU1qV%2B/fpo1a1aLx5944gk988wzmjVrllatWqWEhARddtllamhoaOekAADALUL%2BXYRZWVnKyspq8ZhlWXruuec0ZcoUjRgxQpI0b948xcfH6%2B2339Zdd93VnlEBAIBLhPwM1m/ZvHmzamtrlZmZGRjzer26%2BOKLtWLFChuTAQAAJwv5GazfUltbK0mKj48PGo%2BPj9cPP/xwxNf5/X75/f7Afn19fdsEBAAAjsQMVit4PJ6gfcuymo0drrCwUNHR0YHN5/O1dUQAAOAgFKzfkJCQIOm/M1mHbNu2rdms1uHy8/NVV1cX2Kqrq9s0JwAAcBYK1m9ISUlRQkKCSktLA2N79%2B5VWVmZBg8efMTXeb1eRUVFBW0AACB0hPwarMbGRn377beB/c2bN2vt2rWKiYnR6aefrgkTJmj69Onq2bOnevbsqenTp6tz584aNWqUjakBAICThXzBKi8v1yWXXBLYz8vLkyRlZ2frtdde04MPPqjdu3frz3/%2Bs3bu3KnzzjtPH3/8sSIjI%2B2KDAAAHC7kC1ZGRoYsyzricY/Ho4KCAhUUFLRfKAAA4GqswQIAADCMggUAAGAYBQsAAMAwChYAAIBhFCwAAADDKFgAAACGUbAAAAAMo2ABAAAYRsECAAAwjIIFAABgWMh/VQ6A9pc2pcTuCADQppjBAgAAMIyCBQAAYBgFCwAAwDAKFgAAgGEULAAAAMMoWAAAAIZRsAAAAAyjYAEAABhGwQIAADCMggUAAGAYBQsAAMAwChYAAIBhFCwAAADDKFgAAACGUbAAAAAMo2ABAAAYRsECAAAwjIIFAABgGAULAADAMArWURQUFMjj8QRtCQkJdscCAAAOFm53ADfo3bu3lixZEtgPCwuzMQ0AAHA6ClYrhIeHM2sFAABajUeErVBVVaWkpCSlpKRo5MiR2rRpk92RAACAgzGDdRTnnXeeXn/9dZ111lnaunWrHn/8cQ0ePFiVlZXq2rVri6/x%2B/3y%2B/2B/fr6%2BvaKCwAAHICCdRRZWVmBP/fp00fp6enq0aOH5s2bp7y8vBZfU1hYqKlTp7ZXRAAAWpQ2pcTuCK1WPu0KuyMYxSPCY9SlSxf16dNHVVVVRzwnPz9fdXV1ga26urodEwIAALsxg3WM/H6/vv76a1144YVHPMfr9crr9bZjKgAA4CTMYB3FpEmTVFZWps2bN%2Bvzzz/XDTfcoPr6emVnZ9sdDQAAOBQzWEfx008/6Y9//KN27Nihbt266fzzz9fKlSvVvXt3u6MBAACHomAdRXFxsd0RAACAy/CIEAAAwDAKFgAAgGEULAAAAMMoWAAAAIZRsAAAAAyjYAEAABhGwQIAADCMggUAAGAYBQsAAMAwChYAAIBhfFUOcIJIm1JidwQAwP9jBgsAAMAwChYAAIBhFCwAAADDKFgAAACGUbAAAAAMo2ABAAAYRsECAAAwjIIFAABgGAULAADAMAoWAACAYRQsAAAAwyhYAAAAhlGwAAAADKNgAQAAGEbBAgAAMIyCBQAAYBgFCwAAwDAKFgAAgGEULAAAAMMoWAAAAIZRsFrppZdeUkpKijp27KiBAwdq%2BfLldkcCAAAORcFqhfnz52vChAmaMmWK1qxZowsvvFBZWVn68ccf7Y4GAAAciILVCs8884zGjh2rO%2B%2B8U%2Beee66ee%2B45%2BXw%2BFRUV2R0NAAA4ULjdAZxu7969qqio0MMPPxw0npmZqRUrVrT4Gr/fL7/fH9ivq6uTJNXX1xvPd8DfZPya%2BFVb/PNqS/xdAOBmbfHv3EPXtCzL%2BLWPhoJ1FDt27NCBAwcUHx8fNB4fH6/a2toWX1NYWKipU6c2G/f5fG2SEW0j%2Bmm7EwBA6GjLf%2Bc2NDQoOjq67X5ACyhYreTxeIL2LctqNnZIfn6%2B8vLyAvsHDx7Uf/7zH3Xt2vWIrzke9fX18vl8qq6uVlRUlLHrnmi4T63DfWod7lPrcJ9ah/vUOsd7nyzLUkNDg5KSktowXcsoWEcRGxursLCwZrNV27ZtazardYjX65XX6w0aO%2BWUU9osY1RUFP/DbAXuU%2Btwn1qH%2B9Q63KfW4T61zvHcp/aeuTqERe5HERERoYEDB6q0tDRovLS0VIMHD7YpFQAAcDJmsFohLy9Po0ePVlpamtLT0zV79mz9%2BOOPGj9%2BvN3RAACAA4UVFBQU2B3C6VJTU9W1a1dNnz5dTz31lHbv3q033nhD/fr1szuawsLClJGRofBwuvJv4T61DvepdbhPrcN9ah3uU%2Bu47T55LDveuwgAAHACYw0WAACAYRQsAAAAwyhYAAAAhlGwAAAADKNgudCyZcs0fPhwJSUlyePxaOHChXZHcpzCwkINGjRIkZGRiouL03XXXaeNGzfaHctxioqK1Ldv38CH96Wnp%2Bujjz6yO5bjFRYWyuPxaMKECXZHcZSCggJ5PJ6gLSEhwe5YjvTzzz/r1ltvVdeuXdW5c2f9/ve/V0VFhd2xHOWMM85o9vfJ4/EoJyfH7mitQsFyoaamJvXr10%2BzZs2yO4pjlZWVKScnRytXrlRpaan279%2BvzMxMNTXxhciHS05O1owZM1ReXq7y8nINHTpU1157rSorK%2B2O5lirVq3S7Nmz1bdvX7ujOFLv3r1VU1MT2NavX293JMfZuXOnhgwZog4dOuijjz7SV199paeffrpNv/HDjVatWhX0d%2BnQB37feOONNidrHXd8mASCZGVlKSsry%2B4YjlZSUhK0P3fuXMXFxamiokIXXXSRTamcZ/jw4UH706ZNU1FRkVauXKnevXvblMq5Ghsbdcstt2jOnDl6/PHH7Y7jSOHh4cxaHcXf/vY3%2BXw%2BzZ07NzB2xhln2BfIobp16xa0P2PGDPXo0UMXX3yxTYmODTNYCAl1dXWSpJiYGJuTONeBAwdUXFyspqYmpaen2x3HkXJycnTVVVfp0ksvtTuKY1VVVSkpKUkpKSkaOXKkNm3aZHckx1m0aJHS0tJ04403Ki4uTv3799ecOXPsjuVoe/fu1Ztvvqk77rhDHo/H7jitQsHCCc8FNaUnAAADsElEQVSyLOXl5emCCy5Qamqq3XEcZ/369Tr55JPl9Xo1fvx4LViwQL169bI7luMUFxeroqJChYWFdkdxrPPOO0%2Bvv/66Fi9erDlz5qi2tlaDBw/WL7/8Ync0R9m0aZOKiorUs2dPLV68WOPHj9e9996r119/3e5ojrVw4ULt2rVLY8aMsTtKq/GIECe8e%2B65R%2BvWrdNnn31mdxRHOvvss7V27Vrt2rVL7777rrKzs1VWVkbJOkx1dbXuu%2B8%2Bffzxx%2BrYsaPdcRzr8KULffr0UXp6unr06KF58%2BYpLy/PxmTOcvDgQaWlpWn69OmSpP79%2B6uyslJFRUW67bbbbE7nTK%2B88oqysrKUlJRkd5RWYwYLJ7Tc3FwtWrRIn376qZKTk%2B2O40gRERE688wzlZaWpsLCQvXr108zZ860O5ajVFRUaNu2bRo4cKDCw8MVHh6usrIyPf/88woPD9eBAwfsjuhIXbp0UZ8%2BfVRVVWV3FEdJTExs9n9gzj33XP344482JXK2H374QUuWLNGdd95pd5RjwgwWTkiWZSk3N1cLFizQ0qVLlZKSYnck17AsS36/3%2B4YjjJs2LBm74a7/fbbdc455%2Bihhx5SWFiYTcmcze/36%2Buvv9aFF15odxRHGTJkSLOPjfnmm2/UvXt3mxI526E3KV111VV2RzkmFCwXamxs1LfffhvY37x5s9auXauYmBidfvrpNiZzjpycHL399tt67733FBkZqdraWklSdHS0OnXqZHM655g8ebKysrLk8/nU0NCg4uJiLV26tNm7MENdZGRks/V7Xbp0UdeuXVnXd5hJkyZp%2BPDhOv3007Vt2zY9/vjjqq%2BvV3Z2tt3RHOX%2B%2B%2B/X4MGDNX36dN1000364osvNHv2bM2ePdvuaI5z8OBBzZ07V9nZ2QoPd1llseA6n376qSWp2ZadnW13NMdo6f5IsubOnWt3NEe54447rO7du1sRERFWt27drGHDhlkff/yx3bFc4eKLL7buu%2B8%2Bu2M4ys0332wlJiZaHTp0sJKSkqwRI0ZYlZWVdsdypPfff99KTU21vF6vdc4551izZ8%2B2O5IjLV682JJkbdy40e4ox8xjWZZlT7UDAAA4MbHIHQAAwDAKFgAAgGEULAAAAMMoWAAAAIZRsAAAAAyjYAEAABhGwQIAADCMggUAAGAYBQsAAMAwChYAAIBhFCwAAADDKFgAAACGUbAAAAAMo2ABAAAYRsECAAAwjIIFAABgGAULAADAMAoWAACAYf8HSt24y/MXHG4AAAAASUVORK5CYII%3D\"/>\n",
       "        </div>\n",
       "        <div role=\"tabpanel\" class=\"tab-pane col-md-12\" id=\"common4696281779780527697\">\n",
       "            \n",
       "<table class=\"freq table table-hover\">\n",
       "    <thead>\n",
       "    <tr>\n",
       "        <td class=\"fillremaining\">Value</td>\n",
       "        <td class=\"number\">Count</td>\n",
       "        <td class=\"number\">Frequency (%)</td>\n",
       "        <td style=\"min-width:200px\">&nbsp;</td>\n",
       "    </tr>\n",
       "    </thead>\n",
       "    <tr class=\"\">\n",
       "        <td class=\"fillremaining\">1.5</td>\n",
       "        <td class=\"number\">14</td>\n",
       "        <td class=\"number\">9.3%</td>\n",
       "        <td>\n",
       "            <div class=\"bar\" style=\"width:19%\">&nbsp;</div>\n",
       "        </td>\n",
       "</tr><tr class=\"\">\n",
       "        <td class=\"fillremaining\">1.4</td>\n",
       "        <td class=\"number\">12</td>\n",
       "        <td class=\"number\">8.0%</td>\n",
       "        <td>\n",
       "            <div class=\"bar\" style=\"width:17%\">&nbsp;</div>\n",
       "        </td>\n",
       "</tr><tr class=\"\">\n",
       "        <td class=\"fillremaining\">5.1</td>\n",
       "        <td class=\"number\">8</td>\n",
       "        <td class=\"number\">5.3%</td>\n",
       "        <td>\n",
       "            <div class=\"bar\" style=\"width:11%\">&nbsp;</div>\n",
       "        </td>\n",
       "</tr><tr class=\"\">\n",
       "        <td class=\"fillremaining\">4.5</td>\n",
       "        <td class=\"number\">8</td>\n",
       "        <td class=\"number\">5.3%</td>\n",
       "        <td>\n",
       "            <div class=\"bar\" style=\"width:11%\">&nbsp;</div>\n",
       "        </td>\n",
       "</tr><tr class=\"\">\n",
       "        <td class=\"fillremaining\">1.3</td>\n",
       "        <td class=\"number\">7</td>\n",
       "        <td class=\"number\">4.7%</td>\n",
       "        <td>\n",
       "            <div class=\"bar\" style=\"width:10%\">&nbsp;</div>\n",
       "        </td>\n",
       "</tr><tr class=\"\">\n",
       "        <td class=\"fillremaining\">1.6</td>\n",
       "        <td class=\"number\">7</td>\n",
       "        <td class=\"number\">4.7%</td>\n",
       "        <td>\n",
       "            <div class=\"bar\" style=\"width:10%\">&nbsp;</div>\n",
       "        </td>\n",
       "</tr><tr class=\"\">\n",
       "        <td class=\"fillremaining\">5.6</td>\n",
       "        <td class=\"number\">6</td>\n",
       "        <td class=\"number\">4.0%</td>\n",
       "        <td>\n",
       "            <div class=\"bar\" style=\"width:9%\">&nbsp;</div>\n",
       "        </td>\n",
       "</tr><tr class=\"\">\n",
       "        <td class=\"fillremaining\">4.0</td>\n",
       "        <td class=\"number\">5</td>\n",
       "        <td class=\"number\">3.3%</td>\n",
       "        <td>\n",
       "            <div class=\"bar\" style=\"width:7%\">&nbsp;</div>\n",
       "        </td>\n",
       "</tr><tr class=\"\">\n",
       "        <td class=\"fillremaining\">4.9</td>\n",
       "        <td class=\"number\">5</td>\n",
       "        <td class=\"number\">3.3%</td>\n",
       "        <td>\n",
       "            <div class=\"bar\" style=\"width:7%\">&nbsp;</div>\n",
       "        </td>\n",
       "</tr><tr class=\"\">\n",
       "        <td class=\"fillremaining\">4.7</td>\n",
       "        <td class=\"number\">5</td>\n",
       "        <td class=\"number\">3.3%</td>\n",
       "        <td>\n",
       "            <div class=\"bar\" style=\"width:7%\">&nbsp;</div>\n",
       "        </td>\n",
       "</tr><tr class=\"other\">\n",
       "        <td class=\"fillremaining\">Other values (33)</td>\n",
       "        <td class=\"number\">73</td>\n",
       "        <td class=\"number\">48.7%</td>\n",
       "        <td>\n",
       "            <div class=\"bar\" style=\"width:100%\">&nbsp;</div>\n",
       "        </td>\n",
       "</tr>\n",
       "</table>\n",
       "        </div>\n",
       "        <div role=\"tabpanel\" class=\"tab-pane col-md-12\"  id=\"extreme4696281779780527697\">\n",
       "            <p class=\"h4\">Minimum 5 values</p>\n",
       "            \n",
       "<table class=\"freq table table-hover\">\n",
       "    <thead>\n",
       "    <tr>\n",
       "        <td class=\"fillremaining\">Value</td>\n",
       "        <td class=\"number\">Count</td>\n",
       "        <td class=\"number\">Frequency (%)</td>\n",
       "        <td style=\"min-width:200px\">&nbsp;</td>\n",
       "    </tr>\n",
       "    </thead>\n",
       "    <tr class=\"\">\n",
       "        <td class=\"fillremaining\">1.0</td>\n",
       "        <td class=\"number\">1</td>\n",
       "        <td class=\"number\">0.7%</td>\n",
       "        <td>\n",
       "            <div class=\"bar\" style=\"width:9%\">&nbsp;</div>\n",
       "        </td>\n",
       "</tr><tr class=\"\">\n",
       "        <td class=\"fillremaining\">1.1</td>\n",
       "        <td class=\"number\">1</td>\n",
       "        <td class=\"number\">0.7%</td>\n",
       "        <td>\n",
       "            <div class=\"bar\" style=\"width:9%\">&nbsp;</div>\n",
       "        </td>\n",
       "</tr><tr class=\"\">\n",
       "        <td class=\"fillremaining\">1.2</td>\n",
       "        <td class=\"number\">2</td>\n",
       "        <td class=\"number\">1.3%</td>\n",
       "        <td>\n",
       "            <div class=\"bar\" style=\"width:17%\">&nbsp;</div>\n",
       "        </td>\n",
       "</tr><tr class=\"\">\n",
       "        <td class=\"fillremaining\">1.3</td>\n",
       "        <td class=\"number\">7</td>\n",
       "        <td class=\"number\">4.7%</td>\n",
       "        <td>\n",
       "            <div class=\"bar\" style=\"width:58%\">&nbsp;</div>\n",
       "        </td>\n",
       "</tr><tr class=\"\">\n",
       "        <td class=\"fillremaining\">1.4</td>\n",
       "        <td class=\"number\">12</td>\n",
       "        <td class=\"number\">8.0%</td>\n",
       "        <td>\n",
       "            <div class=\"bar\" style=\"width:100%\">&nbsp;</div>\n",
       "        </td>\n",
       "</tr>\n",
       "</table>\n",
       "            <p class=\"h4\">Maximum 5 values</p>\n",
       "            \n",
       "<table class=\"freq table table-hover\">\n",
       "    <thead>\n",
       "    <tr>\n",
       "        <td class=\"fillremaining\">Value</td>\n",
       "        <td class=\"number\">Count</td>\n",
       "        <td class=\"number\">Frequency (%)</td>\n",
       "        <td style=\"min-width:200px\">&nbsp;</td>\n",
       "    </tr>\n",
       "    </thead>\n",
       "    <tr class=\"\">\n",
       "        <td class=\"fillremaining\">6.3</td>\n",
       "        <td class=\"number\">1</td>\n",
       "        <td class=\"number\">0.7%</td>\n",
       "        <td>\n",
       "            <div class=\"bar\" style=\"width:50%\">&nbsp;</div>\n",
       "        </td>\n",
       "</tr><tr class=\"\">\n",
       "        <td class=\"fillremaining\">6.4</td>\n",
       "        <td class=\"number\">1</td>\n",
       "        <td class=\"number\">0.7%</td>\n",
       "        <td>\n",
       "            <div class=\"bar\" style=\"width:50%\">&nbsp;</div>\n",
       "        </td>\n",
       "</tr><tr class=\"\">\n",
       "        <td class=\"fillremaining\">6.6</td>\n",
       "        <td class=\"number\">1</td>\n",
       "        <td class=\"number\">0.7%</td>\n",
       "        <td>\n",
       "            <div class=\"bar\" style=\"width:50%\">&nbsp;</div>\n",
       "        </td>\n",
       "</tr><tr class=\"\">\n",
       "        <td class=\"fillremaining\">6.7</td>\n",
       "        <td class=\"number\">2</td>\n",
       "        <td class=\"number\">1.3%</td>\n",
       "        <td>\n",
       "            <div class=\"bar\" style=\"width:100%\">&nbsp;</div>\n",
       "        </td>\n",
       "</tr><tr class=\"\">\n",
       "        <td class=\"fillremaining\">6.9</td>\n",
       "        <td class=\"number\">1</td>\n",
       "        <td class=\"number\">0.7%</td>\n",
       "        <td>\n",
       "            <div class=\"bar\" style=\"width:50%\">&nbsp;</div>\n",
       "        </td>\n",
       "</tr>\n",
       "</table>\n",
       "        </div>\n",
       "    </div>\n",
       "</div>\n",
       "</div><div class=\"row variablerow ignore\">\n",
       "    <div class=\"col-md-3 namecol\">\n",
       "        <p class=\"h4 pp-anchor\" id=\"pp_var_petal_width\"><s>petal_width</s><br/>\n",
       "            <small>Highly correlated</small>\n",
       "        </p>\n",
       "    </div><div class=\"col-md-3\">\n",
       "    <p><em>This variable is highly correlated with <a href=\"#pp_var_petal_length\"><code>petal_length</code></a> and should be ignored for analysis</em></p>\n",
       "</div>\n",
       "<div class=\"col-md-6\">\n",
       "    <table class=\"stats \">\n",
       "        <tr>\n",
       "            <th>Correlation</th>\n",
       "            <td>0.96276</td>\n",
       "        </tr>\n",
       "    </table>\n",
       "</div>\n",
       "</div><div class=\"row variablerow\">\n",
       "    <div class=\"col-md-3 namecol\">\n",
       "        <p class=\"h4 pp-anchor\" id=\"pp_var_sepal_length\">sepal_length<br/>\n",
       "            <small>Numeric</small>\n",
       "        </p>\n",
       "    </div><div class=\"col-md-6\">\n",
       "    <div class=\"row\">\n",
       "        <div class=\"col-sm-6\">\n",
       "            <table class=\"stats \">\n",
       "                <tr>\n",
       "                    <th>Distinct count</th>\n",
       "                    <td>36</td>\n",
       "                </tr>\n",
       "                <tr>\n",
       "                    <th>Unique (%)</th>\n",
       "                    <td>24.0%</td>\n",
       "                </tr>\n",
       "                <tr class=\"ignore\">\n",
       "                    <th>Missing (%)</th>\n",
       "                    <td>0.7%</td>\n",
       "                </tr>\n",
       "                <tr class=\"ignore\">\n",
       "                    <th>Missing (n)</th>\n",
       "                    <td>1</td>\n",
       "                </tr>\n",
       "                <tr class=\"ignore\">\n",
       "                    <th>Infinite (%)</th>\n",
       "                    <td>0.0%</td>\n",
       "                </tr>\n",
       "                <tr class=\"ignore\">\n",
       "                    <th>Infinite (n)</th>\n",
       "                    <td>0</td>\n",
       "                </tr>\n",
       "            </table>\n",
       "\n",
       "        </div>\n",
       "        <div class=\"col-sm-6\">\n",
       "            <table class=\"stats \">\n",
       "\n",
       "                <tr>\n",
       "                    <th>Mean</th>\n",
       "                    <td>5.8497</td>\n",
       "                </tr>\n",
       "                <tr>\n",
       "                    <th>Minimum</th>\n",
       "                    <td>4.3</td>\n",
       "                </tr>\n",
       "                <tr>\n",
       "                    <th>Maximum</th>\n",
       "                    <td>7.9</td>\n",
       "                </tr>\n",
       "                <tr class=\"ignore\">\n",
       "                    <th>Zeros (%)</th>\n",
       "                    <td>0.0%</td>\n",
       "                </tr>\n",
       "            </table>\n",
       "        </div>\n",
       "    </div>\n",
       "</div>\n",
       "<div class=\"col-md-3 collapse in\" id=\"minihistogram8008492356935268567\">\n",
       "    <img src=\"data:image/png;base64,iVBORw0KGgoAAAANSUhEUgAAAMgAAABLCAYAAAA1fMjoAAAABHNCSVQICAgIfAhkiAAAAAlwSFlzAAAPYQAAD2EBqD%2BnaQAAADl0RVh0U29mdHdhcmUAbWF0cGxvdGxpYiB2ZXJzaW9uIDMuMC4yLCBodHRwOi8vbWF0cGxvdGxpYi5vcmcvOIA7rQAAAdpJREFUeJzt3EGu0lAYhuG/xCkwJ3QXLsI9OXboflyEu4CwgDYOHEgdKE70frnXpKcUnmcIJKckffNz2tBumqapGjufz9X3fetlWbnT6VTH47Hpmu%2Barvbbdrutql9feLfbLXEIrMgwDNX3/Z/zpqVFAum6rqqqdrvdqgJ5//HLmz7/9dOHmY7kOd3Om5Y2zVeEFVlkgvCyt06pKpNqTiYIBAKBQCAQCAQCgUAgEAge4jKvS6PMxQSBQCAQCAQCgUAgEAgEAsFDXOZ9dv6nMh8TBAKBQOAn1oz%2B5w4/98UEgUAgEAgEgqfdg9gf8BomCAQCgUAgEAgEAoFAIBAIBALB3d0HcX%2BCe2KCQCAQCAQCgUAguLtNOvNr9ajWR3gkrAkCgQnCqzzr5XcTBAKBQCAQCAQCgUAgEAgEAoFgkfsg0zRVVdUwDH%2B99%2BP7t9aHwx351zlxe%2B123rS0SCDjOFZVVd/3SyzPHdt/fvm9cRxrv9%2B3O5iq6qYFsrxer3W5XGq73VbXda2XZ2WmaapxHOtwONRm03ZXsEggsBY26RAIBAKBQCAQCAQCgUAgEAgEAoFAIBAIBAKBQCAQCAQCgUAgEAgEAoFAIBAIBAKBQCAQCAQCgUAgEAgEPwEXf1Ud1FcGPAAAAABJRU5ErkJggg%3D%3D\">\n",
       "\n",
       "</div>\n",
       "<div class=\"col-md-12 text-right\">\n",
       "    <a role=\"button\" data-toggle=\"collapse\" data-target=\"#descriptives8008492356935268567,#minihistogram8008492356935268567\"\n",
       "       aria-expanded=\"false\" aria-controls=\"collapseExample\">\n",
       "        Toggle details\n",
       "    </a>\n",
       "</div>\n",
       "<div class=\"row collapse col-md-12\" id=\"descriptives8008492356935268567\">\n",
       "    <ul class=\"nav nav-tabs\" role=\"tablist\">\n",
       "        <li role=\"presentation\" class=\"active\"><a href=\"#quantiles8008492356935268567\"\n",
       "                                                  aria-controls=\"quantiles8008492356935268567\" role=\"tab\"\n",
       "                                                  data-toggle=\"tab\">Statistics</a></li>\n",
       "        <li role=\"presentation\"><a href=\"#histogram8008492356935268567\" aria-controls=\"histogram8008492356935268567\"\n",
       "                                   role=\"tab\" data-toggle=\"tab\">Histogram</a></li>\n",
       "        <li role=\"presentation\"><a href=\"#common8008492356935268567\" aria-controls=\"common8008492356935268567\"\n",
       "                                   role=\"tab\" data-toggle=\"tab\">Common Values</a></li>\n",
       "        <li role=\"presentation\"><a href=\"#extreme8008492356935268567\" aria-controls=\"extreme8008492356935268567\"\n",
       "                                   role=\"tab\" data-toggle=\"tab\">Extreme Values</a></li>\n",
       "\n",
       "    </ul>\n",
       "\n",
       "    <div class=\"tab-content\">\n",
       "        <div role=\"tabpanel\" class=\"tab-pane active row\" id=\"quantiles8008492356935268567\">\n",
       "            <div class=\"col-md-4 col-md-offset-1\">\n",
       "                <p class=\"h4\">Quantile statistics</p>\n",
       "                <table class=\"stats indent\">\n",
       "                    <tr>\n",
       "                        <th>Minimum</th>\n",
       "                        <td>4.3</td>\n",
       "                    </tr>\n",
       "                    <tr>\n",
       "                        <th>5-th percentile</th>\n",
       "                        <td>4.6</td>\n",
       "                    </tr>\n",
       "                    <tr>\n",
       "                        <th>Q1</th>\n",
       "                        <td>5.1</td>\n",
       "                    </tr>\n",
       "                    <tr>\n",
       "                        <th>Median</th>\n",
       "                        <td>5.8</td>\n",
       "                    </tr>\n",
       "                    <tr>\n",
       "                        <th>Q3</th>\n",
       "                        <td>6.4</td>\n",
       "                    </tr>\n",
       "                    <tr>\n",
       "                        <th>95-th percentile</th>\n",
       "                        <td>7.26</td>\n",
       "                    </tr>\n",
       "                    <tr>\n",
       "                        <th>Maximum</th>\n",
       "                        <td>7.9</td>\n",
       "                    </tr>\n",
       "                    <tr>\n",
       "                        <th>Range</th>\n",
       "                        <td>3.6</td>\n",
       "                    </tr>\n",
       "                    <tr>\n",
       "                        <th>Interquartile range</th>\n",
       "                        <td>1.3</td>\n",
       "                    </tr>\n",
       "                </table>\n",
       "            </div>\n",
       "            <div class=\"col-md-4 col-md-offset-2\">\n",
       "                <p class=\"h4\">Descriptive statistics</p>\n",
       "                <table class=\"stats indent\">\n",
       "                    <tr>\n",
       "                        <th>Standard deviation</th>\n",
       "                        <td>0.82721</td>\n",
       "                    </tr>\n",
       "                    <tr>\n",
       "                        <th>Coef of variation</th>\n",
       "                        <td>0.14141</td>\n",
       "                    </tr>\n",
       "                    <tr>\n",
       "                        <th>Kurtosis</th>\n",
       "                        <td>-0.5462</td>\n",
       "                    </tr>\n",
       "                    <tr>\n",
       "                        <th>Mean</th>\n",
       "                        <td>5.8497</td>\n",
       "                    </tr>\n",
       "                    <tr>\n",
       "                        <th>MAD</th>\n",
       "                        <td>0.68622</td>\n",
       "                    </tr>\n",
       "                    <tr class=\"\">\n",
       "                        <th>Skewness</th>\n",
       "                        <td>0.30494</td>\n",
       "                    </tr>\n",
       "                    <tr>\n",
       "                        <th>Sum</th>\n",
       "                        <td>871.6</td>\n",
       "                    </tr>\n",
       "                    <tr>\n",
       "                        <th>Variance</th>\n",
       "                        <td>0.68427</td>\n",
       "                    </tr>\n",
       "                    <tr>\n",
       "                        <th>Memory size</th>\n",
       "                        <td>1.2 KiB</td>\n",
       "                    </tr>\n",
       "                </table>\n",
       "            </div>\n",
       "        </div>\n",
       "        <div role=\"tabpanel\" class=\"tab-pane col-md-8 col-md-offset-2\" id=\"histogram8008492356935268567\">\n",
       "            <img src=\"data:image/png;base64,iVBORw0KGgoAAAANSUhEUgAAAlgAAAGQCAYAAAByNR6YAAAABHNCSVQICAgIfAhkiAAAAAlwSFlzAAAPYQAAD2EBqD%2BnaQAAADl0RVh0U29mdHdhcmUAbWF0cGxvdGxpYiB2ZXJzaW9uIDMuMC4yLCBodHRwOi8vbWF0cGxvdGxpYi5vcmcvOIA7rQAAIABJREFUeJzt3Xl0VOXBx/HfmIQJ0CSs2UzAwAGRRQqEw6qgaJBFq1gFERpQKVREMSKLvGqslaB1q1JRrAKK%2B4JiVTBYCGBAIYAIUoiAEiURsJiFQtie9w9f5nVMAgGfzJ3LfD/n3HO82%2BT3eE/Gn8%2B9mfEYY4wAAABgzVlOBwAAADjTULAAAAAso2ABAABYRsECAACwjIIFAABgGQULAADAMgoWAACAZRQsAAAAyyhYAAAAllGwAAAALKNgAQAAWEbBAgAAsIyCBQAAYBkFCwAAwDIKFgAAgGUULAAAAMsoWAAAAJZRsAAAACyjYAEAAFhGwQIAALCMggUAAGAZBQsAAMAyChYAAIBlFCwAAADLKFgAAACWUbAAAAAso2ABAABYRsECAACwjIIFAABgGQULAADAMgoWAACAZRQsAAAAyyhYAAAAllGwAAAALKNgAQAAWEbBAgAAsIyCBQAAYBkFCwAAwLJwpwOEgmPHjmnXrl2KioqSx%2BNxOg4AACHBGKPS0lIlJibqrLMCO6dEwQqAXbt2KTk52ekYAACEpIKCAiUlJQX0Z1KwAiAqKkrSTxc4Ojra4TQAAISGkpISJScn%2B/47HEgUrAA4flswOjqaggUAQIA58XgOD7kDAABYRsECAACwjIIFAABgGQULAADAMgoWAACAZRQsAAAAyyhYAAAAllGwAAAALKNgAQAAWEbBAgAAsIyCBQAAYBkFCwAAwDK%2B7Bk4Q6ROXeh0hGpb88BlTkcAgBrFDBYAAIBlFCwAAADLKFgAAACWUbAAAAAso2ABAABYRsECAACwjIIFAABgGQULAADAMgoWAACAZRQsAAAAyyhYAAAAlvFdhABwEm76nkeJ73oEggEzWAAAAJZRsAAAACyjYAEAAFhGwQIAALCMggUAAGBZyBesrKwsde7cWVFRUYqNjdWVV16pLVu2%2BB3Tu3dveTwev2XIkCEOJQYAAMEu5AtWTk6Oxo4dq1WrVik7O1tHjhxRWlqa9u/f73fcqFGjVFhY6FueeeYZhxIDAIBgF/Kfg7Vwof/n28yePVuxsbHKy8vThRde6Ntep04dxcfHBzoeAABwoZCfwfql4uJiSVKDBg38tr/00ktq1KiR2rRpowkTJqi0tNSJeAAAwAVCfgbr54wxysjIUM%2BePdW2bVvf9uuvv14pKSmKj4/Xxo0bNWXKFH3%2B%2BefKzs6u9HXKy8tVXl7uWy8pKanx7AAAIHhQsH7mlltu0YYNG7RixQq/7aNGjfL9c9u2bdWiRQulpqZq7dq16tixY4XXycrK0n333VfjeQEAQHDiFuH/GTdunBYsWKAlS5YoKSnphMd27NhRERERys/Pr3T/lClTVFxc7FsKCgpqIjIAAAhSIT%2BDZYzRuHHjNH/%2BfC1dulQpKSknPWfTpk06fPiwEhISKt3v9Xrl9XptRwUAAC4R8gVr7Nixevnll/Xuu%2B8qKipKRUVFkqSYmBjVrl1b27Zt00svvaT%2B/furUaNG%2BvLLL3XHHXeoQ4cO6tGjh8PpAQBAMAr5W4QzZ85UcXGxevfurYSEBN/y2muvSZJq1aqljz/%2BWH379tW5556rW2%2B9VWlpaVq8eLHCwsIcTg8AAIJRyM9gGWNOuD85OVk5OTkBSgMAAM4EIT%2BDBQAAYBsFCwAAwDIKFgAAgGUULAAAAMsoWAAAAJZRsAAAACyjYAEAAFhGwQIAALCMggUAAGAZBQsAAMAyChYAAIBlFCwAAADLKFgAAACWUbAAAAAso2ABAABYRsECAACwjIIFAABgGQULAADAMgoWAACAZRQsAAAAyyhYAAAAllGwAAAALKNgAQAAWEbBAgAAsIyCBQAAYBkFCwAAwDIKFgAAgGUULAAAAMvCnQ6A0JE6daHTEU7JmgcuczoCAMClmMECAACwjIIFAABgGQULAADAMgoWAACAZRQsAAAAyyhYAAAAllGwAAAALKNgAQAAWEbBAgAAsIyCBQAAYBkFCwAAwDIKFgAAgGUULAAAAMsoWAAAAJZRsAAAACyjYAEAAFhGwQIAALAs5AtWVlaWOnfurKioKMXGxurKK6/Uli1b/I4pLy/XuHHj1KhRI9WtW1dXXHGFvv32W4cSAwCAYBfyBSsnJ0djx47VqlWrlJ2drSNHjigtLU379%2B/3HTN%2B/HjNnz9fr776qlasWKGysjINHDhQR48edTA5AAAIVuFOB3DawoUL/dZnz56t2NhY5eXl6cILL1RxcbGee%2B45vfjii7rkkkskSfPmzVNycrIWL16svn37OhEbAAAEsZCfwfql4uJiSVKDBg0kSXl5eTp8%2BLDS0tJ8xyQmJqpt27bKzc2t9DXKy8tVUlLitwAAgNBBwfoZY4wyMjLUs2dPtW3bVpJUVFSkWrVqqX79%2Bn7HxsXFqaioqNLXycrKUkxMjG9JTk6u8ewAACB4ULB%2B5pZbbtGGDRv0yiuvnPRYY4w8Hk%2Bl%2B6ZMmaLi4mLfUlBQYDsqAAAIYhSs/zNu3DgtWLBAS5YsUVJSkm97fHy8Dh06pH379vkdv3v3bsXFxVX6Wl6vV9HR0X4LAAAIHSFfsIwxuuWWW/T222/rX//6l1JSUvz2d%2BrUSREREcrOzvZtKyws1MaNG9W9e/dAxwUAAC4Q8n9FOHbsWL388st69913FRUV5XuuKiYmRrVr11ZMTIxuvPFG3XHHHWrYsKEaNGigCRMmqF27dr6/KgQAAPi5kC9YM2fOlCT17t3bb/vs2bM1YsQISdJjjz2m8PBwXXvttTpw4ID69OmjOXPmKCwsLMBpAQCAG4R8wTLGnPSYyMhIPfnkk3ryyScDkAgAALhdyD%2BDBQAAYBsFCwAAwDIKFgAAgGUULAAAAMsoWAAAAJZRsAAAACyjYAEAAFhGwQIAALCMggUAAGAZBQsAAMAyChYAAIBlFCwAAADLKFgAAACWUbAAAAAso2ABAABYRsECAACwLNzpAAAAu1KnLnQ6QrWteeAypyMANYIZLAAAAMsoWAAAAJZRsAAAACyjYAEAAFhGwQIAALCMggUAAGAZBQsAAMAyChYAAIBlri1Y8%2BbN08GDB52OAQAAUIFrC1ZGRobi4%2BM1evRoffbZZ07HAQAA8HFtwdq1a5eef/55FRYWqmfPnmrTpo0eeeQR7dmzx%2BloAAAgxLm2YIWHh2vQoEFasGCBdu7cqfT0dD3//PNKSkrSoEGD9P7778sY43RMAAAQglxbsH4uPj5effr0Ue/eveXxeLRmzRoNHTpULVq00PLly52OBwAAQoyrC9bevXv1%2BOOPq3379urRo4d2796td955R998842%2B%2B%2B47DRw4UH/4wx%2BcjgkAAEJMuNMBTtdVV12lDz74QCkpKbrpppuUnp6uxo0b%2B/b/5je/0cSJE/XEE084mBIAAIQi1xas6OhoLV68WBdccEGVxyQkJCg/Pz%2BAqQAAAFxcsObOnXvSYzwej5o3bx6ANAAAAP/Ptc9g3X777ZoxY0aF7X//%2B991xx13OJAIAADgJ64tWG%2B88Ya6du1aYXu3bt302muvOZAIAADgJ64tWHv37lX9%2BvUrbI%2BOjtbevXsdSAQAAPAT1xas5s2ba9GiRRW2L1q0SCkpKQ4kAgAA%2BIlrH3IfP368xo8frx9%2B%2BEEXX3yxJOnjjz/WQw89pIcfftjhdABOJHXqQqcjAECNcm3BGjVqlA4ePKhp06bp3nvvlSQlJSXpiSee0A033OBwOgAAEMpcW7Akady4cRo3bpwKCwtVu3Zt1atXz%2BlIAAAA7i5YxyUkJDgdAQAAwMe1D7nv2bNHI0eOVJMmTRQZGalatWr5LQAAAE5x7QzWiBEjtG3bNt15551KSEiQx%2BNxOhIAAIAkFxesZcuWadmyZerQoYPTUQAAAPy49hZhUlKSlVmrZcuW6fLLL1diYqI8Ho/eeecdv/0jRoyQx%2BPxWyr7BHkAAIDjXFuwHnvsMU2ZMkXffvvtr3qd/fv3q3379pV%2Br%2BFxl112mQoLC33LBx988Kt%2BJgAAOLO59hbh8OHDVVpaqqZNmyo6OloRERF%2B%2B3fv3l2t1%2BnXr5/69et3wmO8Xq/i4%2BNPOysAAAgtri1Y06dPD9jPWrp0qWJjY1WvXj316tVLDzzwgGJjYwP28wEAgLu4tmDdeOONAfk5/fr10zXXXKOmTZtqx44duvvuu3XxxRcrLy9PXq%2B30nPKy8tVXl7uWy8pKQlIVgAAEBxc%2BwyWJH399dfKzMzU8OHDfbcEP/roI23evNnazxg8eLAGDBigtm3b6vLLL9eHH36orVu36v3336/ynKysLMXExPiW5ORka3kAAEDwc23BWr58udq0aaOcnBy9/vrrKisrkyStXbtW99xzT4393ISEBDVt2lT5%2BflVHjNlyhQVFxf7loKCghrLAwAAgo9rC9akSZOUmZmpJUuW%2BH1y%2B8UXX6xVq1bV2M/94YcfVFBQcMKv5/F6vYqOjvZbAABA6HDtM1gbNmzQSy%2B9VGF7bGys9uzZU%2B3XKSsr01dffeVb37Fjh9avX68GDRqoQYMGyszM1NVXX62EhAR9/fXXuuuuu9SoUSNdddVVVsYBAADOPK6dwapXr56KiooqbF%2B/fr3OPvvsar/OmjVr1KFDB98nwmdkZKhDhw665557FBYWpi%2B%2B%2BEK/%2B93v1LJlS6Wnp6tly5ZauXKloqKirI0FAACcWVw7gzVkyBBNnjxZb775pu8T3T/99FNNmDBBw4YNq/br9O7dW8aYKvcvWrToV2cFAAChxbUzWNOmTVN8fLwSEhJUVlam1q1bq3v37urcubPuvvtup%2BMBAIAQ5toZrFq1aum1117T1q1btXbtWh07dkwdO3ZUq1atnI4GAABCnGsL1nEtW7ZUy5YtnY4BAADg49qC9cc//vGE%2B2fNmhWgJAAAAP5cW7AKCwv91g8fPqxNmzaptLRUF154oUOpAAAAXFyw3nvvvQrbjhw5oj/96U8677zzHEiEM03q1IVORwAAuJRr/4qwMuHh4ZowYYL%2B%2Bte/Oh0FAACEsDOqYEnS9u3bdfjwYadjAACAEObaW4QTJ070WzfGqLCwUAsWLND111/vUCoAAAAXF6yVK1f6rZ911llq3Lixpk%2BfrlGjRjmUCgAAwMUFa/ny5U5HAAAAqNQZ9wwWAACA01w7g9W5c2fflzyfzGeffVbDaQAAAP6fawvWRRddpGeeeUYtW7ZUt27dJEmrVq3Sli1bNHr0aHm9XocTAgCAUOXagvXjjz9q7NixmjZtmt/2qVOn6vvvv9c//vEPh5IBAIBQ59pnsF5//XWNHDmywvYRI0bojTfecCARAADAT1xbsLxer3Jzcytsz83N5fYgAABwlGtvEd56660aM2aM1q1bp65du0r66RmsZ599VnfddZfD6QAAQChzbcGaOnWqUlJS9Le//U3PP/%2B8JOm8887Ts88%2Bq6FDhzqcDgAAhDLXFixJGjp0KGUKAAAEHdc%2BgyVJJSUlmjNnju655x7t27dPkvT555%2BrsLDQ4WQAACCUuXYGa%2BPGjbrkkktUp04dFRQUaMSIEapfv75ef/11ffvtt5o7d67TEQEAQIhy7QzW7bffrqFDh2rbtm2KjIz0bR8wYICWLVvmYDIAABDqXDuDtXr1as2cObPC1%2BWcffbZ3CIEAACOcu0MVq1atVRWVlZhe35%2Bvho1auRAIgAAgJ%2B4tmBdccUVuv/%2B%2B3XkyBFJksfj0XfffafJkydr0KBBDqcDAAChzLUF65FHHtGuXbsUHx%2BvAwcO6OKLL1azZs0UGRlZ4fsJAQAAAsm1z2DFxMQoNzdX2dnZWrt2rY4dO6aOHTuqb9%2B%2BFZ7LAgAACCRXFqzDhw%2Brf//%2Beuqpp5SWlqa0tDSnIwEAAPi48hZhRESE1q1bx0wVAAAISq4sWJI0bNgwzZ492%2BkYAAAAFbjyFuFxM2bM0OLFi5Wamqq6dev67XvooYccSgUAAEKdawtWXl6ezj//fEnShg0b/PZx6xAAADjJdQVr%2B/btSklJ0fLly52OAgAAUCnXPYPVokUL7dmzx7c%2BePBgff/99w4mAgAA8Oe6gmWM8Vv/4IMPtH//fofSAAAAVOS6ggUAABDsXFewPB5PhYfYeagdAAAEE9c95G6M0YgRI%2BT1eiVJBw8e1JgxYyp8TMPbb7/tRDwAAAD3Faz09HS/9WHDhjmUBAAAoHKuK1h8ejsAAAh2rnsGCwAAINhRsAAAACyjYAEAAFhGwQIAALCMggUAAGBZyBesZcuW6fLLL1diYqI8Ho/eeecdv/3GGGVmZioxMVG1a9dW7969tWnTJofSAgAANwj5grV//361b99eM2bMqHT/Qw89pEcffVQzZszQ6tWrFR8fr0svvVSlpaUBTgoAANzCdZ%2BDZVu/fv3Ur1%2B/SvcZY/T4449r6tSpGjRokCRp7ty5iouL08svv6zRo0cHMioAAHCJkJ/BOpEdO3aoqKhIaWlpvm1er1e9evVSbm5uleeVl5erpKTEbwEAAKGDgnUCRUVFkqS4uDi/7XFxcb59lcnKylJMTIxvSU5OrtGcAAAguFCwqsHj8fitG2MqbPu5KVOmqLi42LcUFBTUdEQAABBEQv4ZrBOJj4%2BX9NNMVkJCgm/77t27K8xq/ZzX65XX663xfAAAIDgxg3UCKSkpio%2BPV3Z2tm/boUOHlJOTo%2B7duzuYDAAABLOQn8EqKyvTV1995VvfsWOH1q9frwYNGqhJkyYaP368pk2bphYtWqhFixaaNm2a6tSpo6FDhzqYGgAABLOQL1hr1qzRRRdd5FvPyMiQJKWnp2vOnDmaOHGiDhw4oJtvvln79u1Tly5d9NFHHykqKsqpyAAAIMh5jDHG6RBnupKSEsXExKi4uFjR0dFOx3FM6tSFTkcAEGTWPHCZ0xFwBnPyv788gwUAAGAZBQsAAMAyChYAAIBlFCwAAADLQv6vCN2OB8cBAAg%2BzGABAABYRsECAACwjIIFAABgGQULAADAMgoWAACAZRQsAAAAyyhYAAAAllGwAAAALKNgAQAAWEbBAgAAsIyCBQAAYBkFCwAAwDIKFgAAgGUULAAAAMsoWAAAAJZRsAAAACyjYAEAAFhGwQIAALCMggUAAGAZBQsAAMAyChYAAIBlFCwAAADLKFgAAACWUbAAAAAso2ABAABYRsECAACwjIIFAABgGQULAADAMgoWAACAZRQsAAAAyyhYAAAAllGwAAAALKNgAQAAWBbudAAAQOhKnbrQ6QinZM0Dlzkd4ZS46d%2Bv2/7dngwzWAAAAJZRsAAAACyjYAEAAFhGwQIAALCMggUAAGAZBQsAAMAyCtZJZGZmyuPx%2BC3x8fFOxwIAAEGMz8GqhjZt2mjx4sW%2B9bCwMAfTAACAYEfBqobw8HBmrQAAQLVxi7Aa8vPzlZiYqJSUFA0ZMkTbt293OhIAAAhizGCdRJcuXfTCCy%2BoZcuW%2Bv777/WXv/xF3bt316ZNm9SwYcNKzykvL1d5eblvvaSkJFBxAQBAEKBgnUS/fv18/9yuXTt169ZNzZs319y5c5WRkVHpOVlZWbrvvvsCFREAECBu%2Bm4/OItbhKeobt26ateunfLz86s8ZsqUKSouLvYtBQUFAUwIAACcxgzWKSovL9fmzZt1wQUXVHmM1%2BuV1%2BsNYCoAABBMmME6iQkTJignJ0c7duzQp59%2Bqt///vcqKSlRenq609EAAECQYgbrJL799ltdd9112rt3rxo3bqyuXbtq1apVatq0qdPRAABAkKJgncSrr77qdAQAAOAy3CIEAACwjIIFAABgGQULAADAMgoWAACAZRQsAAAAyyhYAAAAllGwAAAALKNgAQAAWEbBAgAAsIyCBQAAYBkFCwAAwDIKFgAAgGUULAAAAMsoWAAAAJZRsAAAACyjYAEAAFhGwQIAALCMggUAAGAZBQsAAMAyChYAAIBlFCwAAADLKFgAAACWUbAAAAAso2ABAABYRsECAACwjIIFAABgGQULAADAMgoWAACAZRQsAAAAyyhYAAAAllGwAAAALKNgAQAAWEbBAgAAsIyCBQAAYBkFCwAAwDIKFgAAgGUULAAAAMsoWAAAAJZRsAAAACyjYAEAAFhGwQIAALCMggUAAGAZBQsAAMAyChYAAIBlFCwAAADLKFgAAACWUbCq6amnnlJKSooiIyPVqVMnLV%2B%2B3OlIAAAgSFGwquG1117T%2BPHjNXXqVK1bt04XXHCB%2BvXrp507dzodDQAABCEKVjU8%2BuijuvHGG3XTTTfpvPPO0%2BOPP67k5GTNnDnT6WgAACAIhTsdINgdOnRIeXl5mjx5st/2tLQ05ebmVnpOeXm5ysvLfevFxcWSpJKSEuv5jpbvt/6aAAAEWk38N/L4axpjrL/2yVCwTmLv3r06evSo4uLi/LbHxcWpqKio0nOysrJ03333VdienJxcIxkBAHC7mEdq7rVLS0sVExNTcz%2BgEhSsavJ4PH7rxpgK246bMmWKMjIyfOvHjh3Tf/7zHzVs2LDKc4JRSUmJkpOTVVBQoOjoaKfjBESojTnUxiuF3phDbbwSYw6FMVd3vMYYlZaWKjExMYDpfkLBOolGjRopLCyswmzV7t27K8xqHef1euX1ev221atXr8Yy1rTo6OiQ%2BIX9uVAbc6iNVwq9MYfaeCXGHAqqM95Az1wdx0PuJ1GrVi116tRJ2dnZftuzs7PVvXt3h1IBAIBgxgxWNWRkZGj48OFKTU1Vt27dNGvWLO3cuVNjxoxxOhoAAAhCYZmZmZlOhwh2bdu2VcOGDTVt2jQ9/PDDOnDggF588UW1b9/e6Wg1LiwsTL1791Z4eOh08VAbc6iNVwq9MYfaeCXGHAqCfbwe48TfLgIAAJzBeAYLAADAMgoWAACAZRQsAAAAyyhYAAAAllGwIOmnr/fxeDwaP358lcfMmTNHHo%2BnwnLw4MEAJj19mZmZFbLHx8ef8JycnBx16tRJkZGRatasmZ5%2B%2BukApf31TnW8S5curfT6/vvf/w5g6l/vu%2B%2B%2B07Bhw9SwYUPVqVNHv/3tb5WXl3fCc9x8nU91vG6/zuecc06l%2BceOHVvlOW%2B99ZZat24tr9er1q1ba/78%2BQFM/Oud6pjd/l595MgR/c///I9SUlJUu3ZtNWvWTH/%2B85917NixE54XbL/Hwfm3jQio1atXa9asWTr//PNPemx0dLS2bNnity0yMrKmolnXpk0bLV682LceFhZW5bE7duxQ//79NWrUKM2bN0%2BffPKJbr75ZjVu3FhXX311IOL%2Baqcy3uO2bNni98nIjRs3rpFsNWHfvn3q0aOHLrroIn344YeKjY3Vtm3bTvhNCm6%2Bzqcz3uPcep1Xr16to0eP%2BtY3btyoSy%2B9VNdcc02lx69cuVKDBw/W/fffr6uuukrz58/XtddeqxUrVqhLly6Biv2rnOqYJXe/Vz/44IN6%2BumnNXfuXLVp00Zr1qzRyJEjFRMTo9tuu63Sc4Ly99ggpJWWlpoWLVqY7Oxs06tXL3PbbbdVeezs2bNNTExMANPZde%2B995r27dtX%2B/iJEyeaVq1a%2BW0bPXq06dq1q%2B1oNeJUx7tkyRIjyezbt68GU9WsSZMmmZ49e57SOW6%2Bzqcz3jPhOv/cbbfdZpo3b26OHTtW6f5rr73WXHbZZX7b%2Bvbta4YMGRKIeDXiZGN2%2B3v1gAEDzA033OC3bdCgQWbYsGFVnhOMv8fcIgxxY8eO1YABA3TJJZdU6/iysjI1bdpUSUlJGjhwoNatW1fDCe3Kz89XYmKiUlJSNGTIEG3fvr3KY1euXKm0tDS/bX379tWaNWt0%2BPDhmo5qxamM97gOHTooISFBffr00ZIlSwKQ0p4FCxYoNTVV11xzjWJjY9WhQwc9%2B%2ByzJzzHzdf5dMZ7nJuv83GHDh3SvHnzdMMNN8jj8VR6TFXXNzc3NxARravOmCV3v1f37NlTH3/8sbZu3SpJ%2Bvzzz7VixQr179%2B/ynOC8feYghXCXn31VeXl5SkrK6tax7dq1Upz5szRggUL9MorrygyMlI9evRQfn5%2BDSe1o0uXLnrhhRe0aNEiPfvssyoqKlL37t31ww8/VHp8UVFRhS/0jouL05EjR7R3795ARP5VTnW8CQkJmjVrlt566y29/fbbOvfcc9WnTx8tW7YswMlP3/bt2zVz5ky1aNFCixYt0pgxY3TrrbfqhRdeqPIcN1/n0xnvmXCdj3vnnXf0448/asSIEVUeU9X1LSoqquF0NaM6Y3b7e/WkSZN03XXXqVWrVoqIiFCHDh00fvx4XXfddVWeE5S/x47NncFRO3fuNLGxsWb9%2BvW%2BbSe7RfhLR48eNe3btzfjxo2riYg1rqyszMTFxZlHHnmk0v0tWrQw06ZN89u2YsUKI8kUFhYGIqJVJxtvZQYOHGguv/zyGkxlV0REhOnWrZvftnHjxp3wNoGbr/PpjLcybrvOx6WlpZmBAwee8JiIiAjz8ssv%2B22bN2%2Be8Xq9NRmtxlRnzL/ktvfqV155xSQlJZlXXnnFbNiwwbzwwgumQYMGZs6cOVWeE4y/x8xghai8vDzt3r1bnTp1Unh4uMLDw5WTk6MnnnhC4eHhfg9UVuWss85S586dXfN/Rb9Ut25dtWvXrsr88fHxFf4vd/fu3QoPD1fDhg0DEdGqk423Ml27dnXV9U1ISFDr1q39tp133nnauXNnlee4%2BTqfzngr47brLEnffPONFi9erJtuuumEx1V1fX852%2BEG1R3zL7ntvfrOO%2B/U5MmTNWTIELVr107Dhw/X7bfffsK7LcH4e0zBClF9%2BvTRF198ofXr1/uW1NRUXX/99Vq/fn21/trMGKP169crISEhAIntKy8v1%2BbNm6vM361bN2VnZ/tt%2B%2Bijj5SamqqIiIhARLTqZOOtzLp161x1fXv06FHhL6e2bt2qpk2bVnmOm6/z6Yy3Mm67zpI0e/ZsxcbGasCAASc8rqrr271795qMVyOqO%2BZfctt79X//%2B186NqoMAAACl0lEQVSddZZ/PQkLCzvhxzQE5e%2BxI/NmCEq/vEU4fPhwM3nyZN96ZmamWbhwodm2bZtZt26dGTlypAkPDzeffvqpE3FP2R133GGWLl1qtm/fblatWmUGDhxooqKizNdff22MMWby5Mlm%2BPDhvuO3b99u6tSpY26//Xbz5Zdfmueee85ERESYN99806khnJJTHe9jjz1m5s%2Bfb7Zu3Wo2btxoJk%2BebCSZt956y6khnLLPPvvMhIeHmwceeMDk5%2Bebl156ydSpU8fMmzfPd8yZdJ1PZ7xnwnU%2BevSoadKkiZk0aVKFfb983/rkk09MWFiYmT59utm8ebOZPn26CQ8PN6tWrQpk5F/tVMbs9vfq9PR0c/bZZ5t//vOfZseOHebtt982jRo1MhMnTvQd44bfYwoWfH5ZsHr16mXS09N96%2BPHjzdNmjQxtWrVMo0bNzZpaWkmNzfXgaSnZ/DgwSYhIcFERESYxMREM2jQILNp0ybf/vT0dNOrVy%2B/c5YuXWo6dOhgatWqZc455xwzc%2BbMAKc%2Bfac63gcffNA0b97cREZGmvr165uePXua999/34Hkv857771n2rZta7xer2nVqpWZNWuW3/4z7Tqf6njPhOu8aNEiI8ls2bKlwr5fvm8ZY8wbb7xhzj33XBMREWFatWrlqjJ53KmM2e3v1SUlJea2224zTZo0MZGRkaZZs2Zm6tSppry83HeMG36PPcYY48zcGQAAwJmJZ7AAAAAso2ABAABYRsECAACwjIIFAABgGQULAADAMgoWAACAZRQsAAAAyyhYAAAAllGwAAAALKNgAQAAWEbBAgAAsIyCBQAAYBkFCwAAwDIKFgAAgGUULAAAAMsoWAAAAJZRsAAAACyjYAEAAFj2v7bZWzMfnDMcAAAAAElFTkSuQmCC\"/>\n",
       "        </div>\n",
       "        <div role=\"tabpanel\" class=\"tab-pane col-md-12\" id=\"common8008492356935268567\">\n",
       "            \n",
       "<table class=\"freq table table-hover\">\n",
       "    <thead>\n",
       "    <tr>\n",
       "        <td class=\"fillremaining\">Value</td>\n",
       "        <td class=\"number\">Count</td>\n",
       "        <td class=\"number\">Frequency (%)</td>\n",
       "        <td style=\"min-width:200px\">&nbsp;</td>\n",
       "    </tr>\n",
       "    </thead>\n",
       "    <tr class=\"\">\n",
       "        <td class=\"fillremaining\">5.0</td>\n",
       "        <td class=\"number\">10</td>\n",
       "        <td class=\"number\">6.7%</td>\n",
       "        <td>\n",
       "            <div class=\"bar\" style=\"width:14%\">&nbsp;</div>\n",
       "        </td>\n",
       "</tr><tr class=\"\">\n",
       "        <td class=\"fillremaining\">5.1</td>\n",
       "        <td class=\"number\">9</td>\n",
       "        <td class=\"number\">6.0%</td>\n",
       "        <td>\n",
       "            <div class=\"bar\" style=\"width:13%\">&nbsp;</div>\n",
       "        </td>\n",
       "</tr><tr class=\"\">\n",
       "        <td class=\"fillremaining\">6.3</td>\n",
       "        <td class=\"number\">9</td>\n",
       "        <td class=\"number\">6.0%</td>\n",
       "        <td>\n",
       "            <div class=\"bar\" style=\"width:13%\">&nbsp;</div>\n",
       "        </td>\n",
       "</tr><tr class=\"\">\n",
       "        <td class=\"fillremaining\">6.7</td>\n",
       "        <td class=\"number\">8</td>\n",
       "        <td class=\"number\">5.3%</td>\n",
       "        <td>\n",
       "            <div class=\"bar\" style=\"width:12%\">&nbsp;</div>\n",
       "        </td>\n",
       "</tr><tr class=\"\">\n",
       "        <td class=\"fillremaining\">5.7</td>\n",
       "        <td class=\"number\">8</td>\n",
       "        <td class=\"number\">5.3%</td>\n",
       "        <td>\n",
       "            <div class=\"bar\" style=\"width:12%\">&nbsp;</div>\n",
       "        </td>\n",
       "</tr><tr class=\"\">\n",
       "        <td class=\"fillremaining\">5.5</td>\n",
       "        <td class=\"number\">7</td>\n",
       "        <td class=\"number\">4.7%</td>\n",
       "        <td>\n",
       "            <div class=\"bar\" style=\"width:10%\">&nbsp;</div>\n",
       "        </td>\n",
       "</tr><tr class=\"\">\n",
       "        <td class=\"fillremaining\">5.8</td>\n",
       "        <td class=\"number\">7</td>\n",
       "        <td class=\"number\">4.7%</td>\n",
       "        <td>\n",
       "            <div class=\"bar\" style=\"width:10%\">&nbsp;</div>\n",
       "        </td>\n",
       "</tr><tr class=\"\">\n",
       "        <td class=\"fillremaining\">6.4</td>\n",
       "        <td class=\"number\">7</td>\n",
       "        <td class=\"number\">4.7%</td>\n",
       "        <td>\n",
       "            <div class=\"bar\" style=\"width:10%\">&nbsp;</div>\n",
       "        </td>\n",
       "</tr><tr class=\"\">\n",
       "        <td class=\"fillremaining\">6.0</td>\n",
       "        <td class=\"number\">6</td>\n",
       "        <td class=\"number\">4.0%</td>\n",
       "        <td>\n",
       "            <div class=\"bar\" style=\"width:9%\">&nbsp;</div>\n",
       "        </td>\n",
       "</tr><tr class=\"\">\n",
       "        <td class=\"fillremaining\">5.4</td>\n",
       "        <td class=\"number\">6</td>\n",
       "        <td class=\"number\">4.0%</td>\n",
       "        <td>\n",
       "            <div class=\"bar\" style=\"width:9%\">&nbsp;</div>\n",
       "        </td>\n",
       "</tr><tr class=\"other\">\n",
       "        <td class=\"fillremaining\">Other values (25)</td>\n",
       "        <td class=\"number\">72</td>\n",
       "        <td class=\"number\">48.0%</td>\n",
       "        <td>\n",
       "            <div class=\"bar\" style=\"width:100%\">&nbsp;</div>\n",
       "        </td>\n",
       "</tr>\n",
       "</table>\n",
       "        </div>\n",
       "        <div role=\"tabpanel\" class=\"tab-pane col-md-12\"  id=\"extreme8008492356935268567\">\n",
       "            <p class=\"h4\">Minimum 5 values</p>\n",
       "            \n",
       "<table class=\"freq table table-hover\">\n",
       "    <thead>\n",
       "    <tr>\n",
       "        <td class=\"fillremaining\">Value</td>\n",
       "        <td class=\"number\">Count</td>\n",
       "        <td class=\"number\">Frequency (%)</td>\n",
       "        <td style=\"min-width:200px\">&nbsp;</td>\n",
       "    </tr>\n",
       "    </thead>\n",
       "    <tr class=\"\">\n",
       "        <td class=\"fillremaining\">4.3</td>\n",
       "        <td class=\"number\">1</td>\n",
       "        <td class=\"number\">0.7%</td>\n",
       "        <td>\n",
       "            <div class=\"bar\" style=\"width:25%\">&nbsp;</div>\n",
       "        </td>\n",
       "</tr><tr class=\"\">\n",
       "        <td class=\"fillremaining\">4.4</td>\n",
       "        <td class=\"number\">3</td>\n",
       "        <td class=\"number\">2.0%</td>\n",
       "        <td>\n",
       "            <div class=\"bar\" style=\"width:75%\">&nbsp;</div>\n",
       "        </td>\n",
       "</tr><tr class=\"\">\n",
       "        <td class=\"fillremaining\">4.5</td>\n",
       "        <td class=\"number\">1</td>\n",
       "        <td class=\"number\">0.7%</td>\n",
       "        <td>\n",
       "            <div class=\"bar\" style=\"width:25%\">&nbsp;</div>\n",
       "        </td>\n",
       "</tr><tr class=\"\">\n",
       "        <td class=\"fillremaining\">4.6</td>\n",
       "        <td class=\"number\">4</td>\n",
       "        <td class=\"number\">2.7%</td>\n",
       "        <td>\n",
       "            <div class=\"bar\" style=\"width:100%\">&nbsp;</div>\n",
       "        </td>\n",
       "</tr><tr class=\"\">\n",
       "        <td class=\"fillremaining\">4.7</td>\n",
       "        <td class=\"number\">2</td>\n",
       "        <td class=\"number\">1.3%</td>\n",
       "        <td>\n",
       "            <div class=\"bar\" style=\"width:50%\">&nbsp;</div>\n",
       "        </td>\n",
       "</tr>\n",
       "</table>\n",
       "            <p class=\"h4\">Maximum 5 values</p>\n",
       "            \n",
       "<table class=\"freq table table-hover\">\n",
       "    <thead>\n",
       "    <tr>\n",
       "        <td class=\"fillremaining\">Value</td>\n",
       "        <td class=\"number\">Count</td>\n",
       "        <td class=\"number\">Frequency (%)</td>\n",
       "        <td style=\"min-width:200px\">&nbsp;</td>\n",
       "    </tr>\n",
       "    </thead>\n",
       "    <tr class=\"\">\n",
       "        <td class=\"fillremaining\">7.3</td>\n",
       "        <td class=\"number\">1</td>\n",
       "        <td class=\"number\">0.7%</td>\n",
       "        <td>\n",
       "            <div class=\"bar\" style=\"width:25%\">&nbsp;</div>\n",
       "        </td>\n",
       "</tr><tr class=\"\">\n",
       "        <td class=\"fillremaining\">7.4</td>\n",
       "        <td class=\"number\">1</td>\n",
       "        <td class=\"number\">0.7%</td>\n",
       "        <td>\n",
       "            <div class=\"bar\" style=\"width:25%\">&nbsp;</div>\n",
       "        </td>\n",
       "</tr><tr class=\"\">\n",
       "        <td class=\"fillremaining\">7.6</td>\n",
       "        <td class=\"number\">1</td>\n",
       "        <td class=\"number\">0.7%</td>\n",
       "        <td>\n",
       "            <div class=\"bar\" style=\"width:25%\">&nbsp;</div>\n",
       "        </td>\n",
       "</tr><tr class=\"\">\n",
       "        <td class=\"fillremaining\">7.7</td>\n",
       "        <td class=\"number\">4</td>\n",
       "        <td class=\"number\">2.7%</td>\n",
       "        <td>\n",
       "            <div class=\"bar\" style=\"width:100%\">&nbsp;</div>\n",
       "        </td>\n",
       "</tr><tr class=\"\">\n",
       "        <td class=\"fillremaining\">7.9</td>\n",
       "        <td class=\"number\">1</td>\n",
       "        <td class=\"number\">0.7%</td>\n",
       "        <td>\n",
       "            <div class=\"bar\" style=\"width:25%\">&nbsp;</div>\n",
       "        </td>\n",
       "</tr>\n",
       "</table>\n",
       "        </div>\n",
       "    </div>\n",
       "</div>\n",
       "</div><div class=\"row variablerow\">\n",
       "    <div class=\"col-md-3 namecol\">\n",
       "        <p class=\"h4 pp-anchor\" id=\"pp_var_sepal_width\">sepal_width<br/>\n",
       "            <small>Numeric</small>\n",
       "        </p>\n",
       "    </div><div class=\"col-md-6\">\n",
       "    <div class=\"row\">\n",
       "        <div class=\"col-sm-6\">\n",
       "            <table class=\"stats \">\n",
       "                <tr>\n",
       "                    <th>Distinct count</th>\n",
       "                    <td>23</td>\n",
       "                </tr>\n",
       "                <tr>\n",
       "                    <th>Unique (%)</th>\n",
       "                    <td>15.3%</td>\n",
       "                </tr>\n",
       "                <tr class=\"ignore\">\n",
       "                    <th>Missing (%)</th>\n",
       "                    <td>0.0%</td>\n",
       "                </tr>\n",
       "                <tr class=\"ignore\">\n",
       "                    <th>Missing (n)</th>\n",
       "                    <td>0</td>\n",
       "                </tr>\n",
       "                <tr class=\"ignore\">\n",
       "                    <th>Infinite (%)</th>\n",
       "                    <td>0.0%</td>\n",
       "                </tr>\n",
       "                <tr class=\"ignore\">\n",
       "                    <th>Infinite (n)</th>\n",
       "                    <td>0</td>\n",
       "                </tr>\n",
       "            </table>\n",
       "\n",
       "        </div>\n",
       "        <div class=\"col-sm-6\">\n",
       "            <table class=\"stats \">\n",
       "\n",
       "                <tr>\n",
       "                    <th>Mean</th>\n",
       "                    <td>3.054</td>\n",
       "                </tr>\n",
       "                <tr>\n",
       "                    <th>Minimum</th>\n",
       "                    <td>2</td>\n",
       "                </tr>\n",
       "                <tr>\n",
       "                    <th>Maximum</th>\n",
       "                    <td>4.4</td>\n",
       "                </tr>\n",
       "                <tr class=\"ignore\">\n",
       "                    <th>Zeros (%)</th>\n",
       "                    <td>0.0%</td>\n",
       "                </tr>\n",
       "            </table>\n",
       "        </div>\n",
       "    </div>\n",
       "</div>\n",
       "<div class=\"col-md-3 collapse in\" id=\"minihistogram-4639497467747534832\">\n",
       "    <img src=\"data:image/png;base64,iVBORw0KGgoAAAANSUhEUgAAAMgAAABLCAYAAAA1fMjoAAAABHNCSVQICAgIfAhkiAAAAAlwSFlzAAAPYQAAD2EBqD%2BnaQAAADl0RVh0U29mdHdhcmUAbWF0cGxvdGxpYiB2ZXJzaW9uIDMuMC4yLCBodHRwOi8vbWF0cGxvdGxpYi5vcmcvOIA7rQAAAdVJREFUeJzt3EGu0mAYhtGvxCllTuguXIR7cuzQ/bgIdwFhATQOHEgdKE70vrnXhL8tnDOkIX9J%2BvC1aaGbpmmqxk6nUw3D0HpZVu54PNbhcGi65rumq/223W6r6tcH7vt%2Bjl1gRS6XSw3D8Oe4aWmWQLquq6qqvu8fOpD3H7%2B8%2BT1fP324w548httx09Km%2BYqwIgKBQCAQCAQCgUAgEAgEAoFAIJjlRiEvc3NxWUwQCAQCgUAgEAgEAoFAIBAIBAL3Qd7gf%2B5RsG4mCAQCgeBpT7GcLvEaJggEAoFAIBAIBAKBQCAQCAQCgUAgEAgEAoFAIBAIBIKnfVjxmfnvrdczQSAQCAROsR6A37bcjwkCwUNMEN%2Bg3IsJAoFAIBAIBIu7BnE9wZKYIBAsboKwTK0m%2B9IeaTFBIJhlgkzTVFVVl8vlr20/vn9rvTssyL%2BOidtrt%2BOmpVkCGcexqqqGYZhjeRZs9/nlbeM41m63a7czVdVNM2R5vV7rfD7XdrutrutaL8/KTNNU4zjWfr%2BvzabtVcEsgcBauEiHQCAQCAQCgUAgEAgEAoFAIBAIBAKBQCAQCAQCgUAgEAgEAoFAIBAIBAKBQCAQCAQCgUAgEAgEAoFAIPgJhiNQhMo0PBwAAAAASUVORK5CYII%3D\">\n",
       "\n",
       "</div>\n",
       "<div class=\"col-md-12 text-right\">\n",
       "    <a role=\"button\" data-toggle=\"collapse\" data-target=\"#descriptives-4639497467747534832,#minihistogram-4639497467747534832\"\n",
       "       aria-expanded=\"false\" aria-controls=\"collapseExample\">\n",
       "        Toggle details\n",
       "    </a>\n",
       "</div>\n",
       "<div class=\"row collapse col-md-12\" id=\"descriptives-4639497467747534832\">\n",
       "    <ul class=\"nav nav-tabs\" role=\"tablist\">\n",
       "        <li role=\"presentation\" class=\"active\"><a href=\"#quantiles-4639497467747534832\"\n",
       "                                                  aria-controls=\"quantiles-4639497467747534832\" role=\"tab\"\n",
       "                                                  data-toggle=\"tab\">Statistics</a></li>\n",
       "        <li role=\"presentation\"><a href=\"#histogram-4639497467747534832\" aria-controls=\"histogram-4639497467747534832\"\n",
       "                                   role=\"tab\" data-toggle=\"tab\">Histogram</a></li>\n",
       "        <li role=\"presentation\"><a href=\"#common-4639497467747534832\" aria-controls=\"common-4639497467747534832\"\n",
       "                                   role=\"tab\" data-toggle=\"tab\">Common Values</a></li>\n",
       "        <li role=\"presentation\"><a href=\"#extreme-4639497467747534832\" aria-controls=\"extreme-4639497467747534832\"\n",
       "                                   role=\"tab\" data-toggle=\"tab\">Extreme Values</a></li>\n",
       "\n",
       "    </ul>\n",
       "\n",
       "    <div class=\"tab-content\">\n",
       "        <div role=\"tabpanel\" class=\"tab-pane active row\" id=\"quantiles-4639497467747534832\">\n",
       "            <div class=\"col-md-4 col-md-offset-1\">\n",
       "                <p class=\"h4\">Quantile statistics</p>\n",
       "                <table class=\"stats indent\">\n",
       "                    <tr>\n",
       "                        <th>Minimum</th>\n",
       "                        <td>2</td>\n",
       "                    </tr>\n",
       "                    <tr>\n",
       "                        <th>5-th percentile</th>\n",
       "                        <td>2.345</td>\n",
       "                    </tr>\n",
       "                    <tr>\n",
       "                        <th>Q1</th>\n",
       "                        <td>2.8</td>\n",
       "                    </tr>\n",
       "                    <tr>\n",
       "                        <th>Median</th>\n",
       "                        <td>3</td>\n",
       "                    </tr>\n",
       "                    <tr>\n",
       "                        <th>Q3</th>\n",
       "                        <td>3.3</td>\n",
       "                    </tr>\n",
       "                    <tr>\n",
       "                        <th>95-th percentile</th>\n",
       "                        <td>3.8</td>\n",
       "                    </tr>\n",
       "                    <tr>\n",
       "                        <th>Maximum</th>\n",
       "                        <td>4.4</td>\n",
       "                    </tr>\n",
       "                    <tr>\n",
       "                        <th>Range</th>\n",
       "                        <td>2.4</td>\n",
       "                    </tr>\n",
       "                    <tr>\n",
       "                        <th>Interquartile range</th>\n",
       "                        <td>0.5</td>\n",
       "                    </tr>\n",
       "                </table>\n",
       "            </div>\n",
       "            <div class=\"col-md-4 col-md-offset-2\">\n",
       "                <p class=\"h4\">Descriptive statistics</p>\n",
       "                <table class=\"stats indent\">\n",
       "                    <tr>\n",
       "                        <th>Standard deviation</th>\n",
       "                        <td>0.43359</td>\n",
       "                    </tr>\n",
       "                    <tr>\n",
       "                        <th>Coef of variation</th>\n",
       "                        <td>0.14198</td>\n",
       "                    </tr>\n",
       "                    <tr>\n",
       "                        <th>Kurtosis</th>\n",
       "                        <td>0.29078</td>\n",
       "                    </tr>\n",
       "                    <tr>\n",
       "                        <th>Mean</th>\n",
       "                        <td>3.054</td>\n",
       "                    </tr>\n",
       "                    <tr>\n",
       "                        <th>MAD</th>\n",
       "                        <td>0.33309</td>\n",
       "                    </tr>\n",
       "                    <tr class=\"\">\n",
       "                        <th>Skewness</th>\n",
       "                        <td>0.33405</td>\n",
       "                    </tr>\n",
       "                    <tr>\n",
       "                        <th>Sum</th>\n",
       "                        <td>458.1</td>\n",
       "                    </tr>\n",
       "                    <tr>\n",
       "                        <th>Variance</th>\n",
       "                        <td>0.188</td>\n",
       "                    </tr>\n",
       "                    <tr>\n",
       "                        <th>Memory size</th>\n",
       "                        <td>1.2 KiB</td>\n",
       "                    </tr>\n",
       "                </table>\n",
       "            </div>\n",
       "        </div>\n",
       "        <div role=\"tabpanel\" class=\"tab-pane col-md-8 col-md-offset-2\" id=\"histogram-4639497467747534832\">\n",
       "            <img src=\"data:image/png;base64,iVBORw0KGgoAAAANSUhEUgAAAlgAAAGQCAYAAAByNR6YAAAABHNCSVQICAgIfAhkiAAAAAlwSFlzAAAPYQAAD2EBqD%2BnaQAAADl0RVh0U29mdHdhcmUAbWF0cGxvdGxpYiB2ZXJzaW9uIDMuMC4yLCBodHRwOi8vbWF0cGxvdGxpYi5vcmcvOIA7rQAAIABJREFUeJzt3XtwVOXh//HPkpAFNVkJARLMyqQKKjdHCJWAl4AYiKIiWqBoBC94KUYxUGvgqw1tJYxaFaVmvFRAqxN0NEpHjURbEihGSeSuYxFRoiQErGRDCsvt/P7g59Y1CUngyZ497Ps1c2Z6zp49%2BeTp08mnzx7OuizLsgQAAABjOtgdAAAA4GRDwQIAADCMggUAAGAYBQsAAMAwChYAAIBhFCwAAADDKFgAAACGUbAAAAAMo2ABAAAYRsECAAAwjIIFAABgGAULAADAMAoWAACAYRQsAAAAwyhYAAAAhlGwAAAADKNgAQAAGEbBAgAAMIyCBQAAYBgFCwAAwDAKFgAAgGEULAAAAMMoWAAAAIZRsAAAAAyjYAEAABhGwQIAADCMggUAAGAYBQsAAMAwChYAAIBhFCwAAADDKFgAAACGUbAAAAAMo2ABAAAYRsECAAAwjIIFAABgGAULAADAMAoWAACAYRQsAAAAw6LtDhAJjhw5oh07dig2NlYul8vuOAAARATLslRfX6%2BePXuqQ4fQrilRsEJgx44d8nq9dscAACAiVVVVKTk5OaQ/k4IVArGxsZKO/hccFxdncxoAACKDz%2BeT1%2BsN/B0OJQpWCPz4sWBcXBwFCwCAELPj9hxucgcAADCMggUAAGAYBQsAAMAwChYAAIBhFCwAAADDKFgAAACGUbAAAAAMo2ABAAAYRsECAAAwjIIFAABgGAULAADAMAoWAACAYXzZM4CQS51TbHeENql4eIzdEQA4DCtYAAAAhlGwAAAADKNgAQAAGEbBAgAAMIyCBQAAYBgFCwAAwDAKFgAAgGEULAAAAMMoWAAAAIZRsAAAAAyjYAEAABhGwQIAADCMggUAAGAYBQsAAMAwChYAAIBhFCwAAADDKFgAAACGUbAAAAAMo2ABAAAYFvEFq6CgQAMHDlRcXJzi4uKUlpam9957L/B6enq6XC5X0DZp0iQbEwMAgHAXbXcAuyUnJ2v%2B/Pk6%2B%2ByzJUlLlizRNddco7Vr16pfv36SpGnTpukPf/hD4D2dO3e2JSsAAHCGiC9YV111VdD%2Bww8/rIKCApWXlwcK1imnnKLExEQ74gEAAAeK%2BI8If%2Brw4cMqLCxUQ0OD0tLSAsdfeeUVJSQkqF%2B/fpo1a5bq6%2BuPeR2/3y%2Bfzxe0AQCAyBHxK1iStHHjRqWlpWn//v067bTTVFRUpL59%2B0qSbrjhBqWkpCgxMVGbNm1Sbm6u1q9fr5KSkmavl5%2Bfr7lz54YqPgAACDMuy7Isu0PY7cCBA9q%2Bfbv27NmjN954Qy%2B88IJKS0sDJeunKisrlZqaqsrKSg0aNKjJ6/n9fvn9/sC%2Bz%2BeT1%2BtVXV2d4uLi2u33AJwidU6x3RHapOLhMXZHAHAcfD6fPB6PLX9/WcGSFBMTE7jJPTU1VWvWrNGCBQv07LPPNjp30KBB6tixo7Zs2dJswXK73XK73e2aGQAAhC/uwWqCZVlBK1A/tXnzZh08eFBJSUkhTgUAAJwi4lewZs%2BerczMTHm9XtXX16uwsFArVqxQcXGxtm7dqldeeUVXXHGFEhIS9Nlnn2nmzJm64IILNHz4cLujAwCAMBXxBWvnzp3KyspSdXW1PB6PBg4cqOLiYl1%2B%2BeWqqqrShx9%2BqAULFmjv3r3yer268sor9fvf/15RUVF2RwcAAGEq4gvWX//612Zf83q9Ki0tDWEaAABwMuAeLAAAAMMoWAAAAIZRsAAAAAyjYAEAABhGwQIAADCMggUAAGAYBQsAAMAwChYAAIBhFCwAAADDKFgAAACGUbAAAAAMo2ABAAAYRsECAAAwjIIFAABgGAULAADAMAoWAACAYRQsAAAAwyhYAAAAhlGwAAAADKNgAQAAGEbBAgAAMIyCBQAAYBgFCwAAwDAKFgAAgGEULAAAAMOi7Q4AAOEudU6x3RHapOLhMXZHACIeK1gAAACGUbAAAAAMo2ABAAAYFvEFq6CgQAMHDlRcXJzi4uKUlpam9957L/C63%2B9Xdna2EhISdOqpp%2Brqq6/Wt99%2Ba2NiAAAQ7iK%2BYCUnJ2v%2B/PmqqKhQRUWFRo4cqWuuuUabN2%2BWJM2YMUNFRUUqLCzUqlWrtHfvXo0dO1aHDx%2B2OTkAAAhXLsuyLLtDhJv4%2BHg9%2Buijuv7669WtWze9/PLLmjhxoiRpx44d8nq9evfddzV69OhWXc/n88nj8aiurk5xcXHtGR1wBKf9qzyn4V8RAkfZ%2Bfc34lewfurw4cMqLCxUQ0OD0tLSVFlZqYMHDyojIyNwTs%2BePdW/f3%2BtXr262ev4/X75fL6gDQAARA4KlqSNGzfqtNNOk9vt1p133qmioiL17dtXNTU1iomJUZcuXYLO79Gjh2pqapq9Xn5%2BvjweT2Dzer3t/SsAAIAwQsGSdM4552jdunUqLy/XXXfdpSlTpuizzz5r9nzLsuRyuZp9PTc3V3V1dYGtqqqqPWIDAIAwxZPcJcXExOjss8%2BWJKWmpmrNmjVasGCBJk6cqAMHDuiHH34IWsWqra3VsGHDmr2e2%2B2W2%2B1u99wAACA8sYLVBMuy5Pf7NXjwYHXs2FElJSWB16qrq7Vp06ZjFiwAABDZIn4Fa/bs2crMzJTX61V9fb0KCwu1YsUKFRcXy%2BPx6NZbb9XMmTPVtWtXxcfHa9asWRowYIBGjRpld3QAABCmIr5g7dy5U1lZWaqurpbH49HAgQNVXFysyy%2B/XJL0xBNPKDo6WhMmTNC%2Bfft02WWXafHixYqKirI5OQAACFc8BysEeA4WEIznYLUvnoMFHMVzsAAAAE4iFCwAAADDKFgAAACGUbAAAAAMo2ABAAAYRsECAAAwjIIFAABgGAULAADAMAoWAACAYRQsAAAAwyhYAAAAhlGwAAAADKNgAQAAGEbBAgAAMIyCBQAAYBgFCwAAwDAKFgAAgGEULAAAAMMoWAAAAIZRsAAAAAyjYAEAABhGwQIAADCMggUAAGAYBQsAAMAwChYAAIBhFCwAAADDKFgAAACGUbAAAAAMo2ABAAAYFvEFKz8/X0OGDFFsbKy6d%2B%2BucePG6Ysvvgg6Jz09XS6XK2ibNGmSTYkBAEC4i/iCVVpaqunTp6u8vFwlJSU6dOiQMjIy1NDQEHTetGnTVF1dHdieffZZmxIDAIBwF213ALsVFxcH7S9atEjdu3dXZWWlLrnkksDxU045RYmJiaGOBwAAHCjiV7B%2Brq6uTpIUHx8fdPyVV15RQkKC%2BvXrp1mzZqm%2Bvr7Za/j9fvl8vqANAABEjohfwfopy7KUk5Ojiy66SP379w8cv%2BGGG5SSkqLExERt2rRJubm5Wr9%2BvUpKSpq8Tn5%2BvubOnRuq2AAAIMy4LMuy7A4RLqZPn6533nlHq1atUnJycrPnVVZWKjU1VZWVlRo0aFCj1/1%2Bv/x%2Bf2Df5/PJ6/Wqrq5OcXFx7ZIdcJLUOcUtn4TjVvHwGLsjAGHB5/PJ4/HY8veXFaz/Lzs7W8uWLVNZWdkxy5UkDRo0SB07dtSWLVuaLFhut1tut7u9ogIAgDAX8QXLsixlZ2erqKhIK1asUEpKSovv2bx5sw4ePKikpKQQJAQAAE4T8QVr%2BvTpevXVV/X2228rNjZWNTU1kiSPx6POnTtr69ateuWVV3TFFVcoISFBn332mWbOnKkLLrhAw4cPtzk9AAAIRxH/rwgLCgpUV1en9PR0JSUlBbalS5dKkmJiYvThhx9q9OjROuecc3TPPfcoIyNDH3zwgaKiomxODwAAwlHEr2C1dI%2B/1%2BtVaWlpiNIAAICTgWNXsP72t79p//79dscAAABoxLEFKycnR4mJibrjjjv0ySef2B0HAAAgwLEfEe7YsUPLli3T4sWLddFFF6l379665ZZbdNNNN6lbt252xwNCjmdLAUD4cOwKVnR0tMaPH69ly5Zp%2B/btmjJlil588UUlJydr/Pjxeuedd1q8vwoAAKA9OLZg/VRiYqIuu%2Bwypaeny%2BVyqaKiQpMnT1bv3r21cuVKu%2BMBAIAI4%2BiCtXv3bj355JM6//zzNXz4cNXW1uqtt97SN998o%2B%2B%2B%2B05jx47VTTfdZHdMAAAQYRx7D9a1116rd999VykpKbrttts0ZcqUoHuvTjvtNN1///166qmnbEwJAAAikWMLVlxcnD744ANdfPHFzZ6TlJSkLVu2hDAVAACAgwvWkiVLWjzH5XLprLPOCkEaAACA/3HsPVj33XefFi5c2Oj4X/7yF82cOdOGRAAAAEc5tmC9/vrrGjp0aKPjaWlpge8RBAAAsINjC9bu3bvVpUuXRsfj4uK0e/duGxIBAAAc5diCddZZZ%2Bn9999vdPz9999XSkqKDYkAAACOcuxN7jNmzNCMGTP0/fffa%2BTIkZKkDz/8UI888ogee%2Bwxm9MBAIBI5tiCNW3aNO3fv1/z5s3T73//e0lScnKynnrqKd1yyy02pwMAAJHMsQVLkrKzs5Wdna3q6mp17txZp59%2But2RAAAAnF2wfpSUlGR3BAAAgADH3uS%2Ba9cu3XzzzTrzzDPVqVMnxcTEBG0AAAB2cewK1tSpU7V161b99re/VVJSklwul92RcJJJnVNsdwQAgEM5tmCVlZWprKxMF1xwgd1RAAAAgjj2I8Lk5GRWrQAAQFhybMF64oknlJubq2%2B//dbuKAAAAEEc%2BxFhVlaW6uvr1atXL8XFxaljx45Br9fW1tqUDAAARDrHFqz58%2BfbHQEAAKBJji1Yt956q90RAAAAmuTYe7Ak6euvv1ZeXp6ysrICHwkuX75cn3/%2Buc3JAABAJHNswVq5cqX69eun0tJSvfbaa9q7d68k6dNPP9VDDz1kczoAABDJHFuwfve73ykvL0///Oc/g57cPnLkSJWXl9uYDAAARDrHFqwNGzbo%2Buuvb3S8e/fu2rVrlw2JAAAAjnJswTr99NNVU1PT6Pi6det0xhlntPo6%2Bfn5GjJkiGJjY9W9e3eNGzdOX3zxRdA5fr9f2dnZSkhI0Kmnnqqrr76a528BAIBmObZgTZo0SQ888IB27doVeKL7xx9/rFmzZunGG29s9XVKS0s1ffp0lZeXq6SkRIcOHVJGRoYaGhoC58yYMUNFRUUqLCzUqlWrtHfvXo0dO1aHDx82/nsBAADnc1mWZdkd4ngcOHBAWVlZeuONN3TkyBHFxMTo4MGDmjBhgl5%2B%2BWVFRx/fEyh27dql7t27q7S0VJdcconq6urUrVs3vfzyy5o4caIkaceOHfJ6vXr33Xc1evToFq/p8/nk8XhUV1enuLi448qF0OPLnuFUFQ%2BPsTsCEBbs/Pvr2OdgxcTEaOnSpfr3v/%2BtTz/9VEeOHNGgQYN07rnnntB16%2BrqJEnx8fGSpMrKSh08eFAZGRmBc3r27Kn%2B/ftr9erVrSpYAAAgsji2YP2oT58%2B6tOnj5FrWZalnJwcXXTRRerfv78kqaamRjExMerSpUvQuT169GjyHjDp6D1bfr8/sO/z%2BYzkAwAAzuDYgnX77bcf8/Xnnnuuzde8%2B%2B67tWHDBq1atarFcy3LCtz79XP5%2BfmaO3dum38%2BAAA4OTi2YFVXVwftHzx4UJs3b1Z9fb0uueSSNl8vOztby5YtU1lZmZKTkwPHExMTdeDAAf3www9Bq1i1tbUaNmxYk9fKzc1VTk5OYN/n88nr9bY5EwAAcCbHFqy///3vjY4dOnRId911l84777xWX8eyLGVnZ6uoqEgrVqxQSkpK0OuDBw9Wx44dVVJSogkTJkg6Wu42bdqkRx55pMlrut1uud3uNvw2AADgZOLYgtWU6OhozZo1S%2Bnp6UErSMcyffp0vfrqq3r77bcVGxsbuK/K4/Goc%2BfO8ng8uvXWWzVz5kx17dpV8fHxmjVrlgYMGKBRo0a1568DAAAc6qQqWJL01Vdf6eDBg60%2Bv6CgQJKUnp4edHzRokWaOnWqJOmJJ55QdHS0JkyYoH379umyyy7T4sWLFRUVZSo2AAA4iTi2YN1///1B%2B5Zlqbq6WsuWLdMNN9zQ6uu05jFgnTp10tNPP62nn366zTkBAEDkcWzB%2Buijj4L2O3TooG7dumn%2B/PmaNm2aTakAAAAcXLBWrlxpdwQAAIAmOfa7CAEAAMKVY1ewhgwZ0uyDPn/uk08%2Baec0AAAA/%2BPYgjVixAg9%2B%2Byz6tOnj9LS0iRJ5eXl%2BuKLL3THHXfwHCoAAGAbxxasPXv2aPr06Zo3b17Q8Tlz5mjnzp164YUXbEoGAAAinWPvwXrttdd08803Nzo%2BdepUvf766zYkAgAAOMqxBcvtdmv16tWNjq9evZqPBwEAgK0c%2BxHhPffcozvvvFNr167V0KFDJR29B%2Bv555/X7NmzbU4HAAAimWML1pw5c5SSkqIFCxboxRdflCSdd955ev755zV58mSb0wEAgEjm2IIlSZMnT6ZMAQCAsOPYe7AkyefzafHixXrooYf0ww8/SJLWr1%2Bv6upqm5MBAIBI5tgVrE2bNmnUqFE65ZRTVFVVpalTp6pLly567bXX9O2332rJkiV2RwQAABHKsStY9913nyZPnqytW7eqU6dOgeNXXnmlysrKbEwGAAAinWNXsNasWaOCgoJGX5dzxhln8BEhAACwlWNXsGJiYrR3795Gx7ds2aKEhAQbEgEAABzl2IJ19dVX649//KMOHTokSXK5XPruu%2B/0wAMPaPz48TanAwAAkcyxBevPf/6zduzYocTERO3bt08jR47UL37xC3Xq1KnR9xMCAACEkmPvwfJ4PFq9erVKSkr06aef6siRIxo0aJBGjx7d6L4sAACAUHJkwTp48KCuuOIKPfPMM8rIyFBGRobdkQAAAAIc%2BRFhx44dtXbtWlaqAABAWHJkwZKkG2%2B8UYsWLbI7BgAAQCOO/IjwRwsXLtQHH3yg1NRUnXrqqUGvPfLIIzalAgAAkc6xBauyslIDBw6UJG3YsCHoNT46BAAAdnJcwfrqq6%2BUkpKilStX2h0FAACgSY67B6t3797atWtXYH/ixInauXOnjYkAAACCOa5gWZYVtP/uu%2B%2BqoaHBpjQAAACNOa5gAQAAhDvHFSyXy9XoJnZuagcAAOHEcTe5W5alqVOnyu12S5L279%2BvO%2B%2B8s9FjGt58881WXa%2BsrEyPPvqoKisrVV1draKiIo0bNy7w%2BtSpU7VkyZKg91x44YUqLy8/wd8EAACcrBxXsKZMmRK0f%2BONN57Q9RoaGnT%2B%2Befr5ptv1nXXXdfkOWPGjAl6qGlMTMwJ/UwAAHByc1zBMv309szMTGVmZh7zHLfbrcTERKM/FwAAnLwcdw%2BWHVasWKHu3burT58%2BmjZtmmpra%2B2OBAAAwpjjVrBCLTMzU7/61a/Uq1cvbdu2TQ8%2B%2BKBGjhypysrKwH1gP%2Bf3%2B%2BX3%2BwP7Pp8vVHEBAEAYoGC1YOLEiYH/3L9/f6WmpqpXr1565513NH78%2BCbfk5%2Bfr7lz54YqIgAACDN8RNhGSUlJ6tWrl7Zs2dLsObm5uaqrqwtsVVVVIUwIAADsxgpWG33//feqqqpSUlJSs%2Be43e5mPz4EAAAnv4gvWHv37tWXX34Z2N%2B2bZvWrVun%2BPh4xcfHKy8vT9ddd52SkpL09ddfa/bs2UpISNC1115rY2oAABDOIr5gVVRUaMSIEYH9nJwcSUeft1VQUKCNGzfqpZde0p49e5SUlKQRI0Zo6dKlio2NtSsyAAAIcxFfsNLT0xt9gfRPvf/%2B%2ByFMAwAATgbc5A4AAGAYBQsAAMAwChYAAIBhFCwAAADDKFgAAACGUbAAAAAMo2ABAAAYRsECAAAwjIIFAABgGAULAADAMAoWAACAYRQsAAAAwyhYAAAAhlGwAAAADKNgAQAAGEbBAgAAMIyCBQAAYBgFCwAAwDAKFgAAgGEULAAAAMMoWAAAAIZRsAAAAAyjYAEAABhGwQIAADCMggUAAGAYBQsAAMCwaLsDAAAiV%2BqcYrsjtEnFw2PsjgCHYAULAADAMAoWAACAYRFfsMrKynTVVVepZ8%2Becrlceuutt4JetyxLeXl56tmzpzp37qz09HRt3rzZprQAAMAJIr5gNTQ06Pzzz9fChQubfP2RRx7R448/roULF2rNmjVKTEzU5Zdfrvr6%2BhAnBQAAThHxN7lnZmYqMzOzydcsy9KTTz6pOXPmaPz48ZKkJUuWqEePHnr11Vd1xx13hDIqAABwiIhfwTqWbdu2qaamRhkZGYFjbrdbl156qVavXm1jMgAAEM4ifgXrWGpqaiRJPXr0CDreo0cPffPNN82%2Bz%2B/3y%2B/3B/Z9Pl/7BAQAAGGJFaxWcLlcQfuWZTU69lP5%2BfnyeDyBzev1tndEAAAQRihYx5CYmCjpfytZP6qtrW20qvVTubm5qqurC2xVVVXtmhMAAIQXCtYxpKSkKDExUSUlJYFjBw4cUGlpqYYNG9bs%2B9xut%2BLi4oI2AAAQOSL%2BHqy9e/fqyy%2B/DOxv27ZN69atU3x8vM4880zNmDFD8%2BbNU%2B/evdW7d2/NmzdPp5xyiiZPnmxjagAAEM4ivmBVVFRoxIgRgf2cnBxJ0pQpU7R48WLdf//92rdvn37zm9/ohx9%2B0IUXXqjly5crNjbWrsgAACDMRXzBSk9Pl2VZzb7ucrmUl5envLy80IUCAACOxj1YAAAAhlGwAAAADIv4jwgB4GSTOqfY7ghAxGMFCwAAwDAKFgAAgGEULAAAAMMoWAAAAIZRsAAAAAyjYAEAABhGwQIAADCMggUAAGAYBQsAAMAwChYAAIBhFCwAAADDKFgAAACGUbAAAAAMo2ABAAAYRsECAAAwLNruAIgcqXOK7Y4AAEBIsIIFAABgGAULAADAMAoWAACAYRQsAAAAwyhYAAAAhlGwAAAADKNgAQAAGEbBAgAAMIyCBQAAYBgFCwAAwDAKVgvy8vLkcrmCtsTERLtjAQCAMMZ3EbZCv3799MEHHwT2o6KibEwDAADCHQWrFaKjo1m1AgAArcZHhK2wZcsW9ezZUykpKZo0aZK%2B%2BuoruyMBAIAwxgpWCy688EK99NJL6tOnj3bu3Kk//elPGjZsmDZv3qyuXbs2%2BR6/3y%2B/3x/Y9/l8oYoLAADCACtYLcjMzNR1112nAQMGaNSoUXrnnXckSUuWLGn2Pfn5%2BfJ4PIHN6/WGKi4AAAgDFKw2OvXUUzVgwABt2bKl2XNyc3NVV1cX2KqqqkKYEAAA2I2PCNvI7/fr888/18UXX9zsOW63W263O4SpAABAOGEFqwWzZs1SaWmptm3bpo8//ljXX3%2B9fD6fpkyZYnc0AAAQpljBasG3336rX//619q9e7e6deumoUOHqry8XL169bI7GgAACFMUrBYUFhbaHQEAADgMHxECAAAYRsECAAAwjI8IHS51TrHdEQAAwM%2BwggUAAGAYBQsAAMAwChYAAIBhFCwAAADDKFgAAACGUbAAAAAMo2ABAAAYRsECAAAwjIIFAABgGAULAADAMAoWAACAYRQsAAAAwyhYAAAAhlGwAAAADKNgAQAAGBZtdwAAAJwidU6x3RFOWhUPj7E7glGsYAEAABhGwQIAADCMggUAAGAYBQsAAMAwChYAAIBhFCwAAADDKFgAAACGUbAAAAAMo2ABAAAYRsECAAAwjIIFAABgGAWrlZ555hmlpKSoU6dOGjx4sFauXGl3JAAAEKYoWK2wdOlSzZgxQ3PmzNHatWt18cUXKzMzU9u3b7c7GgAACEMUrFZ4/PHHdeutt%2Bq2227TeeedpyeffFJer1cFBQV2RwMAAGEo2u4A4e7AgQOqrKzUAw88EHQ8IyNDq1evbvI9fr9ffr8/sF9XVydJ8vl8xvMd9jcYvyYAAKHWHn8jf7ymZVnGr90SClYLdu/ercOHD6tHjx5Bx3v06KGampom35Ofn6%2B5c%2Bc2Ou71etslIwAATuf5c/tdu76%2BXh6Pp/1%2BQBMoWK3kcrmC9i3LanTsR7m5ucrJyQnsHzlyRP/5z3/UtWvXZt9zPHw%2Bn7xer6qqqhQXF2fsumiMsQ4dxjp0GOvQYJxD5%2BdjbVmW6uvr1bNnz5BnoWC1ICEhQVFRUY1Wq2praxutav3I7XbL7XYHHTv99NPbLWNcXBz/ow0Rxjp0GOvQYaxDg3EOnZ%2BOdahXrn7ETe4tiImJ0eDBg1VSUhJ0vKSkRMOGDbMpFQAACGesYLVCTk6OsrKylJqaqrS0ND333HPavn277rzzTrujAQCAMBSVl5eXZ3eIcNe/f3917dpV8%2BbN02OPPaZ9%2B/bp5Zdf1vnnn293NEVFRSk9PV3R0XTl9sZYhw5jHTqMdWgwzqETLmPtsuz4t4sAAAAnMe7BAgAAMIyCBQAAYBgFCwAAwDAKFgAAgGEUrDCVn5%2BvIUOGKDY2Vt27d9e4ceP0xRdftPi%2BN954Q3379pXb7Vbfvn1VVFQUgrTOdjxjvXjxYrlcrkbb/v37Q5TamQoKCjRw4MDAQwDT0tL03nvvHfM9zOnj09axZk6bkZ%2BfL5fLpRkzZhzzPOb1iWvNWNs5rylYYaq0tFTTp09XeXm5SkpKdOjQIWVkZKihofkvd/7oo480ceJEZWVlaf369crKytKECRP08ccfhzC58xzPWEtHnxRcXV0dtHXq1ClEqZ0pOTlZ8%2BfPV0VFhSoqKjRy5Ehdc8012rx5c5PnM6ePX1vHWmJOn6g1a9boueee08CBA495HvP6xLV2rCUb57UFR6itrbUkWaWlpc2eM2HCBGvMmDFBx0aPHm1NmjSpveOdVFoz1osWLbI8Hk8IU528unTpYr3wwgtNvsacNutYY82cPjH19fVW7969rZKSEuvSSy%2B17r333mbPZV6fmLaMtZ3zmhUsh6irq5MkxcfHN3vORx99pIyMjKBjo0eP1urVq9s128mmNWMtSXv37lWvXr2UnJyssWPHau3ataGId9I4fPiwCgsL1dDQoLS0tCbPYU6b0ZqxlpjTJ2L69Om68sorNWrUqBbPZV6fmLaMtWTfvOaRsg4Vv%2BLOAAADmUlEQVRgWZZycnJ00UUXqX///s2eV1NT0%2BgLqHv06NHoi6rRvNaO9bnnnqvFixdrwIAB8vl8WrBggYYPH67169erd%2B/eIUzsPBs3blRaWpr279%2Bv0047TUVFRerbt2%2BT5zKnT0xbxpo5ffwKCwtVWVmpioqKVp3PvD5%2BbR1rO%2Bc1BcsB7r77bm3YsEGrVq1q8VyXyxW0b1lWo2NoXmvHeujQoRo6dGhgf/jw4Ro0aJCefvppPfXUU%2B0d09HOOeccrVu3Tnv27NEbb7yhKVOmqLS0tNk//Mzp49eWsWZOH5%2Bqqirde%2B%2B9Wr58eZvu62Fet93xjLWd85qCFeays7O1bNkylZWVKTk5%2BZjnJiYmNvp/QLW1tY3%2BnxKa1pax/rkOHTpoyJAh2rJlSzulO3nExMTo7LPPliSlpqZqzZo1WrBggZ599tlG5zKnT0xbxvrnmNOtU1lZqdraWg0ePDhw7PDhwyorK9PChQvl9/sVFRUV9B7m9fE5nrH%2BuVDOa%2B7BClOWZenuu%2B/Wm2%2B%2BqX/84x9KSUlp8T1paWkqKSkJOrZ8%2BXINGzasvWKeFI5nrJu6xrp165SUlNQOCU9ulmXJ7/c3%2BRpz2qxjjXVT5zKnW3bZZZdp48aNWrduXWBLTU3VDTfcoHXr1jX5B595fXyOZ6x/LqTz2pZb69Giu%2B66y/J4PNaKFSus6urqwPbf//43cE5WVpb1wAMPBPb/9a9/WVFRUdb8%2BfOtzz//3Jo/f74VHR1tlZeX2/ErOMbxjHVeXp5VXFxsbd261Vq7dq118803W9HR0dbHH39sx6/gGLm5uVZZWZm1bds2a8OGDdbs2bOtDh06WMuXL7csizltUlvHmjltzs//ZRvzuv20NNZ2zms%2BIgxTBQUFkqT09PSg44sWLdLUqVMlSdu3b1eHDv9bhBw2bJgKCwv1f//3f3rwwQd11llnaenSpbrwwgtDFduRjmes9%2BzZo9tvv101NTXyeDy64IILVFZWpl/%2B8pehiu1IO3fuVFZWlqqrq%2BXxeDRw4EAVFxfr8ssvl8ScNqmtY82cbj/M69AJp3ntsizLavefAgAAEEG4BwsAAMAwChYAAIBhFCwAAADDKFgAAACGUbAAAAAMo2ABAAAYRsECAAAwjIIFAABgGAULAADAMAoWAACAYRQsAAAAwyhYAAAAhlGwAAAADKNgAQAAGEbBAgAAMIyCBQAAYBgFCwAAwDAKFgAAgGH/D69bGqc%2Bo3O7AAAAAElFTkSuQmCC\"/>\n",
       "        </div>\n",
       "        <div role=\"tabpanel\" class=\"tab-pane col-md-12\" id=\"common-4639497467747534832\">\n",
       "            \n",
       "<table class=\"freq table table-hover\">\n",
       "    <thead>\n",
       "    <tr>\n",
       "        <td class=\"fillremaining\">Value</td>\n",
       "        <td class=\"number\">Count</td>\n",
       "        <td class=\"number\">Frequency (%)</td>\n",
       "        <td style=\"min-width:200px\">&nbsp;</td>\n",
       "    </tr>\n",
       "    </thead>\n",
       "    <tr class=\"\">\n",
       "        <td class=\"fillremaining\">3.0</td>\n",
       "        <td class=\"number\">26</td>\n",
       "        <td class=\"number\">17.3%</td>\n",
       "        <td>\n",
       "            <div class=\"bar\" style=\"width:76%\">&nbsp;</div>\n",
       "        </td>\n",
       "</tr><tr class=\"\">\n",
       "        <td class=\"fillremaining\">2.8</td>\n",
       "        <td class=\"number\">14</td>\n",
       "        <td class=\"number\">9.3%</td>\n",
       "        <td>\n",
       "            <div class=\"bar\" style=\"width:41%\">&nbsp;</div>\n",
       "        </td>\n",
       "</tr><tr class=\"\">\n",
       "        <td class=\"fillremaining\">3.2</td>\n",
       "        <td class=\"number\">13</td>\n",
       "        <td class=\"number\">8.7%</td>\n",
       "        <td>\n",
       "            <div class=\"bar\" style=\"width:38%\">&nbsp;</div>\n",
       "        </td>\n",
       "</tr><tr class=\"\">\n",
       "        <td class=\"fillremaining\">3.4</td>\n",
       "        <td class=\"number\">12</td>\n",
       "        <td class=\"number\">8.0%</td>\n",
       "        <td>\n",
       "            <div class=\"bar\" style=\"width:35%\">&nbsp;</div>\n",
       "        </td>\n",
       "</tr><tr class=\"\">\n",
       "        <td class=\"fillremaining\">3.1</td>\n",
       "        <td class=\"number\">12</td>\n",
       "        <td class=\"number\">8.0%</td>\n",
       "        <td>\n",
       "            <div class=\"bar\" style=\"width:35%\">&nbsp;</div>\n",
       "        </td>\n",
       "</tr><tr class=\"\">\n",
       "        <td class=\"fillremaining\">2.9</td>\n",
       "        <td class=\"number\">10</td>\n",
       "        <td class=\"number\">6.7%</td>\n",
       "        <td>\n",
       "            <div class=\"bar\" style=\"width:30%\">&nbsp;</div>\n",
       "        </td>\n",
       "</tr><tr class=\"\">\n",
       "        <td class=\"fillremaining\">2.7</td>\n",
       "        <td class=\"number\">9</td>\n",
       "        <td class=\"number\">6.0%</td>\n",
       "        <td>\n",
       "            <div class=\"bar\" style=\"width:27%\">&nbsp;</div>\n",
       "        </td>\n",
       "</tr><tr class=\"\">\n",
       "        <td class=\"fillremaining\">2.5</td>\n",
       "        <td class=\"number\">8</td>\n",
       "        <td class=\"number\">5.3%</td>\n",
       "        <td>\n",
       "            <div class=\"bar\" style=\"width:24%\">&nbsp;</div>\n",
       "        </td>\n",
       "</tr><tr class=\"\">\n",
       "        <td class=\"fillremaining\">3.5</td>\n",
       "        <td class=\"number\">6</td>\n",
       "        <td class=\"number\">4.0%</td>\n",
       "        <td>\n",
       "            <div class=\"bar\" style=\"width:18%\">&nbsp;</div>\n",
       "        </td>\n",
       "</tr><tr class=\"\">\n",
       "        <td class=\"fillremaining\">3.8</td>\n",
       "        <td class=\"number\">6</td>\n",
       "        <td class=\"number\">4.0%</td>\n",
       "        <td>\n",
       "            <div class=\"bar\" style=\"width:18%\">&nbsp;</div>\n",
       "        </td>\n",
       "</tr><tr class=\"other\">\n",
       "        <td class=\"fillremaining\">Other values (13)</td>\n",
       "        <td class=\"number\">34</td>\n",
       "        <td class=\"number\">22.7%</td>\n",
       "        <td>\n",
       "            <div class=\"bar\" style=\"width:100%\">&nbsp;</div>\n",
       "        </td>\n",
       "</tr>\n",
       "</table>\n",
       "        </div>\n",
       "        <div role=\"tabpanel\" class=\"tab-pane col-md-12\"  id=\"extreme-4639497467747534832\">\n",
       "            <p class=\"h4\">Minimum 5 values</p>\n",
       "            \n",
       "<table class=\"freq table table-hover\">\n",
       "    <thead>\n",
       "    <tr>\n",
       "        <td class=\"fillremaining\">Value</td>\n",
       "        <td class=\"number\">Count</td>\n",
       "        <td class=\"number\">Frequency (%)</td>\n",
       "        <td style=\"min-width:200px\">&nbsp;</td>\n",
       "    </tr>\n",
       "    </thead>\n",
       "    <tr class=\"\">\n",
       "        <td class=\"fillremaining\">2.0</td>\n",
       "        <td class=\"number\">1</td>\n",
       "        <td class=\"number\">0.7%</td>\n",
       "        <td>\n",
       "            <div class=\"bar\" style=\"width:13%\">&nbsp;</div>\n",
       "        </td>\n",
       "</tr><tr class=\"\">\n",
       "        <td class=\"fillremaining\">2.2</td>\n",
       "        <td class=\"number\">3</td>\n",
       "        <td class=\"number\">2.0%</td>\n",
       "        <td>\n",
       "            <div class=\"bar\" style=\"width:38%\">&nbsp;</div>\n",
       "        </td>\n",
       "</tr><tr class=\"\">\n",
       "        <td class=\"fillremaining\">2.3</td>\n",
       "        <td class=\"number\">4</td>\n",
       "        <td class=\"number\">2.7%</td>\n",
       "        <td>\n",
       "            <div class=\"bar\" style=\"width:50%\">&nbsp;</div>\n",
       "        </td>\n",
       "</tr><tr class=\"\">\n",
       "        <td class=\"fillremaining\">2.4</td>\n",
       "        <td class=\"number\">3</td>\n",
       "        <td class=\"number\">2.0%</td>\n",
       "        <td>\n",
       "            <div class=\"bar\" style=\"width:38%\">&nbsp;</div>\n",
       "        </td>\n",
       "</tr><tr class=\"\">\n",
       "        <td class=\"fillremaining\">2.5</td>\n",
       "        <td class=\"number\">8</td>\n",
       "        <td class=\"number\">5.3%</td>\n",
       "        <td>\n",
       "            <div class=\"bar\" style=\"width:100%\">&nbsp;</div>\n",
       "        </td>\n",
       "</tr>\n",
       "</table>\n",
       "            <p class=\"h4\">Maximum 5 values</p>\n",
       "            \n",
       "<table class=\"freq table table-hover\">\n",
       "    <thead>\n",
       "    <tr>\n",
       "        <td class=\"fillremaining\">Value</td>\n",
       "        <td class=\"number\">Count</td>\n",
       "        <td class=\"number\">Frequency (%)</td>\n",
       "        <td style=\"min-width:200px\">&nbsp;</td>\n",
       "    </tr>\n",
       "    </thead>\n",
       "    <tr class=\"\">\n",
       "        <td class=\"fillremaining\">3.9</td>\n",
       "        <td class=\"number\">2</td>\n",
       "        <td class=\"number\">1.3%</td>\n",
       "        <td>\n",
       "            <div class=\"bar\" style=\"width:100%\">&nbsp;</div>\n",
       "        </td>\n",
       "</tr><tr class=\"\">\n",
       "        <td class=\"fillremaining\">4.0</td>\n",
       "        <td class=\"number\">1</td>\n",
       "        <td class=\"number\">0.7%</td>\n",
       "        <td>\n",
       "            <div class=\"bar\" style=\"width:50%\">&nbsp;</div>\n",
       "        </td>\n",
       "</tr><tr class=\"\">\n",
       "        <td class=\"fillremaining\">4.1</td>\n",
       "        <td class=\"number\">1</td>\n",
       "        <td class=\"number\">0.7%</td>\n",
       "        <td>\n",
       "            <div class=\"bar\" style=\"width:50%\">&nbsp;</div>\n",
       "        </td>\n",
       "</tr><tr class=\"\">\n",
       "        <td class=\"fillremaining\">4.2</td>\n",
       "        <td class=\"number\">1</td>\n",
       "        <td class=\"number\">0.7%</td>\n",
       "        <td>\n",
       "            <div class=\"bar\" style=\"width:50%\">&nbsp;</div>\n",
       "        </td>\n",
       "</tr><tr class=\"\">\n",
       "        <td class=\"fillremaining\">4.4</td>\n",
       "        <td class=\"number\">1</td>\n",
       "        <td class=\"number\">0.7%</td>\n",
       "        <td>\n",
       "            <div class=\"bar\" style=\"width:50%\">&nbsp;</div>\n",
       "        </td>\n",
       "</tr>\n",
       "</table>\n",
       "        </div>\n",
       "    </div>\n",
       "</div>\n",
       "</div><div class=\"row variablerow\">\n",
       "    <div class=\"col-md-3 namecol\">\n",
       "        <p class=\"h4 pp-anchor\" id=\"pp_var_species\">species<br/>\n",
       "            <small>Categorical</small>\n",
       "        </p>\n",
       "    </div><div class=\"col-md-3\">\n",
       "    <table class=\"stats \">\n",
       "        <tr class=\"\">\n",
       "            <th>Distinct count</th>\n",
       "            <td>3</td>\n",
       "        </tr>\n",
       "        <tr>\n",
       "            <th>Unique (%)</th>\n",
       "            <td>2.0%</td>\n",
       "        </tr>\n",
       "        <tr class=\"ignore\">\n",
       "            <th>Missing (%)</th>\n",
       "            <td>0.0%</td>\n",
       "        </tr>\n",
       "        <tr class=\"ignore\">\n",
       "            <th>Missing (n)</th>\n",
       "            <td>0</td>\n",
       "        </tr>\n",
       "    </table>\n",
       "</div>\n",
       "<div class=\"col-md-6 collapse in\" id=\"minifreqtable-6263888653551410657\">\n",
       "    <table class=\"mini freq\">\n",
       "        <tr class=\"\">\n",
       "    <th>setosa</th>\n",
       "    <td>\n",
       "        <div class=\"bar\" style=\"width:100%\" data-toggle=\"tooltip\" data-placement=\"right\" data-html=\"true\"\n",
       "             data-delay=500 title=\"Percentage: 33.3%\">\n",
       "            50\n",
       "        </div>\n",
       "        \n",
       "    </td>\n",
       "</tr><tr class=\"\">\n",
       "    <th>versicolor</th>\n",
       "    <td>\n",
       "        <div class=\"bar\" style=\"width:100%\" data-toggle=\"tooltip\" data-placement=\"right\" data-html=\"true\"\n",
       "             data-delay=500 title=\"Percentage: 33.3%\">\n",
       "            50\n",
       "        </div>\n",
       "        \n",
       "    </td>\n",
       "</tr><tr class=\"\">\n",
       "    <th>virginica</th>\n",
       "    <td>\n",
       "        <div class=\"bar\" style=\"width:100%\" data-toggle=\"tooltip\" data-placement=\"right\" data-html=\"true\"\n",
       "             data-delay=500 title=\"Percentage: 33.3%\">\n",
       "            50\n",
       "        </div>\n",
       "        \n",
       "    </td>\n",
       "</tr>\n",
       "    </table>\n",
       "</div>\n",
       "<div class=\"col-md-12 text-right\">\n",
       "    <a role=\"button\" data-toggle=\"collapse\" data-target=\"#freqtable-6263888653551410657, #minifreqtable-6263888653551410657\"\n",
       "       aria-expanded=\"true\" aria-controls=\"collapseExample\">\n",
       "        Toggle details\n",
       "    </a>\n",
       "</div>\n",
       "<div class=\"col-md-12 extrapadding collapse\" id=\"freqtable-6263888653551410657\">\n",
       "    \n",
       "<table class=\"freq table table-hover\">\n",
       "    <thead>\n",
       "    <tr>\n",
       "        <td class=\"fillremaining\">Value</td>\n",
       "        <td class=\"number\">Count</td>\n",
       "        <td class=\"number\">Frequency (%)</td>\n",
       "        <td style=\"min-width:200px\">&nbsp;</td>\n",
       "    </tr>\n",
       "    </thead>\n",
       "    <tr class=\"\">\n",
       "        <td class=\"fillremaining\">setosa</td>\n",
       "        <td class=\"number\">50</td>\n",
       "        <td class=\"number\">33.3%</td>\n",
       "        <td>\n",
       "            <div class=\"bar\" style=\"width:100%\">&nbsp;</div>\n",
       "        </td>\n",
       "</tr><tr class=\"\">\n",
       "        <td class=\"fillremaining\">versicolor</td>\n",
       "        <td class=\"number\">50</td>\n",
       "        <td class=\"number\">33.3%</td>\n",
       "        <td>\n",
       "            <div class=\"bar\" style=\"width:100%\">&nbsp;</div>\n",
       "        </td>\n",
       "</tr><tr class=\"\">\n",
       "        <td class=\"fillremaining\">virginica</td>\n",
       "        <td class=\"number\">50</td>\n",
       "        <td class=\"number\">33.3%</td>\n",
       "        <td>\n",
       "            <div class=\"bar\" style=\"width:100%\">&nbsp;</div>\n",
       "        </td>\n",
       "</tr>\n",
       "</table>\n",
       "</div>\n",
       "</div>\n",
       "    <div class=\"row headerrow highlight\">\n",
       "        <h1>Correlations</h1>\n",
       "    </div>\n",
       "    <div class=\"row variablerow\">\n",
       "    <img src=\"data:image/png;base64,iVBORw0KGgoAAAANSUhEUgAAAn4AAAIzCAYAAACeFhTSAAAABHNCSVQICAgIfAhkiAAAAAlwSFlzAAAPYQAAD2EBqD%2BnaQAAADl0RVh0U29mdHdhcmUAbWF0cGxvdGxpYiB2ZXJzaW9uIDMuMC4yLCBodHRwOi8vbWF0cGxvdGxpYi5vcmcvOIA7rQAAIABJREFUeJzs3Xt8jHfe//F3EBKCICGOi5BoqSYS4nwTsW7q0C0rVqsOpdWQhDr0YLu0ytJqu5Vobzdptdpto0qL%2BpWtqmpXk6qwiqg4NQ5NIqHk1Jzm94ea21QQuSbGlXk9H495xFzX97rmM1%2BH%2BXh/r5lxsVgsFgEAAKDSq%2BLoAgAAAHB70PgBAAA4CRo/AAAAJ0HjBwAA4CRo/AAAAJwEjR8AAICToPEDAABwEjR%2BAAAAToLGDwAAwElUc3QBAMzp1KlT6tev33X3u7q6ysPDQy1btlSfPn300EMPycPD4zZWCAD4PRe%2Bsg1AeVzd%2BPn5%2BV3T1BUWFiorK0unT5%2BWJDVp0kSrVq3SH/7wh9teKwDgMho/AOVydeP3zjvvKCQkpNRxCQkJioiIUHZ2tgIDA/XBBx/czjIBAFfhGj8AFSokJERPPPGEJCkpKUk//PCDgysCAOdF4wegwvXv39/663379jmwEgBwbry5A0CFq127tvXXOTk5Nvu%2B%2B%2B47rV69Wnv27NGFCxdUp04dBQQEaMyYMerWrVup57t48aI%2B%2BOAD7dixQykpKcrOzpa7u7tatGihvn376uGHH1bdunVtjvH395ckffPNN1q0aJG2bdumKlWqqH379nrzzTdVrVo17du3T6tWrdLBgwd19uxZ1ahRQ61atVJYWJhGjx5d6ptT8vPz9cEHH2jz5s1KSUlRYWGhGjVqpO7du2vChAlq2bKlzfiEhAQ9/PDDuvfee/Xee%2B9p9erV%2Bvjjj3Xy5Em5urqqffv2GjNmjMLCwsoz1QBwQzR%2BACrcyZMnrb/28fGx/nrJkiVasWKFJKlu3bry8/NTenq6tm3bpm3btmnixImaNWuWzblOnDihcePG6ezZs6pWrZpatGihpk2b6vTp0zpw4IAOHDigTz/9VB999JFq1ap1TS2RkZFKSkqSn5%2BfsrKy5O3trWrVqmnr1q2aPn26ioqKVK9ePbVp00Y5OTn6z3/%2Bo3379mnDhg364IMPbJq/n3/%2BWePHj9exY8ckSS1btlStWrV09OhRxcfH6%2BOPP9aiRYs0aNCga%2BooLCzUpEmTtGvXLtWrV0%2B%2Bvr46fvy4vv32W3377beaN2%2Be/vKXvxibeAD4PQsAlENqaqrFz8/P4ufnZ/n2229vOHb27NkWPz8/S/v27S0ZGRkWi8Vief/99y1%2Bfn6W4OBgyyeffGIdW1JSYvn0008tAQEBFj8/P8uaNWtszvXQQw9Z/Pz8LCNHjrSkpaXZHLd%2B/XpLu3btLH5%2BfpZ3333X5rgrtXbo0MGSmJhosVgsluLiYsv58%2BctxcXFlh49elj8/PwsK1assBQVFVmP%2B%2BGHHyxdu3a1%2BPn5WZYvX27dXlRUZBk2bJjFz8/PMmDAAMuhQ4es%2By5dumSZM2eO9Tnv3bvXuu/bb7%2B11hIQEGDZsGGDdd/FixctY8eOtfj5%2BVm6dOliKSwsvOG8AsCt4ho/ABUiPz9fBw8e1Ny5c/Xxxx9LksaNGycvLy8VFBQoJiZGkrRw4UINHTrUepyLi4sGDRpkTfpiYmJUVFQkScrMzNSRI0ckSfPnz1fDhg1tjrv//vvVpUsXSdLhw4dLrWvgwIHq3LmzJKlKlSry9PRUVlaWMjIyJEkjR45U1apVrePbt2%2Bv6dOnKywsTJ6entbtn332mQ4dOqQaNWpoxYoVateunXWfh4eHXnjhBfXq1UuFhYV69dVXS60lKipKQ4YMsd6vXbu29XlfuHBBx48fv87sAkD5sNQLwLCHH374pmP%2B/Oc/Kzo6WtLld/eeO3dOtWrVuu6HQA8dOlTz589XWlqaDh48qI4dO6pBgwb69ttvlZ%2BfLzc3t2uOKS4uti7F5ufnl3reoKCga7bVq1dPdevW1S%2B//KKZM2fq8ccf17333qsqVS7/33jkyJEaOXKkzTFffPGFJCk0NFTNmzcv9bHGjx%2BvnTt3KjExUZcuXbK51lGS%2Bvbte80xvr6%2B1l9fvHix1PMCQHnR%2BAEw7Pcf4Ozi4qIaNWrI09NT/v7%2BCgsLU5s2baz7r6R2hYWFevDBB6973qpVq6qkpETHjh1Tx44drdvd3Nx09uxZ7du3Tz/99JNSU1N19OhRHTp0SLm5uZKkkpKSUs/p7e1d6uPMnDlTzz77rHbs2KEdO3aobt26CgkJUY8ePdSnTx%2BbaxMlWdO49u3bX7f%2BK/uKi4t18uRJdejQwWZ/o0aNrjnm6oa2uLj4uucGgPKg8QNg2F//%2BtfrfoBzaS5duiRJKigo0J49e246/urk69ixY3rxxRe1Y8cOm%2BbOw8NDwcHBSk9PV3Jy8nXPVVpSKF1O9f7whz/orbfe0r///W/98ssv2rp1q7Zu3SoXFxf16dNH8%2BbNszaA2dnZknRNine1q5vh37%2BbWbr8tXY3YuHz9QHYGY0fgNvO3d1d0uVEbN26dWU%2BLjMzUw899JAyMzPVpEkTjRw5Unfffbdat26tZs2aycXFRTNmzLhh43cjISEhCgkJUX5%2Bvnbv3q3vvvtOO3fu1IEDB7R9%2B3adPXtWH3/8sVxcXKzvGL7SxJbm6oa1tHcYA8DtRuMH4LZr1aqVpMsfzVJUVKRq1a79p8hisSghIUE%2BPj5q0qSJqlevro8%2B%2BkiZmZny9PTURx99pPr1619zXFpa2i3XU1BQoNTUVGVnZ%2Bvee%2B%2BVm5ubevbsqZ49e2r69On69NNP9cQTTyg5OVmHDx9Wu3bt1Lp1ax08eFAHDhy47nn3798v6fLSd4sWLW65LgCwN97VC%2BC269y5s2rXrq2cnJzrJn4bN27U2LFjNXDgQP3888%2BSLn8/sCQ1adKk1KYvJSVFe/fulXRr18d99dVXGjRokB599FEVFBRcs7979%2B7WX18575U3ZnzxxRdKTU0t9bzvvPOOJCkgIEB16tQpcz0AUFFo/ADcdjVr1tSjjz4qSVqwYIE%2B%2Bugjm%2Bv1Pv/8c82dO1fS5Y9fuZKWtW7dWpKUnJysLVu2WMdbLBZ99dVXmjhxogoLCyVJeXl5Za6nd%2B/eqlevni5cuKAnn3xSFy5csO7LycnR4sWLJUmNGzdW27ZtJUn//d//LX9/f/3666%2BaNGmSzfJydna2nn32WX399deqVq2aZs6cWfbJAYAKxFIvAIeYNGmSUlNTtWbNGj3zzDN66aWX1KxZM6WlpSk9PV2S1KlTJ73wwgvWY0aMGKF//vOfOnnypKKiotS0aVPVq1dPZ8%2BeVWZmplxdXdWlSxclJibe0pJv9erV9dprr%2BmRRx7R5s2btW3bNrVo0UJVqlRRamqqcnNz5e7urkWLFql69eqSpGrVqun111/XpEmTdOzYMQ0bNszmmzuufOTMc889p%2BDgYPtOHgCUE40fAIdwcXHR/PnzNWDAAH3wwQfau3ev9QORAwICNHjwYIWHh1sbLenyu2TXrl2rFStWaPv27Tp16pTOnTsnHx8f9enTR2PHjlXNmjUVFham5ORknTlzRk2aNClTPSEhIfrwww/11ltv6fvvv9eJEydUrVo1%2Bfj4qGfPnpowYcI152rWrJk%2B%2Bugjvf/%2B%2B/rss8909OhR/fzzz2rcuLF69eqlBx988Jrv6gUAR3Kx8HkBAAAAToFr/AAAAJwEjR8AAICToPEDAABwEjR%2BAAAAdpCVlaX%2B/fsrISHhumN27NihIUOGKCAgQAMHDtT27dtt9q9YsUK9e/dWQECAxowZo2PHjtm1Rho/AAAAg77//nuFh4frp59%2Buu6YEydOKDIyUtHR0dq9e7ciIyM1bdo068dPrV%2B/XqtXr1ZcXJwSEhLUvn17RUVF2fV7u2n8AAAADFi/fr1mzpyp6dOn33RccHCwwsLCVK1aNQ0aNEidO3dWfHy8JGnNmjUaPXq02rZtqxo1amjGjBk6c%2BbMDRPEW0XjBwAAnFp6eroOHDhgc7vyQfJl0bNnT/3rX//SoEGDbjguJSVFfn5%2BNtvatGlj/eaf3%2B93dXVVy5Ytbb4ZyCg%2BwPlO5uLi6Arsq1Ur6cgRqW1b6fhxR1djN6k/Va6PwqxaVWrcWDp7VrqFr7u94zXv3crRJdhX8%2BbS9u1S377Sdb4r2JQq23caN20qbdwoDRkinT7t6GrsZ98%2Bxz12Bbw2xi9dqtjYWJttU6dOVWRkZJmO9/b2LtO4nJwcubu722xzc3NTbm5umfbbA40fbh9Pz8tdhaenoyvBDVSpcvnf1SpVKlfjV%2BnUqXP571Nla5Qqm9q1L/8%2B1a7t6EpwA%2BHh4QoNDbXZVtZm7la4u7srPz/fZlt%2Bfr5q1apVpv32QOMHAADMo4r9r1Jr2LChGjZsaPfz/p6fn58OHDhgsy0lJUUdOnSQJLVt21ZHjhxR3759JUmFhYU6ceLENcvDRnCNHwAAwG0wdOhQJSYmavPmzSoqKtLmzZuVmJioYcOGSZKGDx%2Bud999V8nJyfr111/18ssvy8vLS8HBwXargcQPAACYRwUkfhUpMDBQzz33nIYOHSpfX18tW7ZMS5Ys0Zw5c9S0aVPFxMSoVavL1yCPGDFCly5d0pQpU5SVlaV77rlHy5cvl6urq93qofEDAACwk8OHD9vcT0pKsrnfq1cv9erVq9RjXVxcNGHCBE2YMKHC6qPxAwAA5mGyxO9OQ%2BMHAADMg8bPEGYPAADASZD4AQAA8yDxM4TGDwAAmAeNnyHMHgAAgJMg8QMAAOZB4mcIswcAAOAkSPwAAIB5kPgZQuMHAADMg8bPEGYPAADASZD4AQAA8yDxM4TZAwAAcBIkfgAAwDxI/Ayh8QMAAOZB42cIswcAAOAkSPwAAIB5kPgZwuwBAAA4CRI/AABgHiR%2BhtD4AQAA86DxM4TZAwAAcBIkfgAAwDxI/Axh9gAAAJwEiR8AADAPEj9DaPwAAIB50PgZwuwBAAA4CRI/AABgHiR%2BhjB7AAAAToLEDwAAmAeJnyE0fgAAwDxo/Axh9gAAAJwEiR8AADAPEj9DmD0AAAAnQeIHAADMg8TPEBo/AABgHjR%2BhjB7AAAAToLEDwAAmAeJnyHMHgAAgJMg8QMAAOZB4mcIjR8AADAPGj9DmD0AAAAnQeIHAADMg8TPEGavnE6ePOnoEgAAAG7JHd34nTp1Sv7%2B/jp16tRNxyYkJMjf3/82VCUtXrxYb7zxhvW%2Bv7%2B/EhISbstjAwDg1KpUsf/NoMzMTEVERCg4OFghISFasGCBioqKrhk3ceJEBQYG2tz8/f31t7/9TZJ07tw5%2Bfv72%2BwPDQ01XN/VWOoth/Pnzzu6BAAAnNMduNQ7bdo0NWrUSDt37tS5c%2Bf0%2BOOPa9WqVZo4caLNuJUrV9rcX7t2rWJjYzV16lRJ0v79%2B9W0aVN98cUXFVbrLTV%2BMTExWrt2rfLy8tS8eXNFRESoX79%2BOnDggBYtWqTk5GTVq1dPo0eP1tixY%2BXi4qKYmBgdOnRIVatW1c6dO1W/fn099thjCg8PlyQdPXpUL774og4fPqysrCw1a9ZMs2bNUt%2B%2BfQ09sZ9%2B%2BkkLFy5UUlKSatasqaFDh2rKlCmqXr261q1bpw8//FDt27fXpk2b5OLiotDQUM2bN0%2Burq4qLi5WTEyMPvzwQ1ksFvXv31%2BHDx/WyJEjdfbsWW3cuFGSdPDgQW3YsEGS9M0332jhwoX66aef5Ovrq4ULF8rPz8/QcwAAAHe2kydPKjExUV999ZXc3d2t/dFLL710TeN3tWPHjmn%2B/PmKi4tTw4YNJV1u/Dp06FCh9Za58fv2228VHx%2BvdevWydvbW/Hx8ZozZ47atWunsWPHavr06XrzzTd18uRJRUREyM3NTaNGjZIkbdu2TU899ZReeeUVJSQkaPLkyWrRooW6deumyMhI9evXT7GxsbJYLFqyZInmzZtnqPHLzc3VuHHjdN999%2Bm1115TVlaWoqKiVFJSohkzZkiS9uzZo969e2vnzp06dOiQxo4dq%2B7du%2Bu%2B%2B%2B5TXFycNmzYoLffflstWrRQTEyMkpKSNHLkSE2ZMkWpqamSpEWLFlkfMzExUXFxcfLw8FBkZKQWL16suLi4Mtecnp6ujIwMm23erVqpoadnuefhjtOune3PSsLV1dEV2Fe1arY/K4327R1dgX35%2Btr%2BrCxq1XJ0BfbVqpXtTxhXAYlfqa/B3t7WhuxGjhw5Ik9PTzVq1Mi6zdfXV2fOnNHFixdVp06dUo977rnndP/99ys4ONi6bf/%2B/frll180ePBgnTt3Tvfcc4%2BefPJJtWnTppzP7Fpl/qe9Ro0a%2BuWXX7RmzRr17dtXf/7znxUeHq6VK1fK19dXDz74oCSpTZs2euSRR/Tuu%2B9aGz9/f3%2BNHz9ektSzZ08NGDBAn3zyibp166bly5erUaNGslgsOn36tOrUqaO0tDRDT%2BrLL79UQUGBnnjiCbm4uKhx48aKjo5WVFSUtfFzc3PT5MmT5eLioo4dO8rf31/Hjx%2BXdDl6ffTRR60TPW3aNK1fv/6Gjzl%2B/Hh5eXlJksLCwq6Jc28mPj5esbGxNtumRkcrMjr6ls5jCv/8p6MrsCsfRxdQQX7741x5bNrk6AoqxmuvOboClMVVQQEMqoDGr9TX4KlTFRkZedNjc3Jy5O7ubrPtyv3c3NxSG7/du3dr3759WrJkic32OnXqqE2bNpo0aZKqV6%2Bu1157TePHj9fmzZtVu3btW31apSpz4xcYGKiYmBitXr1aK1eulJubm8aMGaOMjAwdOHDApmMtKSlR1apVrfdbtmxpc67GjRvr0KFDkqTk5GRFREQoIyNDvr6%2Bql%2B/viwWi6Endfr0aWVlZalz587WbRaLRYWFhcrMzJQkNWjQQC4uLtb9rq6u1sc9e/asmjZtat1XtWpVNWnS5IaP6XlVMndlufhWhIeHX3MBp/eQIdLbb9/See5o7dpdbvpGj5aSkx1djd38vHmPo0uwq2rVLjd9585JpVybbFo%2BEwc7ugT78vW93PRFR0tHjzq6GvupjInfokXSU09Jv4ULlUJ8vKMrsKtSX4O9vct0bM2aNZWXl2ez7cr9Wtf58xwfH6%2BBAwde8xgvv/yyzf2nn35aH330kXbv3m34Ergrytz4nTlzRg0aNFBcXJwKCgq0a9cuTZ06VREREQoJCbFZ1jx//rxycnKs93%2Bf4J06dUqNGzdWWlqaoqOjFRsba53wLVu2aOvWrYaelI%2BPj1q0aKHPPvvMui07O1uZmZmqX7/%2BTY9v0qSJzpw5Y71vsVh09uxZQzXdTMOGDa%2BNlCvTPxJXS06WkpIcXYXdFBY6uoKKUVRUyZ7bgQOOrqBiHD1auZ7bdZbFTO/48Ur1H16HqoDEr9TX4DJq27atLly4oHPnzllX/o4ePSofH59SU7qioiJt27ZNy5Yts9menZ2tZcuW6aGHHrKGT8XFxSoqKpKbm1u5aitNmWdv//79mjhxopKTk1W9enU1aNBAkhQUFKS9e/dqw4YNKioqUnp6uiZPnmxz/dvevXv1ySefqLi4WDt27NC2bds0fPhw5eTkqLi42BqJpqSkWCeioKCg3E%2Bqb9%2B%2BysnJ0cqVK1VQUKCLFy/qySef1PTp021SvusJDw/Xm2%2B%2BqePHj6ugoEDLli1Tenq6dX/16tV16dKlctcHAAAqh5YtWyooKEgLFy5Udna2UlNT9frrr2vEiBGljj98%2BLB%2B/fVXderUyWa7h4eH/v3vf2vx4sW6dOmScnJyNH/%2BfDVr1sxmVdWoMjd%2BAwYM0IQJE/T4448rICBA0dHReuaZZ9SlSxetXLlS8fHx6t69u4YNG6bWrVvbNH533XWXtm3bpq5du2rRokV66aWXFBgYqNatW2v27NmaNWuWgoKCFB0dreHDh8vV1VU//vhjuZ%2BUh4eHVq1apYSEBPXu3VthYWGqUqWKzWfv3cjYsWMVGhqqUaNGqU%2BfPrpw4YJ8fHzk%2BttV/IMGDdKePXvUp0%2BfctcIAADK4Q78HL%2BlS5eqqKhI/fr108iRI9WrVy9FRERIunyp3JVPAJGk1NRU1a1bVzVq1LjmPK%2B//rpKSkoUFhamXr16KSMjQytWrLD2H/bgYjF6Qd1NxMTEKDExUatXr67Ih7Grffv2qWnTptbI1mKxqGvXrnrllVfUo0eP21dIGdJJUwkMlPbskTp1qlRLvak/VehfodvO1VXy8ZF%2B/rlyLfU2713J3lXZvv3lN6wMHsxS752sXbvL18OFh1eupd59%2Bxz32AMG2P%2BcW7bY/5x3qDvvUxDvABs3btTs2bN16dIlFRUV6a233pIkBQQEOLgyAACA8jPFJ3VlZmYqLCzshmOS7JggTZs2Tc8//7z69%2B%2BvgoICtW/fXnFxcdd9dw4AALhN7sBv7jCTCm/8yvIZODfToEEDuzZ2N%2BPh4aEXX3zxtj0eAADA7WCKxA8AAEASiZ9BNH4AAMA8aPwMYfYAAACcBIkfAAAwDxI/Q5g9AAAAJ0HiBwAAzIPEzxAaPwAAYB40foYwewAAAE6CxA8AAJgHiZ8hzB4AAICTIPEDAADmQeJnCI0fAAAwDxo/Q5g9AAAAJ0HiBwAAzIPEzxBmDwAAwEmQ%2BAEAAPMg8TOExg8AAJgHjZ8hzB4AAICTIPEDAADmQeJnCLMHAADgJEj8AACAeZD4GULjBwAAzIPGzxBmDwAAwEmQ%2BAEAAPMg8TOE2QMAAHASJH4AAMA8SPwMofEDAADmQeNnCLMHAADgJEj8AACAeZD4GcLsAQAAOAkSPwAAYB4kfobQ%2BAEAAPOg8TOE2QMAAHASJH4AAMA8SPwMofEDAADmQeNnCLMHAADgJEj8AACAeZD4GcLsAQAAOAkSPwAAYB4kfobQ%2BAEAAPOg8TOE2QMAADAgMzNTERERCg4OVkhIiBYsWKCioqJSx06cOFH33HOPAgMDrbevvvpKklRcXKzFixere/fuCgwM1OOPP6709HS71krjBwAAzKNKFfvfDJo2bZpq1qypnTt3au3atdq1a5dWrVpV6tgffvhBcXFxSkpKst569%2B4tSXrjjTf0zTff6KOPPtLOnTvl5uamv/71r4bruxqNHwAAQDmdPHlSiYmJmjVrltzd3dW8eXNFRETovffeu2ZsamqqfvnlF919992lnuvDDz/UpEmT1LhxY3l4eGjOnDn66quvlJqaard6ucYPAACYRwVc45eenq6MjAybbd7e3mrYsOFNjz1y5Ig8PT3VqFEj6zZfX1%2BdOXNGFy9eVJ06dazb9%2B/fr1q1amn69Onav3%2B/vLy8NG7cOI0YMUKXLl3Szz//LD8/P%2Bt4Ly8v1a1bV4cPH1bz5s3t8Exp/O5oqT9ZHF2CXbm6Sj6Sft68R4WFjq7Gfpq3cHF0CfYVGCjt2SOfQZ2kpCRHV2M3sTGV6%2B%2BTt7cULil%2BzCb97vXK1Dw9HV2BfdWvLw2StHlsvLKyHF2N/TzkyAevgMYvPj5esbGxNtumTp2qyMjImx6bk5Mjd3d3m21X7ufm5to0fgUFBQoICND06dPVtm1bJSQkKDIyUrVq1VJgYKAkqWbNmjbncnNzU05OTrmeV2lo/AAAgFMLDw9XaGiozTZvb%2B8yHVuzZk3l5eXZbLtyv1atWjbb77//ft1///3W%2Bz179tT999%2Bv//f//p%2B6d%2B9uc%2BwV%2Bfn515zHCBo/AABgHhWQ%2BDVs2LBMy7qladu2rS5cuKBz587Jy8tLknT06FH5%2BPiodu3aNmPXrl2rWrVqaeDAgdZtBQUFqlGjhurWratGjRopJSXFutybkZGhCxcu2Cz/GsWbOwAAAMqpZcuWCgoK0sKFC5Wdna3U1FS9/vrrGjFixDVjs7OzNX/%2BfB08eFAlJSX68ssvtWnTJoWHh0uSHnjgAb3xxhtKTU1Vdna2Fi5cqC5duqhFixZ2q5fEDwAAmMcd%2BAHOS5cu1fPPP69%2B/fqpSpUquv/%2B%2BxURESFJCgwM1HPPPaehQ4dq7Nixys3N1dSpU5WZmanmzZtr8eLFCg4OliRNmTJFRUVFevDBB5WTk6OQkBD94x//sGutNH4AAMA87sDGz8vLS0uXLi11X9JVb5JzcXFRRESEtSn8PVdXV82cOVMzZ86skDollnoBAACcBokfAAAwjzsw8TMTZg8AAMBJkPgBAADzIPEzhMYPAACYB42fIcweAACAkyDxAwAA5kHiZwizBwAA4CRI/AAAgHmQ%2BBlC4wcAAMyDxs8QZg8AAMBJkPgBAADzIPEzhNkDAABwEiR%2BAADAPEj8DKHxAwAA5kHjZwizBwAA4CRI/AAAgHmQ%2BBnC7AEAADgJEj8AAGAeJH6G0PgBAADzoPEzhNkDAABwEiR%2BAADAPEj8DGH2AAAAnASJHwAAMA8SP0No/AAAgHnQ%2BBnC7AEAADgJEj8AAGAeJH6GMHsAAABOgsQPAACYB4mfITR%2BAADAPGj8DGH2AAAAnASJHwAAMA8SP0No/AAAgHnQ%2BBnC7AEAADgJEj8AAGAeJH6GMHsAAABOgsQPAACYB4mfITR%2BAADAPGj8DGH2AAAAnASJHwAAMA8SP0OYPQAAACdB4gcAAMyDxM8QGr9ySk9Pl4eHh2rWrOnoUgAAcB40foaYcvZOnTolf39/nTp1ym7n3L17twIDA6%2B7PyYmRmPGjJEknTt3TgMGDFBWVtY1%2BwAAgHPJzMxURESEgoODFRISogULFqioqKjUse%2B//74GDBigwMBADRgwQO%2B99551X0lJiQIDAxUQEKDAwEDrLTc31261kvj9Jjg4WElJSWUam5%2Bfb9ffBAAAUEZ3YOI3bdo0NWrUSDt37tS5c%2Bf0%2BOOPa9WqVZo4caLNuM8//1yvvPKKVqxYoXvvvVd79%2B7Vo48%2BKi8vLw0YMEApKSkqLCzUnj17VL169Qqp1S6zFxMTo//6r/9Sly5dNHz4cG3btk2SdODAAY0ZM0adO3fWH//4R61atUoWi8V6TEREhCIjIxUQEKDQ0FDFx8dbz3n06FE99thj6tOnjzp27KhBgwZp%2B/btt1RXSUmJunfvrs8//9y6LTQ0VNOmTbPeX7yEH/JrAAAgAElEQVR4sWbPnq2EhAT5%2B/tbt%2B/Zs0fDhw9XQECARo0aZU0Xi4uLNXjwYEnS4MGDtXnzZklSTk6O/vrXv6pnz54KCQnRq6%2B%2Beku1AgAA8zl58qQSExM1a9Ysubu7q3nz5oqIiLBJ8q5IS0vTpEmTFBAQIBcXFwUGBiokJETfffedJGn//v3y9/evsKZPskPi9%2B233yo%2BPl7r1q2Tt7e34uPjNWfOHLVr105jx47V9OnT9eabb%2BrkyZOKiIiQm5ubRo0aJUnatm2bnnrqKb3yyitKSEjQ5MmT1aJFC3Xr1k2RkZHq16%2BfYmNjZbFYtGTJEs2bN099%2B/Ytc21VqlRRaGiovvrqK4WFhenYsWPKzMzUrl27ZLFY5OLioi%2B%2B%2BEKzZs2yOe78%2BfN67LHHNGnSJI0fP17/%2Bc9/9Oijj%2Bruu%2B9W1apVtWnTJvXr10%2BbNm1Ss2bNFBMTo4MHD2rs2LGaP3%2B%2BEhISNG7cOPXp0%2BeGy8dXS09PV0ZGhs22khJveXs3LPPzvdNVq2b7s9Io4%2B%2BxabRrZ/uzkvD2dnQF9lWvnu3PyqJ2bUdXYF916tj%2BhB1UQOJX2muwt7e3Gja8%2BWvwkSNH5OnpqUaNGlm3%2Bfr66syZM7p48aLqXPWb/%2BCDD9ocm5mZqe%2B%2B%2B05PP/20pMuN36%2B//qrhw4fr9OnT8vX11YwZM9SpUycjT8%2BG4ZfgGjVq6JdfftGaNWvUt29f/fnPf1Z4eLhWrlwpX19f65Ns06aNHnnkEb377rvWxs/f31/jx4%2BXJPXs2VMDBgzQJ598om7dumn58uVq1KiRLBaLTp8%2BrTp16igtLe2W6wsLC9O8efMkSV9//bUGDRqkzz//XAcPHpSbm5vS09PVs2dP7du3z3rMl19%2BKXd3d02aNEkuLi4KCgrS8OHDdejQoes%2BTtu2bTVs2DBJUteuXeXl5aWffvqpzI1ffHy8YmNjbbZNmTJVUVGRt/iM73xeXo6uwM727HF0BRXjn/90dAV2Fe7oAirIH//o6ApQFj17OrqCSqQCGr/SXoOnTp2qyMibvwbn5OTI3d3dZtuV%2B7m5uTaN39UyMjL02GOPqUOHDtaVRDc3N3Xs2FHR0dGqW7eu3nvvPT3yyCPasGGDmjdvXp6ndg3DjV9gYKBiYmK0evVqrVy5Um5ubhozZowyMjJ04MABBQcHW8eWlJSoatWq1vstW7a0OVfjxo2tzVVycrIiIiKUkZEhX19f1a9f37pMfCu6d%2B%2Buixcv6siRI9q5c6f%2B9Kc/6eLFi/r3v/8ti8WiXr16yc3NzeaYtLQ0NW7cWC4uLtZtLVq0uGHj5%2BnpaXO/evXqKi4uLnOd4eHhCg0NtdlWUuKtn38u8ynueNWqXW76zp2TrnPNqyn5DLLf/8TuCO3aXW76Ro%2BWkpMdXY3dxD9ZuRr0evUuN31bt0rnzzu6GvupjIlfz57S119LFy86uhr7GTTI0RXYV2mvwd5lXCaoWbOm8vLybLZduV%2BrVq1Sj9m7d6%2Bio6MVHBysv//976r221LYU089ZTPukUce0bp167Rjxw499NBDZarnZgw3fmfOnFGDBg0UFxengoIC7dq1S1OnTlVERIRCQkIUFxdnHXv%2B/Hnl5ORY7/8%2BwTt16pQaN26stLQ0RUdHKzY21vobsWXLFm3duvWW66tevbp69eqlbdu26fvvv9fixYv1yy%2B/6F//%2Bpfy8vKuiV0lycfHR6dPn1ZJSYmq/PY/i58ruANr2LDhNZFyaqpUWFihD%2BsQRUWV7HmV8U1BppOcXKme2%2B9WcSqN8%2Bcr13OrVP82XOXiRem3D4KAURWQ%2BJX2GlxWbdu21YULF3Tu3Dl5/bakdfToUfn4%2BKh2Kf%2BTWbt2rV544QVFRUVpwoQJNvteffVVDRgwQHfffbd1W0FBgWrUqFGu2kpjePb279%2BviRMnKjk5WdWrV1eDBg0kSUFBQdq7d682bNigoqIipaena/LkyVq0aJH12L179%2BqTTz5RcXGxduzYoW3btmn48OHKyclRcXGxNSpNSUnRsmXLJF2egFvVv39/rVq1Si1btlT9%2BvXVs2dP7d69WwcPHlSfPn2uGR8aGiqLxaKYmBgVFBTohx9%2B0Icffmjdf%2BU3IDs7%2B5ZrAQAAlUfLli0VFBSkhQsXKjs7W6mpqXr99dc1YsSIa8Zu2bJF8%2BbNU0xMzDVNnyT9%2BOOPWrBggTIyMlRQUKDY2FhlZ2erf//%2BdqvXcOM3YMAATZgwQY8//rgCAgIUHR2tZ555Rl26dNHKlSsVHx%2Bv7t27a9iwYWrdurVN43fXXXdp27Zt6tq1qxYtWqSXXnpJgYGBat26tWbPnq1Zs2YpKChI0dHRGj58uFxdXfXjjz/eco19%2BvRRdna2ev52kUXz5s3l4%2BOjkJAQeXh4XDO%2BTp06iouL065du9SlSxfNmTNHAwYMsO738vJS//79FR4ervfff78cswYAAMqlShX73wxaunSpioqK1K9fP40cOVK9evVSRESEpMuXxG3YsEGSFBsbq%2BLiYkVFRdl8Tt/f/vY3SdLf//53tWjRQsOGDVNISIgSExP11ltvXXM5mREulvJcOGcHMTExSkxM1OrVqx3x8KaQmuroCuzL1VXy8ZF%2B/rlyLec0b%2BFy80FmEhh4%2BQ0rnTpVqqXe2BiH/FNXYby9pfBwKT6%2Bci312vH17Y5Qv/7l6%2BE2b65cS712utysfHbtsv85u3Wz/znvUHfepyACAACgQpj6E9UyMzMVFhZ2wzFl/TYOAABgAnfgN3eYicMav7J8Ns7NNGjQgMYOAACgjEyd%2BAEAACdD4mcIjR8AADAPGj9DmD0AAAAnQeIHAADMg8TPEGYPAADASZD4AQAA8yDxM4TGDwAAmAeNnyHMHgAAgJMg8QMAAOZB4mcIswcAAOAkSPwAAIB5kPgZQuMHAADMg8bPEGYPAADASZD4AQAA8yDxM4TZAwAAcBIkfgAAwDxI/Ayh8QMAAOZB42cIswcAAOAkSPwAAIB5kPgZQuMHAADMg8bPEGYPAADASZD4AQAA8yDxM4TZAwAAcBIkfgAAwDxI/Ayh8QMAAOZB42cIswcAAOAkSPwAAIB5kPgZwuwBAAA4CRI/AABgHiR%2BhtD4AQAA86DxM4TZAwAAcBIkfgAAwDxI/Axh9gAAAJwEiR8AADAPEj9DaPwAAIB50PgZwuwBAAA4CRI/AABgHiR%2BhjB7AAAAToLEDwAAmAeJnyE0fgAAwDxo/Axh9gAAAAzIzMxURESEgoODFRISogULFqioqKjUsTt27NCQIUMUEBCggQMHavv27Tb7V6xYod69eysgIEBjxozRsWPH7ForjR8AADCPKlXsfzNo2rRpqlmzpnbu3Km1a9dq165dWrVq1TXjTpw4ocjISEVHR2v37t2KjIzUtGnTlJaWJklav369Vq9erbi4OCUkJKh9%2B/aKioqSxWIxXOMVNH4AAADldPLkSSUmJmrWrFlyd3dX8%2BbNFRERoffee%2B%2BasevXr1dwcLDCwsJUrVo1DRo0SJ07d1Z8fLwkac2aNRo9erTatm2rGjVqaMaMGTpz5owSEhLsVi/X%2BAEAAPOogGv80tPTlZGRYbPN29tbDRs2vOmxR44ckaenpxo1amTd5uvrqzNnzujixYuqU6eOdXtKSor8/Pxsjm/Tpo2Sk5Ot%2BydNmmTd5%2BrqqpYtWyo5OVldu3Yt13P7PRq/O1jz3q0cXYJ9tW8vbdokn4mDpQMHHF2N3cTG2C%2BCvxN4e0vhkuKf3KPf/TtoalMjXRxdgn0FBkrhexS%2BuJOUlOToauzHzc3RFdhXQIA0aJcGze8m7d3r6Grs56E8hz20Rfb/uxwfH6/Y2FibbVOnTlVkZORNj83JyZG7u7vNtiv3c3NzbRq/0sa6ubkpNze3TPvtgcYPAAA4tfDwcIWGhtps8/b2LtOxNWvWVF6ebSN85X6tWrVstru7uys/P99mW35%2BvnXczfbbA40fAAAwjZIS%2B5%2BzYcOGZVrWLU3btm114cIFnTt3Tl5eXpKko0ePysfHR7Vr17YZ6%2BfnpwO/W/FKSUlRhw4drOc6cuSI%2BvbtK0kqLCzUiRMnrlkeNoI3dwAAAJRTy5YtFRQUpIULFyo7O1upqal6/fXXNWLEiGvGDh06VImJidq8ebOKioq0efNmJSYmatiwYZKk4cOH691331VycrJ%2B/fVXvfzyy/Ly8lJwcLDd6qXxAwAAplFSYv%2BbUUuXLlVRUZH69eunkSNHqlevXoqIiJAkBQYGasOGDZIuv%2Blj2bJlWr58uTp37qzXX39dMTExatXq8jX9I0aM0Lhx4zRlyhR17dpVBw8e1PLly%2BXq6mq8yN%2Bw1AsAAEyjIpZ6jfLy8tLSpUtL3Zf0uzdf9erVS7169Sp1rIuLiyZMmKAJEybYvcYrSPwAAACcBIkfAAAwjTsx8TMTEj8AAAAnQeIHAABMg8TPGBo/AABgGjR%2BxrDUCwAA4CRI/AAAgGmQ%2BBlD4gcAAOAkSPwAAIBpkPgZQ%2BMHAABMg8bPGJZ6AQAAnASJHwAAMA0SP2No/AAAgGnQ%2BBnDUi8AAICTIPEDAACmQeJnDIkfAACAkyDxAwAApkHiZwyNHwAAMA0aP2NY6gUAAHASJH4AAMA0SPyMIfEDAABwEiR%2BAADANEj8jKHxAwAApkHjZwxLvQAAAE6CxA8AAJgGiZ8xJH4AAABOgsQPAACYBomfMTR%2BAADANGj8jGGpFwAAwEmQ%2BAEAANMg8TOGxA8AAMBJkPgBAADTIPEzhsYPAACYBo2fMSz1AgAAOAkSPwAAYBokfsaQ%2BAEAADgJEj8AAGAaJH7G0PgBAADToPEzhqVeAAAAJ0HiBwAATIPEzxgSPwAAACdB4gcAAEyDxM8YhyV%2BJ06ccNRD283JkycdXQIAAE6lpMT%2BN2fikMbvvffe07PPPlumsadOnZK/v79OnTp107EJCQny9/c3Wl6ZLF68WG%2B88Yb1vr%2B/vxISEm7LYwMAAHPIzc3V008/rZCQEAUFBWn27NnKycm57vgtW7Zo2LBh6tSpk0JDQxUbG6uSq7rTgQMH6t5771VgYKD1dvTo0TLX45Cl3qysLEc8rF2dP3/e0SUAAOB0zJbQzZ8/X2fPntWWLVtUXFysadOmacmSJZo7d%2B41Y3/44QfNnj1b//jHP/Rf//VfOn78uCZNmqSaNWtqwoQJys7O1vHjx7Vt2zY1bdq0XPWUO/G7ksStXr1aPXr0UFBQkGbNmqXs7GxJ0qeffqohQ4YoKChIDzzwgL7%2B%2BmtJ0vr167V8%2BXLt3r1bwcHBkqSjR4/qscceU58%2BfdSxY0cNGjRI27dvL29pVj/99JMmT56skJAQ9e3bV6%2B%2B%2BqoKCgokSevWrdNf/vIXvfDCC%2Bratau6deumOXPmqLCwUJJUXFysf/zjH%2BrRo4e6d%2B%2BuuXPnatSoUVq3bp2WLVumjRs3auPGjRo6dKj18b755hsNGzZMgYGBGjFihH788UfDzwEAAJhTXl6eNm7cqKioKHl6eqpBgwaaOXOm1q1bp7y8vGvGnz59WqNGjVLfvn1VpUoV%2Bfr6qn///vruu%2B8kXW4MPT09y930SXZI/LZu3aqNGzequLhYU6ZM0XPPPafBgwdr7ty5euONN9SpUyd99dVXioyM1Jo1a/SnP/1Jp06dUmJiolavXi1JioyMVL9%2B/RQbGyuLxaIlS5Zo3rx56tu3b7nrys3N1bhx43TffffptddeU1ZWlqKiolRSUqIZM2ZIkvbs2aPevXtr586dOnTokMaOHavu3bvrvvvuU1xcnDZs2KC3335bLVq0UExMjJKSkjRy5EhNmTJFqampkqRFixZZHzMxMVFxcXHy8PBQZGSkFi9erLi4uDLVm56eroyMDJtt3k2aqGG9euWegzuOr6/tz0rC29vRFdjXlT9ylemPniQpMNDRFdhXu3a2PyuLGjUcXYF9%2BfnZ/oRhFZH4lfoa7O2thg0b3vTY/Px8paWllbovLy9PhYWF8rvq99/X11f5%2Bfk6ceKE7rrrLpvxAwYM0IABA2zO/eWXX2rIkCGSpP3798vd3V0PPfSQjhw5oqZNmyoyMvKW%2BiXDjd/TTz%2Bt%2BvXrS5KioqL0%2BOOP6/z58/rLX/6izp07S5L69u2r0NBQffDBB6Ve27d8%2BXI1atRIFotFp0%2BfVp06da47iWX15ZdfqqCgQE888YRcXFzUuHFjRUdHKyoqytr4ubm5afLkyXJxcVHHjh3l7%2B%2Bv48ePS5LWrl2rRx99VG3atJEkTZs2TevXr7/hY44fP15eXl6SpLCwMK1cubLM9cbHxys2NtZm29SICEVGR5f5HKbx2muOrsCuwh1dQAX54x8dXYGdhe9xdAUV45//dHQFKIu333Z0BZVGRTR%2Bpb4GT52qyMjImx67b98%2BPfzww6Xui/7tNbxmzZrWbe7u7pJ0w%2Bv8JCk7O1vR0dFyc3PTuHHjJEkuLi6655579MQTT6hJkyb67LPPFBkZqXfffVcBAQE3rVWyQ%2BP3hz/8wfrrxo0bq6CgQMeOHdN3332n999/37qvuLhYXbt2LfUcycnJioiIUEZGhnx9fVW/fn1ZLBZDdZ0%2BfVpZWVnW5lOSLBaLCgsLlZmZKUlq0KCBXFxcrPtdXV2tj3v27FmbKLVq1apq0qTJDR/T09PT5lzFxcVlrjc8PFyhoaE227wffVT617/KfI47nq/v5aYvOlq6hQtR73TxYzY5ugS7qlfvctO3datUmS5lDV/cydEl2Fe7dpebvtGjpeRkR1djP5Ux8Xv7bWnsWKkyXf6za5ejK7CrUl%2BDy7icExISosOHD5e67%2BDBg3rttdeUl5enWrVqSZJ1idfDw%2BO65zx27JiioqLUoEEDvfPOO9axEydOtBk3dOhQbdq0SVu2bLl9jV9aWppat24t6fJ1f%2B7u7mratKlGjRqlRx991DruzJkzcnNzK/X46OhoxcbGWid9y5Yt2rp1q6G6fHx81KJFC3322WfWbdnZ2crMzLQmlDfSpEkTnTlzxnrfYrHo7Nmzhmq6kYYNG14bKZ85c/lW2Rw9Kh044Ogq7OZ3qwOVxvnzley5JSU5uoKKkZxcuZ5bKa8TlcKPP0p79zq6ikqhIhK/Ul%2BD7aBVq1ZydXVVSkqK7r33XkmX39fg6uqqli1blnrMjh079MQTT2jkyJGaMWOGqlX7v1YtLi5Od999t7p162bdVlBQoBq38B8mwx/n8vLLLys7O1tpaWlaunSphg0bpgcffFDvvPOO/vOf/0i6vCb9wAMPaNOmy8lIjRo1lJ2dLYvFopycHBUXF1ujz5SUFC1btsz6ZMqrb9%2B%2BysnJ0cqVK1VQUKCLFy/qySef1PTp021SvusJDw/Xm2%2B%2BqePHj6ugoEDLli1Tenq6dX/16tV16dKlctcHAAAqN3d3dw0cOFBLlixRVlaWsrKytGTJEg0ePLjUMGzv3r2aMmWKnn76aT355JM2TZ90eTXyueeeU2pqqoqKirR27VolJSXpT3/6U5lrMpz4tWjRQoMHD1ZeXp6GDBmiWbNmqUaNGsrNzdUzzzyjM2fOyNPTU%2BPGjdOYMWMkXW7K3n//fQUFBenLL7/U7NmzNWvWLOXl5cnHx0cjR47USy%2B9pB9//NFm%2BfRWeHh4aNWqVVq0aJFWrlypkpIShYSE2Hz23o2MHTtWGRkZGjVqlKpWrapBgwbJx8dHrq6ukqRBgwZp%2BvTp6tOnj7788sty1QgAAG6N2T7OZe7cuVq8eLGGDBmiwsJC9evXz%2Bb9Dvfdd5%2BGDBmiyZMn63/%2B539UVFSkBQsWaMGCBdYxQUFBWrlypWbPnq0qVapo9OjRunTpktq0aaP//d//tbns7mZcLOW8mO7UqVPq16%2Bftm3bpmbNmpXnFHe0ffv2qWnTptY3a1gsFnXt2lWvvPKKevTocXuKaNXq9jzO7dK%2BvbRpkzR4cKVa6o2dcdzRJdiVt7cUHi7Fx1eupd6pkTdP%2Bk0lMFDas0fq1Iml3jtZQMDl6%2BG6datcS72lfBTJ7bJli/3PedUbaSs9h31l251u48aNmj17ti5duqSioiK99dZbklTmiycBAADuNA755o7yyMzMVFhY2A3HJNnxf73Tpk3T888/r/79%2B6ugoEDt27dXXFyc9V05AADg9jPbUu%2BdptyNX7Nmza779uWK0KBBA7s2djfj4eGhF1988bY9HgAAuDkaP2NY6gUAAHASplnqBQAAIPEzhsQPAADASZD4AQAA0yDxM4bGDwAAmAaNnzEs9QIAADgJEj8AAGAaJH7GkPgBAAA4CRI/AABgGiR%2BxtD4AQAA06DxM4alXgAAACdB4gcAAEyDxM8YEj8AAAAnQeIHAABMg8TPGBo/AABgGjR%2BxrDUCwAA4CRI/AAAgGmQ%2BBlD4gcAAOAkSPwAAIBpkPgZQ%2BMHAABMg8bPGJZ6AQAAnASJHwAAMA0SP2NI/AAAAJwEiR8AADANEj9jaPwAAIBp0PgZw1IvAACAkyDxAwAApkHiZwyJHwAAgJMg8QMAAKZB4mcMjR8AADANGj9jWOoFAABwEiR%2BAADANEj8jCHxAwAAcBIkfgAAwDRI/Iyh8QMAAKZB42cMS70AAABOgsQPAACYBomfMSR%2BAAAAToLEDwAAmAaJnzEkfgAAwDRKSux/q0i5ubl6%2BumnFRISoqCgIM2ePVs5OTnXHT937lx16NBBgYGB1lt8fLx1/4oVK9S7d28FBARozJgxOnbs2C3VQ%2BMHAABQQebPn6%2BzZ89qy5Yt2rp1q86ePaslS5Zcd/z%2B/fs1f/58JSUlWW/h4eGSpPXr12v16tWKi4tTQkKC2rdvr6ioKFksljLXQ%2BMHAABMw0yJX15enjZu3KioqCh5enqqQYMGmjlzptatW6e8vLxrxhcUFOjHH39Uhw4dSj3fmjVrNHr0aLVt21Y1atTQjBkzdObMGSUkJJS5Jq7xAwAAKKf8/HylpaWVui8vL0%2BFhYXy8/OzbvP19VV%2Bfr5OnDihu%2B66y2Z8cnKyioqKtHTpUn3//feqXbu2hg8frokTJ6pKlSpKSUnRpEmTrONdXV3VsmVLJScnq2vXrmWql8YPAACYRkUkdOnp6crIyLDZ5u3trYYNG9702H379unhhx8udV90dLQkqWbNmtZt7u7uklTqdX6XLl1Sly5dNGbMGL3yyis6dOiQpkyZoipVqmjixInKycmxHn%2BFm5ubcnNzb1rnFTR%2Bd7I6dRxdgX3VqvV/PyvRc/P0dHQF9lW79v/9LCx0bC125ebm6Arsq0aN//tZmZ5bfr6jK7CvX3/9v5%2BV7bk5SEU0fvHx8YqNjbXZNnXqVEVGRt702JCQEB0%2BfLjUfQcPHtRrr72mvLw81frtNfDKEq%2BHh8c143v06KEePXpY73fs2FFjx47V5s2bNXHiRLm7uyv/d3%2BO8vPzrecuCxo/AADg1MLDwxUaGmqzzdvb2/B5W7VqJVdXV6WkpOjee%2B%2BVJB09etS6RPt7n3/%2Buc6dO6dRo0ZZtxUUFMjtt//ctW3bVkeOHFHfvn0lSYWFhTpx4oTNUvLN8OYOAABgGhXx5o6GDRuqffv2NreyLPPejLu7uwYOHKglS5YoKytLWVlZWrJkiQYPHmxt5q5msVj097//Xbt27ZLFYlFSUpLeeecd67t6hw8frnfffVfJycn69ddf9fLLL8vLy0vBwcFlronEDwAAmIbZPsB57ty5Wrx4sYYMGaLCwkL169dPzz77rHX/fffdpyFDhmjy5Mnq37%2B/nn76ac2bN09paWny8vJSZGSkhg0bJkkaMWKELl26pClTpigrK0v33HOPli9fLldX1zLXQ%2BMHAABQQTw8PDR//nzNnz%2B/1P2ffvqpzf1Ro0bZLPVezcXFRRMmTNCECRPKXQ%2BNHwAAMA2zJX53Gq7xAwAAcBIkfgAAwDRI/Iyh8QMAAKZB42cMS70AAABOgsQPAACYBomfMSR%2BAAAAToLEDwAAmAaJnzE0fgAAwDRo/IxhqRcAAMBJkPgBAADTIPEzhsQPAADASZD4AQAA0yDxM4bGDwAAmAaNnzEs9QIAADgJEj8AAGAaJH7GkPgBAAA4CRI/AABgGiR%2BxtD4AQAA06DxM4alXgAAACdB4gcAAEyDxM8YEj8AAAAnQeIHAABMg8TPGBo/AABgGjR%2BxrDUCwAA4CRI/AAAgGmQ%2BBlD4gcAAOAkSPwAAIBpkPgZQ%2BMHAABMg8bPGJZ6AQAAnASJHwAAMA0SP2NI/AAAAJwEiR8AADANEj9jaPwAAIBp0PgZw1IvAACAkyDxAwAApkHiZwyJHwAAgJMg8QMAAKZB4mcMjR8AADANGj9jWOoFAABwEiR%2BAADANEj8jKHxAwAApkHjZwxLvQAAAE7ijkr8Tpw4oZYtWzq6jDJJT0%2BXh4eHatas6ehSAABwGmZL/HJzczV//nx98cUXKioqUr9%2B/TR37lzVqlXrmrF/%2B9vftHHjRptt%2Bfn56t69u%2BLi4lRSUqKgoCBZLBa5uLhYx3zzzTdl7kfumMTvvffe07PPPlumsadOnZK/v79OnTplt8ffvXu3AgMDr7s/JiZGY8aMkSSdO3dOAwYMUFZW1jX7AAAArpg/f77Onj2rLVu2aOvWrTp79qyWLFlS6tjnn39eSUlJ1ltMTIzq1Kmjp556SpKUkpKiwsJCJSYm2oy7lRDqjmn8rjRRjhIcHKykpKQyjc3Pz1dubm4FVwQAAH6vpMT%2Bt4qSl5enjRs3KioqSp6enmrQoIFmzpypdevWKS8v74bHZmVlaebMmZozZ47atm0rSdq/f7/8/f1VvXr1ctdk18bvShK3evVq9ejRQ0FBQZo1a5ays7MlSZ9%2B%2BqmGDBmioKAgPfDAA/r6668lSevXr9fy5cu1e/duBQcHS5KOHj2qxx57TH369FHHjh01aNAgbd%2B%2B/ZbqKSkpUffu3fX5559bt4WGhmratGnW%2B4sXL9bs2bOVkJAgf39/6/Y9e%2BS15KIAAB0OSURBVPZo%2BPDhCggI0KhRo6zpYnFxsQYPHixJGjx4sDZv3iz9//buPK6qOv/j%2BBsUkdFxARcE09JUqHHUMHDB1CtYuSSuVGRqlpm5zuNhjY6ljc1DZ8YiA5dskZ/amDplpjiNDaCWC27j9hAXzDUKjHEyEFLh/v5QbtwExIHrOYf7ej4ePIxz7r287frxfvwu50jKzc3VjBkzFB4errCwMMXGxt7u/z4AAHALZmv88vPzdebMmVK/rl69qtatWzse37JlS%2BXn5%2Bv06dNlvu68efP0m9/8Ro899pjj2KFDh/TTTz9p8ODB6tSpk2JiYrRv377byuuSNX6bNm3S%2BvXrVVBQoBdffFGvvfaa%2BvXrp5kzZ2rRokV64IEHtHXrVk2YMEGrV6/WwIEDdf78ee3atUvLly%2BXJE2YMEG9evVSfHy87Ha75s2bp1mzZqlnz57lzuHp6SmbzaatW7cqIiJCX3/9tbKzs7Vjxw7H/HhycrKmTp3q9LyLFy/q%2Beef13PPPadRo0bp4MGDGjNmjO677z5Vq1ZNGzZsUK9evbRhwwY1bdpUcXFxOnLkiEaMGKHZs2crNTVVI0eOVI8ePcqcPi4uKytLFy5ccDrWsHFjNapfv9y/X9O75x7nX6sIX1%2BjE1SuOnWcf60y2rc3OkHlKvogKfaBUiX89JPRCSpXUJDzrzClEj%2BDGzZUo0aNbvncAwcO6Omnny7x3KRJkyTJaSrWx8dH0vUBo9KcO3dOn332mdasWeN0vGbNmvrtb3%2BrSZMmqW7duvrwww81evRoffbZZ7rrrrtumVVyUeM3bdo0%2Bd74NJw4caJeeOEFXbx4UU888YQefPBBSVLPnj1ls9n00Ucflbi275133lHjxo1lt9v1zTffqE6dOsrMzLztLBEREZo1a5Yk6auvvlKfPn30r3/9S0eOHFHNmjWVlZWl8PBwHThwwPGczZs3y8fHR88995w8PDwUEhKiwYMHKy0trdSf06pVKw0YMECS1KlTJzVo0EBnz54td%2BO3atUqxcfHOx0bP26cJtz4Q1OlzJ1rdIJK1cfoAC4SHm50gkrWZ4fRCVzj//7P6AQoj7/9zegEVYYrpmZL/AweP14TJky45XPDwsJ07NixEs8dOXJE8%2BfPV15enmMzR9EUb%2B3atUt9zY8//lgdOnRQcHCw0/GitX5FRo8erU8%2B%2BURbtmzRU089dcuskosav%2BbNmzv%2Bu0mTJrpy5Yq%2B/vpr7d69WytXrnScKygoUKdOnUp8jaNHj2rcuHG6cOGCWrZsKV9fX9nt9tvO0qVLF126dEknTpzQl19%2BqYEDB%2BrSpUvavn277Ha7unXrppo1azo9JzMzU02aNHHaMdOsWbMyG7969eo5fV%2BjRg0VFBSUO2d0dLRsNpvTsYZTpkjbt5f7NUzvnnuuN32//7106pTRaSrNxhGrjI5QqerUud70ffWVdOmS0WkqT5/ZnY2OULlat77e9I0YIR0/bnSaylMVR/z%2B9jfpySelo0eNTlN5bnN60exK/Axu2LDCr3vPPffIy8tL6enpateunaTrS9m8vLzKvIrJpk2b9Mwzz9x0PDY2Vg8//LDuu%2B8%2Bx7ErV67I29u73Jlc0vhlZmaqRYsWkq6v%2B/Px8VFgYKAef/xxjRkzxvG4jIyMm5quoudPmjRJ8fHxjjeiaDfM7apRo4a6deumpKQk7d27V3/%2B85/1ww8/6IsvvlBeXp5iYmJueo6/v7%2B%2B%2BeYbFRYWytPz%2BjLI77777rZ/9u1o1KjRzUPKmZnXv6qaU6eq1F%2BABu9LcplLl6rY723/fqMTuMbx41Xr95afb3QC1zh6VCrnBkKUzRUjfiV%2BBlcCHx8fPfroo5o3b57mz58v6fravX79%2BpXY/0jXl5udPHnSMUNa3PHjx7Vnzx699dZbqlu3rpYsWaKcnBxFRkaWO5NLdvW%2B8cYbysnJUWZmpt5%2B%2B20NGDBAMTExWrZsmQ4ePCjp%2BgLFQYMGacOGDZIkb29v5eTkyG63Kzc3VwUFBY558PT0dC1YsEDS9c72dkVGRiohIUF33323fH19FR4erj179ujIkSPq0aPHTY%2B32Wyy2%2B2Ki4vTlStXdPjwYad59qLOumjTCgAAuDPMtrnjVmbOnKm7775b/fv31yOPPKKmTZvq1VdfdZzv27evFi9e7Pi%2BaDNp48aNb3qtOXPmqFmzZhowYIDCwsK0a9cuLV269KZZx7K4ZMSvWbNm6tevn/Ly8tS/f39NnTpV3t7eunz5sqZPn66MjAzVq1dPI0eOdFz/rmfPnlq5cqVCQkK0efNmvfTSS5o6dary8vLk7%2B%2BvYcOG6a9//auOHz9%2BW79BSerRo4d%2B//vfK/zGoqW77rpL/v7%2Buvvuu0ucY69Tp47ef/99zZo1S0uXLlXz5s318MMP69SN6ckGDRooMjJS0dHRN823AwAAFKldu7Zmz56t2bNnl3g%2BMTHR6fu2bduWumawXr16mjNnToXyeNj/l4VzpTh//rx69eqlpKQkNW3atLJe1n3dWA9QZQQFSatWSdHRVWqqd8XUA7d%2BkIX4%2Bkp9%2BkgbN1atqd6nnvMxOkLlat9e2rFD6tyZqV4z69Dh%2Bnq4Bx6oWlO9ldc63LbOLliuu6OK7v0qiWku4AwAAADXMtW9em9Xdna2IiIiynxMee/GAQAAzM9q9%2Bo1m0pt/Jo2bVrqvLQr%2BPn50dgBAOBGaPwqhqleAAAAN2HpqV4AAOBeGPGrGEb8AAAA3AQjfgAAwDIY8asYGj8AAGAZNH4Vw1QvAACAm2DEDwAAWAYjfhXDiB8AAICbYMQPAABYBiN%2BFUPjBwAALIPGr2KY6gUAAHATjPgBAADLYMSvYhjxAwAAcBOM%2BAEAAMtgxK9iaPwAAIBl0PhVDFO9AAAAboIRPwAAYBmM%2BFUMI34AAABughE/AABgGYz4VQyNHwAAsAwav4phqhcAAMBNMOIHAAAsgxG/imHEDwAAwE0w4gcAACyDEb%2BKofEDAACWQeNXMUz1AgAAuAlG/AAAgGUw4lcxNH4AAMAyaPwqhqleAAAAN8GIHwAAsAxG/CqGET8AAAA3wYgfAACwDEb8KobGDwAAWAaNX8Uw1QsAAOAmGPEDAACWwYhfxTDiBwAA4CYY8QMAAJbBiF/F0PgBAADLoPGrGKZ6AQAA3ASNHwAAsIzCwsr/uhPy8vIUHR2tTz75pMzHHThwQEOHDlWHDh1ks9m0Zs0ap/Nr165VZGSk2rdvr0GDBunf//73beWg8QMAAHChEydOKCYmRvv37y/zcT/88IPGjBmjqKgo7d69W3/60580Z84cHTx4UJKUmpqq2bNna%2B7cudq9e7cee%2BwxvfDCC8rLyyt3Fho/AABgGVYb8duxY4dGjBihgQMHKiAgoMzHbtq0SfXq1VNMTIyqV6%2Buzp07q3///vrwww8lSWvWrFHfvn0VEhIiLy8vjRw5UvXr19fGjRvLnYfNHQAAwDLMtrkjPz9fmZmZJZ5r2LChgoKClJKSIm9vby1durTM1zpx4oRat27tdOzee%2B/V3//%2Bd0lSenq6Bg8efNP5o0ePljsvjR8AAHBrWVlZunDhgtOxhg0bqlGjRrd87oEDB/T000%2BXeG7BggWKiIgod47c3Fz5%2BPg4HatZs6YuX75crvPlQeNnZgcOGJ2gUmVlZWlVXJyi4%2BLKVUxW8ZTRASpZVlaW4uJWKTo6ukq9T3qq/GtgrMBRT%2BvWVa33qYpxvE%2Bff877VEns9sp/zbi4VYqPj3c6Nn78eE2YMOGWzw0LC9OxY8cqJYePj49%2B/PFHp2P5%2BfmqVauW43x%2Bfv5N5%2BvXr1/un0HjhzvmwoULio%2BPl81m4y9AE%2BN9sgbeJ2vgfbKG6Oho2Ww2p2MNGza84zlat26tbdu2OR1LT09Xq1atJEmtWrXSiRMnbjr/0EMPlftnsLkDAAC4tUaNGun%2B%2B%2B93%2BjKiUY%2BMjNT333%2BvhIQEXb16VTt37tT69esd6/qGDBmi9evXa%2BfOnbp69aoSEhKUnZ2tyMjIcv8MGj8AAACD9O3bV4sXL5Yk1a9fXx988IE%2B//xzhYWFacaMGZoxY4Y6deokSercubNmzpypWbNmKTQ0VImJiXr33XdVr169cv88pnoBAADugOTk5JuOJSYmOn3ftm1bffTRR6W%2BxoABAzRgwID/OUO1WbNmzfqfnw3cplq1aik0NNSxUBXmxPtkDbxP1sD7BDPxsNtdsT8GAAAAZsMaPwAAADdB4wcAAOAmaPwAAADcBI0fAACAm6DxAwAAcBM0fgAAAG6Cxg8AAMBN0PgBAAC4CRo/AAAAN0HjBwAA4CaqGx0AVVt6errmzp2rc%2BfO6dq1a07nkpKSDEqFkhw4cEBnz55VQUGB0/GoqCiDEuGXqCfroJ5gVjR%2BcKlp06apfv36Gj16tLy8vIyOg1LExsZqyZIlatCggdP75OHhwQeViVBP1kA9wcxo/OBS6enpSk1NVY0aNYyOgjKsXr1aCQkJCgsLMzoKykA9WQP1BDNjjR9cqnnz5srJyTE6Bm6hWrVqfEhZAPVkDdQTzKzarFmzZhkdAlXP7t27lZGRIU9PT7333nuqW7eusrOzlZGR4fgKDAw0OiZuOHXqlC5fvqzWrVsbHQUloJ6shXqCmXnY7Xa70SFQ9QQFBZV53sPDQ2lpaXcoDUozfPhweXh4KDc3V2lpabr33ntVr149p8csW7bMoHQoQj1ZA/UEK2CNH1zi6NGjRkdAORSfjurZs6eBSVAW6skaqCdYASN%2BcKmoqCh9%2BumnNx232WxKTk42IBFK8o9//EOPPvroTcdXrVql6OhoAxKhJNSTNVBPMDNG/FDpzp49q0WLFkm6vgtx2rRpTudzcnKUn59vRDQUk5eXp4sXL0qSpk%2Bfrvbt26v4vwN//PFHzZ07lw8qg1FP1kA9wSpo/FDpmjVrpvr16zv%2BEvwlX19fxcbG3uFU%2BKWcnBz17dvX0TTYbDbHObvdLg8PD0VERBgVDzdQT9ZAPcEqmOqFSy1cuFDjxo0zOgZKkZ2drby8PPXv318bNmxwOuft7a0GDRoYlAwloZ7MjXqCFdD4waVKWo8kSV5eXvL19VX79u3l4%2BNzh1PhlwoLC%2BXpyWU9zY56sgbqCWbGVC9catWqVdq/f7/8/PwUGBiob7/9VhcuXJC/v7/y8vLk4eGhDz74QMHBwUZHdUtFl58oC5efMA/qydyoJ1gBF3CGSx0%2BfFhdunTRO%2B%2B8o2HDhmnUqFGSpMDAQC1btkyenp5asWKFBg4caHBS91R04V%2B73a7U1FQ99NBDCgkJUe3atbV161Y9%2BOCDXJbCRKgnc6OeYAl2wIW6du1qv3LlitOxK1eu2Lt27Wq32%2B32q1ev2kNCQoyIhmKeeOIJ%2B969e52OHTp0yB4VFWVQIpSEerIG6glmxiIEuNy5c%2Becvv/mm2907do1SVJ%2Bfr68vLyMiIVi0tLS1K5dO6djbdq00enTp40JhFJRT%2BZHPcHMaPzgUkOGDNGYMWO0Zs0abdu2TWvWrNHYsWM1aNAgZWdna9KkSerevbvRMd1ey5YtlZCQ4HRs8eLFt7xVGO4s6skaqCeYGbt64VKFhYV677339PHHH%2Bvbb79VQECAoqOjNWLECB0%2BfFjr16/X5MmTVatWLaOjurV9%2B/Zp7Nix%2BtWvfiV/f39lZGSosLBQ77//vtq0aWN0PNxAPVkD9QQzo/EDIEm6ePGiNm/erKysLPn7%2B8tms%2BnXv/610bEAS6KeYFY0fnCpgoIC/fOf/9Tp06dVWFjodG78%2BPEGpQKsiXoCUFFcxw8uNXPmTCUmJiooKEjVq//8x%2B1W17rCnfHAAw9o3759CgoKKvU9SUtLu8OpUBrqydyoJ1gBjR9cKiUlRcuWLVPbtm2NjoISLFmyRBIXlbUK6sncqCdYAY0fXKqwsFD33Xef0TFQio4dO0qSPvnkE/Xu3Vvh4eGqUaOGwalQGurJ3KgnWAF37oBLZWZm6tixYwoJCTE6Csqwd%2B9effjhh5o/f77S0tJUWFiogIAAPrRMhnqyBuoJZsbmDrjUk08%2BqX379snHx0e%2Bvr5O55KSkgxKhdJ8/fXXSkpKUkpKitLS0hQWFqbFixcbHQs3UE/WQj3BjJjqhUsNHTpUQ4cONToGyumnn36Sh4eHfHx8VFhYqFOnThkdCcVQT9ZCPcGMGPHDHfOf//znplEKmMPvfvc77dixQ4WFhQoNDVXXrl0VHh6upk2bGh0NpaCezIt6gplxyza41LVr1xQbG6uQkBDZbDadO3dOgwcP1oULF4yOhmL279%2BvvLw89erVS3369NEjjzzCh5QJUU/WQD3BzGj84FJxcXHauXOn5s%2BfLy8vL/n5%2Bcnf31%2Bvv/660dFQTHJystauXavg4GCtXbtWERERGjJkiN566y2jo6EY6skaqCeYGVO9cCmbzaaVK1eqcePGCg0N1a5du3Tp0iVFRkYqNTXV6HgoQXp6upKSkpSQkKDc3FwdPHjQ6Ei4gXqyHuoJZsPmDrjU5cuXHeuQiv6NUbNmTXl6MthsJklJSdq6dau%2B/PJLXbp0Sd26ddOMGTPUvXt3o6OhGOrJGqgnmBmNH1yqffv2io%2BP15QpUxy3MFq%2BfDl3HjCZV199VTabTTNnzlTnzp253phJUU/WQD3BzJjqhUudO3dOI0aM0LVr15Sdna3mzZsrNzdXS5cuVYsWLYyOhxvsdvst7/dadB9SGId6sgbqCWbGiB9c6q677lJiYqJSUlKUkZEhf39/9ejRQ7Vr1zY6Goq51YeU9PPUIoxDPVkD9QQzo/GDy/n4%2BKhPnz5Gx0AFlefDDK5HPVUN1BOMQuMHlwgKCrrlX2xpaWl3KA1gbdQTgMpC4weXWLZsmdERgCqDegJQWWj84BKhoaHlfiyLnIGyUU8AKgsXf4LhWOQMVB7qCUBZaPxgOBY5WwMNhTVQT9ZAPcEoTPUCbiwjI%2BOWjwkICJB0/W4EAEpHPcEKaPwAN2az2UodISq6CG3RbtGiW4UBKBn1BCug8QPcGKMOQOWhnmAFNH6AGwsMDCz13LVr13T8%2BPEyHwPgZ9QTrIDGD4ZjkbPxNm/erNdee02ZmZlO70f16tV16NAhA5PhdlFPxqOeYGY0fnAJFjlby7x589S7d2/VqVNHx44dU79%2B/bRgwQINGTLE6GgQ9WQ11BPMzMPOPw/hAmXdYuqXi5xhvHbt2mnv3r06f/68XnnlFS1fvlzp6emaMmWK1q9fb3Q8t0c9WQv1BDNjxA8uwaiDtfj6%2BsrT01MBAQE6efKkJOnee%2B/Vd999Z3AySNST1VBPMDMaP7gEi5ytpU2bNpo/f75efPFF%2Bfn5acuWLapZs6a8vb2NjgZRT1ZDPcHMmOqFS7HI2RpOnjypiRMnasmSJTpy5IgmT56swsJCvfTSSxo1apTR8XAD9WQNpdXT1KlT9cwzzxgdD26Oxg8u1a9fP3Xt2rXERc7Dhw83Oh5KkZWVpdzcXN1zzz1GR0Ex1JM1FdVTw4YNVbt2baPjwM0x1QuXOnfunKZOnarz589r586d6t27t1q0aKEpU6bwQWUyO3fu1Lp163ThwgUFBASwA9GEqCdrCA0N1a5duxzfN2rUSJLUsWNH7dmzx6hYgCQaP7gYi5ytYfXq1Zo9e7Z69%2B6t4OBgnT9/XsOHD9e8efMUGRlpdDzcQD2Z15kzZ/Tqq6/KbrcrJydHTz/9tNP5nJwc1alTx6B0wM9o/OBSLHK2hiVLlmjx4sXq2rWr49iWLVv0l7/8hcbPRKgn82revLl69%2B6tixcvat%2B%2BfQoNDXU6X6NGDdlsNoPSAT9jjR9cik0D1tChQwft2bNH1apVcxwrLCxUp06dnKasYCw2DVjDp59%2BqqioKKNjACWi8cMdxaYBc5o4caJCQkI0YsQIx7H169crKSlJb731loHJUBY2DZjXyZMntXLlSn333XeaPXu2EhMT9dRTTxkdC2CqF67HpgHzKygo0Ny5c7V27Vo1b95cmZmZOnDggIKDg53WKi1btszAlGDTgDVs27ZNEyZMUM%2BePbV9%2B3bl5%2BdrwYIFunz5ssaMGWN0PLg5RvzgUsU3DQQEBOj8%2BfNKTk5m04DJxMfHl%2Btx48ePd3ES/FLxTQN79uxRx44dnc7n5OTov//9r5KTkw1KiF8aPHiwJk6cqO7du%2BvBBx/U7t27dejQIU2ePJm7sMBwjPjBpdg0YA00dObFpgHrOXPmjB566CFJctxjuW3btvrhhx%2BMjAVIovGDi2VnZ6tTp05Ox7p166apU6calAilWb16tZYvX66srCytXbtWc%2BfO1Zw5c1SrVi2jo7m9mJgYSVLTpk3ZNGABAQEB2rdvn0JCQhzHDh06pCZNmhiYCrjO0%2BgAqNq6deumFStWOB1LTExUly5dDEqEkiQkJOj999/X8OHDVVBQoFq1aikzM1Nz5swxOhqKiYqK0smTJ/X6669r/Pjxunjx4k31BeM9//zzGjt2rGJjY3X16lW9%2B%2B67GjdunEaPHm10NIA1fnCtF198UcnJyWrTps1NmwaK70Jk04CxHn74YS1cuFAtW7Z0bCDIysrSwIEDtW3bNqPj4YbimwZSUlKUmJioQYMGadSoUWwaMJktW7ZoxYoVOnXqlAIDAxUTE6PevXsbHQtgqheuFRwcrODgYMf3rVq1Unh4uIGJUJKLFy86LrFT9G9BPz8/Xbt2zchY%2BIU333xTsbGxjk0DTZo00ZIlSzR58mQaPxPJzc1VYmKiUlNTdeXKFWVnZ6tly5bq0aOHatSoYXQ8uDkaP7gUmwasISgoSKtWrdITTzzhWIy%2BceNGtWrVyuBkKI5NA9bw2muv6cyZM1q0aJGaNGmic%2BfOKS4uTvPmzdP06dONjgc3xxo/uNzq1avVv39/hYWFKSMjQxMnTlRubq7RsVDMyy%2B/rDfffFOPP/64Ll%2B%2BrOeee05//OMf2YRjMkWbBopj04D5pKSkaOHCheratatatGih7t27a8GCBfrss8%2BMjgbQ%2BMG12DRgDffff7/WrVuniIgIDR06VB07dtSiRYvUrl07o6OhGDYNWIO3t7fT7Q8lqVatWvLx8TEoEfAzGj%2B41MqVK7Vw4UINGzZMnp6eqlu3ruLi4pSSkmJ0NBSTnJysIUOG6Nlnn1XDhg21YMECjR49WqtXrzY6Gorp27ev5s2bpyNHjsjPz09fffWVXnnlFS7xYjJjx47VxIkTdfToUeXl5en06dOaNm2a%2BvTpo4yMDMcXYATW%2BMGl2DRgDYsWLdLkyZNVWFioFStWKD4%2BXr6%2BvpoyZYqGDRtmdDzcwKYBa3j99dclXb/8joeHh4pfPOODDz6Q3W6Xh4eH0tLSjIoIN0bjB5di04A1nD17VsOGDdORI0eUl5enLl26qHr16vr%2B%2B%2B%2BNjoZi2DRgDdyWDWZG4weXevnllzVy5EitW7fOsWlg//79eu%2B994yOhmJ8fHyUnZ2t5ORkhYSEqHr16jp69Kjq169vdDQUk5KSos8//1x%2Bfn6SpBYtWigoKEgDBgyg8TORwMBAoyMApaLxg0sVbRrYuHGjgoOD5e/vr%2Beff55NAyYzePBgRUVF6dKlS3r77bd1%2BPBhPfvss3rmmWeMjoZi2DQAoKK4cwdcKjk5WTNmzND27du1cOFCLV68WB4eHvrDH/7A2jGTSU1Nlbe3t9q3b69vv/1Whw4d4k4DJrNixQpt2rRJ06dPd9wJ54033lCzZs0c9/OVrl/2BQBKQuMHlxo6dKiGDh2qIUOGKDw8XHPnznVsGvjiiy%2BMjgdYSlBQkOO/f7lpoOh7Ng0AKAtTvXApNg0AlYdNAwAqisYPLsWmAaDysGkAQEXR%2BMGl2DQAAIB5sMYPLsemAQAAzIHGDwAAwE1wr14AAAA3QeMHAADgJmj8AAAA3ASNHwAAgJug8QMAAHATNH4AAABugsYPAADATdD4AQAAuIn/B4RnYWizSBKJAAAAAElFTkSuQmCC\" class=\"center-img\">\n",
       "    <img src=\"data:image/png;base64,iVBORw0KGgoAAAANSUhEUgAAAn4AAAIzCAYAAACeFhTSAAAABHNCSVQICAgIfAhkiAAAAAlwSFlzAAAPYQAAD2EBqD%2BnaQAAADl0RVh0U29mdHdhcmUAbWF0cGxvdGxpYiB2ZXJzaW9uIDMuMC4yLCBodHRwOi8vbWF0cGxvdGxpYi5vcmcvOIA7rQAAIABJREFUeJzs3XtYlHX%2B//EXKgiISgKeZTUUNM1AUMxTgvpzPVe6Ypp5SEtRwDIta3c7mKZltQnWukprabWYh03LzVa/nirDDHRNxfNZFxA8cVAE5veHOeskKnoPjTfzfFzXXDSf%2BzDv%2BaDOu9fnnhkXi8ViEQAAAMq9Co4uAAAAAL8NGj8AAAAnQeMHAADgJGj8AAAAnASNHwAAgJOg8QMAAHASNH4AAABOgsYPAADASdD4AQAAOIlKji4AwN0nLS1NS5Ys0ebNm5Wenq5Lly6pRo0aatKkiTp37qwBAwbI3d3d0WUCAG6TC1/ZBuBas2fP1gcffKDi4mJ5eXnJ399frq6uyszM1MmTJyVJderU0Zw5c9S8eXMHVwsAuB00fgCsli5dqhdffFGenp5644031K1bN1WsWNG6/cCBA3rxxRe1bds23XPPPVq1apVq1KjhwIoBALeDa/wAWP31r3%2BVJE2ePFm///3vbZo%2BSQoICNAHH3wgHx8fnTlzRh9//LEjygQA3CEaPwCSpPPnz%2Bvo0aOSpAceeOCG%2B9WoUUNdu3aVJP3nP//5TWoDANgHb%2B4AIEmqVOl//xysW7dO99133w33jYmJ0RNPPCEfHx/r2AsvvKDly5drypQp6tixo9599139%2BOOPKigo0O9%2B9zs98sgjGjRokCpXrlziOX/88UctXLhQKSkpOnv2rKpVq6bg4GANHTpUDz74YInHnD9/Xv/4xz%2B0YcMG7d%2B/Xzk5OfLw8JC/v78iIiL0xBNPqHr16jbHBAUFSZK%2B%2B%2B47zZgxQ2vXrlWFChXUvHlzffjhh/rjH/%2Bo5cuX6/XXX1fr1q0VHx%2BvH374QRcuXFD9%2BvX1hz/8QcOHD5eLi4u%2B%2BeYbffTRR9q9e7eKi4vVtGlTjR07Vg899NB1tV68eFFLly7VmjVrtGfPHp0/f15ubm6qW7euOnTooBEjRqhWrVo2x0RGRurEiRNatWqVsrKyNH/%2BfG3fvl15eXmqX7%2B%2BevTooSeffFJVqlS54e8KAK7FNX4ArB577DGlpKTIxcVF/fr104ABA9SqVavrlnxLcrXxe/TRR7V69Wrl5eWpSZMmKiws1MGDByVJoaGhmjt3rqpWrWpz7KxZszRv3jxJUvXq1VW/fn1lZGQoMzNTkjRq1ChNmjTJ5pjDhw9r%2BPDhOnXqlCpVqiR/f395eHjoxIkTOnv2rCSpUaNGWrp0qU1jdLXxa9WqlVJTUxUYGKjs7GyFh4fr7bfftnke//rXv1RYWKiAgABlZWVZ63nqqafk4uKiuXPnqlq1amrQoIEOHTqkvLw8ubi46G9/%2B5s6depkfczs7GwNGzZMe/fulYuLi/z9/VW1alWlp6dbz%2Bnj46Nly5apdu3a1uOuNn4jRozQggUL5ObmpoYNG%2BrcuXP673//K0kKCQnRJ598UqrfEQDIAgC/2LlzpyU4ONgSGBhovbVq1coyevRoy9y5cy3btm2zFBUVlXjs888/bz0mIiLCsmvXLuu2lJQUS7t27SyBgYGWP/3pTzbHffbZZ5bAwEBLWFiY5YsvvrCOFxcXW7766itrPYsXL7Y57vHHH7cEBgZaBg4caElPT7c5bvny5ZamTZtaAgMDLYsWLbI57mqNLVq0sGzZssVisVgsRUVFljNnzlz3PB577DFLRkaGdZ8XXnjBEhgYaGnatKklKCjIkpiYaJ2P7Oxsy8MPP2wJDAy0PP744yXOTbdu3SyHDh2y2bZx40bLAw88YAkMDLTMmDHDZltERIS1lhdeeMFy/vx563NctGiRddu///3vEn8nAPBrXOMHwOq%2B%2B%2B7T559/rtDQUOtYTk6ONmzYoLffflsDBw5Uhw4d9O677yo/P7/Ec1SoUEHvv/%2B%2BmjVrZh0LCQnRzJkzJUmff/650tPTJUkFBQWKj4%2BXJE2fPl19%2B/a1HuPi4qKePXtak774%2BHgVFhZKkrKysrRv3z5J0tSpU1WzZk2b4x5%2B%2BGG1adNGkrRnz54S6%2BzRo4dat25trdnb29tme6VKlfTOO%2B/Iz8/Pus9TTz0lSSouLla/fv00cuRIVahw5Z/Re%2B65R0888YQkadeuXdbzFBYWauvWrXJxcdGUKVPUsGFDm8fp2LGjevbsKUnau3dvibU2bdpU06dPtyalLi4uGjJkiDW9/Omnn0o8DgB%2BjcYPgI3GjRvr008/1T//%2BU%2BNHz9eISEhcnV1tW7PysrSX//6V/Xt29e63Hittm3bqmnTpteNd%2BjQQfXr11dxcbHWrVsnSUpNTdXp06dVpUoVdenSpcR6%2BvbtqwoVKig9Pd3aUPn4%2BOiHH37Q9u3bFRgYeN0xRUVF8vLyknTl2rqSXNvcliQoKMhm2VWS6tWrZ/3vkq7ju9qA5uTkWMcqVaqkNWvWaPv27ercufN1x1gsFnl6et601s6dO8vFxeW68XvvvVeSdOHChZs%2BFwC4ijd3AChRs2bN1KxZM8XExCg/P18pKSn69ttv9cUXXygrK0tHjx5VXFyckpKSbI5r2bLlDc8ZFBSk48eP6/Dhw5JkTe0uX76sIUOG3PC4ihUrqri4WAcPHrQ5v7u7u06dOqXt27fr6NGjOnbsmA4cOKDdu3crLy9P0pV0riRXk7wbqVOnznVjbm5u1v%2B%2B5557rtt%2B7Rtkfq1y5crKysrStm3bdPjwYR0/flwHDx7U7t27de7cuZvWem2iea2r355SVFR04ycCANeg8QNwSx4eHmrfvr3at2%2BvuLg4vfjii/rqq6%2B0bds27dy50%2BYbPH79LtprXU22zp8/L%2Bl/SVVBQYFSUlJuWcfV4yTp4MGDevPNN7VhwwabhsnLy0thYWHKyMhQWlraDc91q6%2Bc8/DwuOn2q0u8pZGZmamZM2fq66%2B/1uXLl20e4/7771dRUdFNl2uvbThLYuE9egBKicYPgCTpz3/%2Bs3744Qc98sgjGjt27A33c3d312uvvaZvvvlGly9f1qFDh2wav6tJW0muLoFe/RiYq81V8%2BbNtWzZslLXmpWVpccff1xZWVmqW7euBg4cqPvuu0/33nuv6tevLxcXF02cOPGmjd9v5dKlSxo2bJgOHDggb29vPfbYY2rRooUCAgLk7%2B%2BvihUr6t133%2BU6PQC/CRo/AJKuNChHjhzRmjVrbtr4SVdStSpVqujs2bPXfWXb1eXbklxtxBo3bizpysetSFc%2BmqWwsLDEpVKLxaLk5GTVrl1bdevWlZubm5YuXaqsrCx5e3tr6dKlJX5t3NU3kDjamjVrdODAAVWqVElJSUnXvblDUonXSgJAWeDNHQAkyfqO2p9//vmW6du3336rs2fPytvb%2B7pv%2Bdi4caP1s%2BmutW7dOp06dUpubm6KjIyUJLVu3VpVq1ZVbm7uDR9z5cqVGjZsmHr06GFtkI4fPy5Jqlu3bolN3/79%2B7Vt2zZJjr/%2B7WqtVapUKbHpO336tNavXy/J8bUCKP9o/ABIktq3b6/u3btLkv74xz9q2rRp1qblqkuXLmnp0qWaMGGCJCkuLu66b43Iy8tTdHS0Tp06ZR1LTk7WlClTJF358OOrH0vi6elp/YiUadOmaenSpTbX661Zs0Yvv/yypCsfv%2BLv7y/pf%2B9mTUtL0%2BrVq637WywWbdy4UaNGjbJeS3ejj535rVyt9dy5c/roo49srsfbtm2bRowYYf3AaUfXCqD8Y6kXgNWsWbPk6empf/7zn/r444/18ccfq27duvLx8dGlS5d0%2BPBhFRQUyNXVVRMnTtTgwYOvO0fDhg21e/dude3aVYGBgcrLy7O%2Bi7d37956%2BumnbfYfPXq0jh07psWLF%2BvFF1/UW2%2B9pfr16ys9PV0ZGRmSrnzLxuuvv249ZsCAAfr000915MgRxcbGql69errnnnt06tQpZWVlydXVVW3atNGWLVscvuQbGRmpkJAQpaamavr06Zo3b55q1aqlzMxMpaeny8XFRe3atdP333%2BvjIwMWSyWEj%2B6BQDsgcYPgJWbm5tmzJihIUOGaNWqVUpOTlZ6errS0tLk4eGhRo0aqUOHDhowYIA1yfq1%2B%2B%2B/X7NmzdLs2bP1008/qVKlSmrTpo0ee%2Bwx6wcVX8vFxUVTp05V9%2B7d9Y9//EPbtm3T7t27VblyZQUHB6t3796KioqyeWerl5eXlixZonnz5mndunU6fvy4Tp8%2Brdq1a6tz584aNmyYPD091bVrV6WlpenkyZOqW7dumc3bzVSsWFELFizQwoUL9dVXX%2BnYsWPau3ev/Pz81LNnTw0ZMkTNmzdXeHi4zp49q5SUlFt%2BxiAA3Cm%2BqxeAXVz9jts%2Bffpo1qxZji4HAFACrvEDAABwEjR%2BAAAAToLGDwAAwEnQ%2BAEAANhBdna2unXrpuTk5Bvus2HDBvXp00fBwcHq0aOH1q1bZ7N93rx56tSpk4KDgzV06FAdPHjQrjXS%2BAGwixkzZmjPnj28sQOAU/rpp58UFRWlo0eP3nCfw4cPKyYmRnFxcdq6datiYmI0YcIE68dOLV%2B%2BXAsXLlRiYqKSk5PVvHlzxcbG2vX7uGn8AAAADFi%2BfLmee%2B45PfPMM7fcLywsTF27dlWlSpXUs2dPtW7dWklJSZKkxYsXa/DgwWrSpIkqV66siRMn6uTJkzdNEG8XjR8AAHBqGRkZ2rlzp83t6gfIl0aHDh3073//u8TPKr3W/v37FRgYaDPWuHFj6/eY/3q7q6urGjZsaN1uD3yA892svH16f6NG0r59UpMm0qFDjq7GbnbvKl8fhenqKgUESAcOSL9861m50Oz3v3N0CfbVoIG0YYP00EPSsWOOrsZ%2BfvUVgKZXv770r39JPXpIv/oKRFPbtctxj10Gr41Js2crISHBZmz8%2BPGKiYkp1fF%2Bfn6l2i83N1ceHh42Y%2B7u7srLyyvVdnug8cNvx9tbqljxyk/ctSpWvPLvasWK5avxK3eqV7/yS6pevXw1fuVN1apXfk%2B/fD817k5RUVGKjIy0GSttM3c7PDw8dPHiRZuxixcvWr/z/Fbb7YHGDwAAmEcF%2B1%2BlVrNmTdWsWdPu5/21wMBA7dy502Zs//79atGihSSpSZMm2rdvnyIiIiRJly9f1uHDh69bHjaCa/wAAAB%2BA3379tWWLVu0atUqFRYWatWqVdqyZYv69esnSerfv78WLVqktLQ0Xbp0SW%2B//bZ8fX0VFhZmtxpI/AAAgHmUQeJXlkJCQvTqq6%2Bqb9%2B%2BCggI0Jw5czRr1iy99NJLqlevnuLj49WoUSNJ0oABA3ThwgWNGzdO2dnZuv/%2B%2BzV37ly5urrarR4aPwAAADvZs2ePzf3U1FSb%2Bx07dlTHjh1LPNbFxUUjR47UyJEjy6w%2BGj8AAGAeJkv87jY0fgAAwDxo/Axh9gAAAJwEiR8AADAPEj9DaPwAAIB50PgZwuwBAAA4CRI/AABgHiR%2BhjB7AAAAToLEDwAAmAeJnyE0fgAAwDxo/Axh9gAAAJwEiR8AADAPEj9DmD0AAAAnQeIHAADMg8TPEBo/AABgHjR%2BhjB7AAAAToLEDwAAmAeJnyHMHgAAgJMg8QMAAOZB4mcIjR8AADAPGj9DmD0AAAAnQeIHAADMg8TPEGYPAADASZD4AQAA8yDxM4TGDwAAmAeNnyHMHgAAgJMg8QMAAOZB4mcIswcAAOAkSPwAAIB5kPgZQuMHAADMg8bPEGYPAADASZD4AQAA8yDxM4TZAwAAcBIkfgAAwDxI/Ayh8QMAAOZB42cIswcAAOAkSPwAAIB5kPgZwuwBAAA4CRI/AABgHiR%2BhtD4AQAA86DxM4TZAwAAcBIkfgAAwDxI/Axh9u7QkSNHHF0CAADAbbmrG7/jx48rKChIx48fv%2BW%2BycnJCgoK%2Bg2qkmbOnKkPPvjAej8oKEjJycm/yWMDAODUKlSw/82grKwsRUdHKywsTOHh4Zo2bZoKCwuv22/UqFEKCQmxuQUFBenPf/6zJOn06dMKCgqy2R4ZGWm4vmux1HsHzpw54%2BgSAABwTnfhUu%2BECRNUq1Ytbdq0SadPn9bYsWO1YMECjRo1yma/%2BfPn29xfsmSJEhISNH78eEnSjh07VK9ePf3f//1fmdV6W41ffHy8lixZovz8fDVo0EDR0dHq0qWLdu7cqRkzZigtLU333HOPBg8erGHDhsnFxUXx8fHavXu3KlasqE2bNqlGjRp6%2BumnFRUVJUk6cOCA3nzzTe3Zs0fZ2dmqX7%2B%2BJk2apIiICENP7OjRo5o%2BfbpSU1Pl6empvn37aty4cXJzc9OyZcv0%2Beefq3nz5vryyy/l4uKiyMhIvfLKK3J1dVVRUZHi4%2BP1%2Beefy2KxqFu3btqzZ48GDhyoU6dOaeXKlZKkXbt2acWKFZKk7777TtOnT9fRo0cVEBCg6dOnKzAw0NBzAAAAd7cjR45oy5Yt2rhxozw8PKz90VtvvXVd43etgwcPaurUqUpMTFTNmjUlXWn8WrRoUab1lrrx%2B%2BGHH5SUlKRly5bJz89PSUlJeumll9S0aVMNGzZMzzzzjD788EMdOXJE0dHRcnd316BBgyRJa9eu1QsvvKB33nlHycnJGjNmjPz9/fXggw8qJiZGXbp0UUJCgiwWi2bNmqVXXnnFUOOXl5en4cOHq1evXnrvvfeUnZ2t2NhYFRcXa%2BLEiZKklJQUderUSZs2bdLu3bs1bNgwtWvXTr169VJiYqJWrFihjz76SP7%2B/oqPj1dqaqoGDhyocePG6dixY5KkGTNmWB9zy5YtSkxMlJeXl2JiYjRz5kwlJiaWuuaMjAxlZmbajPk1aqSa3t53PA93naZNbX%2BWE%2B7ujq7AvtzcbH%2BWG2X8j%2BlvLiDA9md5Ud7%2BQjVqZPsTxpVB4lfia7Cfn7Uhu5l9%2B/bJ29tbtWrVso4FBATo5MmTOn/%2BvKpVq1bica%2B%2B%2BqoefvhhhYWFWcd27Nihc%2BfOqXfv3jp9%2BrTuv/9%2BPf/882rcuPEdPrPrlbrxq1y5ss6dO6fFixcrIiJCf/jDHxQVFaX58%2BcrICBAQ4YMkSQ1btxYTz75pBYtWmRt/IKCgjRixAhJUocOHdS9e3d98cUXevDBBzV37lzVqlVLFotFJ06cULVq1ZSenm7oSa1fv14FBQV69tln5eLiojp16iguLk6xsbHWxs/d3V1jxoyRi4uLWrZsqaCgIB06dEjSlej1qaeesk70hAkTtHz58ps%2B5ogRI%2BTr6ytJ6tq163Vx7q0kJSUpISHBZmx8XJxi4uJu6zym8Omnjq7ArsrrP%2Bf16jm6Ajv76itHV1A2Zs92dAUojVmzHF1B%2BVEGjV%2BJr8HjxysmJuaWx%2Bbm5srDw8Nm7Or9vLy8Ehu/rVu3avv27Zr1qz8X1apVU%2BPGjTV69Gi5ubnpvffe04gRI7Rq1SpVrVr1dp9WiUrd%2BIWEhCg%2BPl4LFy7U/Pnz5e7urqFDhyozM1M7d%2B606ViLi4tVsWJF6/2GDRvanKtOnTravXu3JCktLU3R0dHKzMxUQECAatSoIYvFYuhJnThxQtnZ2WrdurV1zGKx6PLly8rKypIk%2Bfj4yMXFxbrd1dXV%2BrinTp1SvWte9SpWrKi6deve9DG9r0nmri4X346oqKjrLuD069NH%2Buij2zrPXa1p0ytN3%2BDBUlqao6uxm0NLUxxdgl25uV1p%2Bk6ckAoKHF2N/TQa38vRJdhXQMCVpi82VjpwwNHV2E95TPxmzZKee076JVwoF5YudXQFdlXia7CfX6mO9fT0VH5%2Bvs3Y1ftVqlQp8ZikpCT16NHjusd4%2B%2B23be5PmTJFS5cu1datWw1fAndVqRu/kydPysfHR4mJiSooKNDmzZs1fvx4RUdHKzw83GZZ88yZM8rNzbXe/3WCd/z4cdWpU0fp6emKi4tTQkKCdcJXr16tb775xtCTql27tvz9/fX1119bx3JycpSVlaUaNWrc8vi6devq5MmT1vsWi0WnTp0yVNOt1KxZ8/pIuTz9I3GttDQpNdXRVdjNxYuOrqBsFBSUs%2Bf288%2BOrqBsHDhQvp7bDV4oTe/QIemXwAMGlUHiV%2BJrcCk1adJEZ8%2Be1enTp60rfwcOHFDt2rVLTOkKCwu1du1azZkzx2Y8JydHc%2BbM0eOPP24Nn4qKilRYWCh3O/4PUalnb8eOHRo1apTS0tLk5uYmHx8fSVJoaKi2bdumFStWqLCwUBkZGRozZozN9W/btm3TF198oaKiIm3YsEFr165V//79lZubq6KiImskun//futEFBiIGiIiIpSbm6v58%2BeroKBA58%2Bf1/PPP69nnnnGJuW7kaioKH344Yc6dOiQCgoKNGfOHGVkZFi3u7m56cKFC3dcHwAAKB8aNmyo0NBQTZ8%2BXTk5OTp27Jjef/99DRgwoMT99%2BzZo0uXLqlVq1Y2415eXvr%2B%2B%2B81c%2BZMXbhwQbm5uZo6darq169vs6pqVKkbv%2B7du2vkyJEaO3asgoODFRcXpxdffFFt2rTR/PnzlZSUpHbt2qlfv3669957bRq/Zs2aae3atWrbtq1mzJiht956SyEhIbr33ns1efJkTZo0SaGhoYqLi1P//v3l6uqqvXv33vGT8vLy0oIFC5ScnKxOnTqpa9euqlChgs1n793MsGHDFBkZqUGDBqlz5846e/asateuLVdXV0lSz549lZKSos6dO99xjQAA4A7chZ/jN3v2bBUWFqpLly4aOHCgOnbsqOjoaElXLpW7%2BgkgknTs2DFVr15dlStXvu4877//voqLi9W1a1d17NhRmZmZmjdvnrX/sAcXi9EL6m4hPj5eW7Zs0cKFC8vyYexq%2B/btqlevnjWytVgsatu2rd555x21b9/%2BtyukFOmkqYSESCkpUqtW5Wqpd/euMv0r9Jtzd79yWdKhQ%2BVrqbfZ73/n6BLsq0WLK29Y6dWLpd67WbNmV66H69%2B/fC317trluMfu3t3%2B51y92v7nvEvdfZ%2BCeBdYuXKlJk%2BerAsXLqiwsFB///vfJUnBwcEOrgwAAODOmeKbO7KystS1a9eb7pNqxwRpwoQJeu2119StWzcVFBSoefPmSkxMvOG7cwAAwG/kLvzmDjMp88avNJ%2BBcys%2BPj52bexuxcvLS2%2B%2B%2BeZv9ngAAAC/BVMkfgAAAJJI/Ayi8QMAAOZB42cIswcAAOAkSPwAAIB5kPgZwuwBAAA4CRI/AABgHiR%2BhtD4AQAA86DxM4TZAwAAcBIkfgAAwDxI/Axh9gAAAJwEiR8AADAPEj9DaPwAAIB50PgZwuwBAAA4CRI/AABgHiR%2BhjB7AAAAToLEDwAAmAeJnyE0fgAAwDxo/Axh9gAAAJwEiR8AADAPEj9DmD0AAAAnQeIHAADMg8TPEBo/AABgHjR%2BhjB7AAAAToLEDwAAmAeJnyHMHgAAgJMg8QMAAOZB4mcIjR8AADAPGj9DmD0AAAAnQeIHAADMg8TPEGYPAADASZD4AQAA8yDxM4TGDwAAmAeNnyHMHgAAgJMg8QMAAOZB4mcIjR8AADAPGj9DmD0AAAAnQeIHAADMg8TPEGYPAADASZD4AQAA8yDxM4TGDwAAmAeNnyHMHgAAgAFZWVmKjo5WWFiYwsPDNW3aNBUWFpa476hRo3T//fcrJCTEetu4caMkqaioSDNnzlS7du0UEhKisWPHKiMjw6610vgBAADzqFDB/jeDJkyYIE9PT23atElLlizR5s2btWDBghL3/fnnn5WYmKjU1FTrrVOnTpKkDz74QN99952WLl2qTZs2yd3dXX/84x8N13ctGj8AAIA7dOTIEW3ZskWTJk2Sh4eHGjRooOjoaH3yySfX7Xvs2DGdO3dO9913X4nn%2BvzzzzV69GjVqVNHXl5eeumll7Rx40YdO3bMbvVyjR8AADCPMrjGLyMjQ5mZmTZjfn5%2Bqlmz5i2P3bdvn7y9vVWrVi3rWEBAgE6ePKnz58%2BrWrVq1vEdO3aoSpUqeuaZZ7Rjxw75%2Bvpq%2BPDhGjBggC5cuKD//ve/CgwMtO7v6%2Bur6tWra8%2BePWrQoIEdnimN311t9y6Lo0uwK3d3qZGkQ0tTdPGio6uxn2b3uTi6BPsKCZFSUtSofyspNdXR1djNyhXl6%2B9T9epSJ0kbn/9K5845uhr7cXNzdAX2VbWq1E7S9xOX6sIFR1djP90d%2BeBl0PglJSUpISHBZmz8%2BPGKiYm55bG5ubny8PCwGbt6Py8vz6bxKygoUHBwsJ555hk1adJEycnJiomJUZUqVRQSEiJJ8vT0tDmXu7u7cnNz7%2Bh5lYTGDwAAOLWoqChFRkbajPn5%2BZXqWE9PT%2BXn59uMXb1fpUoVm/GHH35YDz/8sPV%2Bhw4d9PDDD%2Btf//qX2rVrZ3PsVRcvXrzuPEbQ%2BAEAAPMog8SvZs2apVrWLUmTJk109uxZnT59Wr6%2BvpKkAwcOqHbt2qpatarNvkuWLFGVKlXUo0cP61hBQYEqV66s6tWrq1atWtq/f791uTczM1Nnz561Wf41ijd3AAAA3KGGDRsqNDRU06dPV05Ojo4dO6b3339fAwYMuG7fnJwcTZ06Vbt27VJxcbHWr1%2BvL7/8UlFRUZKkRx99VB988IGOHTumnJwcTZ8%2BXW3atJG/v7/d6iXxAwAA5nEXfoDz7Nmz9dprr6lLly6qUKGCHn74YUVHR0uSQkJC9Oqrr6pv374aNmyY8vLyNH78eGVlZalBgwaaOXOmwsLCJEnjxo1TYWGhhgwZotzcXIWHh%2Bsvf/mLXWul8QMAAOZxFzZ%2Bvr6%2Bmj17donbUq95k5yLi4uio6OtTeGvubq66rnnntNzzz1XJnVKLPUCAAA4DRI/AABgHndh4mcmzB4AAICTIPEDAADmQeJnCI0fAAAwDxo/Q5g9AAAAJ0HiBwAAzIPEzxBmDwAAwEmQ%2BAEAAPMg8TOExg8AAJgHjZ8hzB4AAICTIPEDAADmQeJnCLMHAADgJEj8AACAeZD4GULjBwAAzIPGzxBmDwAAwEmQ%2BAEAAPMg8TOE2QMAAHASJH4AAMA8SPwMofEDAADmQeNnCLOyc1joAAAgAElEQVQHAADgJEj8AACAeZD4GcLsAQAAOAkSPwAAYB4kfobQ%2BAEAAPOg8TOE2QMAAHASJH4AAMA8SPwMYfYAAACcBIkfAAAwDxI/Q2j8AACAedD4GcLsAQAAOAkSPwAAYB4kfobQ%2BAEAAPOg8TOE2QMAAHASJH4AAMA8SPwMYfYAAACcBIkfAAAwDxI/Q2j8AACAedD4GcLsAQAAOAkSPwAAYB4kfoYwewAAAE6CxA8AAJgHiZ8hNH53KCMjQ15eXvL09HR0KQAAOA8aP0NMOXvHjx9XUFCQjh8/brdzbt26VSEhITfcHh8fr6FDh0qSTp8%2Bre7duys7O/u6bQAAwLlkZWUpOjpaYWFhCg8P17Rp01RYWFjivp999pm6d%2B%2BukJAQde/eXZ988ol1W3FxsUJCQhQcHKyQkBDrLS8vz261kvj9IiwsTKmpqaXa9%2BLFi3b9JQAAgFK6CxO/CRMmqFatWtq0aZNOnz6tsWPHasGCBRo1apTNfmvWrNE777yjefPm6YEHHtC2bdv01FNPydfXV927d9f%2B/ft1%2BfJlpaSkyM3NrUxqtcvsxcfH66GHHlKbNm3Uv39/rV27VpK0c%2BdODR06VK1bt9b/%2B3//TwsWLJDFYrEeEx0drZiYGAUHBysyMlJJSUnWcx44cEBPP/20OnfurJYtW6pnz55at27dbdVVXFysdu3aac2aNdaxyMhITZgwwXp/5syZmjx5spKTkxUUFGQdT0lJUf/%2B/RUcHKxBgwZZ08WioiL17t1bktS7d2%2BtWrVKkpSbm6s//vGP6tChg8LDw/Xuu%2B/eVq0AAMB8jhw5oi1btmjSpEny8PBQgwYNFB0dbZPkXZWenq7Ro0crODhYLi4uCgkJUXh4uH788UdJ0o4dOxQUFFRmTZ9kh8Tvhx9%2BUFJSkpYtWyY/Pz8lJSXppZdeUtOmTTVs2DA988wz%2BvDDD3XkyBFFR0fL3d1dgwYNkiStXbtWL7zwgt555x0lJydrzJgx8vf314MPPqiYmBh16dJFCQkJslgsmjVrll555RVFRESUurYKFSooMjJSGzduVNeuXXXw4EFlZWVp8%2BbNslgscnFx0f/93/9p0qRJNsedOXNGTz/9tEaPHq0RI0boP//5j5566indd999qlixor788kt16dJFX375perXr6/4%2BHjt2rVLw4YN09SpU5WcnKzhw4erc%2BfON10%2BvlZGRoYyMzNtxnJz/eTnV7PUz/dud/XPcRn%2BeXaMUv6OTaNpU9uf5UT16o6uwL68vGx/lheVytk6VJUqtj9hB2WQ%2BJX0Guzn56eaNW/9Grxv3z55e3urVq1a1rGAgACdPHlS58%2BfV7Vq1azjQ4YMsTk2KytLP/74o6ZMmSLpSuN36dIl9e/fXydOnFBAQIAmTpyoVq1aGXl6Ngz/FatcubLOnTunxYsXKyIiQn/4wx8UFRWl%2BfPnKyAgwPokGzdurCeffFKLFi2yNn5BQUEaMWKEJKlDhw7q3r27vvjiCz344IOaO3euatWqJYvFohMnTqhatWpKT0%2B/7fq6du2qV155RZL07bffqmfPnlqzZo127dold3d3ZWRkqEOHDtq%2Bfbv1mPXr18vDw0OjR4%2BWi4uLQkND1b9/f%2B3evfuGj9OkSRP169dPktS2bVv5%2Bvrq6NGjpW78kpKSlJCQYDM2btx4xcbG3OYzvvvVq%2BfoCuwsJcXRFZSNTz91dAV21cnRBZQRO74eoAw98ICjKyhHyqDxK%2Bk1ePz48YqJufVrcG5urjw8PGzGrt7Py8uzafyulZmZqaefflotWrSwriS6u7urZcuWiouLU/Xq1fXJJ5/oySef1IoVK9SgQYM7eWrXMdz4hYSEKD4%2BXgsXLtT8%2BfPl7u6uoUOHKjMzUzt37lRYWJh13%2BLiYlWsWNF6v2HDhjbnqlOnjrW5SktLU3R0tDIzMxUQEKAaNWpYl4lvR7t27XT%2B/Hnt27dPmzZt0iOPPKLz58/r%2B%2B%2B/l8ViUceOHeXu7m5zTHp6uurUqSMXFxfrmL%2B//00bP29vb5v7bm5uKioqKnWdUVFRioyMtBnLzfXToUOlPsVdz83tStN34oRUUODoauynUf9y9srbtOmVpm/wYCktzdHV2M3Gv5SvBt3L60rTl5Ii5eQ4uhr7KY%2BJ3wMPSNu3S7m5jq7Gftq1c3QF9lXSa7Cfn1%2BpjvX09FR%2Bfr7N2NX7VW4Q9W7btk1xcXEKCwvTG2%2B8oUq//MF/4YUXbPZ78skntWzZMm3YsEGPP/54qeq5FcN/xU6ePCkfHx8lJiaqoKBAmzdv1vjx4xUdHa3w8HAlJiZa9z1z5oxyr/mT/%2BsE7/jx46pTp47S09MVFxenhIQE6y9i9erV%2Buabb267Pjc3N3Xs2FFr167VTz/9pJkzZ%2BrcuXP697//rfz8/OtiV0mqXbu2Tpw4oeLiYlX45f8s/vvf/972Y9%2BOmjVrXhcp794tXbxYpg/rEAUF5ex5lfJNQaaTllauntu5c46uoGzk5JSv51buLgX5RW6udOGCo6soJ8og8SvpNbi0mjRporNnz%2Br06dPy9fWVdOV9CrVr11bVqlWv23/JkiV6/fXXFRsbq5EjR9pse/fdd9W9e3fdd9991rGCggJVrlz5jmorieHZ27Fjh0aNGqW0tDS5ubnJx8dHkhQaGqpt27ZpxYoVKiwsVEZGhsaMGaMZM2ZYj922bZu%2B%2BOILFRUVacOGDVq7dq369%2B%2Bv3NxcFRUVWaPS/fv3a86cOZKuTMDt6tatmxYsWKCGDRuqRo0a6tChg7Zu3apdu3apc%2BfO1%2B0fGRkpi8Wi%2BPh4FRQU6Oeff9bnn39u3X71F5BTnv43GwAA3LaGDRsqNDRU06dPV05Ojo4dO6b3339fAwYMuG7f1atX65VXXlF8fPx1TZ8k7d27V9OmTVNmZqYKCgqUkJCgnJwcdevWzW71Gm78unfvrpEjR2rs2LEKDg5WXFycXnzxRbVp00bz589XUlKS2rVrp379%2Bunee%2B%2B1afyaNWumtWvXqm3btpoxY4beeusthYSE6N5779XkyZM1adIkhYaGKi4uTv3795erq6v27t172zV27txZOTk56tChgySpQYMGql27tsLDw%2BVVwpXR1apVU2JiojZv3qw2bdropZdeUvfu3a3bfX191a1bN0VFRemzzz67g1kDAAB3pEIF%2B98Mmj17tgoLC9WlSxcNHDhQHTt2VHR0tKQrl8StWLFCkpSQkKCioiLFxsbafE7fn//8Z0nSG2%2B8IX9/f/Xr10/h4eHasmWL/v73v193OZkRLpY7uXDODuLj47VlyxYtXLjQEQ9vCje5pNCU3N2lRo2kQ4fK11Jvs/tcbr2TmYSEXLlwrFWrcrXUu3KFQ/6pKzPVq0udOkkbN7LUezerWvXK9XDff1%2B%2BlnqvyUJ%2Be5s32/%2BcDz5o/3Pepe6%2BT0EEAABAmTD1%2B6eysrLUtWvXm%2B5T2m/jAAAAJnAXfnOHmTis8SvNZ%2BPcio%2BPD40dAABAKZk68QMAAE6GxM8QGj8AAGAeNH6GMHsAAABOgsQPAACYB4mfIcweAACAkyDxAwAA5kHiZwiNHwAAMA8aP0OYPQAAACdB4gcAAMyDxM8QZg8AAMBJkPgBAADzIPEzhMYPAACYB42fIcweAACAkyDxAwAA5kHiZwizBwAA4CRI/AAAgHmQ%2BBlC4wcAAMyDxs8QZg8AAMBJkPgBAADzIPEzhMYPAACYB42fIcweAACAkyDxAwAA5kHiZwizBwAA4CRI/AAAgHmQ%2BBlC4wcAAMyDxs8QZg8AAMBJkPgBAADzIPEzhNkDAABwEiR%2BAADAPEj8DKHxAwAA5kHjZwizBwAA4CRI/AAAgHmQ%2BBnC7AEAADgJEj8AAGAeJH6G0PgBAADzoPEzhNkDAABwEiR%2BAADAPEj8DGH2AAAAnASJHwAAMA8SP0No/AAAgHnQ%2BBnC7AEAABiQlZWl6OhohYWFKTw8XNOmTVNhYWGJ%2B27YsEF9%2BvRRcHCwevTooXXr1tlsnzdvnjp16qTg4GANHTpUBw8etGutNH4AAMA8KlSw/82gCRMmyNPTU5s2bdKSJUu0efNmLViw4Lr9Dh8%2BrJiYGMXFxWnr1q2KiYnRhAkTlJ6eLklavny5Fi5cqMTERCUnJ6t58%2BaKjY2VxWIxXONVNH4AAAB36MiRI9qyZYsmTZokDw8PNWjQQNHR0frkk0%2Bu23f58uUKCwtT165dValSJfXs2VOtW7dWUlKSJGnx4sUaPHiwmjRposqVK2vixIk6efKkkpOT7VYv1/gBAADzKINr/DIyMpSZmWkz5ufnp5o1a97y2H379snb21u1atWyjgUEBOjkyZM6f/68qlWrZh3fv3%2B/AgMDbY5v3Lix0tLSrNtHjx5t3ebq6qqGDRsqLS1Nbdu2vaPn9ms0fnexZr//naNLsK8WLaSvvlKj8b2kn392dDV2s3KF/SL4u0H16lInSRv/kqJz5xxdjf306evi6BLsKyRESklRpwmtpNRUR1djP97ejq7Avlq2lDZsULspD0n/%2BY%2Bjq7GfM2cc9tAW2f/vclJSkhISEmzGxo8fr5iYmFsem5ubKw8PD5uxq/fz8vJsGr%2BS9nV3d1deXl6pttsDjR8AAHBqUVFRioyMtBnz8/Mr1bGenp7Kz8%2B3Gbt6v0qVKjbjHh4eunjxos3YxYsXrfvdars90PgBAADTKC62/zlr1qxZqmXdkjRp0kRnz57V6dOn5evrK0k6cOCAateurapVq9rsGxgYqJ07d9qM7d%2B/Xy1atLCea9%2B%2BfYqIiJAkXb58WYcPH75uedgI3twBAABwhxo2bKjQ0FBNnz5dOTk5OnbsmN5//30NGDDgun379u2rLVu2aNWqVSosLNSqVau0ZcsW9evXT5LUv39/LVq0SGlpabp06ZLefvtt%2Bfr6KiwszG710vgBAADTKC62/82o2bNnq7CwUF26dNHAgQPVsWNHRUdHS5JCQkK0YsUKSVfe9DFnzhzNnTtXrVu31vvvv6/4%2BHg1atRIkjRgwAANHz5c48aNU9u2bbVr1y7NnTtXrq6uxov8BUu9AADANMpiqdcoX19fzZ49u8Rtqb9681XHjh3VsWPHEvd1cXHRyJEjNXLkSLvXeBWJHwAAgJMg8QMAAKZxNyZ%2BZkLiBwAA4CRI/AAAgGmQ%2BBlD4wcAAEyDxs8YlnoBAACcBIkfAAAwDRI/Y0j8AAAAnASJHwAAMA0SP2No/AAAgGnQ%2BBnDUi8AAICTIPEDAACmQeJnDI0fAAAwDRo/Y1jqBQAAcBIkfgAAwDRI/Iwh8QMAAHASJH4AAMA0SPyMofEDAACmQeNnDEu9AAAAToLEDwAAmAaJnzEkfgAAAE6CxA8AAJgGiZ8xNH4AAMA0aPyMYakXAADASZD4AQAA0yDxM4bEDwAAwEmQ%2BAEAANMg8TOGxg8AAJgGjZ8xLPUCAAA4CRI/AABgGiR%2BxpD4AQAAOAkSPwAAYBokfsbQ%2BAEAANOg8TOGpV4AAAAnQeIHAABMg8TPGBI/AAAAJ0HiBwAATIPEzxgaPwAAYBo0fsaw1AsAAOAkSPwAAIBpkPgZQ%2BIHAADgJEj8AACAaZD4GeOwxO/w4cOOemi7OXLkiKNLAADAqRQX2//mTBzS%2BH3yySf605/%2BVKp9jx8/rqCgIB0/fvyW%2ByYnJysoKMhoeaUyc%2BZMffDBB9b7QUFBSk5O/k0eGwAAmENeXp6mTJmi8PBwhYaGavLkycrNzb3h/qtXr1a/fv3UqlUrRUZGKiEhQcXXdKc9evTQAw88oJCQEOvtwIEDpa7HIUu92dnZjnhYuzpz5oyjSwAAwOmYLaGbOnWqTp06pdWrV6uoqEgTJkzQrFmz9PLLL1%2B3788//6zJkyfrL3/5ix566CEdOnRIo0ePlqenp0aOHKmcnBwdOnRIa9euVb169e6onjtO/K4mcQsXLlT79u0VGhqqSZMmKScnR5L01VdfqU%2BfPgoNDdWjjz6qb7/9VpK0fPlyzZ07V1u3blVYWJgk6cCBA3r66afVuXNntWzZUj179tS6devutDSro0ePasyYMQoPD1dERITeffddFRQUSJKWLVumxx57TK%2B//rratm2rBx98UC%2B99JIuX74sSSoqKtJf/vIXtW/fXu3atdPLL7%2BsQYMGadmyZZozZ45WrlyplStXqm/fvtbH%2B%2B6779SvXz%2BFhIRowIAB2rt3r%2BHnAAAAzCk/P18rV65UbGysvL295ePjo%2Beee07Lli1Tfn7%2BdfufOHFCgwYNUkREhCpUqKCAgAB169ZNP/74o6QrjaG3t/cdN32SHRK/b775RitXrlRRUZHGjRunV199Vb1799bLL7%2BsDz74QK1atdLGjRsVExOjxYsX65FHHtHx48e1ZcsWLVy4UJIUExOjLl26KCEhQRaLRbNmzdIrr7yiiIiIO64rLy9Pw4cPV69evfTee%2B8pOztbsbGxKi4u1sSJEyVJKSkp6tSpkzZt2qTdu3dr2LBhateunXr16qXExEStWLFCH330kfz9/RUfH6/U1FQNHDhQ48aN07FjxyRJM2bMsD7mli1blJiYKC8vL8XExGjmzJlKTEwsVb0ZGRnKzMy0GfOrW1c1a9S44zm46wQE2P4sJ6pXd3QF9uXlZfuz3AgJcXQF9tW0qe3P8qJqVUdXYF9Nmtj%2BhGFlkfiV%2BBrs56eaNWve8tiLFy8qPT29xG35%2Bfm6fPmyAgMDrWMBAQG6ePGiDh8%2BrGbNmtns3717d3Xv3t3m3OvXr1efPn0kSTt27JCHh4cef/xx7du3T/Xq1VNMTMxt9UuGG78pU6aoxi/NSWxsrMaOHaszZ87oscceU%2BvWrSVJERERioyM1D/%2B8Y8Sr%2B2bO3euatWqJYvFohMnTqhatWo3nMTSWr9%2BvQoKCvTss8/KxcVFderUUVxcnGJjY62Nn7u7u8aMGSMXFxe1bNlSQUFBOnTokCRpyZIleuqpp9S4cWNJ0oQJE7R8%2BfKbPuaIESPk6%2BsrSeratavmz59f6nqTkpKUkJBgMzY%2BOloxcXGlPodpzJ7t6ArsqpOjCygjrVo5ugI7S0lxdAVl49NPHV0BSuM2Xg9wc2XR%2BJX4Gjx%2BvGJiYm557Pbt2/XEE0%2BUuC3ul9dwT09P65iHh4ck3fQ6P0nKyclRXFyc3N3dNXz4cEmSi4uL7r//fj377LOqW7euvv76a8XExGjRokUKDg6%2BZa2SHRq/3/3ud9b/rlOnjgoKCnTw4EH9%2BOOP%2Buyzz6zbioqK1LZt2xLPkZaWpujoaGVmZiogIEA1atSQxWIxVNeJEyeUnZ1tbT4lyWKx6PLly8rKypIk%2Bfj4yMXFxbrd1dXV%2BrinTp2yiVIrVqyounXr3vQxvb29bc5VVFRU6nqjoqIUGRlpM%2BY3apT0zTelPsddLyDgStMXGyvdxoWod7uNz3/l6BLsysvrStOXkiL9cuVGudBpQjnrZJs2vdL0DR4spaU5uhr7KY%2BJ3/z50qhR0r59jq7GfjZscHQFdlXia7CfX6mODQ8P1549e0rctmvXLr333nvKz89XlSpVJMm6xOt1k2WVgwcPKjY2Vj4%2BPvr444%2Bt%2B44aNcpmv759%2B%2BrLL7/U6tWrf7vGLz09Xffee6%2BkK9f9eXh4qF69eho0aJCeeuop634nT56Uu7t7icfHxcUpISHBOumrV6/WNwYbntq1a8vf319ff/21dSwnJ0dZWVnWhPJm6tatq5MnT1rvWywWnTp1ylBNN1OzZs3rI%2BWTJ6/cypsDB6Sff3Z0FXZz7pyjKygbOTnl7Lmlpjq6grKRlla%2Bnts1/wNdruzbJ/3nP46uolwoi8SvxNdgO2jUqJFcXV21f/9%2BPfDAA5KuvK/B1dVVDRs2LPGYDRs26Nlnn9XAgQM1ceJEVar0v1YtMTFR9913nx588EHrWEFBgSpXrlzqmgx/nMvbb7%2BtnJwcpaena/bs2erXr5%2BGDBmijz/%2BWP/55Q/5jh079Oijj%2BrLL7%2BUJFWuXFk5OTmyWCzKzc1VUVGRNfrcv3%2B/5syZY30ydyoiIkK5ubmaP3%2B%2BCgoKdP78eT3//PN65plnbFK%2BG4mKitKHH36oQ4cOqaCgQHPmzFFGRoZ1u5ubmy5cuHDH9QEAgPLNw8NDPXr00KxZs5Sdna3s7GzNmjVLvXv3LjEM27Ztm8aNG6cpU6bo%2Beeft2n6pCurka%2B%2B%2BqqOHTumwsJCLVmyRKmpqXrkkUdKXZPhxM/f31%2B9e/dWfn6%2B%2BvTpo0mTJqly5crKy8vTiy%2B%2BqJMnT8rb21vDhw/X0KFDJV1pyj777DOFhoZq/fr1mjx5siZNmqT8/HzVrl1bAwcO1FtvvaW9e/faLJ/eDi8vLy1YsEAzZszQ/PnzVVxcrPDwcJvP3ruZYcOGKTMzU4MGDVLFihXVs2dP1a5dW66urpKknj176plnnlHnzp21fv36O6oRAADcHrN9nMvLL7%2BsmTNnqk%2BfPrp8%2BbK6dOli836HXr16qU%2BfPhozZoz%2B%2Bte/qrCwUNOmTdO0adOs%2B4SGhmr%2B/PmaPHmyKlSooMGDB%2BvChQtq3Lix/va3v9lcdncrLpY7vJju%2BPHj6tKli9auXav69evfySnuatu3b1e9evWsb9awWCxq27at3nnnHbVv3/63KeI2fpGm0KKF9NVXUq9e5Wqpd2VC%2BfoGl%2BrVpU6dpI0by9dSb5%2B%2Bt076TSUk5MqFmK1asdR7N2vZ8sr1cA89VL6Weh34WbarV9v/nNe8kbbcc9hXtt3tVq5cqcmTJ%2BvChQsqLCzU3//%2Bd0kq9cWTAAAAdxuHfHPHncjKylLXrl1vuk%2BqHf%2Bvd8KECXrttdfUrVs3FRQUqHnz5kpMTLS%2BKwcAAPz2zLbUe7e548avfv36N3z7clnw8fGxa2N3K15eXnrzzTd/s8cDAAC3RuNnDEu9AAAATsI0S70AAAAkfsaQ%2BAEAADgJEj8AAGAaJH7G0PgBAADToPEzhqVeAAAAJ0HiBwAATIPEzxgSPwAAACdB4gcAAEyDxM8YGj8AAGAaNH7GsNQLAADgJEj8AACAaZD4GUPiBwAA4CRI/AAAgGmQ%2BBlD4wcAAEyDxs8YlnoBAACcBIkfAAAwDRI/Y0j8AAAAnASJHwAAMA0SP2No/AAAgGnQ%2BBnDUi8AAICTIPEDAACmQeJnDIkfAACAkyDxAwAApkHiZwyNHwAAMA0aP2NY6gUAAHASJH4AAMA0SPyMIfEDAABwEiR%2BAADANEj8jKHxAwAApkHjZwxLvQAAAE6CxA8AAJgGiZ8xJH4AAABOgsQPAACYBomfMTR%2BAADANGj8jGGpFwAAwEmQ%2BAEAANMg8TOGxA8AAMBJkPgBAADTIPEzhsQPAACYRnGx/W9lKS8vT1OmTFF4eLhCQ0M1efJk5ebm3nD/l19%2BWS1atFBISIj1lpSUZN0%2Bb948derUScHBwRo6dKgOHjx4W/XQ%2BAEAAJSRqVOn6tSpU1q9erW%2B%2BeYbnTp1SrNmzbrh/jt27NDUqVOVmppqvUVFRUmSli9froULFyoxMVHJyclq3ry5YmNjZbFYSl0PjR8AADANMyV%2B%2Bfn5WrlypWJjY%2BXt7S0fHx8999xzWrZsmfLz86/bv6CgQHv37lWLFi1KPN/ixYs1ePBgNWnSRJUrV9bEiRN18uRJJScnl7omrvEDAAC4QxcvXlR6enqJ2/Lz83X58mUFBgZaxwICAnTx4kUdPnxYzZo1s9k/LS1NhYWFmj17tn766SdVrVpV/fv316hRo1ShQgXt379fo0ePtu7v6uqqhg0bKi0tTW3bti1VvTR%2BAADANMoiocvIyFBmZqbNmJ%2Bfn2rWrHnLY7dv364nnniixG1xcXGSJE9PT%2BuYh4eHJJV4nd%2BFCxfUpk0bDR06VO%2B88452796tcePGqUKFCho1apRyc3Otx1/l7u6uvLy8W9Z5FY3f3axKFUdXYF/u7v/7WY6em5uboyuwr0qV/vezXD03b29HV2BfVav%2B72d5em5nzzq6Avu6cOF/P8vbc3OQsmj8kpKSlJCQYDM2fvx4xcTE3PLY8PBw7dmzp8Rtu3bt0nvvvaf8/HxV%2BeV17%2BoSr5eX13X7t2/fXu3bt7feb9mypYYNG6ZVq1Zp1KhR8vDw0MWLF22OuXjxovXcpUHjBwAAnFpUVJQiIyNtxvz8/Ayft1GjRnJ1ddX%2B/fv1wAMPSJIOHDhgXaL9tTVr1uj06dMaNGiQdaygoEDuvwQnTZo00b59%2BxQRESFJunz5sg4fPmyzlHwrvLkDAACYRlm8uaNmzZpq3ry5za00y7y34uHhoR49emjWrFnKzs5Wdna2Zs2apd69e1ubuWtZLBa98cYb2rx5sywWi1JTU/Xxxx9b39Xbv39/LVq0SGlpabp06ZLefvtt%2Bfr6KiwsrNQ1kfgBAADTMNsHOL/88suaOXOm%2BvTpo8uXL6tLly7605/%2BZN3eq1cv9enTR2PGjFG3bt00ZcoUvfLKK0pPT5evr69iYmLUr18/SdKAAQN04cIFjRs3TtnZ2br//vs1d%2B5cubq6lroeGj8AAIAy4uXlpalTp2rq1Kklbv/qq69s7g8aNMhmqfdaLi4uGjlypEaOHHnH9dD4AQAA0zBb4ne34Ro/AAAAJ0HiBwAATIPEzxgaPwAAYBo0fsaw1AsAAOAkSPwAAIBpkPgZQ%2BIHAADgJEj8AACAaZD4GUPjBwAATIPGzxiWegEAAJwEiR8AADANEj9jSPwAAACcBIkfAAAwDRI/Y2j8AACAadD4GcNSLwAAgJMg8QMAAKZB4mcMiR8AAICTIPEDAACmQeJnDI0fAAAwDRo/Y1jqBQAAcBIkfgAAwDRI/Iwh8QMAAHASJH4AAMA0SPyMofEDAACmQeNnDEu9AAAAToLEDwAAmAaJnzEkfgAAAE6CxA8AAJgGiZ8xNH4AAMA0aPyMYakXAADASZD4AQAA0yDxM4bEDwAAwEmQ%2BAEAANMg8TOGxg8AAI0XoIcAAB8nSURBVJgGjZ8xLPUCAAA4CRI/AABgGiR%2BxpD4AQAAOAkSPwAAYBokfsbQ%2BAEAANOg8TOGpV4AAAAnQeIHAABMg8TPGBo/AABgGjR%2B/7%2B9Ow%2BLqt7/AP4elC1MWcQQzB0Bu6Y2Cgq4jaClmCgqGrllLpmi3l9YmgtG99HupcjAjVx4XK6pV00Rb1mAmhuKKOIDmOAGooBIGTCkMPP7Q5kYWcQLx3MO8349D09xzszwtunjfPgu59QPp3qJiIiIDISkRvxu3LiB9u3bix2jTvLy8tCsWTO89NJLYkchIiIyGHIb8SspKUFISAji4uJQVlaGwYMHY/ny5bCwsKjy2GXLliE6OlrvWGlpKdzd3bFp0yZoNBoolUpotVooFArdY06ePFnnfkQyI347duzA0qVL6/TY7OxsODk5ITs7u8F%2BfmJiInr27Fnj%2BfDwcEycOBEAcO/ePQwdOhT379%2Bvco6IiIioQkhICO7cuYMff/wRR44cwZ07dxAaGlrtYz/77DNcuHBB9xUeHo7mzZvjk08%2BAQBkZGTg0aNHOHv2rN7jnmcQSjKNX0UTJZZevXrhwoULdXpsaWkpSkpKBE5ERERET9NoGv5LKGq1GtHR0QgMDISlpSVsbGzw0UcfYd%2B%2BfVCr1bU%2B9/79%2B/joo4/w6aefwtHREQCQkpICJycnmJiY/M%2BZGrTxqxiJ27ZtGzw8PKBUKhEUFISioiIAQExMDEaMGAGlUonRo0fjxIkTAID9%2B/djw4YNSExMRK9evQAAmZmZmDlzJgYOHIjXX38dw4YNQ3x8/HPl0Wg0cHd3x88//6w7plKpMH/%2BfN33X3zxBRYuXIiEhAQ4OTnpjiclJcHPzw89evTA%2BPHjdaOL5eXl8PHxAQD4%2BPjg8OHDAIDi4mIsWbIEnp6ecHNzQ1hY2PP%2B5yMiIqJnkFrjV1paips3b9b49ejRI3Tp0kX3%2BE6dOqG0tBQ3btyo9XVDQ0Pxt7/9DW%2B//bbuWEpKCv7880/4%2BfmhT58%2BCAgIQFJS0nPlFWSN35EjRxAdHY3y8nJ8%2BOGHWLFiBXx8fLB8%2BXKsW7cOb7zxBo4fP465c%2Bdi9%2B7dGDVqFLKzs3H27Fls27YNADB37lwMHjwYERER0Gq1CA0NRXBwMAYNGlTnHEZGRlCpVDh%2B/Di8vLxw7do1FBQU4PTp07r58bi4OAQFBek9r7CwEDNnzsT06dMxdepUXLp0CTNmzEDXrl3RpEkTHDp0CIMHD8ahQ4fQpk0bhIeHIzU1FZMnT0ZISAgSEhIwZcoUDBw4sNbp48ry8vKQn5%2Bvd8zWzg6trKzq/OeVvA4d9P/ZSLz8stgJGlbFspNqlp/I2%2Buvi52gYT0ZAdD9s7H44w%2BxEzQsZ2f9f5IkVfsZbGuLVq1aPfO5ycnJmDRpUrXn5s2bBwB6U7Hm5uYAHg8Y1SQrKwsHDx7Enj179I6bmZnh9ddfx7x589CiRQvs2LED06ZNw8GDB/Hqq68%2BMysgUOO3aNEiWFtbAwACAwPxwQcfoLCwEBMmTEDv3r0BAIMGDYJKpcJ3331X7dq%2BDRs24JVXXoFWq8Xt27fRvHlz5ObmPncWLy8vBAcHAwBOnDiBYcOG4eeff0ZqairMzMyQl5cHT09PJCcn655z9OhRmJubY/r06VAoFFAqlfDz80NaWlqNP8fR0REjR44EAPTp0wctW7bErVu36tz47dq1CxEREXrH5syejblP/qdpVGpY2yBX7mIHEEj37mInaGDHjomdQBgbN4qdgOri3/8WO0GjIcTUbLWfwXPmYO7cuc98rpubG65cuVLtudTUVKxevRpqtVq3maNiirdZs2Y1vubevXvRs2dPuLi46B2vWOtXYdq0adi3bx%2BOHTuGd99995lZAYEav3bt2un%2BvXXr1nj48CGuXbuGc%2BfOYefOnbpz5eXl6NOnT7WvkZ6ejtmzZyM/Px%2BdOnWCtbU1tFrtc2dxd3fHgwcPcPXqVfzyyy8YNWoUHjx4gFOnTkGr1aJfv34wMzPTe05ubi5at26tt2Ombdu2tTZ%2BlpaWet%2BbmJigvLy8zjn9/f2hUqn0jtnOnQscP17n15C8Dh0eN30ffQRcvy52mgZz6v/2ih2hQVlYPG76kpOBWn4hlR33RQPEjtCwHB0fN33vvw9cvSp2mobTGEf8/v1v4J13gPR0sdM0nOecXpS6aj%2BDbW3r/bodOnSAsbExMjIy0P3Jb9OZmZkwNjau9SomR44cwXvvvVfleFhYGIYOHYquXbvqjj18%2BBCmpqZ1ziRI45ebm4uOHTsCeLzuz9zcHA4ODhg/fjxmzJihe1xOTk6Vpqvi%2BfPmzUNERITujajYDfO8TExM0K9fP8TGxuL8%2BfP44osv8Pvvv%2BOnn36CWq1GQEBAlefY2dnh9u3b0Gg0MDJ6vAzy7t27z/2zn0erVq2qDinfvfv4q7G5fh2opYmWm8b2OVWhuLiR/dkuXRI7gTCuXm1cf7bffhM7gTDS04E6biCk2gkx4lftZ3ADMDc3x1tvvYXQ0FCsXr0awOO1ez4%2BPtX2P8Dj5WaZmZm6GdLKfv31VyQmJuLrr79GixYtEBkZiaKiInh7e9c5kyC7er/88ksUFRUhNzcX33zzDUaOHImAgABs3boVl578BZWSkoLRo0fj0KFDAABTU1MUFRVBq9WiuLgY5eXlunnwjIwMrFmzBsDjzvZ5eXt7IyoqCu3bt4e1tTU8PT2RmJiI1NRUDBw4sMrjVSoVtFotwsPD8fDhQ1y%2BfFlvnr2is67YtEJEREQvhtQ2dzzL8uXL0b59e4wYMQJvvvkm2rRpg2XLlunODx8%2BHOvXr9d9X7GZ9JVXXqnyWitXrkTbtm0xcuRIuLm54ezZs9iyZUuVWcfaCDLi17ZtW/j4%2BECtVmPEiBEICgqCqakpSkpKsHjxYuTk5MDS0hJTpkzRXf9u0KBB2LlzJ5RKJY4ePYqFCxciKCgIarUadnZ2GDduHP71r3/h119/fa4/IAAMHDgQn3zyCTw9PQEAr776Kuzs7NC%2Bfftq59ibN2%2BOTZs2ITg4GFu2bEG7du0wdOhQXH8yPdmyZUt4e3vD39%2B/ynw7ERERUYVmzZohJCQEISEh1Z6PiYnR%2B75bt241rhm0tLTEypUr65VHof1fFs7VIDs7G4MHD0ZsbCzatGnTUC9ruCrN4TcKLi7A3r2An1%2Bjmur9MSxV7AgN6uWXAXd34NSpxjXVO3R8I9ohDzzepXzsGDBgAKd6paxnz8fr4d54o3FN9TZc6/Dc%2BvZt%2BNc8fbrhX1OqJHMBZyIiIiISlqTu1fu8CgoK4OXlVetj6no3DiIiIpI%2Bud2rV2oatPFr06ZNjfPSQrCxsWFjR0REZEDY%2BNUPp3qJiIiIDISsp3qJiIjIsHDEr3444kdERERkIDjiR0RERLLBEb/6YeNHREREssHGr3441UtERERkIDjiR0RERLLBEb/64YgfERERkYHgiB8RERHJBkf86oeNHxEREckGG7/64VQvERERkYHgiB8RERHJBkf86ocjfkREREQGgiN%2BREREJBsc8asfNn5EREQkG2z86odTvUREREQGgiN%2BREREJBsc8asfjvgRERERGQiO%2BBEREZFscMSvftj4ERERkWyw8asfTvUSERERGQiO%2BBEREZFscMSvfjjiR0RERGQgOOJHREREssERv/ph40dERESywcavfjjVS0RERGQgOOJHREREssERv/ph40dERESywcavfjjVS0RERGQgOOJHREREssERv/rhiB8RERGRgeCIHxEREckGR/zqh40fERERyQYbv/rhVC8RERGRgeCIHxEREckGR/zqhyN%2BRERERAaCI35EREQkGxzxqx82fkRERCQbbPzqh1O9RERERAaCjR8RERHJhkbT8F8vglqthr%2B/P/bt21fr45KTkzF27Fj07NkTKpUKe/bs0Tu/f/9%2BeHt7o0ePHhg9ejQuXLjwXDnY%2BBEREREJ6OrVqwgICMDFixdrfdzvv/%2BOGTNmwNfXF%2BfOncM//vEPrFy5EpcuXQIAJCQkICQkBKtWrcK5c%2Bfw9ttv44MPPoBara5zFjZ%2BREREJBtyG/E7ffo0Jk%2BejFGjRsHe3r7Wxx45cgSWlpYICAhA06ZN0bdvX4wYMQI7duwAAOzZswfDhw%2BHUqmEsbExpkyZAisrKxw%2BfLjOebi5g4iIiGRDaps7SktLkZubW%2B05W1tbODs7Iz4%2BHqamptiyZUutr3X16lV06dJF71jnzp3xn//8BwCQkZEBPz%2B/KufT09PrnJeNHxERERm0vLw85Ofn6x2ztbVFq1atnvnc5ORkTJo0qdpza9asgZeXV51zFBcXw9zcXO%2BYmZkZSkpK6nS%2BLtj4SVlqqtgJGlReXh52hYfDf926OhWTXAwVO0ADy8vLQ3j4Lvj7%2Bzeq9wmFhWInaFC6etqzp3G9T42M7n364Qe%2BTw1Eq2341wwP34WIiAi9Y3PmzMHcuXOf%2BVw3NzdcuXKlQXKYm5vjjz/%2B0DtWWloKCwsL3fnS0tIq562srOr8M9j40QuTn5%2BPiIgIqFQq/gUoYXyf5IHvkzzwfZIHf39/qFQqvWO2trYvPEeXLl1w8uRJvWMZGRlwdHQEADg6OuLq1atVzvfv37/OP4ObO4iIiMigtWrVCq%2B99prelxiNure3N%2B7du4eoqCg8evQIZ86cQXR0tG5d35gxYxAdHY0zZ87g0aNHiIqKQkFBAby9vev8M9j4EREREYlk%2BPDhWL9%2BPQDAysoKmzdvxg8//AA3NzcsWbIES5YsQZ8%2BfQAAffv2xfLlyxEcHAxXV1fExMTg22%2B/haWlZZ1/Hqd6iYiIiF6AuLi4KsdiYmL0vu/WrRu%2B%2B%2B67Gl9j5MiRGDly5P%2BcoUlwcHDw//xsoudkYWEBV1dX3UJVkia%2BT/LA90ke%2BD6RlCi0WiH2xxARERGR1HCNHxEREZGBYONHREREZCDY%2BBEREREZCDZ%2BRERERAaCjR8RERGRgWDjR0RERGQg2PgRERERGQg2fkREREQGgo0fERERkYFg40dERERkIJqKHYAat4yMDKxatQpZWVkoKyvTOxcbGytSKqpOcnIybt26hfLycr3jvr6%2BIiWip7Ge5IP1RFLFxo8EtWjRIlhZWWHatGkwNjYWOw7VICwsDJGRkWjZsqXe%2B6RQKPhBJSGsJ3lgPZGUsfEjQWVkZCAhIQEmJiZiR6Fa7N69G1FRUXBzcxM7CtWC9SQPrCeSMq7xI0G1a9cORUVFYsegZ2jSpAk/pGSA9SQPrCeSsibBwcHBYoegxufcuXPIycmBkZERNm7ciBYtWqCgoAA5OTm6LwcHB7Fj0hPXr19HSUkJunTpInYUqgbrSV5YTyRlCq1WqxU7BDU%2Bzs7OtZ5XKBRIS0t7QWmoJhMnToRCoUBxcTHS0tLQuXNnWFpa6j1m69atIqWjCqwneWA9kRxwjR8JIj09XewIVAeVp6MGDRokYhKqDetJHlhPJAcc8SNB%2Bfr64vvvv69yXKVSIS4uToREVJ3//ve/eOutt6oc37VrF/z9/UVIRNVhPckD64mkjCN%2B1OBu3bqFdevWAXi8C3HRokV654uKilBaWipGNKpErVajsLAQALB48WL06NEDlX8P/OOPP7Bq1Sp%2BUImM9SQPrCeSCzZ%2B1ODatm0LKysr3V%2BCT7O2tkZYWNgLTkVPKyoqwvDhw3VNg0ql0p3TarVQKBTw8vISKx49wXqSB9YTyQWneklQa9euxezZs8WOQTUoKCiAWq3GiBEjcOjQIb1zpqamaNmypUjJqDqsJ2ljPZEcsPEjQVW3HgkAjI2NYW1tjR49esDc3PwFp6KnaTQaGBnxsp5Sx3qSB9YTSRmneklQu3btwsWLF2FjYwMHBwfcuXMH%2Bfn5sLOzg1qthkKhwObNm%2BHi4iJ2VINUcfmJ2vDyE9LBepI21hPJAS/gTIK6fPky3N3dsWHDBowbNw5Tp04FADg4OGDr1q0wMjLC9u3bMWrUKJGTGqaKC/9qtVokJCSgf//%2BUCqVaNasGY4fP47evXvzshQSwnqSNtYTyYKWSEAeHh7ahw8f6h17%2BPCh1sPDQ6vVarWPHj3SKpVKMaJRJRMmTNCeP39e71hKSorW19dXpERUHdaTPLCeSMq4CIEEl5WVpff97du3UVZWBgAoLS2FsbGxGLGokrS0NHTv3l3vmJOTE27cuCFOIKoR60n6WE8kZWz8SFBjxozBjBkzsGfPHpw8eRJ79uzBrFmzMHr0aBQUFGDevHkYMGCA2DENXqdOnRAVFaV3bP369c%2B8VRi9WKwneWA9kZRxVy8JSqPRYOPGjdi7dy/u3LkDe3t7%2BPv7Y/Lkybh8%2BTKio6Mxf/58WFhYiB3VoCUlJWHWrFl46aWXYGdnh5ycHGg0GmzatAlOTk5ix6MnWE/ywHoiKWPjR0QAgMLCQhw9ehR5eXmws7ODSqXCyy%2B/LHYsIlliPZFUsfEjQZWXl%2BPHH3/EjRs3oNFo9M7NmTNHpFRE8sR6IqL64nX8SFDLly9HTEwMnJ2d0bTpX/%2B7PetaV/RivPHGG0hKSoKzs3ON70laWtoLTkU1YT1JG%2BuJ5ICNHwkqPj4eW7duRbdu3cSOQtWIjIwEwIvKygXrSdpYTyQHbPxIUBqNBl27dhU7BtWgV69eAIB9%2B/ZhyJAh8PT0hImJicipqCasJ2ljPZEc8M4dJKjc3FxcuXIFSqVS7ChUi/Pnz2PHjh1YvXo10tLSoNFoYG9vzw8tiWE9yQPriaSMmztIUO%2B88w6SkpJgbm4Oa2trvXOxsbEipaKaXLt2DbGxsYiPj0daWhrc3Nywfv16sWPRE6wneWE9kRRxqpcENXbsWIwdO1bsGFRHf/75JxQKBczNzaHRaHD9%2BnWxI1ElrCd5YT2RFHHEj16Y%2B/fvVxmlIGn4%2B9//jtOnT0Oj0cDV1RUeHh7w9PREmzZtxI5GNWA9SRfriaSMt2wjQZWVlSEsLAxKpRIqlQpZWVnw8/NDfn6%2B2NGokosXL0KtVmPw4MEYNmwY3nzzTX5ISRDrSR5YTyRlbPxIUOHh4Thz5gxWr14NY2Nj2NjYwM7ODp9//rnY0aiSuLg47N%2B/Hy4uLti/fz%2B8vLwwZswYfP3112JHo0pYT/LAeiIp41QvCUqlUmHnzp145ZVX4OrqirNnz%2BLBgwfw9vZGQkKC2PGoGhkZGYiNjUVUVBSKi4tx6dIlsSPRE6wn%2BWE9kdRwcwcJqqSkRLcOqeJ3DDMzMxgZcbBZSmJjY3H8%2BHH88ssvePDgAfr164clS5ZgwIABYkejSlhP8sB6Iilj40eC6tGjByIiIrBgwQLdLYy2bdvGOw9IzLJly6BSqbB8%2BXL07duX1xuTKNaTPLCeSMo41UuCysrKwuTJk1FWVoaCggK0a9cOxcXF2LJlCzp27Ch2PHpCq9U%2B836vFfchJfGwnuSB9URSxhE/EtSrr76KmJgYxMfHIycnB3Z2dhg4cCCaNWsmdjSq5FkfUsBfU4skHtaTPLCeSMrY%2BJHgzM3NMWzYMLFjUD3V5cOMhMd6ahxYTyQWNn4kCGdn52f%2BxZaWlvaC0hDJG%2BuJiBoKGz8SxNatW8WOQNRosJ6IqKGw8SNBuLq61vmxXORMVDvWExE1FF78iUTHRc5EDYf1RES1YeNHouMiZ3lgQyEPrCd5YD2RWDjVS2TAcnJynvkYe3t7AI/vRkBENWM9kRyw8SMyYCqVqsYRooqL0FbsFq24VRgRVY/1RHLAxo/IgHHUgajhsJ5IDtj4ERkwBweHGs%2BVlZXh119/rfUxRPQX1hPJARs/Eh0XOYvv6NGjWLFiBXJzc/Xej6ZNmyIlJUXEZPS8WE/iYz2RlLHxI0FwkbO8hIaGYsiQIWjevDmuXLkCHx8frFmzBmPGjBE7GoH1JDesJ5IyhZa/HpIAarvF1NOLnEl83bt3x/nz55GdnY2lS5di27ZtyMjIwIIFCxAdHS12PIPHepIX1hNJGUf8SBAcdZAXa2trGBkZwd7eHpmZmQCAzp074%2B7duyInI4D1JDesJ5IyNn4kCC5ylhcnJyesXr0aH374IWxsbHDs2DGYmZnB1NRU7GgE1pPcsJ5IyjjVS4LiImd5yMzMRGBgICIjI5Gamor58%2BdDo9Fg4cKFmDp1qtjx6AnWkzzUVE9BQUF47733xI5HBo6NHwnKx8cHHh4e1S5ynjhxotjxqAZ5eXkoLi5Ghw4dxI5ClbCe5KminmxtbdGsWTOx45CB41QvCSorKwtBQUHIzs7GmTNnMGTIEHTs2BELFizgB5XEnDlzBgcOHEB%2Bfj7s7e25A1GCWE/y4OrqirNnz%2Bq%2Bb9WqFQCgV69eSExMFCsWEQA2fiQwLnKWh927dyMkJARDhgyBi4sLsrOzMXHiRISGhsLb21vsePQE60m6bt68iWXLlkGr1aKoqAiTJk3SO19UVITmzZuLlI7oL2z8SFBc5CwPkZGRWL9%2BPTw8PHTHjh07hn/%2B859s/CSE9SRd7dq1w5AhQ1BYWIikpCS4urrqnTcxMYFKpRIpHdFfuMaPBMVNA/LQs2dPJCYmokmTJrpjGo0Gffr00ZuyInFx04A8fP/99/D19RU7BlG12PjRC8VNA9IUGBgIpVKJyZMn645FR0cjNjYWX3/9tYjJqDbcNCBdmZmZ2LlzJ%2B7evYuQkBDExMTg3XffFTsWEad6SXjcNCB95eXlWLVqFfbv34927dohNzcXycnJcHFx0VurtHXrVhFTEjcNyMPJkycxd%2B5cDBo0CKdOnUJpaSnWrFmDkpISzJgxQ%2Bx4ZOA44keCqrxpwN7eHtnZ2YiLi%2BOmAYmJiIio0%2BPmzJkjcBJ6WuVNA4mJiejVq5fe%2BaKiIvz222%2BIi4sTKSE9zc/PD4GBgRgwYAB69%2B6Nc%2BfOISUlBfPnz%2BddWEh0HPEjQXHTgDywoZMubhqQn5s3b6J///4AoLvHcrdu3fD777%2BLGYsIABs/ElhBQQH69Omjd6xfv34ICgoSKRHVZPfu3di2bRvy8vKwf/9%2BrFq1CitXroSFhYXY0QxeQEAAAKBNmzbcNCAD9vb2SEpKglKp1B1LSUlB69atRUxF9JiR2AGocevXrx%2B2b9%2BudywmJgbu7u4iJaLqREVFYdOmTZg4cSLKy8thYWGB3NxcrFy5UuxoVImvry8yMzPx%2BeefY86cOSgsLKxSXyS%2BmTNnYtasWQgLC8OjR4/w7bffYvbs2Zg2bZrY0Yi4xo%2BE9eGHHyIuLg5OTk5VNg1U3oXITQPiGjp0KNauXYtOnTrpNhDk5eVh1KhROHnypNjx6InKmwbi4%2BMRExOD0aNHY%2BrUqdw0IDHHjh3D9u3bcf36dTg4OCAgIABDhgwROxYRp3pJWC4uLnBxcdF97%2BjoCE9PTxETUXUKCwt1l9ip%2BF3QxsYGZWVlYsaip3z11VcICwvTbRpo3bo1IiMjMX/%2BfDZ%2BElJcXIyYmBgkJCTg4cOHKCgoQKdOnTBw4ECYmJiIHY8MHBs/EhQ3DciDs7Mzdu3ahQkTJugWox8%2BfBiOjo4iJ6PKuGlAHlasWIGbN29i3bp1aN26NbKyshAeHo7Q0FAsXrxY7Hhk4LjGjwS3e/dujBgxAm5ubsjJyUFgYCCKi4vFjkWVfPzxx/jqq68wfvx4lJSUYPr06fjss8%2B4CUdiKjYNVMZNA9ITHx%2BPtWvXwsPDAx07dsSAAQOwZs0aHDx4UOxoRGz8SFjcNCAPr732Gg4cOAAvLy%2BMHTsWvXr1wrp169C9e3exo1El3DQgD6ampnq3PwQACwsLmJubi5SI6C9s/EhQO3fuxNq1azFu3DgYGRmhRYsWCA8PR3x8vNjRqJK4uDiMGTMG77//PmxtbbFmzRpMmzYNu3fvFjsaVTJ8%2BHCEhoYiNTUVNjY2OHHiBJYuXcpLvEjMrFmzEBgYiPT0dKjVaty4cQOLFi3CsGHDkJOTo/siEgPX%2BJGguGlAHtatW4f58%2BdDo9Fg%2B/btiIiIgLW1NRYsWIBx48aJHY%2Be4KYBefj8888BPL78jkKhQOWLZ2zevBlarRYKhQJpaWliRSQDxsaPBMVNA/Jw69YtjBs3DqmpqVCr1XB3d0fTpk1x7949saNRJdw0IA%2B8LRtJGRs/EtTHH3%2BMKVOm4MCBA7pNAxcvXsTGjRvFjkaVmJubo6CgAHFxcVAqlWjatCnS09NhZWUldjSqJD4%2BHj/88ANsbGwAAB07doSzszNGjhzJxk9CHBwcxI5AVCM2fiSoik0Dhw8fhouLC%2Bzs7DBz5kxuGpAYPz8/%2BPr64sGDB/jmm29w%2BfJlvP/%2B%2B3jvvffEjkaVcNMAEdUX79xBgoqLi8OSJUtw6tQprF27FuvXr4dCocCnn37KtWMSk5CQAFNTU/To0QN37txBSkoK7zQgMdu3b8eRI0ewePFi3Z1wvvzyS7Rt21Z3P1/g8WVfiIiqw8aPBDV27FiMHTsWY8aMgaenJ1atWqXbNPDTTz%2BJHY9IVpydnXX//vSmgYrvuWmAiGrDqV4SFDcNEDUcbhogovpi40eC4qYBoobDTQNEVF9s/EhQ3DRAREQkHVzjR4LjpgEiIiJpYONHREREZCB4r14iIiIiA8HGj4iIiMhAsPEjIiIiMhBs/IiIiIgMBBs/IiIiIgPBxo%2BIiIjIQLDxIyIiIjIQbPyIiIiIDMT/A6I6JE7DtHLuAAAAAElFTkSuQmCC\" class=\"center-img\">\n",
       "</div>\n",
       "    <div class=\"row headerrow highlight\">\n",
       "        <h1>Sample</h1>\n",
       "    </div>\n",
       "    <div class=\"row variablerow\">\n",
       "    <div class=\"col-md-12\" style=\"overflow:scroll; width: 100%%; overflow-y: hidden;\">\n",
       "        <table border=\"1\" class=\"dataframe sample\">\n",
       "  <thead>\n",
       "    <tr style=\"text-align: right;\">\n",
       "      <th></th>\n",
       "      <th>sepal_length</th>\n",
       "      <th>sepal_width</th>\n",
       "      <th>petal_length</th>\n",
       "      <th>petal_width</th>\n",
       "      <th>species</th>\n",
       "    </tr>\n",
       "  </thead>\n",
       "  <tbody>\n",
       "    <tr>\n",
       "      <th>0</th>\n",
       "      <td>5.1</td>\n",
       "      <td>3.5</td>\n",
       "      <td>1.4</td>\n",
       "      <td>0.2</td>\n",
       "      <td>setosa</td>\n",
       "    </tr>\n",
       "    <tr>\n",
       "      <th>1</th>\n",
       "      <td>NaN</td>\n",
       "      <td>3.0</td>\n",
       "      <td>1.4</td>\n",
       "      <td>0.2</td>\n",
       "      <td>setosa</td>\n",
       "    </tr>\n",
       "    <tr>\n",
       "      <th>2</th>\n",
       "      <td>4.7</td>\n",
       "      <td>3.2</td>\n",
       "      <td>1.3</td>\n",
       "      <td>0.2</td>\n",
       "      <td>setosa</td>\n",
       "    </tr>\n",
       "    <tr>\n",
       "      <th>3</th>\n",
       "      <td>4.6</td>\n",
       "      <td>3.1</td>\n",
       "      <td>1.5</td>\n",
       "      <td>0.2</td>\n",
       "      <td>setosa</td>\n",
       "    </tr>\n",
       "    <tr>\n",
       "      <th>4</th>\n",
       "      <td>5.0</td>\n",
       "      <td>3.6</td>\n",
       "      <td>1.4</td>\n",
       "      <td>0.2</td>\n",
       "      <td>setosa</td>\n",
       "    </tr>\n",
       "  </tbody>\n",
       "</table>\n",
       "    </div>\n",
       "</div>\n",
       "</div>"
      ],
      "text/plain": [
       "<pandas_profiling.ProfileReport at 0x34492d83c8>"
      ]
     },
     "execution_count": 6,
     "metadata": {},
     "output_type": "execute_result"
    }
   ],
   "source": [
    "pp.ProfileReport(dataset)"
   ]
  },
  {
   "cell_type": "code",
   "execution_count": 7,
   "metadata": {},
   "outputs": [],
   "source": [
    "################################  Data Preprocessing ############################"
   ]
  },
  {
   "cell_type": "code",
   "execution_count": 8,
   "metadata": {},
   "outputs": [
    {
     "name": "stdout",
     "output_type": "stream",
     "text": [
      "sepal_length    float64\n",
      "sepal_width     float64\n",
      "petal_length    float64\n",
      "petal_width     float64\n",
      "species          object\n",
      "dtype: object\n",
      "There are 1 categorical variables\n",
      "There are 4 numerical variables\n",
      "  species\n",
      "0  setosa\n",
      "1  setosa\n",
      "2  setosa\n",
      "3  setosa\n",
      "4  setosa\n",
      "   sepal_length  sepal_width  petal_length  petal_width\n",
      "0           5.1          3.5           1.4          0.2\n",
      "1           NaN          3.0           1.4          0.2\n",
      "2           4.7          3.2           1.3          0.2\n",
      "3           4.6          3.1           1.5          0.2\n",
      "4           5.0          3.6           1.4          0.2\n"
     ]
    }
   ],
   "source": [
    "#find type\n",
    "print(dataset.dtypes)\n",
    "# find categorical variables\n",
    "categorical = [var for var in dataset.columns if dataset[var].dtype=='O']\n",
    "print('There are {} categorical variables'.format(len(categorical)))\n",
    "# find numerical variables\n",
    "numerical = [var for var in dataset.columns if dataset[var].dtype!='O']\n",
    "print('There are {} numerical variables'.format(len(numerical)))\n",
    "# view of categorical variables\n",
    "print(dataset[categorical].head())\n",
    "# view of numerical variables\n",
    "print(dataset[numerical].head())"
   ]
  },
  {
   "cell_type": "code",
   "execution_count": 220,
   "metadata": {},
   "outputs": [
    {
     "name": "stdout",
     "output_type": "stream",
     "text": [
      "   sepal_length  sepal_width  petal_length  petal_width species\n",
      "0           5.1          3.5           1.4          0.2  setosa\n",
      "1           NaN          3.0           1.4          0.2  setosa\n",
      "2           4.7          3.2           1.3          0.2  setosa\n",
      "3           4.6          3.1           1.5          0.2  setosa\n",
      "4           5.0          3.6           1.4          0.2  setosa\n",
      "(150, 5)\n"
     ]
    }
   ],
   "source": [
    "print(dataset.head())\n",
    "print(dataset.shape)"
   ]
  },
  {
   "cell_type": "code",
   "execution_count": 221,
   "metadata": {},
   "outputs": [
    {
     "data": {
      "text/html": [
       "<div>\n",
       "<style scoped>\n",
       "    .dataframe tbody tr th:only-of-type {\n",
       "        vertical-align: middle;\n",
       "    }\n",
       "\n",
       "    .dataframe tbody tr th {\n",
       "        vertical-align: top;\n",
       "    }\n",
       "\n",
       "    .dataframe thead th {\n",
       "        text-align: right;\n",
       "    }\n",
       "</style>\n",
       "<table border=\"1\" class=\"dataframe\">\n",
       "  <thead>\n",
       "    <tr style=\"text-align: right;\">\n",
       "      <th></th>\n",
       "      <th>sepal_length</th>\n",
       "      <th>sepal_width</th>\n",
       "      <th>petal_length</th>\n",
       "      <th>petal_width</th>\n",
       "    </tr>\n",
       "  </thead>\n",
       "  <tbody>\n",
       "    <tr>\n",
       "      <th>count</th>\n",
       "      <td>149.000000</td>\n",
       "      <td>150.000000</td>\n",
       "      <td>150.000000</td>\n",
       "      <td>150.000000</td>\n",
       "    </tr>\n",
       "    <tr>\n",
       "      <th>mean</th>\n",
       "      <td>5.849664</td>\n",
       "      <td>3.054000</td>\n",
       "      <td>3.758667</td>\n",
       "      <td>1.198667</td>\n",
       "    </tr>\n",
       "    <tr>\n",
       "      <th>std</th>\n",
       "      <td>0.827208</td>\n",
       "      <td>0.433594</td>\n",
       "      <td>1.764420</td>\n",
       "      <td>0.763161</td>\n",
       "    </tr>\n",
       "    <tr>\n",
       "      <th>min</th>\n",
       "      <td>4.300000</td>\n",
       "      <td>2.000000</td>\n",
       "      <td>1.000000</td>\n",
       "      <td>0.100000</td>\n",
       "    </tr>\n",
       "    <tr>\n",
       "      <th>25%</th>\n",
       "      <td>5.100000</td>\n",
       "      <td>2.800000</td>\n",
       "      <td>1.600000</td>\n",
       "      <td>0.300000</td>\n",
       "    </tr>\n",
       "    <tr>\n",
       "      <th>50%</th>\n",
       "      <td>5.800000</td>\n",
       "      <td>3.000000</td>\n",
       "      <td>4.350000</td>\n",
       "      <td>1.300000</td>\n",
       "    </tr>\n",
       "    <tr>\n",
       "      <th>75%</th>\n",
       "      <td>6.400000</td>\n",
       "      <td>3.300000</td>\n",
       "      <td>5.100000</td>\n",
       "      <td>1.800000</td>\n",
       "    </tr>\n",
       "    <tr>\n",
       "      <th>max</th>\n",
       "      <td>7.900000</td>\n",
       "      <td>4.400000</td>\n",
       "      <td>6.900000</td>\n",
       "      <td>2.500000</td>\n",
       "    </tr>\n",
       "  </tbody>\n",
       "</table>\n",
       "</div>"
      ],
      "text/plain": [
       "       sepal_length  sepal_width  petal_length  petal_width\n",
       "count    149.000000   150.000000    150.000000   150.000000\n",
       "mean       5.849664     3.054000      3.758667     1.198667\n",
       "std        0.827208     0.433594      1.764420     0.763161\n",
       "min        4.300000     2.000000      1.000000     0.100000\n",
       "25%        5.100000     2.800000      1.600000     0.300000\n",
       "50%        5.800000     3.000000      4.350000     1.300000\n",
       "75%        6.400000     3.300000      5.100000     1.800000\n",
       "max        7.900000     4.400000      6.900000     2.500000"
      ]
     },
     "execution_count": 221,
     "metadata": {},
     "output_type": "execute_result"
    }
   ],
   "source": [
    "dataset.describe()"
   ]
  },
  {
   "cell_type": "code",
   "execution_count": 222,
   "metadata": {},
   "outputs": [
    {
     "name": "stdout",
     "output_type": "stream",
     "text": [
      "<class 'pandas.core.frame.DataFrame'>\n",
      "RangeIndex: 150 entries, 0 to 149\n",
      "Data columns (total 5 columns):\n",
      "sepal_length    149 non-null float64\n",
      "sepal_width     150 non-null float64\n",
      "petal_length    150 non-null float64\n",
      "petal_width     150 non-null float64\n",
      "species         150 non-null object\n",
      "dtypes: float64(4), object(1)\n",
      "memory usage: 5.9+ KB\n"
     ]
    }
   ],
   "source": [
    "dataset.info()"
   ]
  },
  {
   "cell_type": "code",
   "execution_count": 223,
   "metadata": {},
   "outputs": [
    {
     "data": {
      "text/plain": [
       "Index(['sepal_length', 'sepal_width', 'petal_length', 'petal_width',\n",
       "       'species'],\n",
       "      dtype='object')"
      ]
     },
     "execution_count": 223,
     "metadata": {},
     "output_type": "execute_result"
    }
   ],
   "source": [
    "dataset.columns"
   ]
  },
  {
   "cell_type": "code",
   "execution_count": 224,
   "metadata": {},
   "outputs": [
    {
     "data": {
      "text/plain": [
       "sepal_length    1\n",
       "sepal_width     0\n",
       "petal_length    0\n",
       "petal_width     0\n",
       "species         0\n",
       "dtype: int64"
      ]
     },
     "execution_count": 224,
     "metadata": {},
     "output_type": "execute_result"
    }
   ],
   "source": [
    "#check missing values\n",
    "dataset.isna().sum()"
   ]
  },
  {
   "cell_type": "code",
   "execution_count": 225,
   "metadata": {},
   "outputs": [],
   "source": [
    "#replace missing values by median/mode/mean\n",
    "# dataset[\"species\"].fillna(dataset[\"species\"].mode(), inplace=True)\n",
    "# dataset[\"species\"].fillna(\"setosa\")\n",
    "dataset[\"sepal_length\"].fillna(dataset[\"sepal_length\"].median(skipna=True), inplace=True)"
   ]
  },
  {
   "cell_type": "code",
   "execution_count": 226,
   "metadata": {},
   "outputs": [
    {
     "data": {
      "text/plain": [
       "sepal_length    0\n",
       "sepal_width     0\n",
       "petal_length    0\n",
       "petal_width     0\n",
       "species         0\n",
       "dtype: int64"
      ]
     },
     "execution_count": 226,
     "metadata": {},
     "output_type": "execute_result"
    }
   ],
   "source": [
    "dataset.isnull().sum()"
   ]
  },
  {
   "cell_type": "code",
   "execution_count": 235,
   "metadata": {},
   "outputs": [],
   "source": [
    "#Defining data and label\n",
    "X=dataset.iloc[:,0:4]\n",
    "y=dataset.iloc[:,4]"
   ]
  },
  {
   "cell_type": "code",
   "execution_count": null,
   "metadata": {},
   "outputs": [],
   "source": [
    "#if you are finding any difficult, while exectiong,give label values to your dependent variable(y)"
   ]
  },
  {
   "cell_type": "code",
   "execution_count": 228,
   "metadata": {},
   "outputs": [
    {
     "name": "stdout",
     "output_type": "stream",
     "text": [
      "There are 105 samples in the training set and 45 samples in the test set\n"
     ]
    }
   ],
   "source": [
    "#Split data into training and test datasets (training will be based on 70% of data)\n",
    "from sklearn.model_selection import train_test_split\n",
    "\n",
    "X_train, X_test, y_train, y_test = train_test_split(X, y, test_size=0.3, random_state=0) \n",
    "#test_size: if integer, number of examples into test dataset; if between 0.0 and 1.0, means proportion\n",
    "print('There are {} samples in the training set and {} samples in the test set'.format(X_train.shape[0], X_test.shape[0]))"
   ]
  },
  {
   "cell_type": "code",
   "execution_count": 205,
   "metadata": {},
   "outputs": [],
   "source": [
    "# Feature Scaling\n",
    "#for svc and logistic regression and gradient boost and sgd algoritham scaling required and for remaining not required(will give same results if you use scale also)\n",
    "from sklearn.preprocessing import StandardScaler\n",
    "sc = StandardScaler()\n",
    "X_train = sc.fit_transform(X_train)\n",
    "X_test = sc.transform(X_test)"
   ]
  },
  {
   "cell_type": "code",
   "execution_count": 206,
   "metadata": {},
   "outputs": [],
   "source": [
    "######################################3   EDA   ########################################33"
   ]
  },
  {
   "cell_type": "code",
   "execution_count": 45,
   "metadata": {},
   "outputs": [
    {
     "name": "stdout",
     "output_type": "stream",
     "text": [
      "virginica     50\n",
      "versicolor    50\n",
      "setosa        50\n",
      "Name: species, dtype: int64\n"
     ]
    },
    {
     "data": {
      "text/plain": [
       "<matplotlib.axes._subplots.AxesSubplot at 0x8737dbaa58>"
      ]
     },
     "execution_count": 45,
     "metadata": {},
     "output_type": "execute_result"
    },
    {
     "data": {
      "image/png": "[encoded data removed]",
      "text/plain": [
       "<Figure size 432x288 with 1 Axes>"
      ]
     },
     "metadata": {
      "needs_background": "light"
     },
     "output_type": "display_data"
    }
   ],
   "source": [
    "#value counts\n",
    "print(y.value_counts())\n",
    "sns.countplot(y)"
   ]
  },
  {
   "cell_type": "code",
   "execution_count": 236,
   "metadata": {},
   "outputs": [
    {
     "name": "stdout",
     "output_type": "stream",
     "text": [
      "The Pearson Correlation Coefficient is 0.9564638238016173  with a P-value of P = 4.775002368756619e-81\n"
     ]
    }
   ],
   "source": [
    "#Before executing Pearson Correlation Coefficient give label for species\n",
    "# from sklearn.preprocessing import LabelEncoder\n",
    "# label=LabelEncoder()\n",
    "# y=label.fit_transform(y)\n",
    "from scipy import stats\n",
    "pearson_coef, p_value = stats.pearsonr(dataset['petal_width'], y)\n",
    "print(\"The Pearson Correlation Coefficient is\", pearson_coef, \" with a P-value of P =\", p_value)\n"
   ]
  },
  {
   "cell_type": "code",
   "execution_count": 237,
   "metadata": {},
   "outputs": [
    {
     "name": "stdout",
     "output_type": "stream",
     "text": [
      "The Pearson Correlation Coefficient is 0.9490425448523336  with a P-value of P = 4.1554775794971695e-76\n"
     ]
    }
   ],
   "source": [
    "from scipy import stats\n",
    "pearson_coef, p_value = stats.pearsonr(dataset['petal_length'], y)\n",
    "print(\"The Pearson Correlation Coefficient is\", pearson_coef, \" with a P-value of P =\", p_value)\n"
   ]
  },
  {
   "cell_type": "code",
   "execution_count": 238,
   "metadata": {},
   "outputs": [
    {
     "name": "stdout",
     "output_type": "stream",
     "text": [
      "The Pearson Correlation Coefficient is -0.4194462002600275  with a P-value of P = 9.159984972550002e-08\n"
     ]
    }
   ],
   "source": [
    "from scipy import stats\n",
    "pearson_coef, p_value = stats.pearsonr(dataset['sepal_width'], y)\n",
    "print(\"The Pearson Correlation Coefficient is\", pearson_coef, \" with a P-value of P =\", p_value)\n"
   ]
  },
  {
   "cell_type": "code",
   "execution_count": 239,
   "metadata": {},
   "outputs": [
    {
     "name": "stdout",
     "output_type": "stream",
     "text": [
      "The Pearson Correlation Coefficient is nan  with a P-value of P = 1.0\n"
     ]
    },
    {
     "name": "stderr",
     "output_type": "stream",
     "text": [
      "c:\\users\\hp\\appdata\\local\\programs\\python\\python36\\lib\\site-packages\\scipy\\stats\\stats.py:5256: RuntimeWarning: invalid value encountered in less\n",
      "  x = np.where(x < 1.0, x, 1.0)  # if x > 1 then return 1.0\n"
     ]
    }
   ],
   "source": [
    "from scipy import stats\n",
    "pearson_coef, p_value = stats.pearsonr(dataset['sepal_length'], y)\n",
    "print(\"The Pearson Correlation Coefficient is\", pearson_coef, \" with a P-value of P =\", p_value)\n"
   ]
  },
  {
   "cell_type": "code",
   "execution_count": 230,
   "metadata": {},
   "outputs": [
    {
     "data": {
      "image/png": "[encoded data removed]",
      "text/plain": [
       "<Figure size 400x400 with 1 Axes>"
      ]
     },
     "metadata": {},
     "output_type": "display_data"
    }
   ],
   "source": [
    "#Feature selection\n",
    "#don't applly scaling when you are executing these \n",
    "#from sklearn.ensemble import RandomForestClassifier\n",
    "#clf4=RandomForestClassifier()\n",
    "#clf4.fit(X_train,y_train)\n",
    "def plot_feature_importances(importances, features):\n",
    "    # get the importance rating of each feature and sort it\n",
    "    indices = np.argsort(importances)\n",
    "\n",
    "    # make a plot with the feature importance\n",
    "    plt.figure(figsize=(5,5), dpi= 80, facecolor='w', edgecolor='k')\n",
    "    plt.grid()\n",
    "    plt.title('Feature Importances')\n",
    "    plt.barh(range(len(indices)), importances[indices], height=0.8, color='mediumvioletred', align='center')\n",
    "    plt.axvline(x=0.03)\n",
    "    plt.yticks(range(len(indices)), list(X_train))\n",
    "    plt.xlabel('Relative Importance')\n",
    "    plt.show()\n",
    "plot_feature_importances(clf4.feature_importances_, X_train)"
   ]
  },
  {
   "cell_type": "markdown",
   "metadata": {},
   "source": [
    "so from the figure as well as from the pearson coefficiant and p value we can conclude,the feature importance"
   ]
  },
  {
   "cell_type": "code",
   "execution_count": 212,
   "metadata": {},
   "outputs": [
    {
     "data": {
      "image/png": "[encoded data removed]",
      "text/plain": [
       "<Figure size 720x720 with 2 Axes>"
      ]
     },
     "metadata": {},
     "output_type": "display_data"
    }
   ],
   "source": [
    "#plot correlation [plot]\n",
    "#if you give label to y,then it also present in the plot\n",
    "fig,ax = plt.subplots(figsize=(10,10))\n",
    "sns.heatmap(dataset.corr(), ax=ax, annot=True, linewidths=0.05, fmt= '.2f',cmap=\"magma\")\n",
    "plt.show()"
   ]
  },
  {
   "cell_type": "code",
   "execution_count": 46,
   "metadata": {},
   "outputs": [
    {
     "name": "stderr",
     "output_type": "stream",
     "text": [
      "c:\\users\\hp\\appdata\\local\\programs\\python\\python36\\lib\\site-packages\\seaborn\\axisgrid.py:230: UserWarning: The `size` paramter has been renamed to `height`; please update your code.\n",
      "  warnings.warn(msg, UserWarning)\n"
     ]
    },
    {
     "data": {
      "image/png": "[encoded data removed]",
      "text/plain": [
       "<Figure size 367.125x288 with 1 Axes>"
      ]
     },
     "metadata": {},
     "output_type": "display_data"
    }
   ],
   "source": [
    "# 2-D Scatter plot . \n",
    "sns.set_style(\"whitegrid\");\n",
    "sns.FacetGrid(dataset, hue=\"species\", size=4) \\\n",
    "   .map(plt.scatter, \"sepal_length\", \"sepal_width\") \\\n",
    "   .add_legend();\n",
    "plt.show();"
   ]
  },
  {
   "cell_type": "code",
   "execution_count": 47,
   "metadata": {},
   "outputs": [
    {
     "name": "stderr",
     "output_type": "stream",
     "text": [
      "c:\\users\\hp\\appdata\\local\\programs\\python\\python36\\lib\\site-packages\\seaborn\\axisgrid.py:2065: UserWarning: The `size` parameter has been renamed to `height`; pleaes update your code.\n",
      "  warnings.warn(msg, UserWarning)\n",
      "c:\\users\\hp\\appdata\\local\\programs\\python\\python36\\lib\\site-packages\\scipy\\stats\\stats.py:1713: FutureWarning: Using a non-tuple sequence for multidimensional indexing is deprecated; use `arr[tuple(seq)]` instead of `arr[seq]`. In the future this will be interpreted as an array index, `arr[np.array(seq)]`, which will result either in an error or a different result.\n",
      "  return np.add.reduce(sorted[indexer] * weights, axis=axis) / sumval\n"
     ]
    },
    {
     "data": {
      "image/png": "[encoded data removed]",
      "text/plain": [
       "<Figure size 943.125x864 with 20 Axes>"
      ]
     },
     "metadata": {},
     "output_type": "display_data"
    }
   ],
   "source": [
    "# pairwise scatter plot: Pair-Plot\n",
    "plt.close();\n",
    "sns.set_style(\"whitegrid\");\n",
    "sns.pairplot(dataset, hue=\"species\", size=3);\n",
    "plt.show()"
   ]
  },
  {
   "cell_type": "markdown",
   "metadata": {},
   "source": [
    "from these pair plot,you can compare ,how your  dependent variables are plotting w.r.t  dependent variable"
   ]
  },
  {
   "cell_type": "code",
   "execution_count": 48,
   "metadata": {},
   "outputs": [],
   "source": [
    "iris_setosa = dataset.loc[dataset[\"species\"] == \"setosa\"];\n",
    "iris_virginica = dataset.loc[dataset[\"species\"] == \"virginica\"];\n",
    "iris_versicolor = dataset.loc[dataset[\"species\"] == \"versicolor\"];"
   ]
  },
  {
   "cell_type": "code",
   "execution_count": 52,
   "metadata": {},
   "outputs": [
    {
     "name": "stderr",
     "output_type": "stream",
     "text": [
      "c:\\users\\hp\\appdata\\local\\programs\\python\\python36\\lib\\site-packages\\seaborn\\axisgrid.py:230: UserWarning: The `size` paramter has been renamed to `height`; please update your code.\n",
      "  warnings.warn(msg, UserWarning)\n"
     ]
    },
    {
     "data": {
      "image/png": "[encoded data removed]",
      "text/plain": [
       "<Figure size 439.125x360 with 1 Axes>"
      ]
     },
     "metadata": {},
     "output_type": "display_data"
    }
   ],
   "source": [
    "#Histogram\n",
    "sns.FacetGrid(dataset, hue=\"species\", size=5) \\\n",
    "   .map(sns.distplot, \"petal_length\") \\\n",
    "   .add_legend();\n",
    "plt.show();\n",
    "#########  Homework #################\n",
    "##################### do for all petal width,sepal length ,sepal width ####################"
   ]
  },
  {
   "cell_type": "markdown",
   "metadata": {},
   "source": [
    " -> write the points,what you underastand from the  PDF\n",
    " \n",
    " 1) petal length of setosa flower is in b/w 1 to 2cm\n",
    " \n",
    " 2) petal length of versicolor  flower is in b/w 2.5 to 5.5cm\n",
    " \n",
    " 3) petal length of verginica  flower is in b/w 3.8 to 7.8cm\n",
    " "
   ]
  },
  {
   "cell_type": "code",
   "execution_count": 53,
   "metadata": {},
   "outputs": [
    {
     "name": "stdout",
     "output_type": "stream",
     "text": [
      "[0.02 0.02 0.04 0.14 0.24 0.28 0.14 0.08 0.   0.04]\n",
      "[1.   1.09 1.18 1.27 1.36 1.45 1.54 1.63 1.72 1.81 1.9 ]\n",
      "[0.02 0.1  0.24 0.08 0.18 0.16 0.1  0.04 0.02 0.06]\n",
      "[4.5  4.74 4.98 5.22 5.46 5.7  5.94 6.18 6.42 6.66 6.9 ]\n",
      "[0.02 0.04 0.06 0.04 0.16 0.14 0.12 0.2  0.14 0.08]\n",
      "[3.   3.21 3.42 3.63 3.84 4.05 4.26 4.47 4.68 4.89 5.1 ]\n"
     ]
    },
    {
     "data": {
      "image/png": "[encoded data removed]",
      "text/plain": [
       "<Figure size 432x288 with 1 Axes>"
      ]
     },
     "metadata": {},
     "output_type": "display_data"
    }
   ],
   "source": [
    "# Plots of CDF of petal_length for various types of flowers.\n",
    "\n",
    "counts, bin_edges = np.histogram(iris_setosa['petal_length'], bins=10, \n",
    "                                 density = True)\n",
    "pdf = counts/(sum(counts))\n",
    "print(pdf);\n",
    "print(bin_edges)\n",
    "cdf = np.cumsum(pdf)\n",
    "plt.plot(bin_edges[1:],pdf)\n",
    "plt.plot(bin_edges[1:], cdf)\n",
    "\n",
    "\n",
    "# virginica\n",
    "counts, bin_edges = np.histogram(iris_virginica['petal_length'], bins=10, \n",
    "                                 density = True)\n",
    "pdf = counts/(sum(counts))\n",
    "print(pdf);\n",
    "print(bin_edges)\n",
    "cdf = np.cumsum(pdf)\n",
    "plt.plot(bin_edges[1:],pdf)\n",
    "plt.plot(bin_edges[1:], cdf)\n",
    "\n",
    "\n",
    "#versicolor\n",
    "counts, bin_edges = np.histogram(iris_versicolor['petal_length'], bins=10, \n",
    "                                 density = True)\n",
    "pdf = counts/(sum(counts))\n",
    "print(pdf);\n",
    "print(bin_edges)\n",
    "cdf = np.cumsum(pdf)\n",
    "plt.plot(bin_edges[1:],pdf)\n",
    "plt.plot(bin_edges[1:], cdf)\n",
    "\n",
    "\n",
    "plt.show();\n",
    "#########  Homework #################\n",
    "##################### do for all petal width,sepal length ,sepal width ####################"
   ]
  },
  {
   "cell_type": "markdown",
   "metadata": {},
   "source": [
    "\n",
    " -> write the points,what you underastand from the  CDF\n",
    " \n",
    " 1) 80% of petal length of setosa flower is 1.5\n",
    " \n",
    " 2) 80% of petal length of verginica flower is 4.8\n",
    " \n",
    " 3) 80% of petal length of versicolor flower is 6"
   ]
  },
  {
   "cell_type": "code",
   "execution_count": 54,
   "metadata": {},
   "outputs": [
    {
     "name": "stdout",
     "output_type": "stream",
     "text": [
      "Means:\n",
      "1.464\n",
      "5.5520000000000005\n",
      "4.26\n",
      "\n",
      "Std-dev:\n",
      "0.17176728442867112\n",
      "0.546347874526844\n",
      "0.4651881339845203\n"
     ]
    }
   ],
   "source": [
    "#Mean, Variance, Std-deviation,  \n",
    "print(\"Means:\")\n",
    "print(np.mean(iris_setosa[\"petal_length\"]))\n",
    "print(np.mean(iris_virginica[\"petal_length\"]))\n",
    "print(np.mean(iris_versicolor[\"petal_length\"]))\n",
    "\n",
    "print(\"\\nStd-dev:\");\n",
    "print(np.std(iris_setosa[\"petal_length\"]))\n",
    "print(np.std(iris_virginica[\"petal_length\"]))\n",
    "print(np.std(iris_versicolor[\"petal_length\"]))\n"
   ]
  },
  {
   "cell_type": "code",
   "execution_count": 55,
   "metadata": {},
   "outputs": [
    {
     "name": "stdout",
     "output_type": "stream",
     "text": [
      "\n",
      "Medians:\n",
      "1.5\n",
      "5.55\n",
      "4.35\n",
      "\n",
      "Quantiles:\n",
      "[1.    1.4   1.5   1.575]\n",
      "[4.5   5.1   5.55  5.875]\n",
      "[3.   4.   4.35 4.6 ]\n",
      "\n",
      "90th Percentiles:\n",
      "1.7\n",
      "6.3100000000000005\n",
      "4.8\n",
      "\n",
      "Median Absolute Deviation\n",
      "0.14826022185056031\n",
      "0.6671709983275211\n",
      "0.5189107764769602\n"
     ]
    }
   ],
   "source": [
    "#Median, Quantiles, Percentiles, IQR.\n",
    "print(\"\\nMedians:\")\n",
    "print(np.median(iris_setosa[\"petal_length\"]))\n",
    "print(np.median(iris_virginica[\"petal_length\"]))\n",
    "print(np.median(iris_versicolor[\"petal_length\"]))\n",
    "\n",
    "\n",
    "print(\"\\nQuantiles:\")\n",
    "print(np.percentile(iris_setosa[\"petal_length\"],np.arange(0, 100, 25)))\n",
    "print(np.percentile(iris_virginica[\"petal_length\"],np.arange(0, 100, 25)))\n",
    "print(np.percentile(iris_versicolor[\"petal_length\"], np.arange(0, 100, 25)))\n",
    "\n",
    "print(\"\\n90th Percentiles:\")\n",
    "print(np.percentile(iris_setosa[\"petal_length\"],90))\n",
    "print(np.percentile(iris_virginica[\"petal_length\"],90))\n",
    "print(np.percentile(iris_versicolor[\"petal_length\"], 90))\n",
    "\n",
    "from statsmodels import robust\n",
    "print (\"\\nMedian Absolute Deviation\")\n",
    "print(robust.mad(iris_setosa[\"petal_length\"]))\n",
    "print(robust.mad(iris_virginica[\"petal_length\"]))\n",
    "print(robust.mad(iris_versicolor[\"petal_length\"]))\n"
   ]
  },
  {
   "cell_type": "code",
   "execution_count": 56,
   "metadata": {},
   "outputs": [
    {
     "data": {
      "image/png": "[encoded data removed]",
      "text/plain": [
       "<Figure size 432x288 with 1 Axes>"
      ]
     },
     "metadata": {},
     "output_type": "display_data"
    }
   ],
   "source": [
    "#Boxplot\n",
    "sns.boxplot(x='species',y='petal_length', data=dataset)\n",
    "plt.show()\n",
    "#check are you finding any outlierrs"
   ]
  },
  {
   "cell_type": "code",
   "execution_count": 60,
   "metadata": {},
   "outputs": [
    {
     "data": {
      "text/plain": [
       "sepal_length       AxesSubplot(0.125,0.536818;0.352273x0.343182)\n",
       "sepal_width     AxesSubplot(0.547727,0.536818;0.352273x0.343182)\n",
       "petal_length          AxesSubplot(0.125,0.125;0.352273x0.343182)\n",
       "petal_width        AxesSubplot(0.547727,0.125;0.352273x0.343182)\n",
       "dtype: object"
      ]
     },
     "execution_count": 60,
     "metadata": {},
     "output_type": "execute_result"
    },
    {
     "data": {
      "image/png": "[encoded data removed]",
      "text/plain": [
       "<Figure size 432x288 with 4 Axes>"
      ]
     },
     "metadata": {},
     "output_type": "display_data"
    }
   ],
   "source": [
    "# box and whisker plot\n",
    "dataset.plot(kind='box', subplots=True, layout=(2,2), sharex=False, sharey=False,)"
   ]
  },
  {
   "cell_type": "code",
   "execution_count": 57,
   "metadata": {},
   "outputs": [
    {
     "name": "stderr",
     "output_type": "stream",
     "text": [
      "c:\\users\\hp\\appdata\\local\\programs\\python\\python36\\lib\\site-packages\\scipy\\stats\\stats.py:1713: FutureWarning: Using a non-tuple sequence for multidimensional indexing is deprecated; use `arr[tuple(seq)]` instead of `arr[seq]`. In the future this will be interpreted as an array index, `arr[np.array(seq)]`, which will result either in an error or a different result.\n",
      "  return np.add.reduce(sorted[indexer] * weights, axis=axis) / sumval\n"
     ]
    },
    {
     "data": {
      "image/png": "[encoded data removed]",
      "text/plain": [
       "<Figure size 432x288 with 1 Axes>"
      ]
     },
     "metadata": {},
     "output_type": "display_data"
    }
   ],
   "source": [
    "# A violin plot combines the benefits of box plot and pdf \n",
    "#and simplifies them\n",
    "\n",
    "# Denser regions of the data are fatter, and sparser ones thinner \n",
    "#in a violin plot\n",
    "\n",
    "sns.violinplot(x=\"species\", y=\"petal_length\", data=dataset, size=8)\n",
    "plt.show()"
   ]
  },
  {
   "cell_type": "code",
   "execution_count": null,
   "metadata": {},
   "outputs": [],
   "source": [
    "####################  Fitting Algoritham ##############################3"
   ]
  },
  {
   "cell_type": "code",
   "execution_count": 62,
   "metadata": {},
   "outputs": [
    {
     "name": "stdout",
     "output_type": "stream",
     "text": [
      "****** report on test data********************************\n",
      "0.9777777777777777\n",
      "[[16  0  0]\n",
      " [ 0 17  0]\n",
      " [ 0  1 11]]\n",
      "              precision    recall  f1-score   support\n",
      "\n",
      "      setosa       1.00      1.00      1.00        16\n",
      "  versicolor       0.94      1.00      0.97        17\n",
      "   virginica       1.00      0.92      0.96        12\n",
      "\n",
      "   micro avg       0.98      0.98      0.98        45\n",
      "   macro avg       0.98      0.97      0.98        45\n",
      "weighted avg       0.98      0.98      0.98        45\n",
      "\n",
      "****** report on train  data********************************\n",
      "1.0\n",
      "[[34  0  0]\n",
      " [ 0 32  0]\n",
      " [ 0  0 39]]\n",
      "              precision    recall  f1-score   support\n",
      "\n",
      "      setosa       1.00      1.00      1.00        34\n",
      "  versicolor       1.00      1.00      1.00        32\n",
      "   virginica       1.00      1.00      1.00        39\n",
      "\n",
      "   micro avg       1.00      1.00      1.00       105\n",
      "   macro avg       1.00      1.00      1.00       105\n",
      "weighted avg       1.00      1.00      1.00       105\n",
      "\n"
     ]
    }
   ],
   "source": [
    "#DecisionTreeClassifier\n",
    "from sklearn.tree import DecisionTreeClassifier\n",
    "from sklearn.metrics import accuracy_score,classification_report,confusion_matrix\n",
    "clf=DecisionTreeClassifier(random_state=123)\n",
    "clf.fit(X_train,y_train)\n",
    "y_pred_1=clf.predict(X_test)\n",
    "y_pred_2=clf.predict(X_train)\n",
    "\n",
    "print(\"****** report on test data********************************\")\n",
    "print(accuracy_score(y_pred_1,y_test))\n",
    "print(confusion_matrix(y_pred_1,y_test))\n",
    "print(classification_report(y_pred_1,y_test))\n",
    "print(\"****** report on train  data********************************\")\n",
    "print(accuracy_score(y_pred_2,y_train))\n",
    "print(confusion_matrix(y_pred_2,y_train))\n",
    "print(classification_report(y_pred_2,y_train))\n"
   ]
  },
  {
   "cell_type": "code",
   "execution_count": 63,
   "metadata": {},
   "outputs": [
    {
     "name": "stdout",
     "output_type": "stream",
     "text": [
      "****** report on test data********************************\n",
      "0.9777777777777777\n",
      "[[16  0  0]\n",
      " [ 0 17  0]\n",
      " [ 0  1 11]]\n",
      "              precision    recall  f1-score   support\n",
      "\n",
      "      setosa       1.00      1.00      1.00        16\n",
      "  versicolor       0.94      1.00      0.97        17\n",
      "   virginica       1.00      0.92      0.96        12\n",
      "\n",
      "   micro avg       0.98      0.98      0.98        45\n",
      "   macro avg       0.98      0.97      0.98        45\n",
      "weighted avg       0.98      0.98      0.98        45\n",
      "\n",
      "****** report on train  data********************************\n",
      "1.0\n",
      "[[34  0  0]\n",
      " [ 0 32  0]\n",
      " [ 0  0 39]]\n",
      "              precision    recall  f1-score   support\n",
      "\n",
      "      setosa       1.00      1.00      1.00        34\n",
      "  versicolor       1.00      1.00      1.00        32\n",
      "   virginica       1.00      1.00      1.00        39\n",
      "\n",
      "   micro avg       1.00      1.00      1.00       105\n",
      "   macro avg       1.00      1.00      1.00       105\n",
      "weighted avg       1.00      1.00      1.00       105\n",
      "\n"
     ]
    },
    {
     "name": "stderr",
     "output_type": "stream",
     "text": [
      "c:\\users\\hp\\appdata\\local\\programs\\python\\python36\\lib\\site-packages\\sklearn\\ensemble\\forest.py:246: FutureWarning: The default value of n_estimators will change from 10 in version 0.20 to 100 in 0.22.\n",
      "  \"10 in version 0.20 to 100 in 0.22.\", FutureWarning)\n"
     ]
    }
   ],
   "source": [
    "#RandomForestClassifier\n",
    "from sklearn.ensemble import RandomForestClassifier\n",
    "clf4=RandomForestClassifier(random_state=124)\n",
    "clf4.fit(X_train,y_train)\n",
    "y_pred_1=clf4.predict(X_test)\n",
    "y_pred_2=clf4.predict(X_train)\n",
    "\n",
    "print(\"****** report on test data********************************\")\n",
    "print(accuracy_score(y_pred_1,y_test))\n",
    "print(confusion_matrix(y_pred_1,y_test))\n",
    "print(classification_report(y_pred_1,y_test))\n",
    "print(\"****** report on train  data********************************\")\n",
    "print(accuracy_score(y_pred_2,y_train))\n",
    "print(confusion_matrix(y_pred_2,y_train))\n",
    "print(classification_report(y_pred_2,y_train))\n",
    "\n"
   ]
  },
  {
   "cell_type": "code",
   "execution_count": 64,
   "metadata": {},
   "outputs": [
    {
     "name": "stdout",
     "output_type": "stream",
     "text": [
      "****** report on test data********************************\n",
      "0.9777777777777777\n",
      "[[16  0  0]\n",
      " [ 0 17  0]\n",
      " [ 0  1 11]]\n",
      "              precision    recall  f1-score   support\n",
      "\n",
      "      setosa       1.00      1.00      1.00        16\n",
      "  versicolor       0.94      1.00      0.97        17\n",
      "   virginica       1.00      0.92      0.96        12\n",
      "\n",
      "   micro avg       0.98      0.98      0.98        45\n",
      "   macro avg       0.98      0.97      0.98        45\n",
      "weighted avg       0.98      0.98      0.98        45\n",
      "\n",
      "****** report on train  data********************************\n",
      "0.9714285714285714\n",
      "[[34  0  0]\n",
      " [ 0 31  2]\n",
      " [ 0  1 37]]\n",
      "              precision    recall  f1-score   support\n",
      "\n",
      "      setosa       1.00      1.00      1.00        34\n",
      "  versicolor       0.97      0.94      0.95        33\n",
      "   virginica       0.95      0.97      0.96        38\n",
      "\n",
      "   micro avg       0.97      0.97      0.97       105\n",
      "   macro avg       0.97      0.97      0.97       105\n",
      "weighted avg       0.97      0.97      0.97       105\n",
      "\n"
     ]
    }
   ],
   "source": [
    "# SVC\n",
    "from sklearn.svm import SVC\n",
    "clf1=SVC(random_state=1)\n",
    "clf1.fit(X_train,y_train)\n",
    "#Prediction\n",
    "y_pred_1=clf1.predict(X_test)\n",
    "y_pred_2=clf1.predict(X_train)\n",
    "\n",
    "print(\"****** report on test data********************************\")\n",
    "print(accuracy_score(y_pred_1,y_test))\n",
    "print(confusion_matrix(y_pred_1,y_test))\n",
    "print(classification_report(y_pred_1,y_test))\n",
    "print(\"****** report on train  data********************************\")\n",
    "print(accuracy_score(y_pred_2,y_train))\n",
    "print(confusion_matrix(y_pred_2,y_train))\n",
    "print(classification_report(y_pred_2,y_train))"
   ]
  },
  {
   "cell_type": "code",
   "execution_count": 65,
   "metadata": {},
   "outputs": [
    {
     "name": "stdout",
     "output_type": "stream",
     "text": [
      "****** report on test data********************************\n",
      "0.8222222222222222\n",
      "[[16  0  0]\n",
      " [ 0 11  1]\n",
      " [ 0  7 10]]\n",
      "              precision    recall  f1-score   support\n",
      "\n",
      "      setosa       1.00      1.00      1.00        16\n",
      "  versicolor       0.61      0.92      0.73        12\n",
      "   virginica       0.91      0.59      0.71        17\n",
      "\n",
      "   micro avg       0.82      0.82      0.82        45\n",
      "   macro avg       0.84      0.83      0.82        45\n",
      "weighted avg       0.86      0.82      0.82        45\n",
      "\n",
      "****** report on train  data********************************\n",
      "0.9142857142857143\n",
      "[[34  0  0]\n",
      " [ 0 25  2]\n",
      " [ 0  7 37]]\n",
      "              precision    recall  f1-score   support\n",
      "\n",
      "      setosa       1.00      1.00      1.00        34\n",
      "  versicolor       0.78      0.93      0.85        27\n",
      "   virginica       0.95      0.84      0.89        44\n",
      "\n",
      "   micro avg       0.91      0.91      0.91       105\n",
      "   macro avg       0.91      0.92      0.91       105\n",
      "weighted avg       0.92      0.91      0.92       105\n",
      "\n"
     ]
    },
    {
     "name": "stderr",
     "output_type": "stream",
     "text": [
      "c:\\users\\hp\\appdata\\local\\programs\\python\\python36\\lib\\site-packages\\sklearn\\linear_model\\logistic.py:433: FutureWarning: Default solver will be changed to 'lbfgs' in 0.22. Specify a solver to silence this warning.\n",
      "  FutureWarning)\n",
      "c:\\users\\hp\\appdata\\local\\programs\\python\\python36\\lib\\site-packages\\sklearn\\linear_model\\logistic.py:460: FutureWarning: Default multi_class will be changed to 'auto' in 0.22. Specify the multi_class option to silence this warning.\n",
      "  \"this warning.\", FutureWarning)\n"
     ]
    }
   ],
   "source": [
    "# LogisticRegression\n",
    "from sklearn.linear_model import LogisticRegression\n",
    "lg_reg=LogisticRegression(random_state=12)\n",
    "lg_reg.fit(X_train,y_train)\n",
    "#Prediction\n",
    "y_pred_1=lg_reg.predict(X_test)\n",
    "y_pred_2=lg_reg.predict(X_train)\n",
    "print(\"****** report on test data********************************\")\n",
    "print(accuracy_score(y_pred_1,y_test))\n",
    "print(confusion_matrix(y_pred_1,y_test))\n",
    "print(classification_report(y_pred_1,y_test))\n",
    "print(\"****** report on train  data********************************\")\n",
    "print(accuracy_score(y_pred_2,y_train))\n",
    "print(confusion_matrix(y_pred_2,y_train))\n",
    "print(classification_report(y_pred_2,y_train))"
   ]
  },
  {
   "cell_type": "code",
   "execution_count": 66,
   "metadata": {},
   "outputs": [
    {
     "name": "stdout",
     "output_type": "stream",
     "text": [
      "****** report on test data********************************\n",
      "0.9777777777777777\n",
      "[[16  0  0]\n",
      " [ 0 17  0]\n",
      " [ 0  1 11]]\n",
      "              precision    recall  f1-score   support\n",
      "\n",
      "      setosa       1.00      1.00      1.00        16\n",
      "  versicolor       0.94      1.00      0.97        17\n",
      "   virginica       1.00      0.92      0.96        12\n",
      "\n",
      "   micro avg       0.98      0.98      0.98        45\n",
      "   macro avg       0.98      0.97      0.98        45\n",
      "weighted avg       0.98      0.98      0.98        45\n",
      "\n",
      "****** report on train  data********************************\n",
      "1.0\n",
      "[[34  0  0]\n",
      " [ 0 32  0]\n",
      " [ 0  0 39]]\n",
      "              precision    recall  f1-score   support\n",
      "\n",
      "      setosa       1.00      1.00      1.00        34\n",
      "  versicolor       1.00      1.00      1.00        32\n",
      "   virginica       1.00      1.00      1.00        39\n",
      "\n",
      "   micro avg       1.00      1.00      1.00       105\n",
      "   macro avg       1.00      1.00      1.00       105\n",
      "weighted avg       1.00      1.00      1.00       105\n",
      "\n"
     ]
    }
   ],
   "source": [
    "#GradientBoostingClassifier\n",
    "from sklearn.ensemble import GradientBoostingClassifier\n",
    "gbc=GradientBoostingClassifier(random_state=23)\n",
    "gbc.fit(X_train,y_train)\n",
    "#Prediction\n",
    "y_pred_1 =gbc.predict(X_test)\n",
    "y_pred_2 = gbc.predict(X_train)\n",
    "print(\"****** report on test data********************************\")\n",
    "print(accuracy_score(y_pred_1,y_test))\n",
    "print(confusion_matrix(y_pred_1,y_test))\n",
    "print(classification_report(y_pred_1,y_test))\n",
    "print(\"****** report on train  data********************************\")\n",
    "print(accuracy_score(y_pred_2,y_train))\n",
    "print(confusion_matrix(y_pred_2,y_train))\n",
    "print(classification_report(y_pred_2,y_train))\n"
   ]
  },
  {
   "cell_type": "code",
   "execution_count": 67,
   "metadata": {},
   "outputs": [
    {
     "name": "stdout",
     "output_type": "stream",
     "text": [
      "****** report on test data********************************\n",
      "0.9777777777777777\n",
      "[[16  0  0]\n",
      " [ 0 17  0]\n",
      " [ 0  1 11]]\n",
      "              precision    recall  f1-score   support\n",
      "\n",
      "      setosa       1.00      1.00      1.00        16\n",
      "  versicolor       0.94      1.00      0.97        17\n",
      "   virginica       1.00      0.92      0.96        12\n",
      "\n",
      "   micro avg       0.98      0.98      0.98        45\n",
      "   macro avg       0.98      0.97      0.98        45\n",
      "weighted avg       0.98      0.98      0.98        45\n",
      "\n",
      "****** report on train  data********************************\n",
      "1.0\n",
      "[[34  0  0]\n",
      " [ 0 32  0]\n",
      " [ 0  0 39]]\n",
      "              precision    recall  f1-score   support\n",
      "\n",
      "      setosa       1.00      1.00      1.00        34\n",
      "  versicolor       1.00      1.00      1.00        32\n",
      "   virginica       1.00      1.00      1.00        39\n",
      "\n",
      "   micro avg       1.00      1.00      1.00       105\n",
      "   macro avg       1.00      1.00      1.00       105\n",
      "weighted avg       1.00      1.00      1.00       105\n",
      "\n"
     ]
    },
    {
     "name": "stderr",
     "output_type": "stream",
     "text": [
      "c:\\users\\hp\\appdata\\local\\programs\\python\\python36\\lib\\site-packages\\sklearn\\ensemble\\forest.py:246: FutureWarning: The default value of n_estimators will change from 10 in version 0.20 to 100 in 0.22.\n",
      "  \"10 in version 0.20 to 100 in 0.22.\", FutureWarning)\n"
     ]
    }
   ],
   "source": [
    "#ExtraTreesClassifier\n",
    "from sklearn.ensemble import ExtraTreesClassifier\n",
    "model= ExtraTreesClassifier()\n",
    "model.fit(X_train,y_train)\n",
    "#Prediction\n",
    "y_pred_1 =model.predict(X_test)\n",
    "y_pred_2 = model.predict(X_train)\n",
    "print(\"****** report on test data********************************\")\n",
    "print(accuracy_score(y_pred_1,y_test))\n",
    "print(confusion_matrix(y_pred_1,y_test))\n",
    "print(classification_report(y_pred_1,y_test))\n",
    "print(\"****** report on train  data********************************\")\n",
    "print(accuracy_score(y_pred_2,y_train))\n",
    "print(confusion_matrix(y_pred_2,y_train))\n",
    "print(classification_report(y_pred_2,y_train))\n"
   ]
  },
  {
   "cell_type": "code",
   "execution_count": 68,
   "metadata": {},
   "outputs": [
    {
     "name": "stdout",
     "output_type": "stream",
     "text": [
      "****** report on test data********************************\n",
      "0.9777777777777777\n",
      "[[16  0  0]\n",
      " [ 0 17  0]\n",
      " [ 0  1 11]]\n",
      "              precision    recall  f1-score   support\n",
      "\n",
      "      setosa       1.00      1.00      1.00        16\n",
      "  versicolor       0.94      1.00      0.97        17\n",
      "   virginica       1.00      0.92      0.96        12\n",
      "\n",
      "   micro avg       0.98      0.98      0.98        45\n",
      "   macro avg       0.98      0.97      0.98        45\n",
      "weighted avg       0.98      0.98      0.98        45\n",
      "\n",
      "****** report on train  data********************************\n",
      "0.9904761904761905\n",
      "[[34  0  0]\n",
      " [ 0 32  1]\n",
      " [ 0  0 38]]\n",
      "              precision    recall  f1-score   support\n",
      "\n",
      "      setosa       1.00      1.00      1.00        34\n",
      "  versicolor       1.00      0.97      0.98        33\n",
      "   virginica       0.97      1.00      0.99        38\n",
      "\n",
      "   micro avg       0.99      0.99      0.99       105\n",
      "   macro avg       0.99      0.99      0.99       105\n",
      "weighted avg       0.99      0.99      0.99       105\n",
      "\n"
     ]
    }
   ],
   "source": [
    "#BaggingClassifier\n",
    "from sklearn.ensemble import BaggingClassifier\n",
    "bac= BaggingClassifier(random_state=13)\n",
    "bac.fit(X_train,y_train)\n",
    "#Prediction\n",
    "y_pred_1 =bac.predict(X_test)\n",
    "y_pred_2 = bac.predict(X_train)\n",
    "print(\"****** report on test data********************************\")\n",
    "print(accuracy_score(y_pred_1,y_test))\n",
    "print(confusion_matrix(y_pred_1,y_test))\n",
    "print(classification_report(y_pred_1,y_test))\n",
    "print(\"****** report on train  data********************************\")\n",
    "print(accuracy_score(y_pred_2,y_train))\n",
    "print(confusion_matrix(y_pred_2,y_train))\n",
    "print(classification_report(y_pred_2,y_train))"
   ]
  },
  {
   "cell_type": "code",
   "execution_count": null,
   "metadata": {},
   "outputs": [],
   "source": [
    "#before executing install do__  #pip3 install xgboost\n",
    "#XGBoostClassifier\n",
    "from xgboost import XGBoostClassifier\n",
    "model= XGBClassifier(random_state=13)\n",
    "model.fit(X_train,y_train)\n",
    "#Prediction\n",
    "y_pred_1=model.predict(X_test)\n",
    "y_pred_2 = model.predict(X_train)\n",
    "print(\"****** report on test data********************************\")\n",
    "print(accuracy_score(y_pred_1,y_test))\n",
    "print(confusion_matrix(y_pred_1,y_test))\n",
    "print(classification_report(y_pred_1,y_test))\n",
    "print(\"****** report on train  data********************************\")\n",
    "print(accuracy_score(y_pred_2,y_train))\n",
    "print(confusion_matrix(y_pred_2,y_train))\n",
    "print(classification_report(y_pred_2,y_train))"
   ]
  },
  {
   "cell_type": "code",
   "execution_count": 69,
   "metadata": {},
   "outputs": [
    {
     "name": "stdout",
     "output_type": "stream",
     "text": [
      "****** report on test data********************************\n",
      "1.0\n",
      "[[16  0  0]\n",
      " [ 0 18  0]\n",
      " [ 0  0 11]]\n",
      "              precision    recall  f1-score   support\n",
      "\n",
      "      setosa       1.00      1.00      1.00        16\n",
      "  versicolor       1.00      1.00      1.00        18\n",
      "   virginica       1.00      1.00      1.00        11\n",
      "\n",
      "   micro avg       1.00      1.00      1.00        45\n",
      "   macro avg       1.00      1.00      1.00        45\n",
      "weighted avg       1.00      1.00      1.00        45\n",
      "\n",
      "****** report on train  data********************************\n",
      "0.9428571428571428\n",
      "[[34  0  0]\n",
      " [ 0 29  3]\n",
      " [ 0  3 36]]\n",
      "              precision    recall  f1-score   support\n",
      "\n",
      "      setosa       1.00      1.00      1.00        34\n",
      "  versicolor       0.91      0.91      0.91        32\n",
      "   virginica       0.92      0.92      0.92        39\n",
      "\n",
      "   micro avg       0.94      0.94      0.94       105\n",
      "   macro avg       0.94      0.94      0.94       105\n",
      "weighted avg       0.94      0.94      0.94       105\n",
      "\n"
     ]
    }
   ],
   "source": [
    "#GaussianNB\n",
    "from sklearn.naive_bayes import GaussianNB\n",
    "model=GaussianNB()\n",
    "model.fit(X_train,y_train)\n",
    "#Prediction\n",
    "y_pred_1 = model.predict(X_test)\n",
    "y_pred_2 = model.predict(X_train)\n",
    "print(\"****** report on test data********************************\")\n",
    "print(accuracy_score(y_pred_1,y_test))\n",
    "print(confusion_matrix(y_pred_1,y_test))\n",
    "print(classification_report(y_pred_1,y_test))\n",
    "print(\"****** report on train  data********************************\")\n",
    "print(accuracy_score(y_pred_2,y_train))\n",
    "print(confusion_matrix(y_pred_2,y_train))\n",
    "print(classification_report(y_pred_2,y_train))\n",
    "\n"
   ]
  },
  {
   "cell_type": "code",
   "execution_count": null,
   "metadata": {},
   "outputs": [],
   "source": [
    "#MultinomialNB\n",
    "from sklearn.naive_bayes import MultinomialNB\n",
    "model=MultinomialNB()\n",
    "model.fit(X_train,y_train)\n",
    "#Prediction\n",
    "y_pred_1 = model.predict(X_test)\n",
    "y_pred_2 = model.predict(X_train)\n",
    "print(\"****** report on test data********************************\")\n",
    "print(accuracy_score(y_pred_1,y_test))\n",
    "print(confusion_matrix(y_pred_1,y_test))\n",
    "print(classification_report(y_pred_1,y_test))\n",
    "print(\"****** report on train  data********************************\")\n",
    "print(accuracy_score(y_pred_2,y_train))\n",
    "print(confusion_matrix(y_pred_2,y_train))\n",
    "print(classification_report(y_pred_2,y_train))\n",
    "##################for mutinomial naive bayes independent variablees must be non negative#####################"
   ]
  },
  {
   "cell_type": "code",
   "execution_count": 73,
   "metadata": {},
   "outputs": [
    {
     "name": "stdout",
     "output_type": "stream",
     "text": [
      "4.3\n",
      "2.0\n",
      "1.0\n",
      "0.1\n"
     ]
    }
   ],
   "source": [
    "print(X[\"sepal_length\"].min())\n",
    "print(X[\"sepal_width\"].min())\n",
    "print(X[\"petal_length\"].min())\n",
    "print(X[\"petal_width\"].min())"
   ]
  },
  {
   "cell_type": "code",
   "execution_count": 74,
   "metadata": {},
   "outputs": [
    {
     "name": "stdout",
     "output_type": "stream",
     "text": [
      "****** report on test data********************************\n",
      "0.9111111111111111\n",
      "[[16  0  0]\n",
      " [ 0 17  3]\n",
      " [ 0  1  8]]\n",
      "              precision    recall  f1-score   support\n",
      "\n",
      "      setosa       1.00      1.00      1.00        16\n",
      "  versicolor       0.94      0.85      0.89        20\n",
      "   virginica       0.73      0.89      0.80         9\n",
      "\n",
      "   micro avg       0.91      0.91      0.91        45\n",
      "   macro avg       0.89      0.91      0.90        45\n",
      "weighted avg       0.92      0.91      0.91        45\n",
      "\n",
      "****** report on train  data********************************\n",
      "0.9619047619047619\n",
      "[[34  0  0]\n",
      " [ 0 31  3]\n",
      " [ 0  1 36]]\n",
      "              precision    recall  f1-score   support\n",
      "\n",
      "      setosa       1.00      1.00      1.00        34\n",
      "  versicolor       0.97      0.91      0.94        34\n",
      "   virginica       0.92      0.97      0.95        37\n",
      "\n",
      "   micro avg       0.96      0.96      0.96       105\n",
      "   macro avg       0.96      0.96      0.96       105\n",
      "weighted avg       0.96      0.96      0.96       105\n",
      "\n"
     ]
    }
   ],
   "source": [
    "#AdaBoostClassifier\n",
    "from sklearn.ensemble import  AdaBoostClassifier\n",
    "model=AdaBoostClassifier()\n",
    "model.fit(X_train,y_train)\n",
    "#Prediction\n",
    "y_pred_1 = model.predict(X_test)\n",
    "y_pred_2 = model.predict(X_train)\n",
    "print(\"****** report on test data********************************\")\n",
    "print(accuracy_score(y_pred_1,y_test))\n",
    "print(confusion_matrix(y_pred_1,y_test))\n",
    "print(classification_report(y_pred_1,y_test))\n",
    "print(\"****** report on train  data********************************\")\n",
    "print(accuracy_score(y_pred_2,y_train))\n",
    "print(confusion_matrix(y_pred_2,y_train))\n",
    "print(classification_report(y_pred_2,y_train))\n"
   ]
  },
  {
   "cell_type": "code",
   "execution_count": 75,
   "metadata": {},
   "outputs": [
    {
     "name": "stdout",
     "output_type": "stream",
     "text": [
      "****** report on test data********************************\n",
      "0.9777777777777777\n",
      "[[16  0  0]\n",
      " [ 0 17  0]\n",
      " [ 0  1 11]]\n",
      "              precision    recall  f1-score   support\n",
      "\n",
      "      setosa       1.00      1.00      1.00        16\n",
      "  versicolor       0.94      1.00      0.97        17\n",
      "   virginica       1.00      0.92      0.96        12\n",
      "\n",
      "   micro avg       0.98      0.98      0.98        45\n",
      "   macro avg       0.98      0.97      0.98        45\n",
      "weighted avg       0.98      0.98      0.98        45\n",
      "\n",
      "****** report on train  data********************************\n",
      "0.9809523809523809\n",
      "[[34  0  0]\n",
      " [ 0 31  1]\n",
      " [ 0  1 38]]\n",
      "              precision    recall  f1-score   support\n",
      "\n",
      "      setosa       1.00      1.00      1.00        34\n",
      "  versicolor       0.97      0.97      0.97        32\n",
      "   virginica       0.97      0.97      0.97        39\n",
      "\n",
      "   micro avg       0.98      0.98      0.98       105\n",
      "   macro avg       0.98      0.98      0.98       105\n",
      "weighted avg       0.98      0.98      0.98       105\n",
      "\n"
     ]
    }
   ],
   "source": [
    "#LinearDiscriminantAnalysis\n",
    "from sklearn.metrics import accuracy_score,classification_report,confusion_matrix\n",
    "from sklearn.discriminant_analysis import LinearDiscriminantAnalysis\n",
    "model=LinearDiscriminantAnalysis()\n",
    "model.fit(X_train,y_train)\n",
    "#Prediction\n",
    "y_pred_1 = model.predict(X_test)\n",
    "y_pred_2 = model.predict(X_train)\n",
    "print(\"****** report on test data********************************\")\n",
    "print(accuracy_score(y_pred_1,y_test))\n",
    "print(confusion_matrix(y_pred_1,y_test))\n",
    "print(classification_report(y_pred_1,y_test))\n",
    "print(\"****** report on train  data********************************\")\n",
    "print(accuracy_score(y_pred_2,y_train))\n",
    "print(confusion_matrix(y_pred_2,y_train))\n",
    "print(classification_report(y_pred_2,y_train))"
   ]
  },
  {
   "cell_type": "code",
   "execution_count": 76,
   "metadata": {},
   "outputs": [
    {
     "name": "stdout",
     "output_type": "stream",
     "text": [
      "****** report on test data********************************\n",
      "0.9777777777777777\n",
      "[[16  0  0]\n",
      " [ 0 17  0]\n",
      " [ 0  1 11]]\n",
      "              precision    recall  f1-score   support\n",
      "\n",
      "      setosa       1.00      1.00      1.00        16\n",
      "  versicolor       0.94      1.00      0.97        17\n",
      "   virginica       1.00      0.92      0.96        12\n",
      "\n",
      "   micro avg       0.98      0.98      0.98        45\n",
      "   macro avg       0.98      0.97      0.98        45\n",
      "weighted avg       0.98      0.98      0.98        45\n",
      "\n",
      "****** report on train  data********************************\n",
      "0.9904761904761905\n",
      "[[34  0  0]\n",
      " [ 0 31  0]\n",
      " [ 0  1 39]]\n",
      "              precision    recall  f1-score   support\n",
      "\n",
      "      setosa       1.00      1.00      1.00        34\n",
      "  versicolor       0.97      1.00      0.98        31\n",
      "   virginica       1.00      0.97      0.99        40\n",
      "\n",
      "   micro avg       0.99      0.99      0.99       105\n",
      "   macro avg       0.99      0.99      0.99       105\n",
      "weighted avg       0.99      0.99      0.99       105\n",
      "\n"
     ]
    }
   ],
   "source": [
    "#QuadraticDiscriminantAnalysis\n",
    "from sklearn.discriminant_analysis import QuadraticDiscriminantAnalysis\n",
    "model=QuadraticDiscriminantAnalysis()\n",
    "model.fit(X_train,y_train)\n",
    "#Prediction\n",
    "y_pred_1 = model.predict(X_test)\n",
    "y_pred_2 = model.predict(X_train)\n",
    "print(\"****** report on test data********************************\")\n",
    "print(accuracy_score(y_pred_1,y_test))\n",
    "print(confusion_matrix(y_pred_1,y_test))\n",
    "print(classification_report(y_pred_1,y_test))\n",
    "print(\"****** report on train  data********************************\")\n",
    "print(accuracy_score(y_pred_2,y_train))\n",
    "print(confusion_matrix(y_pred_2,y_train))\n",
    "print(classification_report(y_pred_2,y_train))"
   ]
  },
  {
   "cell_type": "code",
   "execution_count": 77,
   "metadata": {},
   "outputs": [
    {
     "name": "stdout",
     "output_type": "stream",
     "text": [
      "****** report on test data********************************\n",
      "0.9777777777777777\n",
      "[[16  0  0]\n",
      " [ 0 17  0]\n",
      " [ 0  1 11]]\n",
      "              precision    recall  f1-score   support\n",
      "\n",
      "      setosa       1.00      1.00      1.00        16\n",
      "  versicolor       0.94      1.00      0.97        17\n",
      "   virginica       1.00      0.92      0.96        12\n",
      "\n",
      "   micro avg       0.98      0.98      0.98        45\n",
      "   macro avg       0.98      0.97      0.98        45\n",
      "weighted avg       0.98      0.98      0.98        45\n",
      "\n",
      "****** report on train  data********************************\n",
      "0.9714285714285714\n",
      "[[34  0  0]\n",
      " [ 0 31  2]\n",
      " [ 0  1 37]]\n",
      "              precision    recall  f1-score   support\n",
      "\n",
      "      setosa       1.00      1.00      1.00        34\n",
      "  versicolor       0.97      0.94      0.95        33\n",
      "   virginica       0.95      0.97      0.96        38\n",
      "\n",
      "   micro avg       0.97      0.97      0.97       105\n",
      "   macro avg       0.97      0.97      0.97       105\n",
      "weighted avg       0.97      0.97      0.97       105\n",
      "\n"
     ]
    }
   ],
   "source": [
    "#KNeighborsClassifier\n",
    "from sklearn.neighbors import KNeighborsClassifier\n",
    "model = KNeighborsClassifier()\n",
    "model.fit(X_train,y_train)\n",
    "#Prediction\n",
    "y_pred_1=model.predict(X_test)\n",
    "y_pred_2 = model.predict(X_train)\n",
    "print(\"****** report on test data********************************\")\n",
    "print(accuracy_score(y_pred_1,y_test))\n",
    "print(confusion_matrix(y_pred_1,y_test))\n",
    "print(classification_report(y_pred_1,y_test))\n",
    "print(\"****** report on train  data********************************\")\n",
    "print(accuracy_score(y_pred_2,y_train))\n",
    "print(confusion_matrix(y_pred_2,y_train))\n",
    "print(classification_report(y_pred_2,y_train))\n",
    "\n"
   ]
  },
  {
   "cell_type": "code",
   "execution_count": 78,
   "metadata": {},
   "outputs": [
    {
     "name": "stdout",
     "output_type": "stream",
     "text": [
      "****** report on test data********************************\n",
      "0.8\n",
      "[[16  0  0]\n",
      " [ 0 10  1]\n",
      " [ 0  8 10]]\n",
      "              precision    recall  f1-score   support\n",
      "\n",
      "      setosa       1.00      1.00      1.00        16\n",
      "  versicolor       0.56      0.91      0.69        11\n",
      "   virginica       0.91      0.56      0.69        18\n",
      "\n",
      "   micro avg       0.80      0.80      0.80        45\n",
      "   macro avg       0.82      0.82      0.79        45\n",
      "weighted avg       0.85      0.80      0.80        45\n",
      "\n",
      "****** report on train  data********************************\n",
      "0.8857142857142857\n",
      "[[33  0  0]\n",
      " [ 1 23  2]\n",
      " [ 0  9 37]]\n",
      "              precision    recall  f1-score   support\n",
      "\n",
      "      setosa       0.97      1.00      0.99        33\n",
      "  versicolor       0.72      0.88      0.79        26\n",
      "   virginica       0.95      0.80      0.87        46\n",
      "\n",
      "   micro avg       0.89      0.89      0.89       105\n",
      "   macro avg       0.88      0.90      0.88       105\n",
      "weighted avg       0.90      0.89      0.89       105\n",
      "\n"
     ]
    },
    {
     "name": "stderr",
     "output_type": "stream",
     "text": [
      "c:\\users\\hp\\appdata\\local\\programs\\python\\python36\\lib\\site-packages\\sklearn\\linear_model\\stochastic_gradient.py:166: FutureWarning: max_iter and tol parameters have been added in SGDClassifier in 0.19. If both are left unset, they default to max_iter=5 and tol=None. If tol is not None, max_iter defaults to max_iter=1000. From 0.21, default max_iter will be 1000, and default tol will be 1e-3.\n",
      "  FutureWarning)\n"
     ]
    }
   ],
   "source": [
    "#SGDClassifier\n",
    "from sklearn.linear_model import SGDClassifier\n",
    "model = SGDClassifier()\n",
    "model.fit(X_train,y_train)\n",
    "#Prediction\n",
    "y_pred_1=model.predict(X_test)\n",
    "y_pred_2 = model.predict(X_train)\n",
    "print(\"****** report on test data********************************\")\n",
    "print(accuracy_score(y_pred_1,y_test))\n",
    "print(confusion_matrix(y_pred_1,y_test))\n",
    "print(classification_report(y_pred_1,y_test))\n",
    "print(\"****** report on train  data********************************\")\n",
    "print(accuracy_score(y_pred_2,y_train))\n",
    "print(confusion_matrix(y_pred_2,y_train))\n",
    "print(classification_report(y_pred_2,y_train))"
   ]
  },
  {
   "cell_type": "code",
   "execution_count": 80,
   "metadata": {},
   "outputs": [],
   "source": [
    "##################################### Visualising the results  #################################\n",
    "\n",
    "## I classified my independent variables based on dependent variables using Logistic regression  ##"
   ]
  },
  {
   "cell_type": "code",
   "execution_count": 190,
   "metadata": {},
   "outputs": [
    {
     "data": {
      "text/plain": [
       "LogisticRegression(C=100000.0, class_weight=None, dual=False,\n",
       "          fit_intercept=True, intercept_scaling=1, max_iter=100,\n",
       "          multi_class='multinomial', n_jobs=None, penalty='l2',\n",
       "          random_state=None, solver='lbfgs', tol=0.0001, verbose=0,\n",
       "          warm_start=False)"
      ]
     },
     "execution_count": 190,
     "metadata": {},
     "output_type": "execute_result"
    }
   ],
   "source": [
    "# import some data to play with\n",
    "import numpy as np\n",
    "import matplotlib.pyplot as plt\n",
    "from sklearn.linear_model import LogisticRegression\n",
    "from sklearn import datasets\n",
    "\n",
    "# import some data to play with\n",
    "iris = datasets.load_iris()\n",
    "X = iris.data[:, :2]  # we only take the first two features.\n",
    "Y = iris.target\n",
    "\n",
    "\n",
    "logreg = LogisticRegression(C=1e5, solver='lbfgs', multi_class='multinomial')\n",
    "\n",
    "# Create an instance of Logistic Regression Classifier and fit the data.\n",
    "logreg.fit(X, Y)\n",
    "\n"
   ]
  },
  {
   "cell_type": "code",
   "execution_count": 191,
   "metadata": {},
   "outputs": [
    {
     "data": {
      "image/png": "[encoded data removed]",
      "text/plain": [
       "<Figure size 720x432 with 1 Axes>"
      ]
     },
     "metadata": {},
     "output_type": "display_data"
    }
   ],
   "source": [
    "# Plot the decision boundary. For that, we will assign a color to each\n",
    "# point in the mesh [x_min, x_max]x[y_min, y_max].\n",
    "x_min, x_max = X[:, 0].min() - .5, X[:, 0].max() + .5\n",
    "y_min, y_max = X[:, 1].min() - .5, X[:, 1].max() + .5\n",
    "h = .02  # step size in the mesh\n",
    "xx, yy = np.meshgrid(np.arange(x_min, x_max, h), np.arange(y_min, y_max, h))\n",
    "Z = logreg.predict(np.c_[xx.ravel(), yy.ravel()])\n",
    "\n",
    "# Put the result into a color plot\n",
    "Z = Z.reshape(xx.shape)\n",
    "plt.figure(1, figsize=(10, 6))\n",
    "plt.pcolormesh(xx, yy, Z, cmap=plt.cm.Paired)\n",
    "\n",
    "# Plot also the training points\n",
    "plt.scatter(X[:, 0], X[:, 1], c=Y, edgecolors='k', cmap=plt.cm.Paired)\n",
    "plt.xlabel('Sepal length')\n",
    "plt.ylabel('Sepal width')\n",
    "\n",
    "plt.xlim(xx.min(), xx.max())\n",
    "plt.ylim(yy.min(), yy.max())\n",
    "plt.xticks(())\n",
    "plt.yticks(())\n",
    "\n",
    "plt.show()"
   ]
  },
  {
   "cell_type": "markdown",
   "metadata": {},
   "source": [
    "observations: \n",
    "____________ from the plot ,we can say that setosa flower  classified correctly based on sepal length and sepal width ,\n",
    "    \n",
    "                but my versicolor and verginica classified but not that much(merged)\n",
    "    \n",
    "Homework \n",
    "__________ Try to improve it by using different algorirhms"
   ]
  },
  {
   "cell_type": "code",
   "execution_count": 111,
   "metadata": {},
   "outputs": [],
   "source": [
    "##### ################## Bonus : Dimensionality reduction  #################################"
   ]
  },
  {
   "cell_type": "code",
   "execution_count": null,
   "metadata": {},
   "outputs": [],
   "source": [
    "#I reduced my four dimension to 2 dimension by using pca\n",
    "#Home work _  try it on lda and kernel pca and tsne"
   ]
  },
  {
   "cell_type": "code",
   "execution_count": 157,
   "metadata": {},
   "outputs": [],
   "source": [
    "# Importing the dataset\n",
    "dataset = pd.read_csv('C:\\\\Users\\\\HP\\\\Desktop\\\\ML DATASETS\\\\iris.csv')\n",
    "dataset[\"sepal_length\"].fillna(dataset[\"sepal_length\"].median(skipna=True), inplace=True)\n",
    "X = dataset.iloc[:, 0:4].values\n",
    "y = dataset.iloc[:, 4].values\n",
    "from sklearn.preprocessing import LabelEncoder\n",
    "label=LabelEncoder()\n",
    "y=label.fit_transform(y)\n",
    "# Splitting the dataset into the Training set and Test set\n",
    "from sklearn.model_selection import train_test_split\n",
    "X_train, X_test, y_train, y_test = train_test_split(X, y, test_size = 0.2, random_state = 0)"
   ]
  },
  {
   "cell_type": "code",
   "execution_count": 159,
   "metadata": {},
   "outputs": [],
   "source": [
    "# Feature Scaling\n",
    "from sklearn.preprocessing import StandardScaler\n",
    "sc = StandardScaler()\n",
    "X_train = sc.fit_transform(X_train)\n",
    "X_test = sc.transform(X_test)\n"
   ]
  },
  {
   "cell_type": "code",
   "execution_count": 161,
   "metadata": {},
   "outputs": [
    {
     "name": "stdout",
     "output_type": "stream",
     "text": [
      "(120, 2)\n",
      "(30, 2)\n",
      "(120,)\n",
      "(30,)\n"
     ]
    }
   ],
   "source": [
    "# Applying PCA\n",
    "from sklearn.decomposition import PCA\n",
    "pca = PCA(n_components = 2)\n",
    "X_train = pca.fit_transform(X_train)\n",
    "X_test = pca.transform(X_test)\n",
    "print(X_train.shape)\n",
    "print(X_test.shape)\n",
    "print(y_train.shape)\n",
    "print(y_test.shape)"
   ]
  },
  {
   "cell_type": "code",
   "execution_count": 162,
   "metadata": {},
   "outputs": [
    {
     "name": "stderr",
     "output_type": "stream",
     "text": [
      "c:\\users\\hp\\appdata\\local\\programs\\python\\python36\\lib\\site-packages\\sklearn\\linear_model\\logistic.py:433: FutureWarning: Default solver will be changed to 'lbfgs' in 0.22. Specify a solver to silence this warning.\n",
      "  FutureWarning)\n",
      "c:\\users\\hp\\appdata\\local\\programs\\python\\python36\\lib\\site-packages\\sklearn\\linear_model\\logistic.py:460: FutureWarning: Default multi_class will be changed to 'auto' in 0.22. Specify the multi_class option to silence this warning.\n",
      "  \"this warning.\", FutureWarning)\n"
     ]
    },
    {
     "data": {
      "text/plain": [
       "LogisticRegression(C=1.0, class_weight=None, dual=False, fit_intercept=True,\n",
       "          intercept_scaling=1, max_iter=100, multi_class='warn',\n",
       "          n_jobs=None, penalty='l2', random_state=0, solver='warn',\n",
       "          tol=0.0001, verbose=0, warm_start=False)"
      ]
     },
     "execution_count": 162,
     "metadata": {},
     "output_type": "execute_result"
    }
   ],
   "source": [
    "# Fitting Logistic Regression to the Training set\n",
    "from sklearn.linear_model import LogisticRegression\n",
    "classifier = LogisticRegression(random_state = 0)\n",
    "classifier.fit(X_train, y_train)"
   ]
  },
  {
   "cell_type": "code",
   "execution_count": 163,
   "metadata": {},
   "outputs": [],
   "source": [
    "# Predicting the Test set results\n",
    "y_pred = classifier.predict(X_test)\n",
    "y_pred_2=classifier.predict(X_train)"
   ]
  },
  {
   "cell_type": "code",
   "execution_count": 164,
   "metadata": {},
   "outputs": [
    {
     "name": "stdout",
     "output_type": "stream",
     "text": [
      "0.8333333333333334\n",
      "              precision    recall  f1-score   support\n",
      "\n",
      "           0       1.00      1.00      1.00        11\n",
      "           1       0.62      1.00      0.76         8\n",
      "           2       1.00      0.55      0.71        11\n",
      "\n",
      "   micro avg       0.83      0.83      0.83        30\n",
      "   macro avg       0.87      0.85      0.82        30\n",
      "weighted avg       0.90      0.83      0.83        30\n",
      "\n"
     ]
    },
    {
     "data": {
      "image/png": "[encoded data removed]",
      "text/plain": [
       "<Figure size 432x288 with 2 Axes>"
      ]
     },
     "metadata": {},
     "output_type": "display_data"
    }
   ],
   "source": [
    "# Making the Classification report on test data\n",
    "from sklearn.metrics import confusion_matrix\n",
    "cm = confusion_matrix(y_test, y_pred)\n",
    "sns.heatmap(cm,annot=True,linewidths=.5)\n",
    "print(accuracy_score(y_pred,y_test))\n",
    "print(classification_report(y_pred,y_test))"
   ]
  },
  {
   "cell_type": "code",
   "execution_count": 165,
   "metadata": {},
   "outputs": [
    {
     "data": {
      "text/plain": [
       "(120,)"
      ]
     },
     "execution_count": 165,
     "metadata": {},
     "output_type": "execute_result"
    }
   ],
   "source": [
    "y_pred_2.shape"
   ]
  },
  {
   "cell_type": "code",
   "execution_count": 166,
   "metadata": {},
   "outputs": [
    {
     "name": "stdout",
     "output_type": "stream",
     "text": [
      "0.8666666666666667\n",
      "              precision    recall  f1-score   support\n",
      "\n",
      "           0       1.00      1.00      1.00        39\n",
      "           1       0.65      0.89      0.75        27\n",
      "           2       0.93      0.76      0.84        54\n",
      "\n",
      "   micro avg       0.87      0.87      0.87       120\n",
      "   macro avg       0.86      0.88      0.86       120\n",
      "weighted avg       0.89      0.87      0.87       120\n",
      "\n"
     ]
    },
    {
     "data": {
      "image/png": "[encoded data removed]",
      "text/plain": [
       "<Figure size 432x288 with 2 Axes>"
      ]
     },
     "metadata": {},
     "output_type": "display_data"
    }
   ],
   "source": [
    "# Making the Classification report on train data\n",
    "from sklearn.metrics import confusion_matrix\n",
    "cm = confusion_matrix(y_pred_2,y_train)\n",
    "sns.heatmap(cm,annot=True,linewidths=.5)\n",
    "print(accuracy_score(y_pred_2,y_train))\n",
    "print(classification_report(y_pred_2,y_train))"
   ]
  },
  {
   "cell_type": "code",
   "execution_count": 167,
   "metadata": {},
   "outputs": [
    {
     "data": {
      "text/plain": [
       "array([2, 1, 0, 2, 2, 1, 0, 1, 1, 1, 2, 0, 2, 0, 0, 1, 2, 2, 2, 2, 1, 2,\n",
       "       1, 1, 2, 2, 2, 2, 1, 2, 1, 0, 2, 1, 1, 1, 1, 2, 0, 0, 2, 1, 0, 0,\n",
       "       1, 0, 2, 1, 0, 1, 2, 1, 0, 2, 2, 2, 2, 0, 0, 2, 2, 0, 2, 0, 2, 2,\n",
       "       0, 0, 2, 0, 0, 0, 1, 2, 2, 0, 0, 0, 1, 1, 0, 0, 1, 0, 2, 1, 2, 1,\n",
       "       0, 2, 0, 2, 0, 0, 2, 0, 2, 1, 1, 1, 2, 2, 1, 1, 0, 1, 2, 2, 0, 1,\n",
       "       1, 1, 1, 0, 0, 0, 2, 1, 2, 0])"
      ]
     },
     "execution_count": 167,
     "metadata": {},
     "output_type": "execute_result"
    }
   ],
   "source": [
    "y_train"
   ]
  },
  {
   "cell_type": "code",
   "execution_count": 168,
   "metadata": {},
   "outputs": [
    {
     "name": "stderr",
     "output_type": "stream",
     "text": [
      "'c' argument looks like a single numeric RGB or RGBA sequence, which should be avoided as value-mapping will have precedence in case its length matches with 'x' & 'y'.  Please use a 2-D array with a single row if you really want to specify the same RGB or RGBA value for all points.\n",
      "'c' argument looks like a single numeric RGB or RGBA sequence, which should be avoided as value-mapping will have precedence in case its length matches with 'x' & 'y'.  Please use a 2-D array with a single row if you really want to specify the same RGB or RGBA value for all points.\n",
      "'c' argument looks like a single numeric RGB or RGBA sequence, which should be avoided as value-mapping will have precedence in case its length matches with 'x' & 'y'.  Please use a 2-D array with a single row if you really want to specify the same RGB or RGBA value for all points.\n"
     ]
    },
    {
     "data": {
      "image/png": "[encoded data removed]",
      "text/plain": [
       "<Figure size 432x288 with 1 Axes>"
      ]
     },
     "metadata": {},
     "output_type": "display_data"
    }
   ],
   "source": [
    "# Visualising the Training set results\n",
    "from matplotlib.colors import ListedColormap\n",
    "X_set, y_set = X_train, y_train\n",
    "X1, X2 = np.meshgrid(np.arange(start = X_set[:, 0].min() - 1, stop = X_set[:, 0].max() + 1, step = 0.01),\n",
    "                     np.arange(start = X_set[:, 1].min() - 1, stop = X_set[:, 1].max() + 1, step = 0.01))\n",
    "plt.contourf(X1, X2, classifier.predict(np.array([X1.ravel(), X2.ravel()]).T).reshape(X1.shape),\n",
    "             alpha = 0.75, cmap = ListedColormap(('red', 'green', 'blue')))\n",
    "plt.xlim(X1.min(), X1.max())\n",
    "plt.ylim(X2.min(), X2.max())\n",
    "for i, j in enumerate(np.unique(y_set)):\n",
    "    plt.scatter(X_set[y_set == j, 0], X_set[y_set == j, 1],\n",
    "                c = ListedColormap(('red', 'green', 'blue'))(i), label = j)\n",
    "plt.title('Logistic Regression (Training set)')\n",
    "plt.xlabel('PC1')\n",
    "plt.ylabel('PC2')\n",
    "plt.legend()\n",
    "plt.show()\n",
    "\n"
   ]
  },
  {
   "cell_type": "code",
   "execution_count": 169,
   "metadata": {},
   "outputs": [
    {
     "name": "stderr",
     "output_type": "stream",
     "text": [
      "'c' argument looks like a single numeric RGB or RGBA sequence, which should be avoided as value-mapping will have precedence in case its length matches with 'x' & 'y'.  Please use a 2-D array with a single row if you really want to specify the same RGB or RGBA value for all points.\n",
      "'c' argument looks like a single numeric RGB or RGBA sequence, which should be avoided as value-mapping will have precedence in case its length matches with 'x' & 'y'.  Please use a 2-D array with a single row if you really want to specify the same RGB or RGBA value for all points.\n",
      "'c' argument looks like a single numeric RGB or RGBA sequence, which should be avoided as value-mapping will have precedence in case its length matches with 'x' & 'y'.  Please use a 2-D array with a single row if you really want to specify the same RGB or RGBA value for all points.\n"
     ]
    },
    {
     "data": {
      "image/png": "[encoded data removed]",
      "text/plain": [
       "<Figure size 432x288 with 1 Axes>"
      ]
     },
     "metadata": {},
     "output_type": "display_data"
    }
   ],
   "source": [
    "# Visualising the Test set results\n",
    "from matplotlib.colors import ListedColormap\n",
    "X_set, y_set = X_test, y_test\n",
    "X1, X2 = np.meshgrid(np.arange(start = X_set[:, 0].min() - 1, stop = X_set[:, 0].max() + 1, step = 0.01),\n",
    "                     np.arange(start = X_set[:, 1].min() - 1, stop = X_set[:, 1].max() + 1, step = 0.01))\n",
    "plt.contourf(X1, X2, classifier.predict(np.array([X1.ravel(), X2.ravel()]).T).reshape(X1.shape),\n",
    "             alpha = 0.75, cmap = ListedColormap(('red', 'green', 'blue')))\n",
    "plt.xlim(X1.min(), X1.max())\n",
    "plt.ylim(X2.min(), X2.max())\n",
    "for i, j in enumerate(np.unique(y_set)):\n",
    "    plt.scatter(X_set[y_set == j, 0], X_set[y_set == j, 1],\n",
    "                c = ListedColormap(('red', 'green', 'blue'))(i), label = j)\n",
    "plt.title('Logistic Regression (Test set)')\n",
    "plt.xlabel('PC1')\n",
    "plt.ylabel('PC2')\n",
    "plt.legend()\n",
    "plt.show()"
   ]
  },
  {
   "cell_type": "markdown",
   "metadata": {},
   "source": [
    "REPORT :\n",
    "-------------\n",
    "Decision tree classifer: Accuracy on Test  and  Train data : 0.97 and 1\n",
    "\n",
    "Random Forest classifer: Accuracy on Test  and  Train data : 0.97 and 1\n",
    "\n",
    "SVC classifer: Accuracy on Test  and  Train data : 0.97 and 0.97\n",
    "\n",
    "Logistic Regression : Accuracy on Test  and  Train data : 0.82 and 0.87\n",
    "\n",
    "Gradient boost classifer: Accuracy on Test  and  Train data : 0.97 and 1\n",
    "\n",
    "Extra tree classifer: Accuracy on Test  and  Train data : 0.97 and 1\n",
    "\n",
    "Bagging classifer: Accuracy on Test  and  Train data : 0.97 and 0.99\n",
    "\n",
    "Gaussian naive bays classifer: Accuracy on Test  and  Train data : 1 and 0.94\n",
    "\n",
    "ADA boost classifer: Accuracy on Test  and  Train data : 0.91 and 0.95\n",
    "\n",
    "Linear discremenent analysis: Accuracy on Test  and  Train data : 0.97 and 0.98\n",
    "\n",
    "Quadratic  discremenent analysis: Accuracy on Test  and  Train data : 0.97 and 0.99\n",
    "\n",
    "KNN classifer: Accuracy on Test  and  Train data : 0.97 and 0.97\n",
    "\n",
    "Stochastic gradient decent classifer: Accuracy on Test  and  Train data : 0.8 and 0.88\n",
    "\n",
    "XG Boost classifer: Accuracy on Test  and  Train data : (pip install XGboost)\n",
    "\n",
    "Multinomial naive bays classifer: Accuracy on Test  and  Train data : (non positive error solve it)\n"
   ]
  },
  {
   "cell_type": "markdown",
   "metadata": {},
   "source": [
    "#feature selection\n",
    "\n",
    "your petal width showing more impact on your species\n",
    "\n",
    "and then petal length\n",
    "\n",
    "and then sepal width\n",
    "\n",
    "and then sepal length"
   ]
  },
  {
   "cell_type": "markdown",
   "metadata": {},
   "source": [
    "#                                 All CLUSTERING Algorithams on iris dataset"
   ]
  },
  {
   "cell_type": "code",
   "execution_count": 240,
   "metadata": {},
   "outputs": [],
   "source": [
    "import numpy as np\n",
    "import pandas as pd\n",
    "import matplotlib.pyplot as plt"
   ]
  },
  {
   "cell_type": "code",
   "execution_count": 241,
   "metadata": {},
   "outputs": [],
   "source": [
    "#Reading data from CSV file\n",
    "data= pd.read_csv(\"C:\\\\Users\\\\HP\\\\Desktop\\\\ML DATASETS\\\\iris.csv\")"
   ]
  },
  {
   "cell_type": "code",
   "execution_count": 247,
   "metadata": {},
   "outputs": [],
   "source": [
    "#Defining data and label\n",
    "X=data.iloc[:,0:4].values\n",
    "#y_iris=data.iloc[:,4]\n",
    "data[\"sepal_length\"].fillna(data[\"sepal_length\"].median(skipna=True), inplace=True)"
   ]
  },
  {
   "cell_type": "code",
   "execution_count": 248,
   "metadata": {},
   "outputs": [],
   "source": [
    "#*************************K_MEANS CLUSTERING*************************************************888"
   ]
  },
  {
   "cell_type": "code",
   "execution_count": 249,
   "metadata": {},
   "outputs": [
    {
     "data": {
      "image/png": "[encoded data removed]",
      "text/plain": [
       "<Figure size 432x288 with 1 Axes>"
      ]
     },
     "metadata": {},
     "output_type": "display_data"
    }
   ],
   "source": [
    "# Using the elbow method to find the optimal number of clusters\n",
    "from sklearn.cluster import KMeans\n",
    "wcss = []\n",
    "for i in range(1, 11):\n",
    "    kmeans = KMeans(n_clusters = i, init = 'k-means++', random_state = 42)\n",
    "    kmeans.fit(X)\n",
    "    wcss.append(kmeans.inertia_)\n",
    "plt.plot(range(1, 11), wcss)\n",
    "plt.title('The Elbow Method')\n",
    "plt.xlabel('Number of clusters')\n",
    "plt.ylabel('WCSS')\n",
    "plt.show()"
   ]
  },
  {
   "cell_type": "code",
   "execution_count": 250,
   "metadata": {},
   "outputs": [],
   "source": [
    "# Fitting K-Means to the dataset\n",
    "kmeans = KMeans(n_clusters = 3, init = 'k-means++', random_state = 42)\n",
    "y_kmeans = kmeans.fit_predict(X)"
   ]
  },
  {
   "cell_type": "code",
   "execution_count": 251,
   "metadata": {},
   "outputs": [
    {
     "data": {
      "text/plain": [
       "1.0"
      ]
     },
     "execution_count": 251,
     "metadata": {},
     "output_type": "execute_result"
    }
   ],
   "source": [
    "from sklearn.metrics import accuracy_score\n",
    "accuracy_score(y_kmeans,kmeans.labels_)"
   ]
  },
  {
   "cell_type": "code",
   "execution_count": 252,
   "metadata": {},
   "outputs": [
    {
     "data": {
      "image/png": "[encoded data removed]",
      "text/plain": [
       "<Figure size 432x288 with 1 Axes>"
      ]
     },
     "metadata": {},
     "output_type": "display_data"
    }
   ],
   "source": [
    "# Visualising the clusters\n",
    "plt.scatter(X[y_kmeans == 0, 0], X[y_kmeans == 0, 1], s = 100, c = 'red', label = 'setosa')\n",
    "plt.scatter(X[y_kmeans == 1, 0], X[y_kmeans == 1, 1], s = 100, c = 'blue', label = 'versicolor')\n",
    "plt.scatter(X[y_kmeans == 2, 0], X[y_kmeans == 2, 1], s = 100, c = 'green', label = 'verginica')\n",
    "plt.scatter(kmeans.cluster_centers_[:, 0], kmeans.cluster_centers_[:, 1], s = 300, c = 'yellow', label = 'Centroids')\n",
    "plt.title('Clusters of flowers')\n",
    "plt.xlabel('Sepal length')\n",
    "plt.ylabel('Sepal width')\n",
    "plt.legend()\n",
    "plt.show()"
   ]
  },
  {
   "cell_type": "code",
   "execution_count": 253,
   "metadata": {},
   "outputs": [],
   "source": [
    "#******************END OF K_MEANS*************************************"
   ]
  },
  {
   "cell_type": "code",
   "execution_count": 254,
   "metadata": {},
   "outputs": [],
   "source": [
    "#*********************Hierarchy Clustering*********************************"
   ]
  },
  {
   "cell_type": "code",
   "execution_count": 255,
   "metadata": {},
   "outputs": [
    {
     "data": {
      "image/png": "[encoded data removed]",
      "text/plain": [
       "<Figure size 432x288 with 1 Axes>"
      ]
     },
     "metadata": {},
     "output_type": "display_data"
    }
   ],
   "source": [
    "# Using the dendrogram to find the optimal number of clusters\n",
    "import scipy.cluster.hierarchy as sch\n",
    "dendrogram = sch.dendrogram(sch.linkage(X, method = 'ward'))\n",
    "plt.title('Dendrogram')\n",
    "plt.xlabel('Customers')\n",
    "plt.ylabel('Euclidean distances')\n",
    "plt.show()"
   ]
  },
  {
   "cell_type": "code",
   "execution_count": 256,
   "metadata": {},
   "outputs": [],
   "source": [
    "# Fitting Hierarchical Clustering to the dataset\n",
    "from sklearn.cluster import AgglomerativeClustering\n",
    "hc = AgglomerativeClustering(n_clusters = 3, affinity = 'euclidean', linkage = 'ward')\n",
    "y_hc = hc.fit_predict(X)"
   ]
  },
  {
   "cell_type": "code",
   "execution_count": 257,
   "metadata": {},
   "outputs": [
    {
     "data": {
      "text/plain": [
       "1.0"
      ]
     },
     "execution_count": 257,
     "metadata": {},
     "output_type": "execute_result"
    }
   ],
   "source": [
    "from sklearn.metrics import accuracy_score\n",
    "accuracy_score(y_hc,hc.labels_)"
   ]
  },
  {
   "cell_type": "code",
   "execution_count": 258,
   "metadata": {},
   "outputs": [
    {
     "data": {
      "image/png": "[encoded data removed]",
      "text/plain": [
       "<Figure size 432x288 with 1 Axes>"
      ]
     },
     "metadata": {},
     "output_type": "display_data"
    }
   ],
   "source": [
    "# Visualising the clusters\n",
    "plt.scatter(X[y_hc == 0, 0], X[y_hc == 0, 1], s = 100, c = 'red', label = 'setosa')\n",
    "plt.scatter(X[y_hc == 1, 0], X[y_hc == 1, 1], s = 100, c = 'blue', label = 'versicolor')\n",
    "plt.scatter(X[y_hc == 2, 0], X[y_hc == 2, 1], s = 100, c = 'green', label = 'verginica')\n",
    "plt.title('Clusters of Flowers')\n",
    "plt.xlabel('Sepal length')\n",
    "plt.ylabel('Sepal width')\n",
    "plt.legend()\n",
    "plt.show()"
   ]
  },
  {
   "cell_type": "code",
   "execution_count": 259,
   "metadata": {},
   "outputs": [],
   "source": [
    "#*********************End of Hierarchy Clustering*********"
   ]
  },
  {
   "cell_type": "code",
   "execution_count": null,
   "metadata": {},
   "outputs": [],
   "source": [
    "#finally if you are finding any mistakes, rectify those"
   ]
  },
  {
   "cell_type": "code",
   "execution_count": 1,
   "metadata": {},
   "outputs": [],
   "source": [
    "#****************************  Thank You  **************************************88"
   ]
  },
  {
   "cell_type": "code",
   "execution_count": null,
   "metadata": {},
   "outputs": [],
   "source": []
  }
 ],
 "metadata": {
  "kernelspec": {
   "display_name": "Python 3",
   "language": "python",
   "name": "python3"
  },
  "language_info": {
   "codemirror_mode": {
    "name": "ipython",
    "version": 3
   },
   "file_extension": ".py",
   "mimetype": "text/x-python",
   "name": "python",
   "nbconvert_exporter": "python",
   "pygments_lexer": "ipython3",
   "version": "3.6.3rc1"
  }
 },
 "nbformat": 4,
 "nbformat_minor": 2
}
