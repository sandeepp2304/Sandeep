{
 "cells": [
  {
   "cell_type": "markdown",
   "metadata": {},
   "source": [
    "# Amazon Fine Food Reviews \n",
    "\n",
    "\n",
    "Data Source: https://www.kaggle.com/snap/amazon-fine-food-reviews\n",
    "\n",
    "The Amazon Fine Food Reviews dataset consists of reviews of fine foods from Amazon.<br>\n",
    "\n",
    "Number of reviews: 568,454<br>\n",
    "Number of users: 256,059<br>\n",
    "Number of products: 74,258<br>\n",
    "Timespan: Oct 1999 - Oct 2012<br>\n",
    "Number of Attributes/Columns in data: 10 \n",
    "\n",
    "Attribute Information:\n",
    "\n",
    "1. Id\n",
    "2. ProductId - unique identifier for the product\n",
    "3. UserId - unqiue identifier for the user\n",
    "4. ProfileName\n",
    "5. HelpfulnessNumerator - number of users who found the review helpful\n",
    "6. HelpfulnessDenominator - number of users who indicated whether they found the review helpful or not\n",
    "7. Score - rating between 1 and 5\n",
    "8. Time - timestamp for the review"
   ]
  },
  {
   "cell_type": "code",
   "execution_count": 1,
   "metadata": {},
   "outputs": [],
   "source": [
    "#Import the packages\n",
    "import numpy as np\n",
    "import pandas as pd\n",
    "import matplotlib.pyplot as plt\n",
    "import seaborn as sns"
   ]
  },
  {
   "cell_type": "code",
   "execution_count": 2,
   "metadata": {},
   "outputs": [],
   "source": [
    "#Read the file\n",
    "data=pd.read_csv(\"C:\\\\Users\\\\HP\\\\Downloads\\\\amazon-fine-food-reviews\\\\Reviews.csv\")\n"
   ]
  },
  {
   "cell_type": "code",
   "execution_count": 3,
   "metadata": {},
   "outputs": [
    {
     "name": "stdout",
     "output_type": "stream",
     "text": [
      "Id                         int64\n",
      "ProductId                 object\n",
      "UserId                    object\n",
      "ProfileName               object\n",
      "HelpfulnessNumerator       int64\n",
      "HelpfulnessDenominator     int64\n",
      "Score                      int64\n",
      "Time                       int64\n",
      "Summary                   object\n",
      "Text                      object\n",
      "dtype: object\n",
      "There are 5 categorical variables\n",
      "There are 5 numerical variables\n",
      "    ProductId          UserId                      ProfileName  \\\n",
      "0  B001E4KFG0  A3SGXH7AUHU8GW                       delmartian   \n",
      "1  B00813GRG4  A1D87F6ZCVE5NK                           dll pa   \n",
      "2  B000LQOCH0   ABXLMWJIXXAIN  Natalia Corres \"Natalia Corres\"   \n",
      "3  B000UA0QIQ  A395BORC6FGVXV                             Karl   \n",
      "4  B006K2ZZ7K  A1UQRSCLF8GW1T    Michael D. Bigham \"M. Wassir\"   \n",
      "\n",
      "                 Summary                                               Text  \n",
      "0  Good Quality Dog Food  I have bought several of the Vitality canned d...  \n",
      "1      Not as Advertised  Product arrived labeled as Jumbo Salted Peanut...  \n",
      "2  \"Delight\" says it all  This is a confection that has been around a fe...  \n",
      "3         Cough Medicine  If you are looking for the secret ingredient i...  \n",
      "4            Great taffy  Great taffy at a great price.  There was a wid...  \n",
      "   Id  HelpfulnessNumerator  HelpfulnessDenominator  Score        Time\n",
      "0   1                     1                       1      5  1303862400\n",
      "1   2                     0                       0      1  1346976000\n",
      "2   3                     1                       1      4  1219017600\n",
      "3   4                     3                       3      2  1307923200\n",
      "4   5                     0                       0      5  1350777600\n"
     ]
    }
   ],
   "source": [
    "#find type\n",
    "print(data.dtypes)\n",
    "# find categorical variables\n",
    "categorical = [var for var in data.columns if data[var].dtype=='O']\n",
    "print('There are {} categorical variables'.format(len(categorical)))\n",
    "# find numerical variables\n",
    "numerical = [var for var in data.columns if data[var].dtype!='O']\n",
    "print('There are {} numerical variables'.format(len(numerical)))\n",
    "# view of categorical variables\n",
    "print(data[categorical].head())\n",
    "# view of numerical variables\n",
    "print(data[numerical].head())"
   ]
  },
  {
   "cell_type": "code",
   "execution_count": 4,
   "metadata": {},
   "outputs": [
    {
     "name": "stdout",
     "output_type": "stream",
     "text": [
      "<class 'pandas.core.frame.DataFrame'>\n",
      "RangeIndex: 568454 entries, 0 to 568453\n",
      "Data columns (total 10 columns):\n",
      "Id                        568454 non-null int64\n",
      "ProductId                 568454 non-null object\n",
      "UserId                    568454 non-null object\n",
      "ProfileName               568438 non-null object\n",
      "HelpfulnessNumerator      568454 non-null int64\n",
      "HelpfulnessDenominator    568454 non-null int64\n",
      "Score                     568454 non-null int64\n",
      "Time                      568454 non-null int64\n",
      "Summary                   568427 non-null object\n",
      "Text                      568454 non-null object\n",
      "dtypes: int64(5), object(5)\n",
      "memory usage: 43.4+ MB\n"
     ]
    }
   ],
   "source": [
    "data.info()"
   ]
  },
  {
   "cell_type": "code",
   "execution_count": 5,
   "metadata": {},
   "outputs": [
    {
     "data": {
      "text/html": [
       "<div>\n",
       "<style scoped>\n",
       "    .dataframe tbody tr th:only-of-type {\n",
       "        vertical-align: middle;\n",
       "    }\n",
       "\n",
       "    .dataframe tbody tr th {\n",
       "        vertical-align: top;\n",
       "    }\n",
       "\n",
       "    .dataframe thead th {\n",
       "        text-align: right;\n",
       "    }\n",
       "</style>\n",
       "<table border=\"1\" class=\"dataframe\">\n",
       "  <thead>\n",
       "    <tr style=\"text-align: right;\">\n",
       "      <th></th>\n",
       "      <th>Id</th>\n",
       "      <th>HelpfulnessNumerator</th>\n",
       "      <th>HelpfulnessDenominator</th>\n",
       "      <th>Score</th>\n",
       "      <th>Time</th>\n",
       "    </tr>\n",
       "  </thead>\n",
       "  <tbody>\n",
       "    <tr>\n",
       "      <th>count</th>\n",
       "      <td>568454.000000</td>\n",
       "      <td>568454.000000</td>\n",
       "      <td>568454.00000</td>\n",
       "      <td>568454.000000</td>\n",
       "      <td>5.684540e+05</td>\n",
       "    </tr>\n",
       "    <tr>\n",
       "      <th>mean</th>\n",
       "      <td>284227.500000</td>\n",
       "      <td>1.743817</td>\n",
       "      <td>2.22881</td>\n",
       "      <td>4.183199</td>\n",
       "      <td>1.296257e+09</td>\n",
       "    </tr>\n",
       "    <tr>\n",
       "      <th>std</th>\n",
       "      <td>164098.679298</td>\n",
       "      <td>7.636513</td>\n",
       "      <td>8.28974</td>\n",
       "      <td>1.310436</td>\n",
       "      <td>4.804331e+07</td>\n",
       "    </tr>\n",
       "    <tr>\n",
       "      <th>min</th>\n",
       "      <td>1.000000</td>\n",
       "      <td>0.000000</td>\n",
       "      <td>0.00000</td>\n",
       "      <td>1.000000</td>\n",
       "      <td>9.393408e+08</td>\n",
       "    </tr>\n",
       "    <tr>\n",
       "      <th>25%</th>\n",
       "      <td>142114.250000</td>\n",
       "      <td>0.000000</td>\n",
       "      <td>0.00000</td>\n",
       "      <td>4.000000</td>\n",
       "      <td>1.271290e+09</td>\n",
       "    </tr>\n",
       "    <tr>\n",
       "      <th>50%</th>\n",
       "      <td>284227.500000</td>\n",
       "      <td>0.000000</td>\n",
       "      <td>1.00000</td>\n",
       "      <td>5.000000</td>\n",
       "      <td>1.311120e+09</td>\n",
       "    </tr>\n",
       "    <tr>\n",
       "      <th>75%</th>\n",
       "      <td>426340.750000</td>\n",
       "      <td>2.000000</td>\n",
       "      <td>2.00000</td>\n",
       "      <td>5.000000</td>\n",
       "      <td>1.332720e+09</td>\n",
       "    </tr>\n",
       "    <tr>\n",
       "      <th>max</th>\n",
       "      <td>568454.000000</td>\n",
       "      <td>866.000000</td>\n",
       "      <td>923.00000</td>\n",
       "      <td>5.000000</td>\n",
       "      <td>1.351210e+09</td>\n",
       "    </tr>\n",
       "  </tbody>\n",
       "</table>\n",
       "</div>"
      ],
      "text/plain": [
       "                  Id  HelpfulnessNumerator  HelpfulnessDenominator  \\\n",
       "count  568454.000000         568454.000000            568454.00000   \n",
       "mean   284227.500000              1.743817                 2.22881   \n",
       "std    164098.679298              7.636513                 8.28974   \n",
       "min         1.000000              0.000000                 0.00000   \n",
       "25%    142114.250000              0.000000                 0.00000   \n",
       "50%    284227.500000              0.000000                 1.00000   \n",
       "75%    426340.750000              2.000000                 2.00000   \n",
       "max    568454.000000            866.000000               923.00000   \n",
       "\n",
       "               Score          Time  \n",
       "count  568454.000000  5.684540e+05  \n",
       "mean        4.183199  1.296257e+09  \n",
       "std         1.310436  4.804331e+07  \n",
       "min         1.000000  9.393408e+08  \n",
       "25%         4.000000  1.271290e+09  \n",
       "50%         5.000000  1.311120e+09  \n",
       "75%         5.000000  1.332720e+09  \n",
       "max         5.000000  1.351210e+09  "
      ]
     },
     "execution_count": 5,
     "metadata": {},
     "output_type": "execute_result"
    }
   ],
   "source": [
    "data.describe()"
   ]
  },
  {
   "cell_type": "code",
   "execution_count": 6,
   "metadata": {},
   "outputs": [
    {
     "data": {
      "text/html": [
       "<div>\n",
       "<style scoped>\n",
       "    .dataframe tbody tr th:only-of-type {\n",
       "        vertical-align: middle;\n",
       "    }\n",
       "\n",
       "    .dataframe tbody tr th {\n",
       "        vertical-align: top;\n",
       "    }\n",
       "\n",
       "    .dataframe thead th {\n",
       "        text-align: right;\n",
       "    }\n",
       "</style>\n",
       "<table border=\"1\" class=\"dataframe\">\n",
       "  <thead>\n",
       "    <tr style=\"text-align: right;\">\n",
       "      <th></th>\n",
       "      <th>Id</th>\n",
       "      <th>ProductId</th>\n",
       "      <th>UserId</th>\n",
       "      <th>ProfileName</th>\n",
       "      <th>HelpfulnessNumerator</th>\n",
       "      <th>HelpfulnessDenominator</th>\n",
       "      <th>Score</th>\n",
       "      <th>Time</th>\n",
       "      <th>Summary</th>\n",
       "      <th>Text</th>\n",
       "    </tr>\n",
       "  </thead>\n",
       "  <tbody>\n",
       "    <tr>\n",
       "      <th>0</th>\n",
       "      <td>1</td>\n",
       "      <td>B001E4KFG0</td>\n",
       "      <td>A3SGXH7AUHU8GW</td>\n",
       "      <td>delmartian</td>\n",
       "      <td>1</td>\n",
       "      <td>1</td>\n",
       "      <td>5</td>\n",
       "      <td>1303862400</td>\n",
       "      <td>Good Quality Dog Food</td>\n",
       "      <td>I have bought several of the Vitality canned d...</td>\n",
       "    </tr>\n",
       "    <tr>\n",
       "      <th>1</th>\n",
       "      <td>2</td>\n",
       "      <td>B00813GRG4</td>\n",
       "      <td>A1D87F6ZCVE5NK</td>\n",
       "      <td>dll pa</td>\n",
       "      <td>0</td>\n",
       "      <td>0</td>\n",
       "      <td>1</td>\n",
       "      <td>1346976000</td>\n",
       "      <td>Not as Advertised</td>\n",
       "      <td>Product arrived labeled as Jumbo Salted Peanut...</td>\n",
       "    </tr>\n",
       "    <tr>\n",
       "      <th>2</th>\n",
       "      <td>3</td>\n",
       "      <td>B000LQOCH0</td>\n",
       "      <td>ABXLMWJIXXAIN</td>\n",
       "      <td>Natalia Corres \"Natalia Corres\"</td>\n",
       "      <td>1</td>\n",
       "      <td>1</td>\n",
       "      <td>4</td>\n",
       "      <td>1219017600</td>\n",
       "      <td>\"Delight\" says it all</td>\n",
       "      <td>This is a confection that has been around a fe...</td>\n",
       "    </tr>\n",
       "    <tr>\n",
       "      <th>3</th>\n",
       "      <td>4</td>\n",
       "      <td>B000UA0QIQ</td>\n",
       "      <td>A395BORC6FGVXV</td>\n",
       "      <td>Karl</td>\n",
       "      <td>3</td>\n",
       "      <td>3</td>\n",
       "      <td>2</td>\n",
       "      <td>1307923200</td>\n",
       "      <td>Cough Medicine</td>\n",
       "      <td>If you are looking for the secret ingredient i...</td>\n",
       "    </tr>\n",
       "    <tr>\n",
       "      <th>4</th>\n",
       "      <td>5</td>\n",
       "      <td>B006K2ZZ7K</td>\n",
       "      <td>A1UQRSCLF8GW1T</td>\n",
       "      <td>Michael D. Bigham \"M. Wassir\"</td>\n",
       "      <td>0</td>\n",
       "      <td>0</td>\n",
       "      <td>5</td>\n",
       "      <td>1350777600</td>\n",
       "      <td>Great taffy</td>\n",
       "      <td>Great taffy at a great price.  There was a wid...</td>\n",
       "    </tr>\n",
       "  </tbody>\n",
       "</table>\n",
       "</div>"
      ],
      "text/plain": [
       "   Id   ProductId          UserId                      ProfileName  \\\n",
       "0   1  B001E4KFG0  A3SGXH7AUHU8GW                       delmartian   \n",
       "1   2  B00813GRG4  A1D87F6ZCVE5NK                           dll pa   \n",
       "2   3  B000LQOCH0   ABXLMWJIXXAIN  Natalia Corres \"Natalia Corres\"   \n",
       "3   4  B000UA0QIQ  A395BORC6FGVXV                             Karl   \n",
       "4   5  B006K2ZZ7K  A1UQRSCLF8GW1T    Michael D. Bigham \"M. Wassir\"   \n",
       "\n",
       "   HelpfulnessNumerator  HelpfulnessDenominator  Score        Time  \\\n",
       "0                     1                       1      5  1303862400   \n",
       "1                     0                       0      1  1346976000   \n",
       "2                     1                       1      4  1219017600   \n",
       "3                     3                       3      2  1307923200   \n",
       "4                     0                       0      5  1350777600   \n",
       "\n",
       "                 Summary                                               Text  \n",
       "0  Good Quality Dog Food  I have bought several of the Vitality canned d...  \n",
       "1      Not as Advertised  Product arrived labeled as Jumbo Salted Peanut...  \n",
       "2  \"Delight\" says it all  This is a confection that has been around a fe...  \n",
       "3         Cough Medicine  If you are looking for the secret ingredient i...  \n",
       "4            Great taffy  Great taffy at a great price.  There was a wid...  "
      ]
     },
     "execution_count": 6,
     "metadata": {},
     "output_type": "execute_result"
    }
   ],
   "source": [
    "data.head()"
   ]
  },
  {
   "cell_type": "code",
   "execution_count": 7,
   "metadata": {},
   "outputs": [
    {
     "data": {
      "text/plain": [
       "Index(['Id', 'ProductId', 'UserId', 'ProfileName', 'HelpfulnessNumerator',\n",
       "       'HelpfulnessDenominator', 'Score', 'Time', 'Summary', 'Text'],\n",
       "      dtype='object')"
      ]
     },
     "execution_count": 7,
     "metadata": {},
     "output_type": "execute_result"
    }
   ],
   "source": [
    "data.columns"
   ]
  },
  {
   "cell_type": "code",
   "execution_count": 8,
   "metadata": {},
   "outputs": [
    {
     "data": {
      "text/plain": [
       "(568454, 10)"
      ]
     },
     "execution_count": 8,
     "metadata": {},
     "output_type": "execute_result"
    }
   ],
   "source": [
    "data.shape"
   ]
  },
  {
   "cell_type": "code",
   "execution_count": 9,
   "metadata": {},
   "outputs": [
    {
     "data": {
      "text/plain": [
       "Id                         0\n",
       "ProductId                  0\n",
       "UserId                     0\n",
       "ProfileName               16\n",
       "HelpfulnessNumerator       0\n",
       "HelpfulnessDenominator     0\n",
       "Score                      0\n",
       "Time                       0\n",
       "Summary                   27\n",
       "Text                       0\n",
       "dtype: int64"
      ]
     },
     "execution_count": 9,
     "metadata": {},
     "output_type": "execute_result"
    }
   ],
   "source": [
    "#check missing values\n",
    "data.isna().sum()"
   ]
  },
  {
   "cell_type": "code",
   "execution_count": 10,
   "metadata": {},
   "outputs": [],
   "source": [
    "#drop all rows that have any NaN values\n",
    "data=data.dropna()     "
   ]
  },
  {
   "cell_type": "code",
   "execution_count": 11,
   "metadata": {},
   "outputs": [
    {
     "data": {
      "text/plain": [
       "(568411, 10)"
      ]
     },
     "execution_count": 11,
     "metadata": {},
     "output_type": "execute_result"
    }
   ],
   "source": [
    "#shape\n",
    "data.shape"
   ]
  },
  {
   "cell_type": "code",
   "execution_count": 12,
   "metadata": {},
   "outputs": [
    {
     "data": {
      "text/html": [
       "<div>\n",
       "<style scoped>\n",
       "    .dataframe tbody tr th:only-of-type {\n",
       "        vertical-align: middle;\n",
       "    }\n",
       "\n",
       "    .dataframe tbody tr th {\n",
       "        vertical-align: top;\n",
       "    }\n",
       "\n",
       "    .dataframe thead th {\n",
       "        text-align: right;\n",
       "    }\n",
       "</style>\n",
       "<table border=\"1\" class=\"dataframe\">\n",
       "  <thead>\n",
       "    <tr style=\"text-align: right;\">\n",
       "      <th></th>\n",
       "      <th>Id</th>\n",
       "      <th>ProductId</th>\n",
       "      <th>UserId</th>\n",
       "      <th>ProfileName</th>\n",
       "      <th>HelpfulnessNumerator</th>\n",
       "      <th>HelpfulnessDenominator</th>\n",
       "      <th>Score</th>\n",
       "      <th>Time</th>\n",
       "      <th>Summary</th>\n",
       "      <th>Text</th>\n",
       "    </tr>\n",
       "  </thead>\n",
       "  <tbody>\n",
       "    <tr>\n",
       "      <th>0</th>\n",
       "      <td>1</td>\n",
       "      <td>B001E4KFG0</td>\n",
       "      <td>A3SGXH7AUHU8GW</td>\n",
       "      <td>delmartian</td>\n",
       "      <td>1</td>\n",
       "      <td>1</td>\n",
       "      <td>5</td>\n",
       "      <td>1303862400</td>\n",
       "      <td>Good Quality Dog Food</td>\n",
       "      <td>I have bought several of the Vitality canned d...</td>\n",
       "    </tr>\n",
       "    <tr>\n",
       "      <th>1</th>\n",
       "      <td>2</td>\n",
       "      <td>B00813GRG4</td>\n",
       "      <td>A1D87F6ZCVE5NK</td>\n",
       "      <td>dll pa</td>\n",
       "      <td>0</td>\n",
       "      <td>0</td>\n",
       "      <td>1</td>\n",
       "      <td>1346976000</td>\n",
       "      <td>Not as Advertised</td>\n",
       "      <td>Product arrived labeled as Jumbo Salted Peanut...</td>\n",
       "    </tr>\n",
       "    <tr>\n",
       "      <th>2</th>\n",
       "      <td>3</td>\n",
       "      <td>B000LQOCH0</td>\n",
       "      <td>ABXLMWJIXXAIN</td>\n",
       "      <td>Natalia Corres \"Natalia Corres\"</td>\n",
       "      <td>1</td>\n",
       "      <td>1</td>\n",
       "      <td>4</td>\n",
       "      <td>1219017600</td>\n",
       "      <td>\"Delight\" says it all</td>\n",
       "      <td>This is a confection that has been around a fe...</td>\n",
       "    </tr>\n",
       "    <tr>\n",
       "      <th>3</th>\n",
       "      <td>4</td>\n",
       "      <td>B000UA0QIQ</td>\n",
       "      <td>A395BORC6FGVXV</td>\n",
       "      <td>Karl</td>\n",
       "      <td>3</td>\n",
       "      <td>3</td>\n",
       "      <td>2</td>\n",
       "      <td>1307923200</td>\n",
       "      <td>Cough Medicine</td>\n",
       "      <td>If you are looking for the secret ingredient i...</td>\n",
       "    </tr>\n",
       "    <tr>\n",
       "      <th>4</th>\n",
       "      <td>5</td>\n",
       "      <td>B006K2ZZ7K</td>\n",
       "      <td>A1UQRSCLF8GW1T</td>\n",
       "      <td>Michael D. Bigham \"M. Wassir\"</td>\n",
       "      <td>0</td>\n",
       "      <td>0</td>\n",
       "      <td>5</td>\n",
       "      <td>1350777600</td>\n",
       "      <td>Great taffy</td>\n",
       "      <td>Great taffy at a great price.  There was a wid...</td>\n",
       "    </tr>\n",
       "  </tbody>\n",
       "</table>\n",
       "</div>"
      ],
      "text/plain": [
       "   Id   ProductId          UserId                      ProfileName  \\\n",
       "0   1  B001E4KFG0  A3SGXH7AUHU8GW                       delmartian   \n",
       "1   2  B00813GRG4  A1D87F6ZCVE5NK                           dll pa   \n",
       "2   3  B000LQOCH0   ABXLMWJIXXAIN  Natalia Corres \"Natalia Corres\"   \n",
       "3   4  B000UA0QIQ  A395BORC6FGVXV                             Karl   \n",
       "4   5  B006K2ZZ7K  A1UQRSCLF8GW1T    Michael D. Bigham \"M. Wassir\"   \n",
       "\n",
       "   HelpfulnessNumerator  HelpfulnessDenominator  Score        Time  \\\n",
       "0                     1                       1      5  1303862400   \n",
       "1                     0                       0      1  1346976000   \n",
       "2                     1                       1      4  1219017600   \n",
       "3                     3                       3      2  1307923200   \n",
       "4                     0                       0      5  1350777600   \n",
       "\n",
       "                 Summary                                               Text  \n",
       "0  Good Quality Dog Food  I have bought several of the Vitality canned d...  \n",
       "1      Not as Advertised  Product arrived labeled as Jumbo Salted Peanut...  \n",
       "2  \"Delight\" says it all  This is a confection that has been around a fe...  \n",
       "3         Cough Medicine  If you are looking for the secret ingredient i...  \n",
       "4            Great taffy  Great taffy at a great price.  There was a wid...  "
      ]
     },
     "execution_count": 12,
     "metadata": {},
     "output_type": "execute_result"
    }
   ],
   "source": [
    "# Drop a row by condition\n",
    "data=data[data.Score != 3]\n",
    "data.head()"
   ]
  },
  {
   "cell_type": "code",
   "execution_count": 13,
   "metadata": {},
   "outputs": [
    {
     "data": {
      "text/plain": [
       "(525773, 10)"
      ]
     },
     "execution_count": 13,
     "metadata": {},
     "output_type": "execute_result"
    }
   ],
   "source": [
    "#shape\n",
    "data.shape"
   ]
  },
  {
   "cell_type": "code",
   "execution_count": 14,
   "metadata": {},
   "outputs": [
    {
     "data": {
      "text/html": [
       "<div>\n",
       "<style scoped>\n",
       "    .dataframe tbody tr th:only-of-type {\n",
       "        vertical-align: middle;\n",
       "    }\n",
       "\n",
       "    .dataframe tbody tr th {\n",
       "        vertical-align: top;\n",
       "    }\n",
       "\n",
       "    .dataframe thead th {\n",
       "        text-align: right;\n",
       "    }\n",
       "</style>\n",
       "<table border=\"1\" class=\"dataframe\">\n",
       "  <thead>\n",
       "    <tr style=\"text-align: right;\">\n",
       "      <th></th>\n",
       "      <th>Id</th>\n",
       "      <th>ProductId</th>\n",
       "      <th>UserId</th>\n",
       "      <th>ProfileName</th>\n",
       "      <th>HelpfulnessNumerator</th>\n",
       "      <th>HelpfulnessDenominator</th>\n",
       "      <th>Score</th>\n",
       "      <th>Time</th>\n",
       "      <th>Summary</th>\n",
       "      <th>Text</th>\n",
       "      <th>Positivity</th>\n",
       "    </tr>\n",
       "  </thead>\n",
       "  <tbody>\n",
       "    <tr>\n",
       "      <th>0</th>\n",
       "      <td>1</td>\n",
       "      <td>B001E4KFG0</td>\n",
       "      <td>A3SGXH7AUHU8GW</td>\n",
       "      <td>delmartian</td>\n",
       "      <td>1</td>\n",
       "      <td>1</td>\n",
       "      <td>5</td>\n",
       "      <td>1303862400</td>\n",
       "      <td>Good Quality Dog Food</td>\n",
       "      <td>I have bought several of the Vitality canned d...</td>\n",
       "      <td>1</td>\n",
       "    </tr>\n",
       "    <tr>\n",
       "      <th>1</th>\n",
       "      <td>2</td>\n",
       "      <td>B00813GRG4</td>\n",
       "      <td>A1D87F6ZCVE5NK</td>\n",
       "      <td>dll pa</td>\n",
       "      <td>0</td>\n",
       "      <td>0</td>\n",
       "      <td>1</td>\n",
       "      <td>1346976000</td>\n",
       "      <td>Not as Advertised</td>\n",
       "      <td>Product arrived labeled as Jumbo Salted Peanut...</td>\n",
       "      <td>0</td>\n",
       "    </tr>\n",
       "    <tr>\n",
       "      <th>2</th>\n",
       "      <td>3</td>\n",
       "      <td>B000LQOCH0</td>\n",
       "      <td>ABXLMWJIXXAIN</td>\n",
       "      <td>Natalia Corres \"Natalia Corres\"</td>\n",
       "      <td>1</td>\n",
       "      <td>1</td>\n",
       "      <td>4</td>\n",
       "      <td>1219017600</td>\n",
       "      <td>\"Delight\" says it all</td>\n",
       "      <td>This is a confection that has been around a fe...</td>\n",
       "      <td>1</td>\n",
       "    </tr>\n",
       "    <tr>\n",
       "      <th>3</th>\n",
       "      <td>4</td>\n",
       "      <td>B000UA0QIQ</td>\n",
       "      <td>A395BORC6FGVXV</td>\n",
       "      <td>Karl</td>\n",
       "      <td>3</td>\n",
       "      <td>3</td>\n",
       "      <td>2</td>\n",
       "      <td>1307923200</td>\n",
       "      <td>Cough Medicine</td>\n",
       "      <td>If you are looking for the secret ingredient i...</td>\n",
       "      <td>0</td>\n",
       "    </tr>\n",
       "    <tr>\n",
       "      <th>4</th>\n",
       "      <td>5</td>\n",
       "      <td>B006K2ZZ7K</td>\n",
       "      <td>A1UQRSCLF8GW1T</td>\n",
       "      <td>Michael D. Bigham \"M. Wassir\"</td>\n",
       "      <td>0</td>\n",
       "      <td>0</td>\n",
       "      <td>5</td>\n",
       "      <td>1350777600</td>\n",
       "      <td>Great taffy</td>\n",
       "      <td>Great taffy at a great price.  There was a wid...</td>\n",
       "      <td>1</td>\n",
       "    </tr>\n",
       "  </tbody>\n",
       "</table>\n",
       "</div>"
      ],
      "text/plain": [
       "   Id   ProductId          UserId                      ProfileName  \\\n",
       "0   1  B001E4KFG0  A3SGXH7AUHU8GW                       delmartian   \n",
       "1   2  B00813GRG4  A1D87F6ZCVE5NK                           dll pa   \n",
       "2   3  B000LQOCH0   ABXLMWJIXXAIN  Natalia Corres \"Natalia Corres\"   \n",
       "3   4  B000UA0QIQ  A395BORC6FGVXV                             Karl   \n",
       "4   5  B006K2ZZ7K  A1UQRSCLF8GW1T    Michael D. Bigham \"M. Wassir\"   \n",
       "\n",
       "   HelpfulnessNumerator  HelpfulnessDenominator  Score        Time  \\\n",
       "0                     1                       1      5  1303862400   \n",
       "1                     0                       0      1  1346976000   \n",
       "2                     1                       1      4  1219017600   \n",
       "3                     3                       3      2  1307923200   \n",
       "4                     0                       0      5  1350777600   \n",
       "\n",
       "                 Summary                                               Text  \\\n",
       "0  Good Quality Dog Food  I have bought several of the Vitality canned d...   \n",
       "1      Not as Advertised  Product arrived labeled as Jumbo Salted Peanut...   \n",
       "2  \"Delight\" says it all  This is a confection that has been around a fe...   \n",
       "3         Cough Medicine  If you are looking for the secret ingredient i...   \n",
       "4            Great taffy  Great taffy at a great price.  There was a wid...   \n",
       "\n",
       "   Positivity  \n",
       "0           1  \n",
       "1           0  \n",
       "2           1  \n",
       "3           0  \n",
       "4           1  "
      ]
     },
     "execution_count": 14,
     "metadata": {},
     "output_type": "execute_result"
    }
   ],
   "source": [
    "data['Positivity'] = np.where(data['Score'] > 3, 1, 0)\n",
    "data.head()"
   ]
  },
  {
   "cell_type": "code",
   "execution_count": 15,
   "metadata": {
    "scrolled": false
   },
   "outputs": [],
   "source": [
    "data=data.drop(\"Score\",axis=1)"
   ]
  },
  {
   "cell_type": "code",
   "execution_count": 16,
   "metadata": {},
   "outputs": [],
   "source": [
    "# neg_data = data[data['Positivity'] == 0][0:2500]\n",
    "# pos_data = data[data['Positivity'] == 1][0:2500]\n",
    "# sample_data = pd.concat([neg_data, pos_data])\n",
    "# data['Positivity'].value_counts()"
   ]
  },
  {
   "cell_type": "code",
   "execution_count": 17,
   "metadata": {},
   "outputs": [],
   "source": [
    "#Sorting data according to ProductId in ascending order\n",
    "sorted_data = data.sort_values('ProductId', axis=0, ascending=True, inplace=False, kind='quicksort', na_position='last')"
   ]
  },
  {
   "cell_type": "code",
   "execution_count": 18,
   "metadata": {},
   "outputs": [
    {
     "data": {
      "text/plain": [
       "(364161, 10)"
      ]
     },
     "execution_count": 18,
     "metadata": {},
     "output_type": "execute_result"
    }
   ],
   "source": [
    "#Deduplication of entries\n",
    "final = sorted_data.drop_duplicates(subset = {\"UserId\",\"ProfileName\",\"Time\",\"Text\"}, keep ='first', inplace=False)\n",
    "final.shape"
   ]
  },
  {
   "cell_type": "code",
   "execution_count": 19,
   "metadata": {},
   "outputs": [
    {
     "data": {
      "text/plain": [
       "(364159, 10)"
      ]
     },
     "execution_count": 19,
     "metadata": {},
     "output_type": "execute_result"
    }
   ],
   "source": [
    "#(HelpfulnessNumerator)/(HelpfulnessNumerator+HelpfulnessDenominator)>0 and if not remove\n",
    "final=final[final.HelpfulnessNumerator<=final.HelpfulnessDenominator]\n",
    "final.shape"
   ]
  },
  {
   "cell_type": "code",
   "execution_count": 20,
   "metadata": {},
   "outputs": [
    {
     "data": {
      "text/plain": [
       "1    307054\n",
       "0     57105\n",
       "Name: Positivity, dtype: int64"
      ]
     },
     "execution_count": 20,
     "metadata": {},
     "output_type": "execute_result"
    }
   ],
   "source": [
    "final['Positivity'].value_counts()"
   ]
  },
  {
   "cell_type": "code",
   "execution_count": 21,
   "metadata": {},
   "outputs": [
    {
     "data": {
      "text/plain": [
       "<matplotlib.axes._subplots.AxesSubplot at 0x5a31d91d30>"
      ]
     },
     "execution_count": 21,
     "metadata": {},
     "output_type": "execute_result"
    },
    {
     "data": {
      "image/png": "[encoded data removed]",
      "text/plain": [
       "<Figure size 432x288 with 1 Axes>"
      ]
     },
     "metadata": {
      "needs_background": "light"
     },
     "output_type": "display_data"
    }
   ],
   "source": [
    "sns.countplot(final['Positivity'])"
   ]
  },
  {
   "cell_type": "code",
   "execution_count": 22,
   "metadata": {},
   "outputs": [
    {
     "data": {
      "text/plain": [
       "69.2616395288461"
      ]
     },
     "execution_count": 22,
     "metadata": {},
     "output_type": "execute_result"
    }
   ],
   "source": [
    "#Checking to see how much % of data still remains\n",
    "(final['Id'].size*1.0)/(data['Id'].size*1.0)*100"
   ]
  },
  {
   "cell_type": "markdown",
   "metadata": {},
   "source": [
    "I removed 30% of data as wastage"
   ]
  },
  {
   "cell_type": "code",
   "execution_count": 23,
   "metadata": {},
   "outputs": [],
   "source": [
    "final=final[0:5000]"
   ]
  },
  {
   "cell_type": "code",
   "execution_count": 25,
   "metadata": {},
   "outputs": [
    {
     "data": {
      "text/plain": [
       "(5000, 10)"
      ]
     },
     "execution_count": 25,
     "metadata": {},
     "output_type": "execute_result"
    }
   ],
   "source": [
    "final.shape"
   ]
  },
  {
   "cell_type": "code",
   "execution_count": 26,
   "metadata": {},
   "outputs": [
    {
     "data": {
      "text/html": [
       "<div>\n",
       "<style scoped>\n",
       "    .dataframe tbody tr th:only-of-type {\n",
       "        vertical-align: middle;\n",
       "    }\n",
       "\n",
       "    .dataframe tbody tr th {\n",
       "        vertical-align: top;\n",
       "    }\n",
       "\n",
       "    .dataframe thead th {\n",
       "        text-align: right;\n",
       "    }\n",
       "</style>\n",
       "<table border=\"1\" class=\"dataframe\">\n",
       "  <thead>\n",
       "    <tr style=\"text-align: right;\">\n",
       "      <th></th>\n",
       "      <th>Id</th>\n",
       "      <th>ProductId</th>\n",
       "      <th>UserId</th>\n",
       "      <th>ProfileName</th>\n",
       "      <th>HelpfulnessNumerator</th>\n",
       "      <th>HelpfulnessDenominator</th>\n",
       "      <th>Time</th>\n",
       "      <th>Summary</th>\n",
       "      <th>Text</th>\n",
       "      <th>Positivity</th>\n",
       "    </tr>\n",
       "  </thead>\n",
       "  <tbody>\n",
       "    <tr>\n",
       "      <th>150522</th>\n",
       "      <td>150523</td>\n",
       "      <td>0006641040</td>\n",
       "      <td>A2P4F2UO0UMP8C</td>\n",
       "      <td>Elizabeth A. Curry \"Lovely Librarian\"</td>\n",
       "      <td>0</td>\n",
       "      <td>0</td>\n",
       "      <td>1096675200</td>\n",
       "      <td>MMMM chicken soup....</td>\n",
       "      <td>Summary:  A young boy describes the usefulness...</td>\n",
       "      <td>1</td>\n",
       "    </tr>\n",
       "    <tr>\n",
       "      <th>150503</th>\n",
       "      <td>150504</td>\n",
       "      <td>0006641040</td>\n",
       "      <td>AQEYF1AXARWJZ</td>\n",
       "      <td>Les Sinclair \"book maven\"</td>\n",
       "      <td>1</td>\n",
       "      <td>1</td>\n",
       "      <td>1212278400</td>\n",
       "      <td>Chicken Soup with Rice</td>\n",
       "      <td>A very entertaining rhyming story--cleaver and...</td>\n",
       "      <td>1</td>\n",
       "    </tr>\n",
       "    <tr>\n",
       "      <th>150504</th>\n",
       "      <td>150505</td>\n",
       "      <td>0006641040</td>\n",
       "      <td>A2PTSM496CF40Z</td>\n",
       "      <td>Jason A. Teeple \"Nobody made a greater mistak...</td>\n",
       "      <td>1</td>\n",
       "      <td>1</td>\n",
       "      <td>1210809600</td>\n",
       "      <td>A classic</td>\n",
       "      <td>Get the movie or sound track and sing along wi...</td>\n",
       "      <td>1</td>\n",
       "    </tr>\n",
       "    <tr>\n",
       "      <th>150505</th>\n",
       "      <td>150506</td>\n",
       "      <td>0006641040</td>\n",
       "      <td>A2IW4PEEKO2R0U</td>\n",
       "      <td>Tracy</td>\n",
       "      <td>1</td>\n",
       "      <td>1</td>\n",
       "      <td>1194739200</td>\n",
       "      <td>Love the book, miss the hard cover version</td>\n",
       "      <td>I grew up reading these Sendak books, and watc...</td>\n",
       "      <td>1</td>\n",
       "    </tr>\n",
       "    <tr>\n",
       "      <th>150506</th>\n",
       "      <td>150507</td>\n",
       "      <td>0006641040</td>\n",
       "      <td>A1S4A3IQ2MU7V4</td>\n",
       "      <td>sally sue \"sally sue\"</td>\n",
       "      <td>1</td>\n",
       "      <td>1</td>\n",
       "      <td>1191456000</td>\n",
       "      <td>chicken soup with rice months</td>\n",
       "      <td>This is a fun way for children to learn their ...</td>\n",
       "      <td>1</td>\n",
       "    </tr>\n",
       "    <tr>\n",
       "      <th>150507</th>\n",
       "      <td>150508</td>\n",
       "      <td>0006641040</td>\n",
       "      <td>AZGXZ2UUK6X</td>\n",
       "      <td>Catherine Hallberg \"(Kate)\"</td>\n",
       "      <td>1</td>\n",
       "      <td>1</td>\n",
       "      <td>1076025600</td>\n",
       "      <td>a good swingy rhythm for reading aloud</td>\n",
       "      <td>This is a great little book to read aloud- it ...</td>\n",
       "      <td>1</td>\n",
       "    </tr>\n",
       "    <tr>\n",
       "      <th>150509</th>\n",
       "      <td>150510</td>\n",
       "      <td>0006641040</td>\n",
       "      <td>AM1MNZMYMS7D8</td>\n",
       "      <td>Dr. Joshua  Grossman</td>\n",
       "      <td>0</td>\n",
       "      <td>0</td>\n",
       "      <td>1348358400</td>\n",
       "      <td>Professional Mentoring</td>\n",
       "      <td>TITLE: Chicken Soup with Rice&lt;br /&gt;AUTHOR: Mau...</td>\n",
       "      <td>1</td>\n",
       "    </tr>\n",
       "    <tr>\n",
       "      <th>150510</th>\n",
       "      <td>150511</td>\n",
       "      <td>0006641040</td>\n",
       "      <td>A1C9K534BCI9GO</td>\n",
       "      <td>Laura Purdie Salas</td>\n",
       "      <td>0</td>\n",
       "      <td>0</td>\n",
       "      <td>1344211200</td>\n",
       "      <td>Charming and childlike</td>\n",
       "      <td>A charming, rhyming book that describes the ci...</td>\n",
       "      <td>1</td>\n",
       "    </tr>\n",
       "    <tr>\n",
       "      <th>150511</th>\n",
       "      <td>150512</td>\n",
       "      <td>0006641040</td>\n",
       "      <td>A1DJXZA5V5FFVA</td>\n",
       "      <td>A. Conway</td>\n",
       "      <td>0</td>\n",
       "      <td>0</td>\n",
       "      <td>1338249600</td>\n",
       "      <td>Must have.</td>\n",
       "      <td>I set aside at least an hour each day to read ...</td>\n",
       "      <td>1</td>\n",
       "    </tr>\n",
       "    <tr>\n",
       "      <th>150512</th>\n",
       "      <td>150513</td>\n",
       "      <td>0006641040</td>\n",
       "      <td>ASH0DZQQF6AIZ</td>\n",
       "      <td>tessarat</td>\n",
       "      <td>0</td>\n",
       "      <td>0</td>\n",
       "      <td>1325721600</td>\n",
       "      <td>A classic</td>\n",
       "      <td>I remembered this book from my childhood and g...</td>\n",
       "      <td>1</td>\n",
       "    </tr>\n",
       "    <tr>\n",
       "      <th>150513</th>\n",
       "      <td>150514</td>\n",
       "      <td>0006641040</td>\n",
       "      <td>A2ONB6ZA292PA</td>\n",
       "      <td>Rosalind Matzner</td>\n",
       "      <td>0</td>\n",
       "      <td>0</td>\n",
       "      <td>1313884800</td>\n",
       "      <td>Chicken soup with Rice</td>\n",
       "      <td>It's a great book with adorable illustrations....</td>\n",
       "      <td>1</td>\n",
       "    </tr>\n",
       "    <tr>\n",
       "      <th>150502</th>\n",
       "      <td>150503</td>\n",
       "      <td>0006641040</td>\n",
       "      <td>A3R5XMPFU8YZ4D</td>\n",
       "      <td>Her Royal Motherliness \"Nana\"</td>\n",
       "      <td>1</td>\n",
       "      <td>1</td>\n",
       "      <td>1233964800</td>\n",
       "      <td>so fun to read</td>\n",
       "      <td>This is my grand daughter's and my favorite bo...</td>\n",
       "      <td>1</td>\n",
       "    </tr>\n",
       "    <tr>\n",
       "      <th>150514</th>\n",
       "      <td>150515</td>\n",
       "      <td>0006641040</td>\n",
       "      <td>A2RTT81R6Y3R7X</td>\n",
       "      <td>Lindylu</td>\n",
       "      <td>0</td>\n",
       "      <td>0</td>\n",
       "      <td>1303171200</td>\n",
       "      <td>One of our family's favorite books</td>\n",
       "      <td>This book is a family favorite and was read to...</td>\n",
       "      <td>1</td>\n",
       "    </tr>\n",
       "    <tr>\n",
       "      <th>150516</th>\n",
       "      <td>150517</td>\n",
       "      <td>0006641040</td>\n",
       "      <td>ABW4IC5G5G8B5</td>\n",
       "      <td>kevin clark</td>\n",
       "      <td>0</td>\n",
       "      <td>0</td>\n",
       "      <td>1291075200</td>\n",
       "      <td>good for children</td>\n",
       "      <td>Classic children's book, can't go wrong. I rea...</td>\n",
       "      <td>1</td>\n",
       "    </tr>\n",
       "    <tr>\n",
       "      <th>150517</th>\n",
       "      <td>150518</td>\n",
       "      <td>0006641040</td>\n",
       "      <td>AK1L4EJBA23JF</td>\n",
       "      <td>L. M. Kraus</td>\n",
       "      <td>0</td>\n",
       "      <td>0</td>\n",
       "      <td>1288224000</td>\n",
       "      <td>love this book</td>\n",
       "      <td>Great book, perfect condition arrived in a sho...</td>\n",
       "      <td>1</td>\n",
       "    </tr>\n",
       "    <tr>\n",
       "      <th>150518</th>\n",
       "      <td>150519</td>\n",
       "      <td>0006641040</td>\n",
       "      <td>A12HY5OZ2QNK4N</td>\n",
       "      <td>Elizabeth H. Roessner</td>\n",
       "      <td>0</td>\n",
       "      <td>0</td>\n",
       "      <td>1256774400</td>\n",
       "      <td>It's a great book!</td>\n",
       "      <td>I've always loved chicken soup and rice. My la...</td>\n",
       "      <td>1</td>\n",
       "    </tr>\n",
       "    <tr>\n",
       "      <th>150519</th>\n",
       "      <td>150520</td>\n",
       "      <td>0006641040</td>\n",
       "      <td>ADBFSA9KTQANE</td>\n",
       "      <td>James L. Hammock \"Pucks Buddy\"</td>\n",
       "      <td>0</td>\n",
       "      <td>0</td>\n",
       "      <td>1256688000</td>\n",
       "      <td>Great Gift</td>\n",
       "      <td>This book was purchased as a birthday gift for...</td>\n",
       "      <td>1</td>\n",
       "    </tr>\n",
       "    <tr>\n",
       "      <th>150520</th>\n",
       "      <td>150521</td>\n",
       "      <td>0006641040</td>\n",
       "      <td>A3RMCRB2NDTDYP</td>\n",
       "      <td>Carol Carruthers</td>\n",
       "      <td>0</td>\n",
       "      <td>0</td>\n",
       "      <td>1243468800</td>\n",
       "      <td>This book is great!</td>\n",
       "      <td>My 7 year old daughter brought this book home ...</td>\n",
       "      <td>1</td>\n",
       "    </tr>\n",
       "    <tr>\n",
       "      <th>150521</th>\n",
       "      <td>150522</td>\n",
       "      <td>0006641040</td>\n",
       "      <td>A1S3C5OFU508P3</td>\n",
       "      <td>Charles Ashbacher</td>\n",
       "      <td>0</td>\n",
       "      <td>0</td>\n",
       "      <td>1219536000</td>\n",
       "      <td>Children will find it entertaining and a gener...</td>\n",
       "      <td>This book contains a collection of twelve shor...</td>\n",
       "      <td>1</td>\n",
       "    </tr>\n",
       "    <tr>\n",
       "      <th>150523</th>\n",
       "      <td>150524</td>\n",
       "      <td>0006641040</td>\n",
       "      <td>ACITT7DI6IDDL</td>\n",
       "      <td>shari zychinski</td>\n",
       "      <td>0</td>\n",
       "      <td>0</td>\n",
       "      <td>939340800</td>\n",
       "      <td>EVERY book is educational</td>\n",
       "      <td>this witty little book makes my son laugh at l...</td>\n",
       "      <td>1</td>\n",
       "    </tr>\n",
       "    <tr>\n",
       "      <th>150524</th>\n",
       "      <td>150525</td>\n",
       "      <td>0006641040</td>\n",
       "      <td>A2QID6VCFTY51R</td>\n",
       "      <td>Rick</td>\n",
       "      <td>1</td>\n",
       "      <td>2</td>\n",
       "      <td>1025481600</td>\n",
       "      <td>In December it will be, my snowman's anniversa...</td>\n",
       "      <td>My daughter loves all the \"Really Rosie\" books...</td>\n",
       "      <td>1</td>\n",
       "    </tr>\n",
       "    <tr>\n",
       "      <th>150525</th>\n",
       "      <td>150526</td>\n",
       "      <td>0006641040</td>\n",
       "      <td>A3E9QZFE9KXH8J</td>\n",
       "      <td>R. Mitchell</td>\n",
       "      <td>11</td>\n",
       "      <td>18</td>\n",
       "      <td>1129507200</td>\n",
       "      <td>awesome book poor size</td>\n",
       "      <td>This is one of the best children's books ever ...</td>\n",
       "      <td>0</td>\n",
       "    </tr>\n",
       "    <tr>\n",
       "      <th>150528</th>\n",
       "      <td>150529</td>\n",
       "      <td>0006641040</td>\n",
       "      <td>A25ACLV5KPB4W</td>\n",
       "      <td>Matt Hetling \"Matt\"</td>\n",
       "      <td>0</td>\n",
       "      <td>1</td>\n",
       "      <td>1108425600</td>\n",
       "      <td>Nice cadence, catchy rhymes</td>\n",
       "      <td>In June&lt;br /&gt;I saw a charming group&lt;br /&gt;of ro...</td>\n",
       "      <td>1</td>\n",
       "    </tr>\n",
       "    <tr>\n",
       "      <th>150515</th>\n",
       "      <td>150516</td>\n",
       "      <td>0006641040</td>\n",
       "      <td>A3OI7ZGH6WZJ5G</td>\n",
       "      <td>Mary Jane Rogers \"Maedchen\"</td>\n",
       "      <td>0</td>\n",
       "      <td>0</td>\n",
       "      <td>1293840000</td>\n",
       "      <td>Darling!</td>\n",
       "      <td>The same author wrote \"Where the Wild Things A...</td>\n",
       "      <td>1</td>\n",
       "    </tr>\n",
       "    <tr>\n",
       "      <th>150501</th>\n",
       "      <td>150502</td>\n",
       "      <td>0006641040</td>\n",
       "      <td>AVFMJ50HNO21J</td>\n",
       "      <td>Jane Doe</td>\n",
       "      <td>1</td>\n",
       "      <td>1</td>\n",
       "      <td>1324944000</td>\n",
       "      <td>Tiny little book, Wonderful little rhymes.</td>\n",
       "      <td>This copy is smaller than I expected (mostly b...</td>\n",
       "      <td>1</td>\n",
       "    </tr>\n",
       "    <tr>\n",
       "      <th>150508</th>\n",
       "      <td>150509</td>\n",
       "      <td>0006641040</td>\n",
       "      <td>A3CMRKGE0P909G</td>\n",
       "      <td>Teresa</td>\n",
       "      <td>3</td>\n",
       "      <td>4</td>\n",
       "      <td>1018396800</td>\n",
       "      <td>A great way to learn the months</td>\n",
       "      <td>This is a book of poetry about the months of t...</td>\n",
       "      <td>1</td>\n",
       "    </tr>\n",
       "    <tr>\n",
       "      <th>150499</th>\n",
       "      <td>150500</td>\n",
       "      <td>0006641040</td>\n",
       "      <td>A1IJKK6Q1GTEAY</td>\n",
       "      <td>A Customer</td>\n",
       "      <td>2</td>\n",
       "      <td>2</td>\n",
       "      <td>1009324800</td>\n",
       "      <td>It Was a favorite!</td>\n",
       "      <td>This was a favorite book of mine when I was a ...</td>\n",
       "      <td>1</td>\n",
       "    </tr>\n",
       "    <tr>\n",
       "      <th>150498</th>\n",
       "      <td>150499</td>\n",
       "      <td>0006641040</td>\n",
       "      <td>A3E7R866M94L0C</td>\n",
       "      <td>L. Barker \"simienwolf\"</td>\n",
       "      <td>2</td>\n",
       "      <td>2</td>\n",
       "      <td>1065830400</td>\n",
       "      <td>Can't explain why</td>\n",
       "      <td>This book has been a favorite of mine since I ...</td>\n",
       "      <td>1</td>\n",
       "    </tr>\n",
       "    <tr>\n",
       "      <th>150497</th>\n",
       "      <td>150498</td>\n",
       "      <td>0006641040</td>\n",
       "      <td>A3SJWISOCP31TR</td>\n",
       "      <td>R. J. Wells</td>\n",
       "      <td>2</td>\n",
       "      <td>2</td>\n",
       "      <td>1176336000</td>\n",
       "      <td>A Gem of a Book</td>\n",
       "      <td>This is a wonderful little book. I loved it 40...</td>\n",
       "      <td>1</td>\n",
       "    </tr>\n",
       "    <tr>\n",
       "      <th>150496</th>\n",
       "      <td>150497</td>\n",
       "      <td>0006641040</td>\n",
       "      <td>A1HKYQOFC8ZZCH</td>\n",
       "      <td>Maria Apolloni \"lanarossa\"</td>\n",
       "      <td>2</td>\n",
       "      <td>2</td>\n",
       "      <td>1334707200</td>\n",
       "      <td>The story is great, the softcover book is disa...</td>\n",
       "      <td>I give five stars to the Maurice Sendak story....</td>\n",
       "      <td>0</td>\n",
       "    </tr>\n",
       "    <tr>\n",
       "      <th>...</th>\n",
       "      <td>...</td>\n",
       "      <td>...</td>\n",
       "      <td>...</td>\n",
       "      <td>...</td>\n",
       "      <td>...</td>\n",
       "      <td>...</td>\n",
       "      <td>...</td>\n",
       "      <td>...</td>\n",
       "      <td>...</td>\n",
       "      <td>...</td>\n",
       "    </tr>\n",
       "    <tr>\n",
       "      <th>96969</th>\n",
       "      <td>96970</td>\n",
       "      <td>B0000DK4ZR</td>\n",
       "      <td>AML72JDO5W93E</td>\n",
       "      <td>cbeegru</td>\n",
       "      <td>0</td>\n",
       "      <td>0</td>\n",
       "      <td>1317168000</td>\n",
       "      <td>Mini Marshmallows</td>\n",
       "      <td>Just what I was looking for.  Mini marshmallow...</td>\n",
       "      <td>1</td>\n",
       "    </tr>\n",
       "    <tr>\n",
       "      <th>96961</th>\n",
       "      <td>96962</td>\n",
       "      <td>B0000DK4ZR</td>\n",
       "      <td>A7MML6GXFSURB</td>\n",
       "      <td>Dwef</td>\n",
       "      <td>2</td>\n",
       "      <td>2</td>\n",
       "      <td>1268697600</td>\n",
       "      <td>perfect, yummy mini marshmallows</td>\n",
       "      <td>These mini marshmallows are perfect for hot ch...</td>\n",
       "      <td>1</td>\n",
       "    </tr>\n",
       "    <tr>\n",
       "      <th>553528</th>\n",
       "      <td>553529</td>\n",
       "      <td>B0000DK56B</td>\n",
       "      <td>A12YZTA9BKGKS2</td>\n",
       "      <td>LauraH</td>\n",
       "      <td>0</td>\n",
       "      <td>0</td>\n",
       "      <td>1345334400</td>\n",
       "      <td>Used in lip balm</td>\n",
       "      <td>Used this flavoring with pre-made lip balm bas...</td>\n",
       "      <td>1</td>\n",
       "    </tr>\n",
       "    <tr>\n",
       "      <th>243209</th>\n",
       "      <td>243210</td>\n",
       "      <td>B0000DK59A</td>\n",
       "      <td>A6NPVGUI0KXL3</td>\n",
       "      <td>M. Saso</td>\n",
       "      <td>0</td>\n",
       "      <td>0</td>\n",
       "      <td>1183766400</td>\n",
       "      <td>MMMM</td>\n",
       "      <td>This oil for our candy making is great and it ...</td>\n",
       "      <td>1</td>\n",
       "    </tr>\n",
       "    <tr>\n",
       "      <th>271661</th>\n",
       "      <td>271662</td>\n",
       "      <td>B0000DK5EO</td>\n",
       "      <td>A3R3UM3G9WTIAN</td>\n",
       "      <td>appliedsynergy</td>\n",
       "      <td>0</td>\n",
       "      <td>0</td>\n",
       "      <td>1346976000</td>\n",
       "      <td>Reeks of chemicals....</td>\n",
       "      <td>Yes, I know it is chemicals that create the gr...</td>\n",
       "      <td>0</td>\n",
       "    </tr>\n",
       "    <tr>\n",
       "      <th>271662</th>\n",
       "      <td>271663</td>\n",
       "      <td>B0000DK5EO</td>\n",
       "      <td>APXLQN9CEVZO</td>\n",
       "      <td>JJ</td>\n",
       "      <td>0</td>\n",
       "      <td>0</td>\n",
       "      <td>1328054400</td>\n",
       "      <td>candy</td>\n",
       "      <td>I order from them all the time I get my stuff ...</td>\n",
       "      <td>1</td>\n",
       "    </tr>\n",
       "    <tr>\n",
       "      <th>220725</th>\n",
       "      <td>220726</td>\n",
       "      <td>B0000DK63L</td>\n",
       "      <td>A26RN5BSME5W6S</td>\n",
       "      <td>Jeremy Gary</td>\n",
       "      <td>0</td>\n",
       "      <td>0</td>\n",
       "      <td>1326067200</td>\n",
       "      <td>Eliquid</td>\n",
       "      <td>This oil is great for creating your own eliqui...</td>\n",
       "      <td>1</td>\n",
       "    </tr>\n",
       "    <tr>\n",
       "      <th>518235</th>\n",
       "      <td>518236</td>\n",
       "      <td>B0000DK6UV</td>\n",
       "      <td>ANQD6TTUQF2GX</td>\n",
       "      <td>D. Fruke</td>\n",
       "      <td>2</td>\n",
       "      <td>2</td>\n",
       "      <td>1312243200</td>\n",
       "      <td>Yummy!</td>\n",
       "      <td>A great deal on a hard to find flavor!&lt;br /&gt;Ho...</td>\n",
       "      <td>1</td>\n",
       "    </tr>\n",
       "    <tr>\n",
       "      <th>402944</th>\n",
       "      <td>402945</td>\n",
       "      <td>B0000DK8Q2</td>\n",
       "      <td>A26RN5BSME5W6S</td>\n",
       "      <td>Jeremy Gary</td>\n",
       "      <td>0</td>\n",
       "      <td>0</td>\n",
       "      <td>1326067200</td>\n",
       "      <td>Eliquid</td>\n",
       "      <td>This oil is great for creating your own eliqui...</td>\n",
       "      <td>1</td>\n",
       "    </tr>\n",
       "    <tr>\n",
       "      <th>337641</th>\n",
       "      <td>337642</td>\n",
       "      <td>B0000DK8R8</td>\n",
       "      <td>A1F1N6X1INMMUK</td>\n",
       "      <td>C.</td>\n",
       "      <td>0</td>\n",
       "      <td>0</td>\n",
       "      <td>1342310400</td>\n",
       "      <td>Really horrible.</td>\n",
       "      <td>Recently purchased this item for a recipe. Not...</td>\n",
       "      <td>0</td>\n",
       "    </tr>\n",
       "    <tr>\n",
       "      <th>186416</th>\n",
       "      <td>186417</td>\n",
       "      <td>B0000DK9JK</td>\n",
       "      <td>A1YGSP114X8LT5</td>\n",
       "      <td>Diane Burnell \"J2Di4\"</td>\n",
       "      <td>0</td>\n",
       "      <td>0</td>\n",
       "      <td>1293926400</td>\n",
       "      <td>Pumpkin Pie Candy Flavoring Oil</td>\n",
       "      <td>This was perfect.  I wanted to make pumpkin ba...</td>\n",
       "      <td>1</td>\n",
       "    </tr>\n",
       "    <tr>\n",
       "      <th>409332</th>\n",
       "      <td>409333</td>\n",
       "      <td>B0000DKQ59</td>\n",
       "      <td>A10CGJVD30HSNB</td>\n",
       "      <td>Carlo M. Razzeto</td>\n",
       "      <td>3</td>\n",
       "      <td>5</td>\n",
       "      <td>1313625600</td>\n",
       "      <td>Toasted Cardboard with Nutrasweet sprinkled on...</td>\n",
       "      <td>From crazzeto's wife:&lt;br /&gt;&lt;br /&gt;My 5 month ol...</td>\n",
       "      <td>0</td>\n",
       "    </tr>\n",
       "    <tr>\n",
       "      <th>409325</th>\n",
       "      <td>409326</td>\n",
       "      <td>B0000DKQ59</td>\n",
       "      <td>AVDNTBDEHQ31X</td>\n",
       "      <td>Lawrence Maturo \"Larry\"</td>\n",
       "      <td>1</td>\n",
       "      <td>1</td>\n",
       "      <td>1301529600</td>\n",
       "      <td>Very good vanilla, and in a powder too!</td>\n",
       "      <td>The problem with most vanillas is that you can...</td>\n",
       "      <td>1</td>\n",
       "    </tr>\n",
       "    <tr>\n",
       "      <th>409327</th>\n",
       "      <td>409328</td>\n",
       "      <td>B0000DKQ59</td>\n",
       "      <td>A1WWA9F7O7YX54</td>\n",
       "      <td>J. Leonard</td>\n",
       "      <td>2</td>\n",
       "      <td>3</td>\n",
       "      <td>1278460800</td>\n",
       "      <td>Excellent flavor</td>\n",
       "      <td>Until recently I had not come across vanilla p...</td>\n",
       "      <td>1</td>\n",
       "    </tr>\n",
       "    <tr>\n",
       "      <th>409326</th>\n",
       "      <td>409327</td>\n",
       "      <td>B0000DKQ59</td>\n",
       "      <td>A3TM9AX5AJHU3K</td>\n",
       "      <td>Aeron \"Ann\"</td>\n",
       "      <td>3</td>\n",
       "      <td>4</td>\n",
       "      <td>1274400000</td>\n",
       "      <td>Nielsen-Massey Vanilla Powder from Amazon</td>\n",
       "      <td>Love it! I mix my own hot drink mix and needed...</td>\n",
       "      <td>1</td>\n",
       "    </tr>\n",
       "    <tr>\n",
       "      <th>409329</th>\n",
       "      <td>409330</td>\n",
       "      <td>B0000DKQ59</td>\n",
       "      <td>AWD1BNFUDLDKB</td>\n",
       "      <td>A. T. Bogart \"researchnut\"</td>\n",
       "      <td>0</td>\n",
       "      <td>0</td>\n",
       "      <td>1343433600</td>\n",
       "      <td>Best Vanilla Powder on the market for beverages</td>\n",
       "      <td>I have tried several brands of Vanilla Powder ...</td>\n",
       "      <td>1</td>\n",
       "    </tr>\n",
       "    <tr>\n",
       "      <th>409321</th>\n",
       "      <td>409322</td>\n",
       "      <td>B0000DKQ59</td>\n",
       "      <td>A2D1ZS9C0SK25G</td>\n",
       "      <td>Chas. M.</td>\n",
       "      <td>12</td>\n",
       "      <td>13</td>\n",
       "      <td>1305590400</td>\n",
       "      <td>More than 50% is Maltodextrin -- That's \"Pure\"?</td>\n",
       "      <td>I should have read the reviewers' comments bef...</td>\n",
       "      <td>0</td>\n",
       "    </tr>\n",
       "    <tr>\n",
       "      <th>409322</th>\n",
       "      <td>409323</td>\n",
       "      <td>B0000DKQ59</td>\n",
       "      <td>A10RB6QTG5I80V</td>\n",
       "      <td>Vegan Excellence</td>\n",
       "      <td>23</td>\n",
       "      <td>30</td>\n",
       "      <td>1296345600</td>\n",
       "      <td>Pure GMO (genetically modified organism) Vanil...</td>\n",
       "      <td>I bought this vanilla powder in Whole Foods, I...</td>\n",
       "      <td>0</td>\n",
       "    </tr>\n",
       "    <tr>\n",
       "      <th>409324</th>\n",
       "      <td>409325</td>\n",
       "      <td>B0000DKQ59</td>\n",
       "      <td>A1YEW7LFTFYVIF</td>\n",
       "      <td>just another reader</td>\n",
       "      <td>2</td>\n",
       "      <td>2</td>\n",
       "      <td>1333411200</td>\n",
       "      <td>Deceptive Labeling</td>\n",
       "      <td>This is not \"Pure Vanilla\" as the label clearl...</td>\n",
       "      <td>0</td>\n",
       "    </tr>\n",
       "    <tr>\n",
       "      <th>409333</th>\n",
       "      <td>409334</td>\n",
       "      <td>B0000DKQ59</td>\n",
       "      <td>A3C51QSKN6EP5R</td>\n",
       "      <td>Requirements are IT</td>\n",
       "      <td>1</td>\n",
       "      <td>2</td>\n",
       "      <td>1258070400</td>\n",
       "      <td>Vanilla powder is necessary for happiness</td>\n",
       "      <td>This is the BEST vanilla powder, or so he says...</td>\n",
       "      <td>1</td>\n",
       "    </tr>\n",
       "    <tr>\n",
       "      <th>409334</th>\n",
       "      <td>409335</td>\n",
       "      <td>B0000DKQ59</td>\n",
       "      <td>A10MYUMQMETQND</td>\n",
       "      <td>Marcus C. Fields</td>\n",
       "      <td>0</td>\n",
       "      <td>1</td>\n",
       "      <td>1277078400</td>\n",
       "      <td>Purest dry vanilla I could find!</td>\n",
       "      <td>I use this in my instant hot cocoa mix and I c...</td>\n",
       "      <td>1</td>\n",
       "    </tr>\n",
       "    <tr>\n",
       "      <th>409335</th>\n",
       "      <td>409336</td>\n",
       "      <td>B0000DKQ59</td>\n",
       "      <td>AXU5LU67FZJGY</td>\n",
       "      <td>coffee aficionado \"coffee aficionado\"</td>\n",
       "      <td>0</td>\n",
       "      <td>1</td>\n",
       "      <td>1276992000</td>\n",
       "      <td>delicious</td>\n",
       "      <td>Only a little is needed, the vanilla flavor is...</td>\n",
       "      <td>1</td>\n",
       "    </tr>\n",
       "    <tr>\n",
       "      <th>409323</th>\n",
       "      <td>409324</td>\n",
       "      <td>B0000DKQ59</td>\n",
       "      <td>A2U31FIKNNXJGM</td>\n",
       "      <td>A. Rosenthal</td>\n",
       "      <td>2</td>\n",
       "      <td>2</td>\n",
       "      <td>1333584000</td>\n",
       "      <td>pure?!?!?  maltodextrin?  lying sacks of ****!!</td>\n",
       "      <td>very deceptive.  not what I wanted when I was ...</td>\n",
       "      <td>0</td>\n",
       "    </tr>\n",
       "    <tr>\n",
       "      <th>409331</th>\n",
       "      <td>409332</td>\n",
       "      <td>B0000DKQ59</td>\n",
       "      <td>A1VO7J0P1W3QRI</td>\n",
       "      <td>D. Wallace</td>\n",
       "      <td>5</td>\n",
       "      <td>8</td>\n",
       "      <td>1306540800</td>\n",
       "      <td>GMO Maltodextrin in a product labled Pure Vani...</td>\n",
       "      <td>This is basically misleading advertising. They...</td>\n",
       "      <td>0</td>\n",
       "    </tr>\n",
       "    <tr>\n",
       "      <th>567318</th>\n",
       "      <td>567319</td>\n",
       "      <td>B0000DNS4J</td>\n",
       "      <td>A25PNMNXMUO95V</td>\n",
       "      <td>winglesslight</td>\n",
       "      <td>2</td>\n",
       "      <td>4</td>\n",
       "      <td>1087776000</td>\n",
       "      <td>The WORST. I THROW AWAY the whole bag.</td>\n",
       "      <td>This is the worst dried mango product. I taste...</td>\n",
       "      <td>0</td>\n",
       "    </tr>\n",
       "    <tr>\n",
       "      <th>567317</th>\n",
       "      <td>567318</td>\n",
       "      <td>B0000DNS4J</td>\n",
       "      <td>A25PNMNXMUO95V</td>\n",
       "      <td>winglesslight</td>\n",
       "      <td>8</td>\n",
       "      <td>9</td>\n",
       "      <td>1087776000</td>\n",
       "      <td>The WORST. I THROW AWAY the whole bag.</td>\n",
       "      <td>This is the worst dried mango product. I taste...</td>\n",
       "      <td>0</td>\n",
       "    </tr>\n",
       "    <tr>\n",
       "      <th>79199</th>\n",
       "      <td>79200</td>\n",
       "      <td>B0000DYD91</td>\n",
       "      <td>A602A5Z15YE4L</td>\n",
       "      <td>Tracy Teah</td>\n",
       "      <td>0</td>\n",
       "      <td>0</td>\n",
       "      <td>1317859200</td>\n",
       "      <td>seasoning</td>\n",
       "      <td>This is one of the BEST spices I have ever use...</td>\n",
       "      <td>1</td>\n",
       "    </tr>\n",
       "    <tr>\n",
       "      <th>79198</th>\n",
       "      <td>79199</td>\n",
       "      <td>B0000DYD91</td>\n",
       "      <td>A3QRJU3B5VXXD1</td>\n",
       "      <td>John Heppell \"Big Dog\"</td>\n",
       "      <td>0</td>\n",
       "      <td>0</td>\n",
       "      <td>1337126400</td>\n",
       "      <td>Our secret!</td>\n",
       "      <td>We use this blend for most of our outdoor gril...</td>\n",
       "      <td>1</td>\n",
       "    </tr>\n",
       "    <tr>\n",
       "      <th>297303</th>\n",
       "      <td>297304</td>\n",
       "      <td>B0000DYGAF</td>\n",
       "      <td>AC3C5VDMH4JYI</td>\n",
       "      <td>Virginia Mullins</td>\n",
       "      <td>5</td>\n",
       "      <td>15</td>\n",
       "      <td>1171843200</td>\n",
       "      <td>cheesecake for my niece</td>\n",
       "      <td>I sent this to my niece in CA.  She was having...</td>\n",
       "      <td>1</td>\n",
       "    </tr>\n",
       "    <tr>\n",
       "      <th>297302</th>\n",
       "      <td>297303</td>\n",
       "      <td>B0000DYGAF</td>\n",
       "      <td>A1CAP139KPVPMK</td>\n",
       "      <td>Katy Hall</td>\n",
       "      <td>3</td>\n",
       "      <td>3</td>\n",
       "      <td>1260057600</td>\n",
       "      <td>Thumbs up from recipient!</td>\n",
       "      <td>While the shipping fee was a little more than ...</td>\n",
       "      <td>1</td>\n",
       "    </tr>\n",
       "  </tbody>\n",
       "</table>\n",
       "<p>5000 rows × 10 columns</p>\n",
       "</div>"
      ],
      "text/plain": [
       "            Id   ProductId          UserId  \\\n",
       "150522  150523  0006641040  A2P4F2UO0UMP8C   \n",
       "150503  150504  0006641040   AQEYF1AXARWJZ   \n",
       "150504  150505  0006641040  A2PTSM496CF40Z   \n",
       "150505  150506  0006641040  A2IW4PEEKO2R0U   \n",
       "150506  150507  0006641040  A1S4A3IQ2MU7V4   \n",
       "150507  150508  0006641040     AZGXZ2UUK6X   \n",
       "150509  150510  0006641040   AM1MNZMYMS7D8   \n",
       "150510  150511  0006641040  A1C9K534BCI9GO   \n",
       "150511  150512  0006641040  A1DJXZA5V5FFVA   \n",
       "150512  150513  0006641040   ASH0DZQQF6AIZ   \n",
       "150513  150514  0006641040   A2ONB6ZA292PA   \n",
       "150502  150503  0006641040  A3R5XMPFU8YZ4D   \n",
       "150514  150515  0006641040  A2RTT81R6Y3R7X   \n",
       "150516  150517  0006641040   ABW4IC5G5G8B5   \n",
       "150517  150518  0006641040   AK1L4EJBA23JF   \n",
       "150518  150519  0006641040  A12HY5OZ2QNK4N   \n",
       "150519  150520  0006641040   ADBFSA9KTQANE   \n",
       "150520  150521  0006641040  A3RMCRB2NDTDYP   \n",
       "150521  150522  0006641040  A1S3C5OFU508P3   \n",
       "150523  150524  0006641040   ACITT7DI6IDDL   \n",
       "150524  150525  0006641040  A2QID6VCFTY51R   \n",
       "150525  150526  0006641040  A3E9QZFE9KXH8J   \n",
       "150528  150529  0006641040   A25ACLV5KPB4W   \n",
       "150515  150516  0006641040  A3OI7ZGH6WZJ5G   \n",
       "150501  150502  0006641040   AVFMJ50HNO21J   \n",
       "150508  150509  0006641040  A3CMRKGE0P909G   \n",
       "150499  150500  0006641040  A1IJKK6Q1GTEAY   \n",
       "150498  150499  0006641040  A3E7R866M94L0C   \n",
       "150497  150498  0006641040  A3SJWISOCP31TR   \n",
       "150496  150497  0006641040  A1HKYQOFC8ZZCH   \n",
       "...        ...         ...             ...   \n",
       "96969    96970  B0000DK4ZR   AML72JDO5W93E   \n",
       "96961    96962  B0000DK4ZR   A7MML6GXFSURB   \n",
       "553528  553529  B0000DK56B  A12YZTA9BKGKS2   \n",
       "243209  243210  B0000DK59A   A6NPVGUI0KXL3   \n",
       "271661  271662  B0000DK5EO  A3R3UM3G9WTIAN   \n",
       "271662  271663  B0000DK5EO    APXLQN9CEVZO   \n",
       "220725  220726  B0000DK63L  A26RN5BSME5W6S   \n",
       "518235  518236  B0000DK6UV   ANQD6TTUQF2GX   \n",
       "402944  402945  B0000DK8Q2  A26RN5BSME5W6S   \n",
       "337641  337642  B0000DK8R8  A1F1N6X1INMMUK   \n",
       "186416  186417  B0000DK9JK  A1YGSP114X8LT5   \n",
       "409332  409333  B0000DKQ59  A10CGJVD30HSNB   \n",
       "409325  409326  B0000DKQ59   AVDNTBDEHQ31X   \n",
       "409327  409328  B0000DKQ59  A1WWA9F7O7YX54   \n",
       "409326  409327  B0000DKQ59  A3TM9AX5AJHU3K   \n",
       "409329  409330  B0000DKQ59   AWD1BNFUDLDKB   \n",
       "409321  409322  B0000DKQ59  A2D1ZS9C0SK25G   \n",
       "409322  409323  B0000DKQ59  A10RB6QTG5I80V   \n",
       "409324  409325  B0000DKQ59  A1YEW7LFTFYVIF   \n",
       "409333  409334  B0000DKQ59  A3C51QSKN6EP5R   \n",
       "409334  409335  B0000DKQ59  A10MYUMQMETQND   \n",
       "409335  409336  B0000DKQ59   AXU5LU67FZJGY   \n",
       "409323  409324  B0000DKQ59  A2U31FIKNNXJGM   \n",
       "409331  409332  B0000DKQ59  A1VO7J0P1W3QRI   \n",
       "567318  567319  B0000DNS4J  A25PNMNXMUO95V   \n",
       "567317  567318  B0000DNS4J  A25PNMNXMUO95V   \n",
       "79199    79200  B0000DYD91   A602A5Z15YE4L   \n",
       "79198    79199  B0000DYD91  A3QRJU3B5VXXD1   \n",
       "297303  297304  B0000DYGAF   AC3C5VDMH4JYI   \n",
       "297302  297303  B0000DYGAF  A1CAP139KPVPMK   \n",
       "\n",
       "                                             ProfileName  \\\n",
       "150522             Elizabeth A. Curry \"Lovely Librarian\"   \n",
       "150503                         Les Sinclair \"book maven\"   \n",
       "150504  Jason A. Teeple \"Nobody made a greater mistak...   \n",
       "150505                                             Tracy   \n",
       "150506                             sally sue \"sally sue\"   \n",
       "150507                       Catherine Hallberg \"(Kate)\"   \n",
       "150509                              Dr. Joshua  Grossman   \n",
       "150510                                Laura Purdie Salas   \n",
       "150511                                         A. Conway   \n",
       "150512                                          tessarat   \n",
       "150513                                  Rosalind Matzner   \n",
       "150502                     Her Royal Motherliness \"Nana\"   \n",
       "150514                                           Lindylu   \n",
       "150516                                       kevin clark   \n",
       "150517                                       L. M. Kraus   \n",
       "150518                             Elizabeth H. Roessner   \n",
       "150519                    James L. Hammock \"Pucks Buddy\"   \n",
       "150520                                  Carol Carruthers   \n",
       "150521                                 Charles Ashbacher   \n",
       "150523                                   shari zychinski   \n",
       "150524                                              Rick   \n",
       "150525                                       R. Mitchell   \n",
       "150528                               Matt Hetling \"Matt\"   \n",
       "150515                       Mary Jane Rogers \"Maedchen\"   \n",
       "150501                                          Jane Doe   \n",
       "150508                                            Teresa   \n",
       "150499                                        A Customer   \n",
       "150498                            L. Barker \"simienwolf\"   \n",
       "150497                                       R. J. Wells   \n",
       "150496                        Maria Apolloni \"lanarossa\"   \n",
       "...                                                  ...   \n",
       "96969                                            cbeegru   \n",
       "96961                                               Dwef   \n",
       "553528                                            LauraH   \n",
       "243209                                           M. Saso   \n",
       "271661                                    appliedsynergy   \n",
       "271662                                                JJ   \n",
       "220725                                       Jeremy Gary   \n",
       "518235                                          D. Fruke   \n",
       "402944                                       Jeremy Gary   \n",
       "337641                                                C.   \n",
       "186416                             Diane Burnell \"J2Di4\"   \n",
       "409332                                  Carlo M. Razzeto   \n",
       "409325                           Lawrence Maturo \"Larry\"   \n",
       "409327                                        J. Leonard   \n",
       "409326                                       Aeron \"Ann\"   \n",
       "409329                        A. T. Bogart \"researchnut\"   \n",
       "409321                                          Chas. M.   \n",
       "409322                                  Vegan Excellence   \n",
       "409324                               just another reader   \n",
       "409333                               Requirements are IT   \n",
       "409334                                  Marcus C. Fields   \n",
       "409335             coffee aficionado \"coffee aficionado\"   \n",
       "409323                                      A. Rosenthal   \n",
       "409331                                        D. Wallace   \n",
       "567318                                     winglesslight   \n",
       "567317                                     winglesslight   \n",
       "79199                                         Tracy Teah   \n",
       "79198                             John Heppell \"Big Dog\"   \n",
       "297303                                  Virginia Mullins   \n",
       "297302                                         Katy Hall   \n",
       "\n",
       "        HelpfulnessNumerator  HelpfulnessDenominator        Time  \\\n",
       "150522                     0                       0  1096675200   \n",
       "150503                     1                       1  1212278400   \n",
       "150504                     1                       1  1210809600   \n",
       "150505                     1                       1  1194739200   \n",
       "150506                     1                       1  1191456000   \n",
       "150507                     1                       1  1076025600   \n",
       "150509                     0                       0  1348358400   \n",
       "150510                     0                       0  1344211200   \n",
       "150511                     0                       0  1338249600   \n",
       "150512                     0                       0  1325721600   \n",
       "150513                     0                       0  1313884800   \n",
       "150502                     1                       1  1233964800   \n",
       "150514                     0                       0  1303171200   \n",
       "150516                     0                       0  1291075200   \n",
       "150517                     0                       0  1288224000   \n",
       "150518                     0                       0  1256774400   \n",
       "150519                     0                       0  1256688000   \n",
       "150520                     0                       0  1243468800   \n",
       "150521                     0                       0  1219536000   \n",
       "150523                     0                       0   939340800   \n",
       "150524                     1                       2  1025481600   \n",
       "150525                    11                      18  1129507200   \n",
       "150528                     0                       1  1108425600   \n",
       "150515                     0                       0  1293840000   \n",
       "150501                     1                       1  1324944000   \n",
       "150508                     3                       4  1018396800   \n",
       "150499                     2                       2  1009324800   \n",
       "150498                     2                       2  1065830400   \n",
       "150497                     2                       2  1176336000   \n",
       "150496                     2                       2  1334707200   \n",
       "...                      ...                     ...         ...   \n",
       "96969                      0                       0  1317168000   \n",
       "96961                      2                       2  1268697600   \n",
       "553528                     0                       0  1345334400   \n",
       "243209                     0                       0  1183766400   \n",
       "271661                     0                       0  1346976000   \n",
       "271662                     0                       0  1328054400   \n",
       "220725                     0                       0  1326067200   \n",
       "518235                     2                       2  1312243200   \n",
       "402944                     0                       0  1326067200   \n",
       "337641                     0                       0  1342310400   \n",
       "186416                     0                       0  1293926400   \n",
       "409332                     3                       5  1313625600   \n",
       "409325                     1                       1  1301529600   \n",
       "409327                     2                       3  1278460800   \n",
       "409326                     3                       4  1274400000   \n",
       "409329                     0                       0  1343433600   \n",
       "409321                    12                      13  1305590400   \n",
       "409322                    23                      30  1296345600   \n",
       "409324                     2                       2  1333411200   \n",
       "409333                     1                       2  1258070400   \n",
       "409334                     0                       1  1277078400   \n",
       "409335                     0                       1  1276992000   \n",
       "409323                     2                       2  1333584000   \n",
       "409331                     5                       8  1306540800   \n",
       "567318                     2                       4  1087776000   \n",
       "567317                     8                       9  1087776000   \n",
       "79199                      0                       0  1317859200   \n",
       "79198                      0                       0  1337126400   \n",
       "297303                     5                      15  1171843200   \n",
       "297302                     3                       3  1260057600   \n",
       "\n",
       "                                                  Summary  \\\n",
       "150522                              MMMM chicken soup....   \n",
       "150503                             Chicken Soup with Rice   \n",
       "150504                                          A classic   \n",
       "150505         Love the book, miss the hard cover version   \n",
       "150506                      chicken soup with rice months   \n",
       "150507             a good swingy rhythm for reading aloud   \n",
       "150509                             Professional Mentoring   \n",
       "150510                             Charming and childlike   \n",
       "150511                                         Must have.   \n",
       "150512                                          A classic   \n",
       "150513                             Chicken soup with Rice   \n",
       "150502                                     so fun to read   \n",
       "150514                 One of our family's favorite books   \n",
       "150516                                  good for children   \n",
       "150517                                     love this book   \n",
       "150518                                 It's a great book!   \n",
       "150519                                         Great Gift   \n",
       "150520                                This book is great!   \n",
       "150521  Children will find it entertaining and a gener...   \n",
       "150523                          EVERY book is educational   \n",
       "150524  In December it will be, my snowman's anniversa...   \n",
       "150525                             awesome book poor size   \n",
       "150528                        Nice cadence, catchy rhymes   \n",
       "150515                                           Darling!   \n",
       "150501         Tiny little book, Wonderful little rhymes.   \n",
       "150508                    A great way to learn the months   \n",
       "150499                                 It Was a favorite!   \n",
       "150498                                  Can't explain why   \n",
       "150497                                    A Gem of a Book   \n",
       "150496  The story is great, the softcover book is disa...   \n",
       "...                                                   ...   \n",
       "96969                                   Mini Marshmallows   \n",
       "96961                    perfect, yummy mini marshmallows   \n",
       "553528                                   Used in lip balm   \n",
       "243209                                               MMMM   \n",
       "271661                             Reeks of chemicals....   \n",
       "271662                                              candy   \n",
       "220725                                            Eliquid   \n",
       "518235                                             Yummy!   \n",
       "402944                                            Eliquid   \n",
       "337641                                   Really horrible.   \n",
       "186416                    Pumpkin Pie Candy Flavoring Oil   \n",
       "409332  Toasted Cardboard with Nutrasweet sprinkled on...   \n",
       "409325            Very good vanilla, and in a powder too!   \n",
       "409327                                   Excellent flavor   \n",
       "409326          Nielsen-Massey Vanilla Powder from Amazon   \n",
       "409329    Best Vanilla Powder on the market for beverages   \n",
       "409321    More than 50% is Maltodextrin -- That's \"Pure\"?   \n",
       "409322  Pure GMO (genetically modified organism) Vanil...   \n",
       "409324                                 Deceptive Labeling   \n",
       "409333          Vanilla powder is necessary for happiness   \n",
       "409334                   Purest dry vanilla I could find!   \n",
       "409335                                          delicious   \n",
       "409323    pure?!?!?  maltodextrin?  lying sacks of ****!!   \n",
       "409331  GMO Maltodextrin in a product labled Pure Vani...   \n",
       "567318             The WORST. I THROW AWAY the whole bag.   \n",
       "567317             The WORST. I THROW AWAY the whole bag.   \n",
       "79199                                           seasoning   \n",
       "79198                                         Our secret!   \n",
       "297303                            cheesecake for my niece   \n",
       "297302                          Thumbs up from recipient!   \n",
       "\n",
       "                                                     Text  Positivity  \n",
       "150522  Summary:  A young boy describes the usefulness...           1  \n",
       "150503  A very entertaining rhyming story--cleaver and...           1  \n",
       "150504  Get the movie or sound track and sing along wi...           1  \n",
       "150505  I grew up reading these Sendak books, and watc...           1  \n",
       "150506  This is a fun way for children to learn their ...           1  \n",
       "150507  This is a great little book to read aloud- it ...           1  \n",
       "150509  TITLE: Chicken Soup with Rice<br />AUTHOR: Mau...           1  \n",
       "150510  A charming, rhyming book that describes the ci...           1  \n",
       "150511  I set aside at least an hour each day to read ...           1  \n",
       "150512  I remembered this book from my childhood and g...           1  \n",
       "150513  It's a great book with adorable illustrations....           1  \n",
       "150502  This is my grand daughter's and my favorite bo...           1  \n",
       "150514  This book is a family favorite and was read to...           1  \n",
       "150516  Classic children's book, can't go wrong. I rea...           1  \n",
       "150517  Great book, perfect condition arrived in a sho...           1  \n",
       "150518  I've always loved chicken soup and rice. My la...           1  \n",
       "150519  This book was purchased as a birthday gift for...           1  \n",
       "150520  My 7 year old daughter brought this book home ...           1  \n",
       "150521  This book contains a collection of twelve shor...           1  \n",
       "150523  this witty little book makes my son laugh at l...           1  \n",
       "150524  My daughter loves all the \"Really Rosie\" books...           1  \n",
       "150525  This is one of the best children's books ever ...           0  \n",
       "150528  In June<br />I saw a charming group<br />of ro...           1  \n",
       "150515  The same author wrote \"Where the Wild Things A...           1  \n",
       "150501  This copy is smaller than I expected (mostly b...           1  \n",
       "150508  This is a book of poetry about the months of t...           1  \n",
       "150499  This was a favorite book of mine when I was a ...           1  \n",
       "150498  This book has been a favorite of mine since I ...           1  \n",
       "150497  This is a wonderful little book. I loved it 40...           1  \n",
       "150496  I give five stars to the Maurice Sendak story....           0  \n",
       "...                                                   ...         ...  \n",
       "96969   Just what I was looking for.  Mini marshmallow...           1  \n",
       "96961   These mini marshmallows are perfect for hot ch...           1  \n",
       "553528  Used this flavoring with pre-made lip balm bas...           1  \n",
       "243209  This oil for our candy making is great and it ...           1  \n",
       "271661  Yes, I know it is chemicals that create the gr...           0  \n",
       "271662  I order from them all the time I get my stuff ...           1  \n",
       "220725  This oil is great for creating your own eliqui...           1  \n",
       "518235  A great deal on a hard to find flavor!<br />Ho...           1  \n",
       "402944  This oil is great for creating your own eliqui...           1  \n",
       "337641  Recently purchased this item for a recipe. Not...           0  \n",
       "186416  This was perfect.  I wanted to make pumpkin ba...           1  \n",
       "409332  From crazzeto's wife:<br /><br />My 5 month ol...           0  \n",
       "409325  The problem with most vanillas is that you can...           1  \n",
       "409327  Until recently I had not come across vanilla p...           1  \n",
       "409326  Love it! I mix my own hot drink mix and needed...           1  \n",
       "409329  I have tried several brands of Vanilla Powder ...           1  \n",
       "409321  I should have read the reviewers' comments bef...           0  \n",
       "409322  I bought this vanilla powder in Whole Foods, I...           0  \n",
       "409324  This is not \"Pure Vanilla\" as the label clearl...           0  \n",
       "409333  This is the BEST vanilla powder, or so he says...           1  \n",
       "409334  I use this in my instant hot cocoa mix and I c...           1  \n",
       "409335  Only a little is needed, the vanilla flavor is...           1  \n",
       "409323  very deceptive.  not what I wanted when I was ...           0  \n",
       "409331  This is basically misleading advertising. They...           0  \n",
       "567318  This is the worst dried mango product. I taste...           0  \n",
       "567317  This is the worst dried mango product. I taste...           0  \n",
       "79199   This is one of the BEST spices I have ever use...           1  \n",
       "79198   We use this blend for most of our outdoor gril...           1  \n",
       "297303  I sent this to my niece in CA.  She was having...           1  \n",
       "297302  While the shipping fee was a little more than ...           1  \n",
       "\n",
       "[5000 rows x 10 columns]"
      ]
     },
     "execution_count": 26,
     "metadata": {},
     "output_type": "execute_result"
    }
   ],
   "source": [
    "final"
   ]
  },
  {
   "cell_type": "code",
   "execution_count": 27,
   "metadata": {},
   "outputs": [],
   "source": [
    "# Cleaning the texts\n",
    "import re\n",
    "import string\n",
    "from nltk.corpus import stopwords\n",
    "from nltk.stem import PorterStemmer\n",
    "ps = PorterStemmer()\n",
    "from nltk.stem.wordnet import WordNetLemmatizer"
   ]
  },
  {
   "cell_type": "code",
   "execution_count": 28,
   "metadata": {},
   "outputs": [
    {
     "name": "stderr",
     "output_type": "stream",
     "text": [
      "[nltk_data] Downloading package stopwords to\n",
      "[nltk_data]     C:\\Users\\HP\\AppData\\Roaming\\nltk_data...\n",
      "[nltk_data]   Package stopwords is already up-to-date!\n"
     ]
    },
    {
     "data": {
      "text/plain": [
       "True"
      ]
     },
     "execution_count": 28,
     "metadata": {},
     "output_type": "execute_result"
    }
   ],
   "source": [
    "from nltk import stem\n",
    "import nltk\n",
    "nltk.download('stopwords')"
   ]
  },
  {
   "cell_type": "code",
   "execution_count": 29,
   "metadata": {},
   "outputs": [],
   "source": [
    "import re\n",
    "\n",
    "def decontracted(phrase):\n",
    "    # specific\n",
    "    phrase = re.sub(r\"won't\", \"will not\", phrase)\n",
    "    phrase = re.sub(r\"can\\'t\", \"can not\", phrase)\n",
    "\n",
    "    # general\n",
    "    phrase = re.sub(r\"n\\'t\", \" not\", phrase)\n",
    "    phrase = re.sub(r\"\\'re\", \" are\", phrase)\n",
    "    phrase = re.sub(r\"\\'s\", \" is\", phrase)\n",
    "    phrase = re.sub(r\"\\'d\", \" would\", phrase)\n",
    "    phrase = re.sub(r\"\\'ll\", \" will\", phrase)\n",
    "    phrase = re.sub(r\"\\'t\", \" not\", phrase)\n",
    "    phrase = re.sub(r\"\\'ve\", \" have\", phrase)\n",
    "    phrase = re.sub(r\"\\'m\", \" am\", phrase)\n",
    "    return phrase"
   ]
  },
  {
   "cell_type": "code",
   "execution_count": 30,
   "metadata": {},
   "outputs": [
    {
     "data": {
      "text/plain": [
       "Index(['Id', 'ProductId', 'UserId', 'ProfileName', 'HelpfulnessNumerator',\n",
       "       'HelpfulnessDenominator', 'Time', 'Summary', 'Text', 'Positivity'],\n",
       "      dtype='object')"
      ]
     },
     "execution_count": 30,
     "metadata": {},
     "output_type": "execute_result"
    }
   ],
   "source": [
    "final.columns"
   ]
  },
  {
   "cell_type": "code",
   "execution_count": 31,
   "metadata": {},
   "outputs": [
    {
     "name": "stderr",
     "output_type": "stream",
     "text": [
      "  0%|                                                 | 0/5000 [00:00<?, ?it/s]c:\\users\\hp\\appdata\\local\\programs\\python\\python36\\lib\\site-packages\\pandas\\core\\indexes\\api.py:107: RuntimeWarning: '<' not supported between instances of 'str' and 'int', sort order is undefined for incomparable objects\n",
      "  result = result.union(other)\n",
      "100%|██████████████████████████████████████| 5000/5000 [34:13<00:00,  2.32it/s]\n"
     ]
    },
    {
     "name": "stdout",
     "output_type": "stream",
     "text": [
      "love\n"
     ]
    }
   ],
   "source": [
    "from tqdm import tqdm\n",
    "corpus = []\n",
    "for sentance in tqdm(final[\"Text\"].values):\n",
    "    #remove the tags\n",
    "    cleanr = re.compile('<.*?>')\n",
    "    review = re.sub(cleanr, ' ', sentance)\n",
    "    review = decontracted(review)\n",
    "    #remove the numeric values\n",
    "    review = re.sub('[^a-zA-Z]', ' ', review)\n",
    "    #remove the special characters\n",
    "    review = re.sub(r'[?|!|\\'|\"|#]',r'',review)\n",
    "    review = re.sub(r'[.|,|)|(|\\|/]',r' ',review)\n",
    "    #convert all to lower\n",
    "    review = review.lower()\n",
    "    #splilt the sentence to words\n",
    "    review = review.split()\n",
    "    #remove the stop words\n",
    "    review = [ps.stem(word) for word in review if not word in set(stopwords.words('english'))]\n",
    "    review = ' '.join(review)\n",
    "    corpus.append(review)\n",
    "    final.append(corpus)\n",
    "print(ps.stem('Loved'))"
   ]
  },
  {
   "cell_type": "code",
   "execution_count": 33,
   "metadata": {},
   "outputs": [
    {
     "name": "stdout",
     "output_type": "stream",
     "text": [
      "Saved model to disk\n"
     ]
    }
   ],
   "source": [
    "import pickle\n",
    "filename = \"C:\\\\Users\\\\HP\\\\Desktop\\\\MLDATASETS\\\\data\\\\model\\\\AFFRR1.clf\"\n",
    "fileobj = open(filename, 'wb')\n",
    "pickle.dump(final, fileobj)\n",
    "print(\"Saved model to disk\")"
   ]
  },
  {
   "cell_type": "code",
   "execution_count": 34,
   "metadata": {},
   "outputs": [
    {
     "data": {
      "text/html": [
       "<div>\n",
       "<style scoped>\n",
       "    .dataframe tbody tr th:only-of-type {\n",
       "        vertical-align: middle;\n",
       "    }\n",
       "\n",
       "    .dataframe tbody tr th {\n",
       "        vertical-align: top;\n",
       "    }\n",
       "\n",
       "    .dataframe thead th {\n",
       "        text-align: right;\n",
       "    }\n",
       "</style>\n",
       "<table border=\"1\" class=\"dataframe\">\n",
       "  <thead>\n",
       "    <tr style=\"text-align: right;\">\n",
       "      <th></th>\n",
       "      <th>Id</th>\n",
       "      <th>ProductId</th>\n",
       "      <th>UserId</th>\n",
       "      <th>ProfileName</th>\n",
       "      <th>HelpfulnessNumerator</th>\n",
       "      <th>HelpfulnessDenominator</th>\n",
       "      <th>Time</th>\n",
       "      <th>Summary</th>\n",
       "      <th>Text</th>\n",
       "      <th>Positivity</th>\n",
       "    </tr>\n",
       "  </thead>\n",
       "  <tbody>\n",
       "    <tr>\n",
       "      <th>150522</th>\n",
       "      <td>150523</td>\n",
       "      <td>0006641040</td>\n",
       "      <td>A2P4F2UO0UMP8C</td>\n",
       "      <td>Elizabeth A. Curry \"Lovely Librarian\"</td>\n",
       "      <td>0</td>\n",
       "      <td>0</td>\n",
       "      <td>1096675200</td>\n",
       "      <td>MMMM chicken soup....</td>\n",
       "      <td>Summary:  A young boy describes the usefulness...</td>\n",
       "      <td>1</td>\n",
       "    </tr>\n",
       "    <tr>\n",
       "      <th>150503</th>\n",
       "      <td>150504</td>\n",
       "      <td>0006641040</td>\n",
       "      <td>AQEYF1AXARWJZ</td>\n",
       "      <td>Les Sinclair \"book maven\"</td>\n",
       "      <td>1</td>\n",
       "      <td>1</td>\n",
       "      <td>1212278400</td>\n",
       "      <td>Chicken Soup with Rice</td>\n",
       "      <td>A very entertaining rhyming story--cleaver and...</td>\n",
       "      <td>1</td>\n",
       "    </tr>\n",
       "    <tr>\n",
       "      <th>150504</th>\n",
       "      <td>150505</td>\n",
       "      <td>0006641040</td>\n",
       "      <td>A2PTSM496CF40Z</td>\n",
       "      <td>Jason A. Teeple \"Nobody made a greater mistak...</td>\n",
       "      <td>1</td>\n",
       "      <td>1</td>\n",
       "      <td>1210809600</td>\n",
       "      <td>A classic</td>\n",
       "      <td>Get the movie or sound track and sing along wi...</td>\n",
       "      <td>1</td>\n",
       "    </tr>\n",
       "    <tr>\n",
       "      <th>150505</th>\n",
       "      <td>150506</td>\n",
       "      <td>0006641040</td>\n",
       "      <td>A2IW4PEEKO2R0U</td>\n",
       "      <td>Tracy</td>\n",
       "      <td>1</td>\n",
       "      <td>1</td>\n",
       "      <td>1194739200</td>\n",
       "      <td>Love the book, miss the hard cover version</td>\n",
       "      <td>I grew up reading these Sendak books, and watc...</td>\n",
       "      <td>1</td>\n",
       "    </tr>\n",
       "    <tr>\n",
       "      <th>150506</th>\n",
       "      <td>150507</td>\n",
       "      <td>0006641040</td>\n",
       "      <td>A1S4A3IQ2MU7V4</td>\n",
       "      <td>sally sue \"sally sue\"</td>\n",
       "      <td>1</td>\n",
       "      <td>1</td>\n",
       "      <td>1191456000</td>\n",
       "      <td>chicken soup with rice months</td>\n",
       "      <td>This is a fun way for children to learn their ...</td>\n",
       "      <td>1</td>\n",
       "    </tr>\n",
       "  </tbody>\n",
       "</table>\n",
       "</div>"
      ],
      "text/plain": [
       "            Id   ProductId          UserId  \\\n",
       "150522  150523  0006641040  A2P4F2UO0UMP8C   \n",
       "150503  150504  0006641040   AQEYF1AXARWJZ   \n",
       "150504  150505  0006641040  A2PTSM496CF40Z   \n",
       "150505  150506  0006641040  A2IW4PEEKO2R0U   \n",
       "150506  150507  0006641040  A1S4A3IQ2MU7V4   \n",
       "\n",
       "                                             ProfileName  \\\n",
       "150522             Elizabeth A. Curry \"Lovely Librarian\"   \n",
       "150503                         Les Sinclair \"book maven\"   \n",
       "150504  Jason A. Teeple \"Nobody made a greater mistak...   \n",
       "150505                                             Tracy   \n",
       "150506                             sally sue \"sally sue\"   \n",
       "\n",
       "        HelpfulnessNumerator  HelpfulnessDenominator        Time  \\\n",
       "150522                     0                       0  1096675200   \n",
       "150503                     1                       1  1212278400   \n",
       "150504                     1                       1  1210809600   \n",
       "150505                     1                       1  1194739200   \n",
       "150506                     1                       1  1191456000   \n",
       "\n",
       "                                           Summary  \\\n",
       "150522                       MMMM chicken soup....   \n",
       "150503                      Chicken Soup with Rice   \n",
       "150504                                   A classic   \n",
       "150505  Love the book, miss the hard cover version   \n",
       "150506               chicken soup with rice months   \n",
       "\n",
       "                                                     Text  Positivity  \n",
       "150522  Summary:  A young boy describes the usefulness...           1  \n",
       "150503  A very entertaining rhyming story--cleaver and...           1  \n",
       "150504  Get the movie or sound track and sing along wi...           1  \n",
       "150505  I grew up reading these Sendak books, and watc...           1  \n",
       "150506  This is a fun way for children to learn their ...           1  "
      ]
     },
     "execution_count": 34,
     "metadata": {},
     "output_type": "execute_result"
    }
   ],
   "source": [
    " #adding a column of CleanedText which displays the data after pre-processing of the test\n",
    "final.head()"
   ]
  },
  {
   "cell_type": "code",
   "execution_count": 36,
   "metadata": {},
   "outputs": [],
   "source": [
    "y= final['Positivity'].values\n",
    "X = final[\"Text\"].values"
   ]
  },
  {
   "cell_type": "code",
   "execution_count": 37,
   "metadata": {},
   "outputs": [],
   "source": [
    "# Splitting the dataset into the Training set and Test set\n",
    "from sklearn.model_selection import train_test_split\n",
    "X_train, X_test, y_train, y_test = train_test_split(X, y, test_size = 0.20, random_state = 0)"
   ]
  },
  {
   "cell_type": "code",
   "execution_count": 38,
   "metadata": {},
   "outputs": [],
   "source": [
    "# Creating the Bag of Words model by n_gram\n",
    "from sklearn.feature_extraction.text import CountVectorizer\n",
    "cv = CountVectorizer(max_features=1500,ngram_range=(1,2) )\n",
    "X_train = cv.fit_transform(X_train)\n",
    "X_test=cv.transform(X_test)"
   ]
  },
  {
   "cell_type": "code",
   "execution_count": 40,
   "metadata": {},
   "outputs": [
    {
     "name": "stdout",
     "output_type": "stream",
     "text": [
      "<class 'scipy.sparse.csr.csr_matrix'>\n",
      "<class 'scipy.sparse.csr.csr_matrix'>\n",
      "(4000, 1500)\n",
      "(4000,)\n"
     ]
    }
   ],
   "source": [
    "print(type(X_train))\n",
    "print(type(X_test))\n",
    "print(X_train.shape)\n",
    "print(y_train.shape)\n"
   ]
  },
  {
   "cell_type": "code",
   "execution_count": 41,
   "metadata": {},
   "outputs": [],
   "source": [
    "X_train=X_train.toarray()\n",
    "X_test=X_test.toarray()"
   ]
  },
  {
   "cell_type": "code",
   "execution_count": 42,
   "metadata": {},
   "outputs": [
    {
     "data": {
      "text/plain": [
       "GaussianNB(priors=None, var_smoothing=1e-09)"
      ]
     },
     "execution_count": 42,
     "metadata": {},
     "output_type": "execute_result"
    }
   ],
   "source": [
    "# Fitting Naive Bayes to the Training set\n",
    "from sklearn.naive_bayes import GaussianNB\n",
    "classifier = GaussianNB()\n",
    "classifier.fit(X_train, y_train)"
   ]
  },
  {
   "cell_type": "code",
   "execution_count": 43,
   "metadata": {},
   "outputs": [],
   "source": [
    "# Predicting the Test set results\n",
    "y_pred = classifier.predict(X_test)\n",
    "y_pred1 = classifier.predict(X_train)"
   ]
  },
  {
   "cell_type": "code",
   "execution_count": 46,
   "metadata": {},
   "outputs": [
    {
     "name": "stdout",
     "output_type": "stream",
     "text": [
      "0.696\n",
      "              precision    recall  f1-score   support\n",
      "\n",
      "           0       0.30      0.76      0.43       149\n",
      "           1       0.94      0.69      0.79       851\n",
      "\n",
      "   micro avg       0.70      0.70      0.70      1000\n",
      "   macro avg       0.62      0.72      0.61      1000\n",
      "weighted avg       0.85      0.70      0.74      1000\n",
      "\n"
     ]
    },
    {
     "data": {
      "image/png": "[encoded data removed]",
      "text/plain": [
       "<Figure size 432x288 with 2 Axes>"
      ]
     },
     "metadata": {
      "needs_background": "light"
     },
     "output_type": "display_data"
    }
   ],
   "source": [
    "# Making the Confusion Matrix\n",
    "from sklearn.metrics import confusion_matrix,accuracy_score,classification_report\n",
    "cm = confusion_matrix(y_test, y_pred)\n",
    "sns.heatmap(cm)\n",
    "print(accuracy_score(y_test, y_pred))\n",
    "print(classification_report(y_test, y_pred))\n",
    "\n"
   ]
  },
  {
   "cell_type": "code",
   "execution_count": 47,
   "metadata": {},
   "outputs": [
    {
     "name": "stdout",
     "output_type": "stream",
     "text": [
      "0.736\n",
      "              precision    recall  f1-score   support\n",
      "\n",
      "           0       0.40      0.88      0.55       738\n",
      "           1       0.96      0.70      0.81      3262\n",
      "\n",
      "   micro avg       0.74      0.74      0.74      4000\n",
      "   macro avg       0.68      0.79      0.68      4000\n",
      "weighted avg       0.86      0.74      0.76      4000\n",
      "\n"
     ]
    },
    {
     "data": {
      "image/png": "[encoded data removed]",
      "text/plain": [
       "<Figure size 432x288 with 2 Axes>"
      ]
     },
     "metadata": {
      "needs_background": "light"
     },
     "output_type": "display_data"
    }
   ],
   "source": [
    "# Making the Confusion Matrix\n",
    "from sklearn.metrics import confusion_matrix,accuracy_score,classification_report\n",
    "cm = confusion_matrix(y_train, y_pred1)\n",
    "sns.heatmap(cm)\n",
    "print(accuracy_score(y_train,y_pred1))\n",
    "print(classification_report(y_train,y_pred1))\n",
    "\n"
   ]
  },
  {
   "cell_type": "code",
   "execution_count": 48,
   "metadata": {},
   "outputs": [],
   "source": [
    "#************************ 10 fold cross validation **************************************************************"
   ]
  },
  {
   "cell_type": "code",
   "execution_count": 49,
   "metadata": {},
   "outputs": [
    {
     "data": {
      "text/plain": [
       "[1, 3, 5, 7, 9, 11, 13, 15, 17, 19, 21, 23, 25, 27, 29]"
      ]
     },
     "execution_count": 49,
     "metadata": {},
     "output_type": "execute_result"
    }
   ],
   "source": [
    "klist = list(range(1,30,2))\n",
    "klist"
   ]
  },
  {
   "cell_type": "code",
   "execution_count": 52,
   "metadata": {},
   "outputs": [
    {
     "data": {
      "image/png": "[encoded data removed]",
      "text/plain": [
       "<Figure size 432x288 with 1 Axes>"
      ]
     },
     "metadata": {
      "needs_background": "light"
     },
     "output_type": "display_data"
    }
   ],
   "source": [
    "from sklearn.neighbors import KNeighborsClassifier\n",
    "from sklearn.model_selection import cross_val_score\n",
    "cv_scores = []\n",
    "for k in klist:\n",
    "    knn = KNeighborsClassifier(n_neighbors=k, n_jobs=-1)\n",
    "    scores = cross_val_score(knn, X_train, y_train, cv=10, scoring='accuracy', n_jobs=-1)\n",
    "    cv_scores.append(scores.mean())\n",
    "    \n",
    "error = [1 - x for x in cv_scores]\n",
    "optimal_k = klist[error.index(min(error))]\n",
    "plt.plot(klist, error)\n",
    "xy = (optimal_k, min(error))\n",
    "plt.annotate('(%s, %s)' % xy, xy = xy, textcoords='data')\n",
    "plt.xlabel(\"Number of neighbours 'k'\")\n",
    "plt.ylabel(\"Misclassification Error\")\n",
    "plt.show()"
   ]
  },
  {
   "cell_type": "code",
   "execution_count": 53,
   "metadata": {},
   "outputs": [
    {
     "data": {
      "text/plain": [
       "11"
      ]
     },
     "execution_count": 53,
     "metadata": {},
     "output_type": "execute_result"
    }
   ],
   "source": [
    "optimal_k"
   ]
  },
  {
   "cell_type": "code",
   "execution_count": 55,
   "metadata": {},
   "outputs": [
    {
     "name": "stdout",
     "output_type": "stream",
     "text": [
      "\n",
      "The accuracy of the knn classifier for k = 11 is 85.300000%\n"
     ]
    }
   ],
   "source": [
    "# Accuracy on test data;\n",
    "knn = KNeighborsClassifier(n_neighbors=optimal_k, n_jobs=-1)\n",
    "knn.fit(X_train, y_train)\n",
    "y_pred = knn.predict(X_test)\n",
    "acc = accuracy_score(y_test, y_pred) * 100\n",
    "print('\\nThe accuracy of the knn classifier for k = %d is %f%%' % (optimal_k, acc))"
   ]
  },
  {
   "cell_type": "code",
   "execution_count": 32,
   "metadata": {},
   "outputs": [],
   "source": [
    "#***********************  TF_IDF   ********************************"
   ]
  },
  {
   "cell_type": "code",
   "execution_count": null,
   "metadata": {},
   "outputs": [],
   "source": [
    "#tf_idf_vect \n",
    "from sklearn.feature_extraction.text import TfidfTransformer\n",
    "from sklearn.feature_extraction.text import TfidfVectorizer\n",
    "tf_idf_vect = TfidfVectorizer(ngram_range=(1,2))\n",
    "X_train = tf_idf_vect.fit_transform(X_train)\n",
    "X_test=tf_idf_vect.transform(X_test)"
   ]
  },
  {
   "cell_type": "code",
   "execution_count": null,
   "metadata": {},
   "outputs": [],
   "source": [
    "X_train.get_shape()"
   ]
  },
  {
   "cell_type": "code",
   "execution_count": null,
   "metadata": {},
   "outputs": [],
   "source": [
    "# Fitting Logistic regression to the Training set\n",
    "from sklearn.linear_model import LogisticRegression\n",
    "classifier = LogisticRegression()\n",
    "classifier.fit(X_train, y_train)"
   ]
  },
  {
   "cell_type": "code",
   "execution_count": null,
   "metadata": {},
   "outputs": [],
   "source": [
    "# Predicting the Test set results\n",
    "y_pred = classifier.predict(X_test)"
   ]
  },
  {
   "cell_type": "code",
   "execution_count": null,
   "metadata": {},
   "outputs": [],
   "source": [
    "# Making the Confusion Matrix\n",
    "from sklearn.metrics import confusion_matrix\n",
    "cm = confusion_matrix(y_test, y_pred)\n",
    "cm"
   ]
  },
  {
   "cell_type": "code",
   "execution_count": 23,
   "metadata": {},
   "outputs": [],
   "source": [
    "#upsampling\n",
    "from sklearn.utils import resample\n",
    "# Separate majority and minority classes\n",
    "df_majority = final[final.Positivity==1]\n",
    "df_minority = final[final.Positivity==0]\n",
    "# Upsample minority class\n",
    "df_minority_upsampled = resample(df_minority, \n",
    "                                 replace=True,     # sample with replacement\n",
    "                                 n_samples=307054,    # to match majority class\n",
    "                                 random_state=123) # reproducible results\n",
    " \n",
    "# Combine majority class with upsampled minority class\n",
    "df_upsampled = pd.concat([df_majority, df_minority_upsampled])"
   ]
  },
  {
   "cell_type": "code",
   "execution_count": 24,
   "metadata": {},
   "outputs": [
    {
     "data": {
      "text/plain": [
       "<matplotlib.axes._subplots.AxesSubplot at 0x28802963c8>"
      ]
     },
     "execution_count": 24,
     "metadata": {},
     "output_type": "execute_result"
    },
    {
     "data": {
      "image/png": "[encoded data removed]",
      "text/plain": [
       "<Figure size 432x288 with 1 Axes>"
      ]
     },
     "metadata": {
      "needs_background": "light"
     },
     "output_type": "display_data"
    }
   ],
   "source": [
    "sns.countplot(df_upsampled[\"Positivity\"])"
   ]
  },
  {
   "cell_type": "code",
   "execution_count": 25,
   "metadata": {},
   "outputs": [],
   "source": [
    "# Sorting data based on time\n",
    "df_upsampled[\"Time\"] = pd.to_datetime(df_upsampled[\"Time\"], unit = \"s\")\n",
    "df_upsampled= df_upsampled.sort_values(by = \"Time\")"
   ]
  },
  {
   "cell_type": "code",
   "execution_count": 26,
   "metadata": {},
   "outputs": [],
   "source": [
    "# Cleaning the texts\n",
    "import re\n",
    "import string\n",
    "from nltk.corpus import stopwords\n",
    "from nltk.stem import PorterStemmer\n",
    "ps = PorterStemmer()\n",
    "from nltk.stem.wordnet import WordNetLemmatizer"
   ]
  },
  {
   "cell_type": "code",
   "execution_count": 27,
   "metadata": {},
   "outputs": [
    {
     "name": "stderr",
     "output_type": "stream",
     "text": [
      "[nltk_data] Error loading stopwords: <urlopen error [Errno 11001]\n",
      "[nltk_data]     getaddrinfo failed>\n"
     ]
    },
    {
     "data": {
      "text/plain": [
       "False"
      ]
     },
     "execution_count": 27,
     "metadata": {},
     "output_type": "execute_result"
    }
   ],
   "source": [
    "from nltk import stem\n",
    "import nltk\n",
    "nltk.download('stopwords')"
   ]
  },
  {
   "cell_type": "code",
   "execution_count": 28,
   "metadata": {},
   "outputs": [],
   "source": [
    "def decontracted(phrase):\n",
    "    # specific\n",
    "    phrase = re.sub(r\"won't\", \"will not\", phrase)\n",
    "    phrase = re.sub(r\"can\\'t\", \"can not\", phrase)\n",
    "\n",
    "    # general\n",
    "    phrase = re.sub(r\"n\\'t\", \" not\", phrase)\n",
    "    phrase = re.sub(r\"\\'re\", \" are\", phrase)\n",
    "    phrase = re.sub(r\"\\'s\", \" is\", phrase)\n",
    "    phrase = re.sub(r\"\\'d\", \" would\", phrase)\n",
    "    phrase = re.sub(r\"\\'ll\", \" will\", phrase)\n",
    "    phrase = re.sub(r\"\\'t\", \" not\", phrase)\n",
    "    phrase = re.sub(r\"\\'ve\", \" have\", phrase)\n",
    "    phrase = re.sub(r\"\\'m\", \" am\", phrase)\n",
    "    return phrase"
   ]
  },
  {
   "cell_type": "code",
   "execution_count": 31,
   "metadata": {},
   "outputs": [
    {
     "data": {
      "text/html": [
       "<div>\n",
       "<style scoped>\n",
       "    .dataframe tbody tr th:only-of-type {\n",
       "        vertical-align: middle;\n",
       "    }\n",
       "\n",
       "    .dataframe tbody tr th {\n",
       "        vertical-align: top;\n",
       "    }\n",
       "\n",
       "    .dataframe thead th {\n",
       "        text-align: right;\n",
       "    }\n",
       "</style>\n",
       "<table border=\"1\" class=\"dataframe\">\n",
       "  <thead>\n",
       "    <tr style=\"text-align: right;\">\n",
       "      <th></th>\n",
       "      <th>Id</th>\n",
       "      <th>ProductId</th>\n",
       "      <th>UserId</th>\n",
       "      <th>ProfileName</th>\n",
       "      <th>HelpfulnessNumerator</th>\n",
       "      <th>HelpfulnessDenominator</th>\n",
       "      <th>Time</th>\n",
       "      <th>Summary</th>\n",
       "      <th>Text</th>\n",
       "      <th>Positivity</th>\n",
       "    </tr>\n",
       "  </thead>\n",
       "  <tbody>\n",
       "    <tr>\n",
       "      <th>150523</th>\n",
       "      <td>150524</td>\n",
       "      <td>0006641040</td>\n",
       "      <td>ACITT7DI6IDDL</td>\n",
       "      <td>shari zychinski</td>\n",
       "      <td>0</td>\n",
       "      <td>0</td>\n",
       "      <td>1999-10-08</td>\n",
       "      <td>EVERY book is educational</td>\n",
       "      <td>this witty little book makes my son laugh at l...</td>\n",
       "      <td>1</td>\n",
       "    </tr>\n",
       "    <tr>\n",
       "      <th>150500</th>\n",
       "      <td>150501</td>\n",
       "      <td>0006641040</td>\n",
       "      <td>AJ46FKXOVC7NR</td>\n",
       "      <td>Nicholas A Mesiano</td>\n",
       "      <td>2</td>\n",
       "      <td>2</td>\n",
       "      <td>1999-10-25</td>\n",
       "      <td>This whole series is great way to spend time w...</td>\n",
       "      <td>I can remember seeing the show when it aired o...</td>\n",
       "      <td>1</td>\n",
       "    </tr>\n",
       "    <tr>\n",
       "      <th>451855</th>\n",
       "      <td>451856</td>\n",
       "      <td>B00004CXX9</td>\n",
       "      <td>AIUWLEQ1ADEG5</td>\n",
       "      <td>Elizabeth Medina</td>\n",
       "      <td>0</td>\n",
       "      <td>0</td>\n",
       "      <td>1999-12-02</td>\n",
       "      <td>Entertainingl Funny!</td>\n",
       "      <td>Beetlejuice is a well written movie ..... ever...</td>\n",
       "      <td>1</td>\n",
       "    </tr>\n",
       "    <tr>\n",
       "      <th>374358</th>\n",
       "      <td>374359</td>\n",
       "      <td>B00004CI84</td>\n",
       "      <td>A344SMIA5JECGM</td>\n",
       "      <td>Vincent P. Ross</td>\n",
       "      <td>1</td>\n",
       "      <td>2</td>\n",
       "      <td>1999-12-06</td>\n",
       "      <td>A modern day fairy tale</td>\n",
       "      <td>A twist of rumplestiskin captured on film, sta...</td>\n",
       "      <td>1</td>\n",
       "    </tr>\n",
       "    <tr>\n",
       "      <th>451854</th>\n",
       "      <td>451855</td>\n",
       "      <td>B00004CXX9</td>\n",
       "      <td>AJH6LUC1UT1ON</td>\n",
       "      <td>The Phantom of the Opera</td>\n",
       "      <td>0</td>\n",
       "      <td>0</td>\n",
       "      <td>2000-01-03</td>\n",
       "      <td>FANTASTIC!</td>\n",
       "      <td>Beetlejuice is an excellent and funny movie. K...</td>\n",
       "      <td>1</td>\n",
       "    </tr>\n",
       "  </tbody>\n",
       "</table>\n",
       "</div>"
      ],
      "text/plain": [
       "            Id   ProductId          UserId               ProfileName  \\\n",
       "150523  150524  0006641040   ACITT7DI6IDDL           shari zychinski   \n",
       "150500  150501  0006641040   AJ46FKXOVC7NR        Nicholas A Mesiano   \n",
       "451855  451856  B00004CXX9   AIUWLEQ1ADEG5          Elizabeth Medina   \n",
       "374358  374359  B00004CI84  A344SMIA5JECGM           Vincent P. Ross   \n",
       "451854  451855  B00004CXX9   AJH6LUC1UT1ON  The Phantom of the Opera   \n",
       "\n",
       "        HelpfulnessNumerator  HelpfulnessDenominator       Time  \\\n",
       "150523                     0                       0 1999-10-08   \n",
       "150500                     2                       2 1999-10-25   \n",
       "451855                     0                       0 1999-12-02   \n",
       "374358                     1                       2 1999-12-06   \n",
       "451854                     0                       0 2000-01-03   \n",
       "\n",
       "                                                  Summary  \\\n",
       "150523                          EVERY book is educational   \n",
       "150500  This whole series is great way to spend time w...   \n",
       "451855                               Entertainingl Funny!   \n",
       "374358                            A modern day fairy tale   \n",
       "451854                                         FANTASTIC!   \n",
       "\n",
       "                                                     Text  Positivity  \n",
       "150523  this witty little book makes my son laugh at l...           1  \n",
       "150500  I can remember seeing the show when it aired o...           1  \n",
       "451855  Beetlejuice is a well written movie ..... ever...           1  \n",
       "374358  A twist of rumplestiskin captured on film, sta...           1  \n",
       "451854  Beetlejuice is an excellent and funny movie. K...           1  "
      ]
     },
     "execution_count": 31,
     "metadata": {},
     "output_type": "execute_result"
    }
   ],
   "source": [
    "df_upsampled.head()"
   ]
  },
  {
   "cell_type": "code",
   "execution_count": null,
   "metadata": {},
   "outputs": [],
   "source": [
    "from tqdm import tqdm\n",
    "corpus = []\n",
    "for sentance in tqdm(dataset[\"Review\"].values):\n",
    "    #remove the tags\n",
    "    cleanr = re.compile('<.*?>')\n",
    "    review = re.sub(cleanr, ' ', sentance)\n",
    "    review = decontracted(review)\n",
    "    #remove the numeric values\n",
    "    review = re.sub('[^a-zA-Z]', ' ', review)\n",
    "    #remove the special characters\n",
    "    review = re.sub(r'[?|!|\\'|\"|#]',r'',review)\n",
    "    review = re.sub(r'[.|,|)|(|\\|/]',r' ',review)\n",
    "    #convert all to lower\n",
    "    review = review.lower()\n",
    "    #splilt the sentence to words\n",
    "    review = review.split()\n",
    "    #remove the stop words\n",
    "    review = [ps.stem(word) for word in review if not word in set(stopwords.words('english'))]\n",
    "    review = ' '.join(review)\n",
    "    corpus.append(review)\n",
    "    dataset.append(corpus)\n",
    "print(ps.stem('Loved'))"
   ]
  },
  {
   "cell_type": "code",
   "execution_count": null,
   "metadata": {},
   "outputs": [],
   "source": []
  },
  {
   "cell_type": "code",
   "execution_count": null,
   "metadata": {},
   "outputs": [],
   "source": []
  },
  {
   "cell_type": "code",
   "execution_count": null,
   "metadata": {},
   "outputs": [],
   "source": []
  },
  {
   "cell_type": "code",
   "execution_count": 105,
   "metadata": {},
   "outputs": [
    {
     "name": "stderr",
     "output_type": "stream",
     "text": [
      "100%|█████████████████████████████████| 491286/491286 [18:11<00:00, 450.13it/s]\n"
     ]
    }
   ],
   "source": [
    "# Combining all the  \n",
    "import re\n",
    "from tqdm import tqdm\n",
    "from bs4 import BeautifulSoup\n",
    "preprocessed_reviews = []\n",
    "# tqdm is for printing the status bar\n",
    "for sentance in tqdm(X_train.values):\n",
    "    sentance = re.sub(r\"http\\S+\", \"\", sentance)\n",
    "    sentance = BeautifulSoup(sentance, 'lxml').get_text()\n",
    "    sentance = decontracted(sentance)\n",
    "    sentance = re.sub(\"\\S*\\d\\S*\", \"\", sentance).strip()\n",
    "    sentance = re.sub('[^A-Za-z]+', ' ', sentance)\n",
    "    re.sub(r'[?|!|\\'|\"|#]',r' ',sentance)\n",
    "    re.sub(r'[.|,|)|(|\\|/]',r' ',sentance)\n",
    "    sentance = ' '.join(e.lower() for e in sentance.split() if e.lower() not in stopwords)\n",
    "    preprocessed_reviews.append(sentance.strip())"
   ]
  },
  {
   "cell_type": "code",
   "execution_count": 119,
   "metadata": {},
   "outputs": [
    {
     "data": {
      "text/plain": [
       "(491286,)"
      ]
     },
     "execution_count": 119,
     "metadata": {},
     "output_type": "execute_result"
    }
   ],
   "source": [
    "y_train.shape"
   ]
  },
  {
   "cell_type": "code",
   "execution_count": 106,
   "metadata": {},
   "outputs": [],
   "source": [
    "import pickle\n",
    "filename = \"C:\\\\Users\\\\HP\\\\Desktop\\\\MLDATASETS\\\\data\\\\model\\\\AFFRR1.clf\"\n",
    "fileobj = open(filename, 'wb')\n",
    "pickle.dump(preprocessed_reviews, fileobj)"
   ]
  },
  {
   "cell_type": "code",
   "execution_count": 107,
   "metadata": {},
   "outputs": [
    {
     "data": {
      "text/plain": [
       "'taste scent gourmet instant coffee rich inviting definitely taste vanilla add appropriate amount water coffee tastes great instant otherwise likely end weak brew packaging not quite easy open use teeth make dent stick single serving size may not generate enough coffee coffee drinkers good chance diluting happened first time used compromising taste would like drink coffee use sticks previous reviewer pointed may quick pick shot afternoon'"
      ]
     },
     "execution_count": 107,
     "metadata": {},
     "output_type": "execute_result"
    }
   ],
   "source": [
    "# printing some random reviews\n",
    " preprocessed_reviews[1]"
   ]
  },
  {
   "cell_type": "code",
   "execution_count": 118,
   "metadata": {},
   "outputs": [
    {
     "name": "stdout",
     "output_type": "stream",
     "text": [
      "some feature names  ['aa', 'aaa', 'aaaa', 'aaaaa', 'aaaaaa', 'aaaaaaaaaaa', 'aaaaaaaaaaaaaa', 'aaaaaaaaaaaaaaa', 'aaaaaaaaaaaaaaaaaaaargh', 'aaaaaaaaaaaaaaaaacccccccckkkkkk']\n",
      "==================================================\n",
      "the type of count vectorizer  <class 'scipy.sparse.csr.csr_matrix'>\n",
      "the shape of out text BOW vectorizer  (122822, 62078)\n",
      "the number of unique words  62078\n"
     ]
    }
   ],
   "source": [
    "#BoW X_train\n",
    "\n",
    "from sklearn.feature_extraction.text import CountVectorizer\n",
    "count_vect = CountVectorizer() #in scikit-learn\n",
    "final_counts =count_vect.fit_transform(X_train)\n",
    "print(\"some feature names \", count_vect.get_feature_names()[:10])\n",
    "print('='*50)\n",
    "\n",
    "print(\"the type of count vectorizer \",type(final_counts))\n",
    "print(\"the shape of out text BOW vectorizer \",final_counts.get_shape())\n",
    "print(\"the number of unique words \", final_counts.get_shape()[1])"
   ]
  },
  {
   "cell_type": "code",
   "execution_count": 111,
   "metadata": {},
   "outputs": [
    {
     "name": "stdout",
     "output_type": "stream",
     "text": [
      "some feature names  ['00', '000', '0000', '000001', '000013', '0001', '0004', '000iu', '000mg', '001']\n",
      "==================================================\n",
      "the type of count vectorizer  <class 'scipy.sparse.csr.csr_matrix'>\n",
      "the shape of out text BOW vectorizer  (122822, 62078)\n",
      "the number of unique words  62078\n"
     ]
    }
   ],
   "source": [
    "#BoW X_test\n",
    "\n",
    "from sklearn.feature_extraction.text import CountVectorizer\n",
    "count_vect = CountVectorizer() #in scikit-learn\n",
    "final_counts1=count_vect.transform(X_test)\n",
    "print(\"some feature names \", count_vect.get_feature_names()[:10])\n",
    "print('='*50)\n",
    "\n",
    "\n",
    "print(\"the type of count vectorizer \",type(final_counts))\n",
    "print(\"the shape of out text BOW vectorizer \",final_counts.get_shape())\n",
    "print(\"the number of unique words \", final_counts.get_shape()[1])"
   ]
  },
  {
   "cell_type": "code",
   "execution_count": 112,
   "metadata": {},
   "outputs": [
    {
     "data": {
      "text/plain": [
       "[1, 3, 5, 7, 9, 11, 13, 15, 17, 19, 21, 23, 25, 27, 29]"
      ]
     },
     "execution_count": 112,
     "metadata": {},
     "output_type": "execute_result"
    }
   ],
   "source": [
    "klist = list(range(1,30,2))\n",
    "klist"
   ]
  },
  {
   "cell_type": "code",
   "execution_count": 116,
   "metadata": {},
   "outputs": [
    {
     "name": "stdout",
     "output_type": "stream",
     "text": [
      "(491286,)\n",
      "(491286,)\n",
      "(122822, 62078)\n"
     ]
    }
   ],
   "source": [
    "print(y_train.shape)\n",
    "print(X_train.shape)\n",
    "print(final_counts.shape)"
   ]
  },
  {
   "cell_type": "code",
   "execution_count": 113,
   "metadata": {},
   "outputs": [
    {
     "ename": "ValueError",
     "evalue": "Found input variables with inconsistent numbers of samples: [122822, 491286]",
     "output_type": "error",
     "traceback": [
      "\u001b[1;31m---------------------------------------------------------------------------\u001b[0m",
      "\u001b[1;31mValueError\u001b[0m                                Traceback (most recent call last)",
      "\u001b[1;32m<ipython-input-113-8781603c78e9>\u001b[0m in \u001b[0;36m<module>\u001b[1;34m\u001b[0m\n\u001b[0;32m      4\u001b[0m \u001b[1;32mfor\u001b[0m \u001b[0mk\u001b[0m \u001b[1;32min\u001b[0m \u001b[0mklist\u001b[0m\u001b[1;33m:\u001b[0m\u001b[1;33m\u001b[0m\u001b[0m\n\u001b[0;32m      5\u001b[0m     \u001b[0mknn\u001b[0m \u001b[1;33m=\u001b[0m \u001b[0mKNeighborsClassifier\u001b[0m\u001b[1;33m(\u001b[0m\u001b[0mn_neighbors\u001b[0m\u001b[1;33m=\u001b[0m\u001b[0mk\u001b[0m\u001b[1;33m,\u001b[0m \u001b[0mn_jobs\u001b[0m\u001b[1;33m=\u001b[0m\u001b[1;33m-\u001b[0m\u001b[1;36m1\u001b[0m\u001b[1;33m)\u001b[0m\u001b[1;33m\u001b[0m\u001b[0m\n\u001b[1;32m----> 6\u001b[1;33m     \u001b[0mscores\u001b[0m \u001b[1;33m=\u001b[0m \u001b[0mcross_val_score\u001b[0m\u001b[1;33m(\u001b[0m\u001b[0mknn\u001b[0m\u001b[1;33m,\u001b[0m \u001b[0mfinal_counts\u001b[0m\u001b[1;33m,\u001b[0m \u001b[0my_train\u001b[0m\u001b[1;33m,\u001b[0m \u001b[0mcv\u001b[0m\u001b[1;33m=\u001b[0m\u001b[1;36m10\u001b[0m\u001b[1;33m,\u001b[0m \u001b[0mscoring\u001b[0m\u001b[1;33m=\u001b[0m\u001b[1;34m'accuracy'\u001b[0m\u001b[1;33m,\u001b[0m \u001b[0mn_jobs\u001b[0m\u001b[1;33m=\u001b[0m\u001b[1;33m-\u001b[0m\u001b[1;36m1\u001b[0m\u001b[1;33m)\u001b[0m\u001b[1;33m\u001b[0m\u001b[0m\n\u001b[0m\u001b[0;32m      7\u001b[0m     \u001b[0mcv_scores\u001b[0m\u001b[1;33m.\u001b[0m\u001b[0mappend\u001b[0m\u001b[1;33m(\u001b[0m\u001b[0mscores\u001b[0m\u001b[1;33m.\u001b[0m\u001b[0mmean\u001b[0m\u001b[1;33m(\u001b[0m\u001b[1;33m)\u001b[0m\u001b[1;33m)\u001b[0m\u001b[1;33m\u001b[0m\u001b[0m\n",
      "\u001b[1;32mc:\\users\\hp\\appdata\\local\\programs\\python\\python36\\lib\\site-packages\\sklearn\\model_selection\\_validation.py\u001b[0m in \u001b[0;36mcross_val_score\u001b[1;34m(estimator, X, y, groups, scoring, cv, n_jobs, verbose, fit_params, pre_dispatch, error_score)\u001b[0m\n\u001b[0;32m    400\u001b[0m                                 \u001b[0mfit_params\u001b[0m\u001b[1;33m=\u001b[0m\u001b[0mfit_params\u001b[0m\u001b[1;33m,\u001b[0m\u001b[1;33m\u001b[0m\u001b[0m\n\u001b[0;32m    401\u001b[0m                                 \u001b[0mpre_dispatch\u001b[0m\u001b[1;33m=\u001b[0m\u001b[0mpre_dispatch\u001b[0m\u001b[1;33m,\u001b[0m\u001b[1;33m\u001b[0m\u001b[0m\n\u001b[1;32m--> 402\u001b[1;33m                                 error_score=error_score)\n\u001b[0m\u001b[0;32m    403\u001b[0m     \u001b[1;32mreturn\u001b[0m \u001b[0mcv_results\u001b[0m\u001b[1;33m[\u001b[0m\u001b[1;34m'test_score'\u001b[0m\u001b[1;33m]\u001b[0m\u001b[1;33m\u001b[0m\u001b[0m\n\u001b[0;32m    404\u001b[0m \u001b[1;33m\u001b[0m\u001b[0m\n",
      "\u001b[1;32mc:\\users\\hp\\appdata\\local\\programs\\python\\python36\\lib\\site-packages\\sklearn\\model_selection\\_validation.py\u001b[0m in \u001b[0;36mcross_validate\u001b[1;34m(estimator, X, y, groups, scoring, cv, n_jobs, verbose, fit_params, pre_dispatch, return_train_score, return_estimator, error_score)\u001b[0m\n\u001b[0;32m    223\u001b[0m \u001b[1;33m\u001b[0m\u001b[0m\n\u001b[0;32m    224\u001b[0m     \"\"\"\n\u001b[1;32m--> 225\u001b[1;33m     \u001b[0mX\u001b[0m\u001b[1;33m,\u001b[0m \u001b[0my\u001b[0m\u001b[1;33m,\u001b[0m \u001b[0mgroups\u001b[0m \u001b[1;33m=\u001b[0m \u001b[0mindexable\u001b[0m\u001b[1;33m(\u001b[0m\u001b[0mX\u001b[0m\u001b[1;33m,\u001b[0m \u001b[0my\u001b[0m\u001b[1;33m,\u001b[0m \u001b[0mgroups\u001b[0m\u001b[1;33m)\u001b[0m\u001b[1;33m\u001b[0m\u001b[0m\n\u001b[0m\u001b[0;32m    226\u001b[0m \u001b[1;33m\u001b[0m\u001b[0m\n\u001b[0;32m    227\u001b[0m     \u001b[0mcv\u001b[0m \u001b[1;33m=\u001b[0m \u001b[0mcheck_cv\u001b[0m\u001b[1;33m(\u001b[0m\u001b[0mcv\u001b[0m\u001b[1;33m,\u001b[0m \u001b[0my\u001b[0m\u001b[1;33m,\u001b[0m \u001b[0mclassifier\u001b[0m\u001b[1;33m=\u001b[0m\u001b[0mis_classifier\u001b[0m\u001b[1;33m(\u001b[0m\u001b[0mestimator\u001b[0m\u001b[1;33m)\u001b[0m\u001b[1;33m)\u001b[0m\u001b[1;33m\u001b[0m\u001b[0m\n",
      "\u001b[1;32mc:\\users\\hp\\appdata\\local\\programs\\python\\python36\\lib\\site-packages\\sklearn\\utils\\validation.py\u001b[0m in \u001b[0;36mindexable\u001b[1;34m(*iterables)\u001b[0m\n\u001b[0;32m    258\u001b[0m         \u001b[1;32melse\u001b[0m\u001b[1;33m:\u001b[0m\u001b[1;33m\u001b[0m\u001b[0m\n\u001b[0;32m    259\u001b[0m             \u001b[0mresult\u001b[0m\u001b[1;33m.\u001b[0m\u001b[0mappend\u001b[0m\u001b[1;33m(\u001b[0m\u001b[0mnp\u001b[0m\u001b[1;33m.\u001b[0m\u001b[0marray\u001b[0m\u001b[1;33m(\u001b[0m\u001b[0mX\u001b[0m\u001b[1;33m)\u001b[0m\u001b[1;33m)\u001b[0m\u001b[1;33m\u001b[0m\u001b[0m\n\u001b[1;32m--> 260\u001b[1;33m     \u001b[0mcheck_consistent_length\u001b[0m\u001b[1;33m(\u001b[0m\u001b[1;33m*\u001b[0m\u001b[0mresult\u001b[0m\u001b[1;33m)\u001b[0m\u001b[1;33m\u001b[0m\u001b[0m\n\u001b[0m\u001b[0;32m    261\u001b[0m     \u001b[1;32mreturn\u001b[0m \u001b[0mresult\u001b[0m\u001b[1;33m\u001b[0m\u001b[0m\n\u001b[0;32m    262\u001b[0m \u001b[1;33m\u001b[0m\u001b[0m\n",
      "\u001b[1;32mc:\\users\\hp\\appdata\\local\\programs\\python\\python36\\lib\\site-packages\\sklearn\\utils\\validation.py\u001b[0m in \u001b[0;36mcheck_consistent_length\u001b[1;34m(*arrays)\u001b[0m\n\u001b[0;32m    233\u001b[0m     \u001b[1;32mif\u001b[0m \u001b[0mlen\u001b[0m\u001b[1;33m(\u001b[0m\u001b[0muniques\u001b[0m\u001b[1;33m)\u001b[0m \u001b[1;33m>\u001b[0m \u001b[1;36m1\u001b[0m\u001b[1;33m:\u001b[0m\u001b[1;33m\u001b[0m\u001b[0m\n\u001b[0;32m    234\u001b[0m         raise ValueError(\"Found input variables with inconsistent numbers of\"\n\u001b[1;32m--> 235\u001b[1;33m                          \" samples: %r\" % [int(l) for l in lengths])\n\u001b[0m\u001b[0;32m    236\u001b[0m \u001b[1;33m\u001b[0m\u001b[0m\n\u001b[0;32m    237\u001b[0m \u001b[1;33m\u001b[0m\u001b[0m\n",
      "\u001b[1;31mValueError\u001b[0m: Found input variables with inconsistent numbers of samples: [122822, 491286]"
     ]
    }
   ],
   "source": [
    "from sklearn.neighbors import KNeighborsClassifier\n",
    "from sklearn.model_selection import cross_val_score\n",
    "cv_scores = []\n",
    "for k in klist:\n",
    "    knn = KNeighborsClassifier(n_neighbors=k, n_jobs=-1)\n",
    "    scores = cross_val_score(knn, final_counts, y_train, cv=10, scoring='accuracy', n_jobs=-1)\n",
    "    cv_scores.append(scores.mean())"
   ]
  },
  {
   "cell_type": "code",
   "execution_count": null,
   "metadata": {},
   "outputs": [],
   "source": [
    "error = [1 - x for x in cv_scores]\n",
    "optimal_k = klist[error.index(min(error))]\n",
    "plt.plot(klist, error)\n",
    "xy = (optimal_k, min(error))\n",
    "plt.annotate('(%s, %s)' % xy, xy = xy, textcoords='data')\n",
    "plt.xlabel(\"Number of neighbours 'k'\")\n",
    "plt.ylabel(\"Misclassification Error\")\n",
    "plt.show()"
   ]
  },
  {
   "cell_type": "code",
   "execution_count": null,
   "metadata": {},
   "outputs": [],
   "source": [
    "# Accuracy on test data;\n",
    "knn = KNeighborsClassifier(n_neighbors=optimal_k, n_jobs=-1)\n",
    "knn.fit(x_train, y_train)\n",
    "y_pred = knn.predict(x_test)\n",
    "acc = accuracy_score(y_test, y_pred) * 100\n",
    "print('\\nThe accuracy of the knn classifier for k = %d is %f%%' % (optimal_k, acc))"
   ]
  },
  {
   "cell_type": "code",
   "execution_count": 38,
   "metadata": {},
   "outputs": [
    {
     "name": "stdout",
     "output_type": "stream",
     "text": [
      "the type of count vectorizer  <class 'scipy.sparse.csr.csr_matrix'>\n",
      "the shape of out text BOW vectorizer  (364159, 5000)\n",
      "the number of unique words including both unigrams and bigrams  5000\n"
     ]
    }
   ],
   "source": [
    "#bi-gram, tri-gram and n-gram\n",
    "\n",
    "#removing stop words like \"not\" should be avoided before building n-grams\n",
    "# count_vect = CountVectorizer(ngram_range=(1,2))\n",
    "# please do read the CountVectorizer documentation http://scikit-learn.org/stable/modules/generated/sklearn.feature_extraction.text.CountVectorizer.html\n",
    "\n",
    "# you can choose these numebrs min_df=10, max_features=5000, of your choice\n",
    "count_vect = CountVectorizer(ngram_range=(1,2), min_df=10, max_features=5000)\n",
    "final_bigram_counts = count_vect.fit_transform(preprocessed_reviews)\n",
    "print(\"the type of count vectorizer \",type(final_bigram_counts))\n",
    "print(\"the shape of out text BOW vectorizer \",final_bigram_counts.get_shape())\n",
    "print(\"the number of unique words including both unigrams and bigrams \", final_bigram_counts.get_shape()[1])"
   ]
  },
  {
   "cell_type": "code",
   "execution_count": 39,
   "metadata": {},
   "outputs": [
    {
     "name": "stdout",
     "output_type": "stream",
     "text": [
      "some sample features(unique words in the corpus) ['aa', 'aaa', 'aaaaa', 'aaah', 'aafco', 'ab', 'aback', 'abandon', 'abandoned', 'abbey']\n",
      "==================================================\n",
      "the type of count vectorizer  <class 'scipy.sparse.csr.csr_matrix'>\n",
      "the shape of out text TFIDF vectorizer  (364159, 203031)\n",
      "the number of unique words including both unigrams and bigrams  203031\n"
     ]
    }
   ],
   "source": [
    "#tf_idf\n",
    "from sklearn.feature_extraction.text import TfidfTransformer\n",
    "from sklearn.feature_extraction.text import TfidfVectorizer\n",
    "\n",
    "tf_idf_vect = TfidfVectorizer(ngram_range=(1,2), min_df=10)\n",
    "tf_idf_vect.fit(preprocessed_reviews)\n",
    "print(\"some sample features(unique words in the corpus)\",tf_idf_vect.get_feature_names()[0:10])\n",
    "print('='*50)\n",
    "\n",
    "final_tf_idf = tf_idf_vect.transform(preprocessed_reviews)\n",
    "print(\"the type of count vectorizer \",type(final_tf_idf))\n",
    "print(\"the shape of out text TFIDF vectorizer \",final_tf_idf.get_shape())\n",
    "print(\"the number of unique words including both unigrams and bigrams \", final_tf_idf.get_shape()[1])"
   ]
  },
  {
   "cell_type": "code",
   "execution_count": 40,
   "metadata": {},
   "outputs": [],
   "source": [
    "#10 fold cross validation"
   ]
  },
  {
   "cell_type": "code",
   "execution_count": 41,
   "metadata": {},
   "outputs": [
    {
     "data": {
      "text/plain": [
       "[1, 3, 5, 7, 9, 11, 13, 15, 17, 19, 21, 23, 25, 27, 29]"
      ]
     },
     "execution_count": 41,
     "metadata": {},
     "output_type": "execute_result"
    }
   ],
   "source": [
    "klist = list(range(1,30,2))\n",
    "klist"
   ]
  },
  {
   "cell_type": "code",
   "execution_count": null,
   "metadata": {},
   "outputs": [],
   "source": [
    "from sklearn.neighbors import KNeighborsClassifier\n",
    "from sklearn.model_selection import cross_val_score\n",
    "cv_scores = []\n",
    "for k in klist:\n",
    "    knn = KNeighborsClassifier(n_neighbors=k, n_jobs=-1)\n",
    "    scores = cross_val_score(knn, final_counts, final['Positivity'], cv=10, scoring='accuracy', n_jobs=-1)\n",
    "    cv_scores.append(scores.mean())\n",
    "    \n",
    "error = [1 - x for x in cv_scores]\n",
    "optimal_k = klist[error.index(min(error))]\n",
    "plt.plot(klist, error)\n",
    "xy = (optimal_k, min(error))\n",
    "plt.annotate('(%s, %s)' % xy, xy = xy, textcoords='data')\n",
    "plt.xlabel(\"Number of neighbours 'k'\")\n",
    "plt.ylabel(\"Misclassification Error\")\n",
    "plt.show()"
   ]
  },
  {
   "cell_type": "code",
   "execution_count": null,
   "metadata": {},
   "outputs": [],
   "source": []
  },
  {
   "cell_type": "code",
   "execution_count": null,
   "metadata": {},
   "outputs": [],
   "source": []
  },
  {
   "cell_type": "code",
   "execution_count": null,
   "metadata": {},
   "outputs": [],
   "source": []
  },
  {
   "cell_type": "code",
   "execution_count": null,
   "metadata": {},
   "outputs": [],
   "source": []
  },
  {
   "cell_type": "code",
   "execution_count": null,
   "metadata": {},
   "outputs": [],
   "source": []
  },
  {
   "cell_type": "code",
   "execution_count": null,
   "metadata": {},
   "outputs": [],
   "source": []
  },
  {
   "cell_type": "code",
   "execution_count": null,
   "metadata": {},
   "outputs": [],
   "source": []
  },
  {
   "cell_type": "code",
   "execution_count": null,
   "metadata": {},
   "outputs": [],
   "source": [
    "pip install BeautifulSoup4"
   ]
  },
  {
   "cell_type": "code",
   "execution_count": 103,
   "metadata": {},
   "outputs": [
    {
     "ename": "ModuleNotFoundError",
     "evalue": "No module named 'bs4'",
     "output_type": "error",
     "traceback": [
      "\u001b[1;31m---------------------------------------------------------------------------\u001b[0m",
      "\u001b[1;31mModuleNotFoundError\u001b[0m                       Traceback (most recent call last)",
      "\u001b[1;32m<ipython-input-103-f33cf0cb8fd3>\u001b[0m in \u001b[0;36m<module>\u001b[1;34m\u001b[0m\n\u001b[1;32m----> 1\u001b[1;33m \u001b[1;32mfrom\u001b[0m \u001b[0mbs4\u001b[0m \u001b[1;32mimport\u001b[0m \u001b[0mBeautifulSoup\u001b[0m\u001b[1;33m\u001b[0m\u001b[0m\n\u001b[0m",
      "\u001b[1;31mModuleNotFoundError\u001b[0m: No module named 'bs4'"
     ]
    }
   ],
   "source": [
    "from bs4 import BeautifulSoup"
   ]
  },
  {
   "cell_type": "code",
   "execution_count": null,
   "metadata": {},
   "outputs": [],
   "source": [
    "y=final['Positivity']"
   ]
  },
  {
   "cell_type": "code",
   "execution_count": 67,
   "metadata": {},
   "outputs": [
    {
     "ename": "KeyError",
     "evalue": "\"['Positivity'] not found in axis\"",
     "output_type": "error",
     "traceback": [
      "\u001b[1;31m---------------------------------------------------------------------------\u001b[0m",
      "\u001b[1;31mKeyError\u001b[0m                                  Traceback (most recent call last)",
      "\u001b[1;32m<ipython-input-67-01e691089ae6>\u001b[0m in \u001b[0;36m<module>\u001b[1;34m\u001b[0m\n\u001b[0;32m      1\u001b[0m \u001b[1;31m#drop positivity\u001b[0m\u001b[1;33m\u001b[0m\u001b[1;33m\u001b[0m\u001b[0m\n\u001b[1;32m----> 2\u001b[1;33m \u001b[0mX\u001b[0m\u001b[1;33m=\u001b[0m\u001b[0mdata\u001b[0m\u001b[1;33m.\u001b[0m\u001b[0mdrop\u001b[0m\u001b[1;33m(\u001b[0m\u001b[0mcolumns\u001b[0m\u001b[1;33m=\u001b[0m\u001b[1;33m[\u001b[0m\u001b[1;34m'Positivity'\u001b[0m\u001b[1;33m]\u001b[0m\u001b[1;33m,\u001b[0m \u001b[0maxis\u001b[0m\u001b[1;33m=\u001b[0m\u001b[1;36m1\u001b[0m\u001b[1;33m,\u001b[0m \u001b[0minplace\u001b[0m\u001b[1;33m=\u001b[0m\u001b[1;32mTrue\u001b[0m\u001b[1;33m)\u001b[0m\u001b[1;33m\u001b[0m\u001b[0m\n\u001b[0m",
      "\u001b[1;32mc:\\users\\hp\\appdata\\local\\programs\\python\\python36\\lib\\site-packages\\pandas\\core\\frame.py\u001b[0m in \u001b[0;36mdrop\u001b[1;34m(self, labels, axis, index, columns, level, inplace, errors)\u001b[0m\n\u001b[0;32m   3695\u001b[0m                                            \u001b[0mindex\u001b[0m\u001b[1;33m=\u001b[0m\u001b[0mindex\u001b[0m\u001b[1;33m,\u001b[0m \u001b[0mcolumns\u001b[0m\u001b[1;33m=\u001b[0m\u001b[0mcolumns\u001b[0m\u001b[1;33m,\u001b[0m\u001b[1;33m\u001b[0m\u001b[0m\n\u001b[0;32m   3696\u001b[0m                                            \u001b[0mlevel\u001b[0m\u001b[1;33m=\u001b[0m\u001b[0mlevel\u001b[0m\u001b[1;33m,\u001b[0m \u001b[0minplace\u001b[0m\u001b[1;33m=\u001b[0m\u001b[0minplace\u001b[0m\u001b[1;33m,\u001b[0m\u001b[1;33m\u001b[0m\u001b[0m\n\u001b[1;32m-> 3697\u001b[1;33m                                            errors=errors)\n\u001b[0m\u001b[0;32m   3698\u001b[0m \u001b[1;33m\u001b[0m\u001b[0m\n\u001b[0;32m   3699\u001b[0m     @rewrite_axis_style_signature('mapper', [('copy', True),\n",
      "\u001b[1;32mc:\\users\\hp\\appdata\\local\\programs\\python\\python36\\lib\\site-packages\\pandas\\core\\generic.py\u001b[0m in \u001b[0;36mdrop\u001b[1;34m(self, labels, axis, index, columns, level, inplace, errors)\u001b[0m\n\u001b[0;32m   3109\u001b[0m         \u001b[1;32mfor\u001b[0m \u001b[0maxis\u001b[0m\u001b[1;33m,\u001b[0m \u001b[0mlabels\u001b[0m \u001b[1;32min\u001b[0m \u001b[0maxes\u001b[0m\u001b[1;33m.\u001b[0m\u001b[0mitems\u001b[0m\u001b[1;33m(\u001b[0m\u001b[1;33m)\u001b[0m\u001b[1;33m:\u001b[0m\u001b[1;33m\u001b[0m\u001b[0m\n\u001b[0;32m   3110\u001b[0m             \u001b[1;32mif\u001b[0m \u001b[0mlabels\u001b[0m \u001b[1;32mis\u001b[0m \u001b[1;32mnot\u001b[0m \u001b[1;32mNone\u001b[0m\u001b[1;33m:\u001b[0m\u001b[1;33m\u001b[0m\u001b[0m\n\u001b[1;32m-> 3111\u001b[1;33m                 \u001b[0mobj\u001b[0m \u001b[1;33m=\u001b[0m \u001b[0mobj\u001b[0m\u001b[1;33m.\u001b[0m\u001b[0m_drop_axis\u001b[0m\u001b[1;33m(\u001b[0m\u001b[0mlabels\u001b[0m\u001b[1;33m,\u001b[0m \u001b[0maxis\u001b[0m\u001b[1;33m,\u001b[0m \u001b[0mlevel\u001b[0m\u001b[1;33m=\u001b[0m\u001b[0mlevel\u001b[0m\u001b[1;33m,\u001b[0m \u001b[0merrors\u001b[0m\u001b[1;33m=\u001b[0m\u001b[0merrors\u001b[0m\u001b[1;33m)\u001b[0m\u001b[1;33m\u001b[0m\u001b[0m\n\u001b[0m\u001b[0;32m   3112\u001b[0m \u001b[1;33m\u001b[0m\u001b[0m\n\u001b[0;32m   3113\u001b[0m         \u001b[1;32mif\u001b[0m \u001b[0minplace\u001b[0m\u001b[1;33m:\u001b[0m\u001b[1;33m\u001b[0m\u001b[0m\n",
      "\u001b[1;32mc:\\users\\hp\\appdata\\local\\programs\\python\\python36\\lib\\site-packages\\pandas\\core\\generic.py\u001b[0m in \u001b[0;36m_drop_axis\u001b[1;34m(self, labels, axis, level, errors)\u001b[0m\n\u001b[0;32m   3141\u001b[0m                 \u001b[0mnew_axis\u001b[0m \u001b[1;33m=\u001b[0m \u001b[0maxis\u001b[0m\u001b[1;33m.\u001b[0m\u001b[0mdrop\u001b[0m\u001b[1;33m(\u001b[0m\u001b[0mlabels\u001b[0m\u001b[1;33m,\u001b[0m \u001b[0mlevel\u001b[0m\u001b[1;33m=\u001b[0m\u001b[0mlevel\u001b[0m\u001b[1;33m,\u001b[0m \u001b[0merrors\u001b[0m\u001b[1;33m=\u001b[0m\u001b[0merrors\u001b[0m\u001b[1;33m)\u001b[0m\u001b[1;33m\u001b[0m\u001b[0m\n\u001b[0;32m   3142\u001b[0m             \u001b[1;32melse\u001b[0m\u001b[1;33m:\u001b[0m\u001b[1;33m\u001b[0m\u001b[0m\n\u001b[1;32m-> 3143\u001b[1;33m                 \u001b[0mnew_axis\u001b[0m \u001b[1;33m=\u001b[0m \u001b[0maxis\u001b[0m\u001b[1;33m.\u001b[0m\u001b[0mdrop\u001b[0m\u001b[1;33m(\u001b[0m\u001b[0mlabels\u001b[0m\u001b[1;33m,\u001b[0m \u001b[0merrors\u001b[0m\u001b[1;33m=\u001b[0m\u001b[0merrors\u001b[0m\u001b[1;33m)\u001b[0m\u001b[1;33m\u001b[0m\u001b[0m\n\u001b[0m\u001b[0;32m   3144\u001b[0m             \u001b[0mresult\u001b[0m \u001b[1;33m=\u001b[0m \u001b[0mself\u001b[0m\u001b[1;33m.\u001b[0m\u001b[0mreindex\u001b[0m\u001b[1;33m(\u001b[0m\u001b[1;33m**\u001b[0m\u001b[1;33m{\u001b[0m\u001b[0maxis_name\u001b[0m\u001b[1;33m:\u001b[0m \u001b[0mnew_axis\u001b[0m\u001b[1;33m}\u001b[0m\u001b[1;33m)\u001b[0m\u001b[1;33m\u001b[0m\u001b[0m\n\u001b[0;32m   3145\u001b[0m \u001b[1;33m\u001b[0m\u001b[0m\n",
      "\u001b[1;32mc:\\users\\hp\\appdata\\local\\programs\\python\\python36\\lib\\site-packages\\pandas\\core\\indexes\\base.py\u001b[0m in \u001b[0;36mdrop\u001b[1;34m(self, labels, errors)\u001b[0m\n\u001b[0;32m   4402\u001b[0m             \u001b[1;32mif\u001b[0m \u001b[0merrors\u001b[0m \u001b[1;33m!=\u001b[0m \u001b[1;34m'ignore'\u001b[0m\u001b[1;33m:\u001b[0m\u001b[1;33m\u001b[0m\u001b[0m\n\u001b[0;32m   4403\u001b[0m                 raise KeyError(\n\u001b[1;32m-> 4404\u001b[1;33m                     '{} not found in axis'.format(labels[mask]))\n\u001b[0m\u001b[0;32m   4405\u001b[0m             \u001b[0mindexer\u001b[0m \u001b[1;33m=\u001b[0m \u001b[0mindexer\u001b[0m\u001b[1;33m[\u001b[0m\u001b[1;33m~\u001b[0m\u001b[0mmask\u001b[0m\u001b[1;33m]\u001b[0m\u001b[1;33m\u001b[0m\u001b[0m\n\u001b[0;32m   4406\u001b[0m         \u001b[1;32mreturn\u001b[0m \u001b[0mself\u001b[0m\u001b[1;33m.\u001b[0m\u001b[0mdelete\u001b[0m\u001b[1;33m(\u001b[0m\u001b[0mindexer\u001b[0m\u001b[1;33m)\u001b[0m\u001b[1;33m\u001b[0m\u001b[0m\n",
      "\u001b[1;31mKeyError\u001b[0m: \"['Positivity'] not found in axis\""
     ]
    }
   ],
   "source": [
    "#drop positivity\n",
    "X=final.drop(columns=['Positivity'], axis=1, inplace=True)"
   ]
  },
  {
   "cell_type": "code",
   "execution_count": 66,
   "metadata": {},
   "outputs": [
    {
     "ename": "KeyError",
     "evalue": "\"['Positivity'] not found in axis\"",
     "output_type": "error",
     "traceback": [
      "\u001b[1;31m---------------------------------------------------------------------------\u001b[0m",
      "\u001b[1;31mKeyError\u001b[0m                                  Traceback (most recent call last)",
      "\u001b[1;32m<ipython-input-66-d28b3d717d9d>\u001b[0m in \u001b[0;36m<module>\u001b[1;34m\u001b[0m\n\u001b[1;32m----> 1\u001b[1;33m \u001b[0mdata\u001b[0m\u001b[1;33m.\u001b[0m\u001b[0mdrop\u001b[0m\u001b[1;33m(\u001b[0m\u001b[0mcolumns\u001b[0m\u001b[1;33m=\u001b[0m\u001b[1;33m[\u001b[0m\u001b[1;34m'Positivity'\u001b[0m\u001b[1;33m]\u001b[0m\u001b[1;33m,\u001b[0m \u001b[0maxis\u001b[0m\u001b[1;33m=\u001b[0m\u001b[1;36m1\u001b[0m\u001b[1;33m,\u001b[0m \u001b[0minplace\u001b[0m\u001b[1;33m=\u001b[0m\u001b[1;32mTrue\u001b[0m\u001b[1;33m)\u001b[0m\u001b[1;33m\u001b[0m\u001b[0m\n\u001b[0m",
      "\u001b[1;32mc:\\users\\hp\\appdata\\local\\programs\\python\\python36\\lib\\site-packages\\pandas\\core\\frame.py\u001b[0m in \u001b[0;36mdrop\u001b[1;34m(self, labels, axis, index, columns, level, inplace, errors)\u001b[0m\n\u001b[0;32m   3695\u001b[0m                                            \u001b[0mindex\u001b[0m\u001b[1;33m=\u001b[0m\u001b[0mindex\u001b[0m\u001b[1;33m,\u001b[0m \u001b[0mcolumns\u001b[0m\u001b[1;33m=\u001b[0m\u001b[0mcolumns\u001b[0m\u001b[1;33m,\u001b[0m\u001b[1;33m\u001b[0m\u001b[0m\n\u001b[0;32m   3696\u001b[0m                                            \u001b[0mlevel\u001b[0m\u001b[1;33m=\u001b[0m\u001b[0mlevel\u001b[0m\u001b[1;33m,\u001b[0m \u001b[0minplace\u001b[0m\u001b[1;33m=\u001b[0m\u001b[0minplace\u001b[0m\u001b[1;33m,\u001b[0m\u001b[1;33m\u001b[0m\u001b[0m\n\u001b[1;32m-> 3697\u001b[1;33m                                            errors=errors)\n\u001b[0m\u001b[0;32m   3698\u001b[0m \u001b[1;33m\u001b[0m\u001b[0m\n\u001b[0;32m   3699\u001b[0m     @rewrite_axis_style_signature('mapper', [('copy', True),\n",
      "\u001b[1;32mc:\\users\\hp\\appdata\\local\\programs\\python\\python36\\lib\\site-packages\\pandas\\core\\generic.py\u001b[0m in \u001b[0;36mdrop\u001b[1;34m(self, labels, axis, index, columns, level, inplace, errors)\u001b[0m\n\u001b[0;32m   3109\u001b[0m         \u001b[1;32mfor\u001b[0m \u001b[0maxis\u001b[0m\u001b[1;33m,\u001b[0m \u001b[0mlabels\u001b[0m \u001b[1;32min\u001b[0m \u001b[0maxes\u001b[0m\u001b[1;33m.\u001b[0m\u001b[0mitems\u001b[0m\u001b[1;33m(\u001b[0m\u001b[1;33m)\u001b[0m\u001b[1;33m:\u001b[0m\u001b[1;33m\u001b[0m\u001b[0m\n\u001b[0;32m   3110\u001b[0m             \u001b[1;32mif\u001b[0m \u001b[0mlabels\u001b[0m \u001b[1;32mis\u001b[0m \u001b[1;32mnot\u001b[0m \u001b[1;32mNone\u001b[0m\u001b[1;33m:\u001b[0m\u001b[1;33m\u001b[0m\u001b[0m\n\u001b[1;32m-> 3111\u001b[1;33m                 \u001b[0mobj\u001b[0m \u001b[1;33m=\u001b[0m \u001b[0mobj\u001b[0m\u001b[1;33m.\u001b[0m\u001b[0m_drop_axis\u001b[0m\u001b[1;33m(\u001b[0m\u001b[0mlabels\u001b[0m\u001b[1;33m,\u001b[0m \u001b[0maxis\u001b[0m\u001b[1;33m,\u001b[0m \u001b[0mlevel\u001b[0m\u001b[1;33m=\u001b[0m\u001b[0mlevel\u001b[0m\u001b[1;33m,\u001b[0m \u001b[0merrors\u001b[0m\u001b[1;33m=\u001b[0m\u001b[0merrors\u001b[0m\u001b[1;33m)\u001b[0m\u001b[1;33m\u001b[0m\u001b[0m\n\u001b[0m\u001b[0;32m   3112\u001b[0m \u001b[1;33m\u001b[0m\u001b[0m\n\u001b[0;32m   3113\u001b[0m         \u001b[1;32mif\u001b[0m \u001b[0minplace\u001b[0m\u001b[1;33m:\u001b[0m\u001b[1;33m\u001b[0m\u001b[0m\n",
      "\u001b[1;32mc:\\users\\hp\\appdata\\local\\programs\\python\\python36\\lib\\site-packages\\pandas\\core\\generic.py\u001b[0m in \u001b[0;36m_drop_axis\u001b[1;34m(self, labels, axis, level, errors)\u001b[0m\n\u001b[0;32m   3141\u001b[0m                 \u001b[0mnew_axis\u001b[0m \u001b[1;33m=\u001b[0m \u001b[0maxis\u001b[0m\u001b[1;33m.\u001b[0m\u001b[0mdrop\u001b[0m\u001b[1;33m(\u001b[0m\u001b[0mlabels\u001b[0m\u001b[1;33m,\u001b[0m \u001b[0mlevel\u001b[0m\u001b[1;33m=\u001b[0m\u001b[0mlevel\u001b[0m\u001b[1;33m,\u001b[0m \u001b[0merrors\u001b[0m\u001b[1;33m=\u001b[0m\u001b[0merrors\u001b[0m\u001b[1;33m)\u001b[0m\u001b[1;33m\u001b[0m\u001b[0m\n\u001b[0;32m   3142\u001b[0m             \u001b[1;32melse\u001b[0m\u001b[1;33m:\u001b[0m\u001b[1;33m\u001b[0m\u001b[0m\n\u001b[1;32m-> 3143\u001b[1;33m                 \u001b[0mnew_axis\u001b[0m \u001b[1;33m=\u001b[0m \u001b[0maxis\u001b[0m\u001b[1;33m.\u001b[0m\u001b[0mdrop\u001b[0m\u001b[1;33m(\u001b[0m\u001b[0mlabels\u001b[0m\u001b[1;33m,\u001b[0m \u001b[0merrors\u001b[0m\u001b[1;33m=\u001b[0m\u001b[0merrors\u001b[0m\u001b[1;33m)\u001b[0m\u001b[1;33m\u001b[0m\u001b[0m\n\u001b[0m\u001b[0;32m   3144\u001b[0m             \u001b[0mresult\u001b[0m \u001b[1;33m=\u001b[0m \u001b[0mself\u001b[0m\u001b[1;33m.\u001b[0m\u001b[0mreindex\u001b[0m\u001b[1;33m(\u001b[0m\u001b[1;33m**\u001b[0m\u001b[1;33m{\u001b[0m\u001b[0maxis_name\u001b[0m\u001b[1;33m:\u001b[0m \u001b[0mnew_axis\u001b[0m\u001b[1;33m}\u001b[0m\u001b[1;33m)\u001b[0m\u001b[1;33m\u001b[0m\u001b[0m\n\u001b[0;32m   3145\u001b[0m \u001b[1;33m\u001b[0m\u001b[0m\n",
      "\u001b[1;32mc:\\users\\hp\\appdata\\local\\programs\\python\\python36\\lib\\site-packages\\pandas\\core\\indexes\\base.py\u001b[0m in \u001b[0;36mdrop\u001b[1;34m(self, labels, errors)\u001b[0m\n\u001b[0;32m   4402\u001b[0m             \u001b[1;32mif\u001b[0m \u001b[0merrors\u001b[0m \u001b[1;33m!=\u001b[0m \u001b[1;34m'ignore'\u001b[0m\u001b[1;33m:\u001b[0m\u001b[1;33m\u001b[0m\u001b[0m\n\u001b[0;32m   4403\u001b[0m                 raise KeyError(\n\u001b[1;32m-> 4404\u001b[1;33m                     '{} not found in axis'.format(labels[mask]))\n\u001b[0m\u001b[0;32m   4405\u001b[0m             \u001b[0mindexer\u001b[0m \u001b[1;33m=\u001b[0m \u001b[0mindexer\u001b[0m\u001b[1;33m[\u001b[0m\u001b[1;33m~\u001b[0m\u001b[0mmask\u001b[0m\u001b[1;33m]\u001b[0m\u001b[1;33m\u001b[0m\u001b[0m\n\u001b[0;32m   4406\u001b[0m         \u001b[1;32mreturn\u001b[0m \u001b[0mself\u001b[0m\u001b[1;33m.\u001b[0m\u001b[0mdelete\u001b[0m\u001b[1;33m(\u001b[0m\u001b[0mindexer\u001b[0m\u001b[1;33m)\u001b[0m\u001b[1;33m\u001b[0m\u001b[0m\n",
      "\u001b[1;31mKeyError\u001b[0m: \"['Positivity'] not found in axis\""
     ]
    }
   ],
   "source": []
  },
  {
   "cell_type": "code",
   "execution_count": null,
   "metadata": {},
   "outputs": [],
   "source": [
    "import nltk"
   ]
  },
  {
   "cell_type": "code",
   "execution_count": 1,
   "metadata": {},
   "outputs": [],
   "source": [
    "from nltk.corpus import stopwords"
   ]
  },
  {
   "cell_type": "code",
   "execution_count": 2,
   "metadata": {},
   "outputs": [
    {
     "name": "stdout",
     "output_type": "stream",
     "text": [
      "<WordListCorpusReader in '.../corpora/stopwords' (not loaded yet)>\n"
     ]
    }
   ],
   "source": [
    "print(stopwords)"
   ]
  },
  {
   "cell_type": "code",
   "execution_count": 3,
   "metadata": {},
   "outputs": [
    {
     "data": {
      "text/plain": [
       "<WordListCorpusReader in 'C:\\\\Users\\\\HP\\\\AppData\\\\Roaming\\\\nltk_data\\\\corpora\\\\stopwords'>"
      ]
     },
     "execution_count": 3,
     "metadata": {},
     "output_type": "execute_result"
    }
   ],
   "source": [
    "stopwords"
   ]
  },
  {
   "cell_type": "code",
   "execution_count": null,
   "metadata": {},
   "outputs": [],
   "source": []
  }
 ],
 "metadata": {
  "kernelspec": {
   "display_name": "Python 3",
   "language": "python",
   "name": "python3"
  },
  "language_info": {
   "codemirror_mode": {
    "name": "ipython",
    "version": 3
   },
   "file_extension": ".py",
   "mimetype": "text/x-python",
   "name": "python",
   "nbconvert_exporter": "python",
   "pygments_lexer": "ipython3",
   "version": "3.6.3rc1"
  }
 },
 "nbformat": 4,
 "nbformat_minor": 2
}
